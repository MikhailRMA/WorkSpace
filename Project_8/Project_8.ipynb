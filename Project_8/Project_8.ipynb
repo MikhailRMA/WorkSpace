{
 "cells": [
  {
   "cell_type": "markdown",
   "metadata": {},
   "source": [
    "Загрузим файлы и проверим их на типы данных, дубли и пропущенные значения"
   ]
  },
  {
   "cell_type": "code",
   "execution_count": 2,
   "metadata": {},
   "outputs": [],
   "source": [
    "import pandas as pd\n",
    "import seaborn as sns\n",
    "import matplotlib.pyplot as plt\n",
    "%matplotlib inline\n",
    "import numpy as np"
   ]
  },
  {
   "cell_type": "code",
   "execution_count": 49,
   "metadata": {},
   "outputs": [],
   "source": [
    "purchase = pd.read_csv('C:/Users/majkl/WorkSpace/Project_8/QVI_purchase_behaviour.csv')\n",
    "transaction = pd.read_excel('C:/Users/majkl/WorkSpace/Project_8/QVI_transaction_data.xlsx')"
   ]
  },
  {
   "cell_type": "code",
   "execution_count": null,
   "metadata": {},
   "outputs": [
    {
     "data": {
      "application/vnd.microsoft.datawrangler.viewer.v0+json": {
       "columns": [
        {
         "name": "index",
         "rawType": "int64",
         "type": "integer"
        },
        {
         "name": "LYLTY_CARD_NBR",
         "rawType": "int64",
         "type": "integer"
        },
        {
         "name": "LIFESTAGE",
         "rawType": "object",
         "type": "string"
        },
        {
         "name": "PREMIUM_CUSTOMER",
         "rawType": "object",
         "type": "string"
        }
       ],
       "conversionMethod": "pd.DataFrame",
       "ref": "e5297693-0773-42d1-ade3-efb172ef78f1",
       "rows": [
        [
         "0",
         "1000",
         "YOUNG SINGLES/COUPLES",
         "Premium"
        ],
        [
         "1",
         "1002",
         "YOUNG SINGLES/COUPLES",
         "Mainstream"
        ],
        [
         "2",
         "1003",
         "YOUNG FAMILIES",
         "Budget"
        ],
        [
         "3",
         "1004",
         "OLDER SINGLES/COUPLES",
         "Mainstream"
        ],
        [
         "4",
         "1005",
         "MIDAGE SINGLES/COUPLES",
         "Mainstream"
        ]
       ],
       "shape": {
        "columns": 3,
        "rows": 5
       }
      },
      "text/html": [
       "<div>\n",
       "<style scoped>\n",
       "    .dataframe tbody tr th:only-of-type {\n",
       "        vertical-align: middle;\n",
       "    }\n",
       "\n",
       "    .dataframe tbody tr th {\n",
       "        vertical-align: top;\n",
       "    }\n",
       "\n",
       "    .dataframe thead th {\n",
       "        text-align: right;\n",
       "    }\n",
       "</style>\n",
       "<table border=\"1\" class=\"dataframe\">\n",
       "  <thead>\n",
       "    <tr style=\"text-align: right;\">\n",
       "      <th></th>\n",
       "      <th>LYLTY_CARD_NBR</th>\n",
       "      <th>LIFESTAGE</th>\n",
       "      <th>PREMIUM_CUSTOMER</th>\n",
       "    </tr>\n",
       "  </thead>\n",
       "  <tbody>\n",
       "    <tr>\n",
       "      <th>0</th>\n",
       "      <td>1000</td>\n",
       "      <td>YOUNG SINGLES/COUPLES</td>\n",
       "      <td>Premium</td>\n",
       "    </tr>\n",
       "    <tr>\n",
       "      <th>1</th>\n",
       "      <td>1002</td>\n",
       "      <td>YOUNG SINGLES/COUPLES</td>\n",
       "      <td>Mainstream</td>\n",
       "    </tr>\n",
       "    <tr>\n",
       "      <th>2</th>\n",
       "      <td>1003</td>\n",
       "      <td>YOUNG FAMILIES</td>\n",
       "      <td>Budget</td>\n",
       "    </tr>\n",
       "    <tr>\n",
       "      <th>3</th>\n",
       "      <td>1004</td>\n",
       "      <td>OLDER SINGLES/COUPLES</td>\n",
       "      <td>Mainstream</td>\n",
       "    </tr>\n",
       "    <tr>\n",
       "      <th>4</th>\n",
       "      <td>1005</td>\n",
       "      <td>MIDAGE SINGLES/COUPLES</td>\n",
       "      <td>Mainstream</td>\n",
       "    </tr>\n",
       "  </tbody>\n",
       "</table>\n",
       "</div>"
      ],
      "text/plain": [
       "   LYLTY_CARD_NBR               LIFESTAGE PREMIUM_CUSTOMER\n",
       "0            1000   YOUNG SINGLES/COUPLES          Premium\n",
       "1            1002   YOUNG SINGLES/COUPLES       Mainstream\n",
       "2            1003          YOUNG FAMILIES           Budget\n",
       "3            1004   OLDER SINGLES/COUPLES       Mainstream\n",
       "4            1005  MIDAGE SINGLES/COUPLES       Mainstream"
      ]
     },
     "execution_count": 4,
     "metadata": {},
     "output_type": "execute_result"
    }
   ],
   "source": [
    "purchase.head()"
   ]
  },
  {
   "cell_type": "code",
   "execution_count": null,
   "metadata": {},
   "outputs": [
    {
     "name": "stdout",
     "output_type": "stream",
     "text": [
      "<class 'pandas.core.frame.DataFrame'>\n",
      "RangeIndex: 72637 entries, 0 to 72636\n",
      "Data columns (total 3 columns):\n",
      " #   Column            Non-Null Count  Dtype \n",
      "---  ------            --------------  ----- \n",
      " 0   LYLTY_CARD_NBR    72637 non-null  int64 \n",
      " 1   LIFESTAGE         72637 non-null  object\n",
      " 2   PREMIUM_CUSTOMER  72637 non-null  object\n",
      "dtypes: int64(1), object(2)\n",
      "memory usage: 1.7+ MB\n"
     ]
    }
   ],
   "source": [
    "purchase.info()"
   ]
  },
  {
   "cell_type": "code",
   "execution_count": null,
   "metadata": {},
   "outputs": [
    {
     "data": {
      "application/vnd.microsoft.datawrangler.viewer.v0+json": {
       "columns": [
        {
         "name": "index",
         "rawType": "int64",
         "type": "integer"
        },
        {
         "name": "LYLTY_CARD_NBR",
         "rawType": "int64",
         "type": "integer"
        },
        {
         "name": "LIFESTAGE",
         "rawType": "object",
         "type": "string"
        },
        {
         "name": "PREMIUM_CUSTOMER",
         "rawType": "object",
         "type": "string"
        }
       ],
       "conversionMethod": "pd.DataFrame",
       "ref": "8838fdb8-405b-42ed-95e6-efd09aeb6e5c",
       "rows": [],
       "shape": {
        "columns": 3,
        "rows": 0
       }
      },
      "text/html": [
       "<div>\n",
       "<style scoped>\n",
       "    .dataframe tbody tr th:only-of-type {\n",
       "        vertical-align: middle;\n",
       "    }\n",
       "\n",
       "    .dataframe tbody tr th {\n",
       "        vertical-align: top;\n",
       "    }\n",
       "\n",
       "    .dataframe thead th {\n",
       "        text-align: right;\n",
       "    }\n",
       "</style>\n",
       "<table border=\"1\" class=\"dataframe\">\n",
       "  <thead>\n",
       "    <tr style=\"text-align: right;\">\n",
       "      <th></th>\n",
       "      <th>LYLTY_CARD_NBR</th>\n",
       "      <th>LIFESTAGE</th>\n",
       "      <th>PREMIUM_CUSTOMER</th>\n",
       "    </tr>\n",
       "  </thead>\n",
       "  <tbody>\n",
       "  </tbody>\n",
       "</table>\n",
       "</div>"
      ],
      "text/plain": [
       "Empty DataFrame\n",
       "Columns: [LYLTY_CARD_NBR, LIFESTAGE, PREMIUM_CUSTOMER]\n",
       "Index: []"
      ]
     },
     "execution_count": 6,
     "metadata": {},
     "output_type": "execute_result"
    }
   ],
   "source": [
    "purchase.loc[purchase.duplicated()]"
   ]
  },
  {
   "cell_type": "code",
   "execution_count": null,
   "metadata": {},
   "outputs": [
    {
     "data": {
      "text/plain": [
       "LYLTY_CARD_NBR      0\n",
       "LIFESTAGE           0\n",
       "PREMIUM_CUSTOMER    0\n",
       "dtype: int64"
      ]
     },
     "execution_count": 14,
     "metadata": {},
     "output_type": "execute_result"
    }
   ],
   "source": [
    "purchase.isnull().sum()"
   ]
  },
  {
   "cell_type": "code",
   "execution_count": 50,
   "metadata": {},
   "outputs": [
    {
     "data": {
      "application/vnd.microsoft.datawrangler.viewer.v0+json": {
       "columns": [
        {
         "name": "index",
         "rawType": "int64",
         "type": "integer"
        },
        {
         "name": "DATE",
         "rawType": "int64",
         "type": "integer"
        },
        {
         "name": "STORE_NBR",
         "rawType": "int64",
         "type": "integer"
        },
        {
         "name": "LYLTY_CARD_NBR",
         "rawType": "int64",
         "type": "integer"
        },
        {
         "name": "TXN_ID",
         "rawType": "int64",
         "type": "integer"
        },
        {
         "name": "PROD_NBR",
         "rawType": "int64",
         "type": "integer"
        },
        {
         "name": "PROD_NAME",
         "rawType": "object",
         "type": "string"
        },
        {
         "name": "PROD_QTY",
         "rawType": "int64",
         "type": "integer"
        },
        {
         "name": "TOT_SALES",
         "rawType": "float64",
         "type": "float"
        }
       ],
       "conversionMethod": "pd.DataFrame",
       "ref": "0ddd1f2a-dea2-4234-b896-cdc64a00d84a",
       "rows": [
        [
         "0",
         "43390",
         "1",
         "1000",
         "1",
         "5",
         "Natural Chip        Compny SeaSalt175g",
         "2",
         "6.0"
        ],
        [
         "1",
         "43599",
         "1",
         "1307",
         "348",
         "66",
         "CCs Nacho Cheese    175g",
         "3",
         "6.3"
        ],
        [
         "2",
         "43605",
         "1",
         "1343",
         "383",
         "61",
         "Smiths Crinkle Cut  Chips Chicken 170g",
         "2",
         "2.9"
        ],
        [
         "3",
         "43329",
         "2",
         "2373",
         "974",
         "69",
         "Smiths Chip Thinly  S/Cream&Onion 175g",
         "5",
         "15.0"
        ],
        [
         "4",
         "43330",
         "2",
         "2426",
         "1038",
         "108",
         "Kettle Tortilla ChpsHny&Jlpno Chili 150g",
         "3",
         "13.8"
        ]
       ],
       "shape": {
        "columns": 8,
        "rows": 5
       }
      },
      "text/html": [
       "<div>\n",
       "<style scoped>\n",
       "    .dataframe tbody tr th:only-of-type {\n",
       "        vertical-align: middle;\n",
       "    }\n",
       "\n",
       "    .dataframe tbody tr th {\n",
       "        vertical-align: top;\n",
       "    }\n",
       "\n",
       "    .dataframe thead th {\n",
       "        text-align: right;\n",
       "    }\n",
       "</style>\n",
       "<table border=\"1\" class=\"dataframe\">\n",
       "  <thead>\n",
       "    <tr style=\"text-align: right;\">\n",
       "      <th></th>\n",
       "      <th>DATE</th>\n",
       "      <th>STORE_NBR</th>\n",
       "      <th>LYLTY_CARD_NBR</th>\n",
       "      <th>TXN_ID</th>\n",
       "      <th>PROD_NBR</th>\n",
       "      <th>PROD_NAME</th>\n",
       "      <th>PROD_QTY</th>\n",
       "      <th>TOT_SALES</th>\n",
       "    </tr>\n",
       "  </thead>\n",
       "  <tbody>\n",
       "    <tr>\n",
       "      <th>0</th>\n",
       "      <td>43390</td>\n",
       "      <td>1</td>\n",
       "      <td>1000</td>\n",
       "      <td>1</td>\n",
       "      <td>5</td>\n",
       "      <td>Natural Chip        Compny SeaSalt175g</td>\n",
       "      <td>2</td>\n",
       "      <td>6.0</td>\n",
       "    </tr>\n",
       "    <tr>\n",
       "      <th>1</th>\n",
       "      <td>43599</td>\n",
       "      <td>1</td>\n",
       "      <td>1307</td>\n",
       "      <td>348</td>\n",
       "      <td>66</td>\n",
       "      <td>CCs Nacho Cheese    175g</td>\n",
       "      <td>3</td>\n",
       "      <td>6.3</td>\n",
       "    </tr>\n",
       "    <tr>\n",
       "      <th>2</th>\n",
       "      <td>43605</td>\n",
       "      <td>1</td>\n",
       "      <td>1343</td>\n",
       "      <td>383</td>\n",
       "      <td>61</td>\n",
       "      <td>Smiths Crinkle Cut  Chips Chicken 170g</td>\n",
       "      <td>2</td>\n",
       "      <td>2.9</td>\n",
       "    </tr>\n",
       "    <tr>\n",
       "      <th>3</th>\n",
       "      <td>43329</td>\n",
       "      <td>2</td>\n",
       "      <td>2373</td>\n",
       "      <td>974</td>\n",
       "      <td>69</td>\n",
       "      <td>Smiths Chip Thinly  S/Cream&amp;Onion 175g</td>\n",
       "      <td>5</td>\n",
       "      <td>15.0</td>\n",
       "    </tr>\n",
       "    <tr>\n",
       "      <th>4</th>\n",
       "      <td>43330</td>\n",
       "      <td>2</td>\n",
       "      <td>2426</td>\n",
       "      <td>1038</td>\n",
       "      <td>108</td>\n",
       "      <td>Kettle Tortilla ChpsHny&amp;Jlpno Chili 150g</td>\n",
       "      <td>3</td>\n",
       "      <td>13.8</td>\n",
       "    </tr>\n",
       "  </tbody>\n",
       "</table>\n",
       "</div>"
      ],
      "text/plain": [
       "    DATE  STORE_NBR  LYLTY_CARD_NBR  TXN_ID  PROD_NBR  \\\n",
       "0  43390          1            1000       1         5   \n",
       "1  43599          1            1307     348        66   \n",
       "2  43605          1            1343     383        61   \n",
       "3  43329          2            2373     974        69   \n",
       "4  43330          2            2426    1038       108   \n",
       "\n",
       "                                  PROD_NAME  PROD_QTY  TOT_SALES  \n",
       "0    Natural Chip        Compny SeaSalt175g         2        6.0  \n",
       "1                  CCs Nacho Cheese    175g         3        6.3  \n",
       "2    Smiths Crinkle Cut  Chips Chicken 170g         2        2.9  \n",
       "3    Smiths Chip Thinly  S/Cream&Onion 175g         5       15.0  \n",
       "4  Kettle Tortilla ChpsHny&Jlpno Chili 150g         3       13.8  "
      ]
     },
     "execution_count": 50,
     "metadata": {},
     "output_type": "execute_result"
    }
   ],
   "source": [
    "transaction.head()"
   ]
  },
  {
   "cell_type": "markdown",
   "metadata": {},
   "source": [
    "Меняем формат колонки DATE на соотвествующий"
   ]
  },
  {
   "cell_type": "code",
   "execution_count": 51,
   "metadata": {},
   "outputs": [],
   "source": [
    "from datetime import date, timedelta\n",
    "start = date(1899, 12, 30)\n",
    "new_date_format = []\n",
    "for date in transaction[\"DATE\"]:\n",
    "  delta = timedelta(date)\n",
    "  new_date_format.append(start + delta)"
   ]
  },
  {
   "cell_type": "code",
   "execution_count": 52,
   "metadata": {},
   "outputs": [],
   "source": [
    "#меняем тип данных\n",
    "transaction[\"DATE\"] = pd.to_datetime(pd.Series(new_date_format))"
   ]
  },
  {
   "cell_type": "code",
   "execution_count": 53,
   "metadata": {},
   "outputs": [
    {
     "name": "stdout",
     "output_type": "stream",
     "text": [
      "<class 'pandas.core.frame.DataFrame'>\n",
      "RangeIndex: 264836 entries, 0 to 264835\n",
      "Data columns (total 8 columns):\n",
      " #   Column          Non-Null Count   Dtype         \n",
      "---  ------          --------------   -----         \n",
      " 0   DATE            264836 non-null  datetime64[ns]\n",
      " 1   STORE_NBR       264836 non-null  int64         \n",
      " 2   LYLTY_CARD_NBR  264836 non-null  int64         \n",
      " 3   TXN_ID          264836 non-null  int64         \n",
      " 4   PROD_NBR        264836 non-null  int64         \n",
      " 5   PROD_NAME       264836 non-null  object        \n",
      " 6   PROD_QTY        264836 non-null  int64         \n",
      " 7   TOT_SALES       264836 non-null  float64       \n",
      "dtypes: datetime64[ns](1), float64(1), int64(5), object(1)\n",
      "memory usage: 16.2+ MB\n"
     ]
    }
   ],
   "source": [
    "transaction.info()"
   ]
  },
  {
   "cell_type": "code",
   "execution_count": 54,
   "metadata": {},
   "outputs": [
    {
     "data": {
      "application/vnd.microsoft.datawrangler.viewer.v0+json": {
       "columns": [
        {
         "name": "index",
         "rawType": "int64",
         "type": "integer"
        },
        {
         "name": "DATE",
         "rawType": "datetime64[ns]",
         "type": "datetime"
        },
        {
         "name": "STORE_NBR",
         "rawType": "int64",
         "type": "integer"
        },
        {
         "name": "LYLTY_CARD_NBR",
         "rawType": "int64",
         "type": "integer"
        },
        {
         "name": "TXN_ID",
         "rawType": "int64",
         "type": "integer"
        },
        {
         "name": "PROD_NBR",
         "rawType": "int64",
         "type": "integer"
        },
        {
         "name": "PROD_NAME",
         "rawType": "object",
         "type": "string"
        },
        {
         "name": "PROD_QTY",
         "rawType": "int64",
         "type": "integer"
        },
        {
         "name": "TOT_SALES",
         "rawType": "float64",
         "type": "float"
        }
       ],
       "conversionMethod": "pd.DataFrame",
       "ref": "35362a7d-93ea-4afb-9a0d-60a8a8d90bdd",
       "rows": [
        [
         "124845",
         "2018-10-01 00:00:00",
         "107",
         "107024",
         "108462",
         "45",
         "Smiths Thinly Cut   Roast Chicken 175g",
         "2",
         "6.0"
        ]
       ],
       "shape": {
        "columns": 8,
        "rows": 1
       }
      },
      "text/html": [
       "<div>\n",
       "<style scoped>\n",
       "    .dataframe tbody tr th:only-of-type {\n",
       "        vertical-align: middle;\n",
       "    }\n",
       "\n",
       "    .dataframe tbody tr th {\n",
       "        vertical-align: top;\n",
       "    }\n",
       "\n",
       "    .dataframe thead th {\n",
       "        text-align: right;\n",
       "    }\n",
       "</style>\n",
       "<table border=\"1\" class=\"dataframe\">\n",
       "  <thead>\n",
       "    <tr style=\"text-align: right;\">\n",
       "      <th></th>\n",
       "      <th>DATE</th>\n",
       "      <th>STORE_NBR</th>\n",
       "      <th>LYLTY_CARD_NBR</th>\n",
       "      <th>TXN_ID</th>\n",
       "      <th>PROD_NBR</th>\n",
       "      <th>PROD_NAME</th>\n",
       "      <th>PROD_QTY</th>\n",
       "      <th>TOT_SALES</th>\n",
       "    </tr>\n",
       "  </thead>\n",
       "  <tbody>\n",
       "    <tr>\n",
       "      <th>124845</th>\n",
       "      <td>2018-10-01</td>\n",
       "      <td>107</td>\n",
       "      <td>107024</td>\n",
       "      <td>108462</td>\n",
       "      <td>45</td>\n",
       "      <td>Smiths Thinly Cut   Roast Chicken 175g</td>\n",
       "      <td>2</td>\n",
       "      <td>6.0</td>\n",
       "    </tr>\n",
       "  </tbody>\n",
       "</table>\n",
       "</div>"
      ],
      "text/plain": [
       "             DATE  STORE_NBR  LYLTY_CARD_NBR  TXN_ID  PROD_NBR  \\\n",
       "124845 2018-10-01        107          107024  108462        45   \n",
       "\n",
       "                                     PROD_NAME  PROD_QTY  TOT_SALES  \n",
       "124845  Smiths Thinly Cut   Roast Chicken 175g         2        6.0  "
      ]
     },
     "execution_count": 54,
     "metadata": {},
     "output_type": "execute_result"
    }
   ],
   "source": [
    "transaction.loc[transaction.duplicated()]"
   ]
  },
  {
   "cell_type": "code",
   "execution_count": 9,
   "metadata": {},
   "outputs": [],
   "source": [
    "transaction = transaction.drop_duplicates()"
   ]
  },
  {
   "cell_type": "code",
   "execution_count": 10,
   "metadata": {},
   "outputs": [
    {
     "data": {
      "text/plain": [
       "DATE              0\n",
       "STORE_NBR         0\n",
       "LYLTY_CARD_NBR    0\n",
       "TXN_ID            0\n",
       "PROD_NBR          0\n",
       "PROD_NAME         0\n",
       "PROD_QTY          0\n",
       "TOT_SALES         0\n",
       "dtype: int64"
      ]
     },
     "execution_count": 10,
     "metadata": {},
     "output_type": "execute_result"
    }
   ],
   "source": [
    "transaction.isnull().sum()"
   ]
  },
  {
   "cell_type": "markdown",
   "metadata": {},
   "source": [
    "Создаем новую таблицу с необходимыми нам данными из представленных двух"
   ]
  },
  {
   "cell_type": "code",
   "execution_count": 55,
   "metadata": {},
   "outputs": [
    {
     "data": {
      "application/vnd.microsoft.datawrangler.viewer.v0+json": {
       "columns": [
        {
         "name": "index",
         "rawType": "int64",
         "type": "integer"
        },
        {
         "name": "LYLTY_CARD_NBR",
         "rawType": "int64",
         "type": "integer"
        },
        {
         "name": "LIFESTAGE",
         "rawType": "object",
         "type": "string"
        },
        {
         "name": "PREMIUM_CUSTOMER",
         "rawType": "object",
         "type": "string"
        },
        {
         "name": "DATE",
         "rawType": "datetime64[ns]",
         "type": "datetime"
        },
        {
         "name": "STORE_NBR",
         "rawType": "int64",
         "type": "integer"
        },
        {
         "name": "TXN_ID",
         "rawType": "int64",
         "type": "integer"
        },
        {
         "name": "PROD_NBR",
         "rawType": "int64",
         "type": "integer"
        },
        {
         "name": "PROD_NAME",
         "rawType": "object",
         "type": "string"
        },
        {
         "name": "PROD_QTY",
         "rawType": "int64",
         "type": "integer"
        },
        {
         "name": "TOT_SALES",
         "rawType": "float64",
         "type": "float"
        }
       ],
       "conversionMethod": "pd.DataFrame",
       "ref": "9866131a-96fd-4186-aebd-d3773d78c44a",
       "rows": [
        [
         "0",
         "1000",
         "YOUNG SINGLES/COUPLES",
         "Premium",
         "2018-10-17 00:00:00",
         "1",
         "1",
         "5",
         "Natural Chip        Compny SeaSalt175g",
         "2",
         "6.0"
        ],
        [
         "1",
         "1307",
         "MIDAGE SINGLES/COUPLES",
         "Budget",
         "2019-05-14 00:00:00",
         "1",
         "348",
         "66",
         "CCs Nacho Cheese    175g",
         "3",
         "6.3"
        ],
        [
         "2",
         "1343",
         "MIDAGE SINGLES/COUPLES",
         "Budget",
         "2019-05-20 00:00:00",
         "1",
         "383",
         "61",
         "Smiths Crinkle Cut  Chips Chicken 170g",
         "2",
         "2.9"
        ],
        [
         "3",
         "2373",
         "MIDAGE SINGLES/COUPLES",
         "Budget",
         "2018-08-17 00:00:00",
         "2",
         "974",
         "69",
         "Smiths Chip Thinly  S/Cream&Onion 175g",
         "5",
         "15.0"
        ],
        [
         "4",
         "2426",
         "MIDAGE SINGLES/COUPLES",
         "Budget",
         "2018-08-18 00:00:00",
         "2",
         "1038",
         "108",
         "Kettle Tortilla ChpsHny&Jlpno Chili 150g",
         "3",
         "13.8"
        ],
        [
         "5",
         "4074",
         "MIDAGE SINGLES/COUPLES",
         "Budget",
         "2019-05-19 00:00:00",
         "4",
         "2982",
         "57",
         "Old El Paso Salsa   Dip Tomato Mild 300g",
         "1",
         "5.1"
        ],
        [
         "6",
         "4149",
         "MIDAGE SINGLES/COUPLES",
         "Budget",
         "2019-05-16 00:00:00",
         "4",
         "3333",
         "16",
         "Smiths Crinkle Chips Salt & Vinegar 330g",
         "1",
         "5.7"
        ],
        [
         "7",
         "4196",
         "MIDAGE SINGLES/COUPLES",
         "Budget",
         "2019-05-16 00:00:00",
         "4",
         "3539",
         "24",
         "Grain Waves         Sweet Chilli 210g",
         "1",
         "3.6"
        ],
        [
         "8",
         "5026",
         "MIDAGE SINGLES/COUPLES",
         "Budget",
         "2018-08-20 00:00:00",
         "5",
         "4525",
         "42",
         "Doritos Corn Chip Mexican Jalapeno 150g",
         "1",
         "3.9"
        ],
        [
         "9",
         "7150",
         "MIDAGE SINGLES/COUPLES",
         "Budget",
         "2018-08-18 00:00:00",
         "7",
         "6900",
         "52",
         "Grain Waves Sour    Cream&Chives 210G",
         "2",
         "7.2"
        ],
        [
         "10",
         "7215",
         "MIDAGE SINGLES/COUPLES",
         "Budget",
         "2019-05-17 00:00:00",
         "7",
         "7176",
         "16",
         "Smiths Crinkle Chips Salt & Vinegar 330g",
         "1",
         "5.7"
        ],
        [
         "11",
         "8294",
         "MIDAGE SINGLES/COUPLES",
         "Budget",
         "2018-08-20 00:00:00",
         "8",
         "8221",
         "114",
         "Kettle Sensations   Siracha Lime 150g",
         "5",
         "23.0"
        ],
        [
         "12",
         "9208",
         "MIDAGE SINGLES/COUPLES",
         "Budget",
         "2019-05-18 00:00:00",
         "9",
         "8634",
         "15",
         "Twisties Cheese     270g",
         "2",
         "9.2"
        ],
        [
         "13",
         "13213",
         "MIDAGE SINGLES/COUPLES",
         "Budget",
         "2018-08-17 00:00:00",
         "13",
         "12447",
         "92",
         "WW Crinkle Cut      Chicken 175g",
         "1",
         "1.7"
        ],
        [
         "14",
         "19272",
         "MIDAGE SINGLES/COUPLES",
         "Budget",
         "2019-05-15 00:00:00",
         "19",
         "16686",
         "44",
         "Thins Chips Light&  Tangy 175g",
         "1",
         "3.3"
        ],
        [
         "15",
         "20164",
         "MIDAGE SINGLES/COUPLES",
         "Budget",
         "2019-05-19 00:00:00",
         "20",
         "17136",
         "54",
         "CCs Original 175g",
         "1",
         "2.1"
        ],
        [
         "16",
         "20418",
         "MIDAGE SINGLES/COUPLES",
         "Budget",
         "2018-08-18 00:00:00",
         "20",
         "17413",
         "94",
         "Burger Rings 220g",
         "4",
         "9.2"
        ],
        [
         "17",
         "22411",
         "MIDAGE SINGLES/COUPLES",
         "Budget",
         "2018-08-14 00:00:00",
         "22",
         "18646",
         "98",
         "NCC Sour Cream &    Garden Chives 175g",
         "1",
         "3.0"
        ],
        [
         "18",
         "22456",
         "MIDAGE SINGLES/COUPLES",
         "Budget",
         "2018-08-17 00:00:00",
         "22",
         "18696",
         "93",
         "Doritos Corn Chip Southern Chicken 150g",
         "1",
         "3.9"
        ],
        [
         "19",
         "23067",
         "MIDAGE SINGLES/COUPLES",
         "Budget",
         "2019-05-16 00:00:00",
         "23",
         "19162",
         "56",
         "Cheezels Cheese Box 125g",
         "1",
         "2.1"
        ],
        [
         "20",
         "25105",
         "MIDAGE SINGLES/COUPLES",
         "Budget",
         "2019-05-19 00:00:00",
         "25",
         "21815",
         "7",
         "Smiths Crinkle      Original 330g",
         "1",
         "5.7"
        ],
        [
         "21",
         "33081",
         "MIDAGE SINGLES/COUPLES",
         "Budget",
         "2018-08-16 00:00:00",
         "33",
         "29949",
         "98",
         "NCC Sour Cream &    Garden Chives 175g",
         "1",
         "3.0"
        ],
        [
         "22",
         "36012",
         "MIDAGE SINGLES/COUPLES",
         "Budget",
         "2018-08-16 00:00:00",
         "36",
         "32077",
         "31",
         "Infzns Crn Crnchers Tangy Gcamole 110g",
         "1",
         "3.8"
        ],
        [
         "23",
         "36302",
         "MIDAGE SINGLES/COUPLES",
         "Budget",
         "2018-08-19 00:00:00",
         "36",
         "33188",
         "32",
         "Kettle Sea Salt     And Vinegar 175g",
         "1",
         "5.4"
        ],
        [
         "24",
         "38142",
         "MIDAGE SINGLES/COUPLES",
         "Budget",
         "2018-08-15 00:00:00",
         "38",
         "34181",
         "108",
         "Kettle Tortilla ChpsHny&Jlpno Chili 150g",
         "2",
         "9.2"
        ],
        [
         "25",
         "39144",
         "MIDAGE SINGLES/COUPLES",
         "Budget",
         "2019-05-15 00:00:00",
         "39",
         "35506",
         "57",
         "Old El Paso Salsa   Dip Tomato Mild 300g",
         "1",
         "5.1"
        ],
        [
         "26",
         "39167",
         "MIDAGE SINGLES/COUPLES",
         "Budget",
         "2018-08-19 00:00:00",
         "39",
         "35638",
         "111",
         "Smiths Chip Thinly  Cut Original 175g",
         "2",
         "6.0"
        ],
        [
         "27",
         "41423",
         "MIDAGE SINGLES/COUPLES",
         "Budget",
         "2019-05-15 00:00:00",
         "41",
         "38393",
         "46",
         "Kettle Original 175g",
         "1",
         "5.4"
        ],
        [
         "28",
         "41486",
         "MIDAGE SINGLES/COUPLES",
         "Budget",
         "2018-08-15 00:00:00",
         "41",
         "38472",
         "13",
         "Red Rock Deli Thai  Chilli&Lime 150g",
         "1",
         "2.7"
        ],
        [
         "29",
         "43110",
         "MIDAGE SINGLES/COUPLES",
         "Budget",
         "2019-05-20 00:00:00",
         "43",
         "39342",
         "31",
         "Infzns Crn Crnchers Tangy Gcamole 110g",
         "1",
         "3.8"
        ],
        [
         "30",
         "43147",
         "MIDAGE SINGLES/COUPLES",
         "Budget",
         "2019-05-16 00:00:00",
         "43",
         "39608",
         "99",
         "Pringles Sthrn FriedChicken 134g",
         "1",
         "3.7"
        ],
        [
         "31",
         "43227",
         "MIDAGE SINGLES/COUPLES",
         "Budget",
         "2019-05-15 00:00:00",
         "43",
         "40186",
         "26",
         "Pringles Sweet&Spcy BBQ 134g",
         "4",
         "14.8"
        ],
        [
         "32",
         "45127",
         "MIDAGE SINGLES/COUPLES",
         "Budget",
         "2019-05-20 00:00:00",
         "45",
         "41122",
         "64",
         "Red Rock Deli SR    Salsa & Mzzrlla 150g",
         "2",
         "5.4"
        ],
        [
         "33",
         "45220",
         "MIDAGE SINGLES/COUPLES",
         "Budget",
         "2019-05-18 00:00:00",
         "45",
         "41651",
         "22",
         "Thins Chips         Originl saltd 175g",
         "1",
         "3.3"
        ],
        [
         "34",
         "51100",
         "MIDAGE SINGLES/COUPLES",
         "Budget",
         "2018-08-16 00:00:00",
         "51",
         "46802",
         "48",
         "Red Rock Deli Sp    Salt & Truffle 150G",
         "1",
         "2.7"
        ],
        [
         "35",
         "51100",
         "MIDAGE SINGLES/COUPLES",
         "Budget",
         "2018-08-19 00:00:00",
         "51",
         "46803",
         "37",
         "Smiths Thinly       Swt Chli&S/Cream175G",
         "1",
         "3.0"
        ],
        [
         "36",
         "51113",
         "MIDAGE SINGLES/COUPLES",
         "Budget",
         "2018-08-18 00:00:00",
         "51",
         "46828",
         "36",
         "Kettle Chilli 175g",
         "1",
         "5.4"
        ],
        [
         "37",
         "54226",
         "MIDAGE SINGLES/COUPLES",
         "Budget",
         "2018-08-17 00:00:00",
         "54",
         "48173",
         "51",
         "Doritos Mexicana    170g",
         "1",
         "4.4"
        ],
        [
         "38",
         "54305",
         "MIDAGE SINGLES/COUPLES",
         "Budget",
         "2018-08-18 00:00:00",
         "54",
         "48301",
         "44",
         "Thins Chips Light&  Tangy 175g",
         "2",
         "6.6"
        ],
        [
         "39",
         "55072",
         "MIDAGE SINGLES/COUPLES",
         "Budget",
         "2018-08-18 00:00:00",
         "55",
         "48878",
         "107",
         "Smiths Crinkle Cut  French OnionDip 150g",
         "1",
         "2.6"
        ],
        [
         "40",
         "55072",
         "MIDAGE SINGLES/COUPLES",
         "Budget",
         "2019-05-14 00:00:00",
         "55",
         "48883",
         "106",
         "Natural ChipCo      Hony Soy Chckn175g",
         "1",
         "3.0"
        ],
        [
         "41",
         "55073",
         "MIDAGE SINGLES/COUPLES",
         "Budget",
         "2019-05-20 00:00:00",
         "55",
         "48887",
         "4",
         "Dorito Corn Chp     Supreme 380g",
         "1",
         "3.25"
        ],
        [
         "42",
         "55073",
         "MIDAGE SINGLES/COUPLES",
         "Budget",
         "2019-05-20 00:00:00",
         "55",
         "48887",
         "113",
         "Twisties Chicken270g",
         "1",
         "4.6"
        ],
        [
         "43",
         "55202",
         "MIDAGE SINGLES/COUPLES",
         "Budget",
         "2019-05-16 00:00:00",
         "55",
         "49690",
         "45",
         "Smiths Thinly Cut   Roast Chicken 175g",
         "1",
         "3.0"
        ],
        [
         "44",
         "56013",
         "MIDAGE SINGLES/COUPLES",
         "Budget",
         "2018-08-18 00:00:00",
         "56",
         "50090",
         "39",
         "Smiths Crinkle Cut  Tomato Salsa 150g",
         "1",
         "2.6"
        ],
        [
         "45",
         "58324",
         "MIDAGE SINGLES/COUPLES",
         "Budget",
         "2019-05-16 00:00:00",
         "58",
         "54252",
         "102",
         "Kettle Mozzarella   Basil & Pesto 175g",
         "1",
         "5.4"
        ],
        [
         "46",
         "59344",
         "MIDAGE SINGLES/COUPLES",
         "Budget",
         "2019-05-16 00:00:00",
         "59",
         "56007",
         "31",
         "Infzns Crn Crnchers Tangy Gcamole 110g",
         "1",
         "3.8"
        ],
        [
         "47",
         "60038",
         "MIDAGE SINGLES/COUPLES",
         "Budget",
         "2018-08-16 00:00:00",
         "60",
         "56304",
         "104",
         "Infuzions Thai SweetChili PotatoMix 110g",
         "1",
         "3.8"
        ],
        [
         "48",
         "60162",
         "MIDAGE SINGLES/COUPLES",
         "Budget",
         "2019-05-15 00:00:00",
         "60",
         "56825",
         "7",
         "Smiths Crinkle      Original 330g",
         "1",
         "5.7"
        ],
        [
         "49",
         "62177",
         "MIDAGE SINGLES/COUPLES",
         "Budget",
         "2019-05-14 00:00:00",
         "62",
         "58848",
         "3",
         "Kettle Sensations   Camembert & Fig 150g",
         "1",
         "4.6"
        ]
       ],
       "shape": {
        "columns": 10,
        "rows": 264836
       }
      },
      "text/html": [
       "<div>\n",
       "<style scoped>\n",
       "    .dataframe tbody tr th:only-of-type {\n",
       "        vertical-align: middle;\n",
       "    }\n",
       "\n",
       "    .dataframe tbody tr th {\n",
       "        vertical-align: top;\n",
       "    }\n",
       "\n",
       "    .dataframe thead th {\n",
       "        text-align: right;\n",
       "    }\n",
       "</style>\n",
       "<table border=\"1\" class=\"dataframe\">\n",
       "  <thead>\n",
       "    <tr style=\"text-align: right;\">\n",
       "      <th></th>\n",
       "      <th>LYLTY_CARD_NBR</th>\n",
       "      <th>LIFESTAGE</th>\n",
       "      <th>PREMIUM_CUSTOMER</th>\n",
       "      <th>DATE</th>\n",
       "      <th>STORE_NBR</th>\n",
       "      <th>TXN_ID</th>\n",
       "      <th>PROD_NBR</th>\n",
       "      <th>PROD_NAME</th>\n",
       "      <th>PROD_QTY</th>\n",
       "      <th>TOT_SALES</th>\n",
       "    </tr>\n",
       "  </thead>\n",
       "  <tbody>\n",
       "    <tr>\n",
       "      <th>0</th>\n",
       "      <td>1000</td>\n",
       "      <td>YOUNG SINGLES/COUPLES</td>\n",
       "      <td>Premium</td>\n",
       "      <td>2018-10-17</td>\n",
       "      <td>1</td>\n",
       "      <td>1</td>\n",
       "      <td>5</td>\n",
       "      <td>Natural Chip        Compny SeaSalt175g</td>\n",
       "      <td>2</td>\n",
       "      <td>6.0</td>\n",
       "    </tr>\n",
       "    <tr>\n",
       "      <th>1</th>\n",
       "      <td>1307</td>\n",
       "      <td>MIDAGE SINGLES/COUPLES</td>\n",
       "      <td>Budget</td>\n",
       "      <td>2019-05-14</td>\n",
       "      <td>1</td>\n",
       "      <td>348</td>\n",
       "      <td>66</td>\n",
       "      <td>CCs Nacho Cheese    175g</td>\n",
       "      <td>3</td>\n",
       "      <td>6.3</td>\n",
       "    </tr>\n",
       "    <tr>\n",
       "      <th>2</th>\n",
       "      <td>1343</td>\n",
       "      <td>MIDAGE SINGLES/COUPLES</td>\n",
       "      <td>Budget</td>\n",
       "      <td>2019-05-20</td>\n",
       "      <td>1</td>\n",
       "      <td>383</td>\n",
       "      <td>61</td>\n",
       "      <td>Smiths Crinkle Cut  Chips Chicken 170g</td>\n",
       "      <td>2</td>\n",
       "      <td>2.9</td>\n",
       "    </tr>\n",
       "    <tr>\n",
       "      <th>3</th>\n",
       "      <td>2373</td>\n",
       "      <td>MIDAGE SINGLES/COUPLES</td>\n",
       "      <td>Budget</td>\n",
       "      <td>2018-08-17</td>\n",
       "      <td>2</td>\n",
       "      <td>974</td>\n",
       "      <td>69</td>\n",
       "      <td>Smiths Chip Thinly  S/Cream&amp;Onion 175g</td>\n",
       "      <td>5</td>\n",
       "      <td>15.0</td>\n",
       "    </tr>\n",
       "    <tr>\n",
       "      <th>4</th>\n",
       "      <td>2426</td>\n",
       "      <td>MIDAGE SINGLES/COUPLES</td>\n",
       "      <td>Budget</td>\n",
       "      <td>2018-08-18</td>\n",
       "      <td>2</td>\n",
       "      <td>1038</td>\n",
       "      <td>108</td>\n",
       "      <td>Kettle Tortilla ChpsHny&amp;Jlpno Chili 150g</td>\n",
       "      <td>3</td>\n",
       "      <td>13.8</td>\n",
       "    </tr>\n",
       "    <tr>\n",
       "      <th>...</th>\n",
       "      <td>...</td>\n",
       "      <td>...</td>\n",
       "      <td>...</td>\n",
       "      <td>...</td>\n",
       "      <td>...</td>\n",
       "      <td>...</td>\n",
       "      <td>...</td>\n",
       "      <td>...</td>\n",
       "      <td>...</td>\n",
       "      <td>...</td>\n",
       "    </tr>\n",
       "    <tr>\n",
       "      <th>264831</th>\n",
       "      <td>272319</td>\n",
       "      <td>YOUNG SINGLES/COUPLES</td>\n",
       "      <td>Premium</td>\n",
       "      <td>2019-03-09</td>\n",
       "      <td>272</td>\n",
       "      <td>270088</td>\n",
       "      <td>89</td>\n",
       "      <td>Kettle Sweet Chilli And Sour Cream 175g</td>\n",
       "      <td>2</td>\n",
       "      <td>10.8</td>\n",
       "    </tr>\n",
       "    <tr>\n",
       "      <th>264832</th>\n",
       "      <td>272358</td>\n",
       "      <td>YOUNG SINGLES/COUPLES</td>\n",
       "      <td>Premium</td>\n",
       "      <td>2018-08-13</td>\n",
       "      <td>272</td>\n",
       "      <td>270154</td>\n",
       "      <td>74</td>\n",
       "      <td>Tostitos Splash Of  Lime 175g</td>\n",
       "      <td>1</td>\n",
       "      <td>4.4</td>\n",
       "    </tr>\n",
       "    <tr>\n",
       "      <th>264833</th>\n",
       "      <td>272379</td>\n",
       "      <td>YOUNG SINGLES/COUPLES</td>\n",
       "      <td>Premium</td>\n",
       "      <td>2018-11-06</td>\n",
       "      <td>272</td>\n",
       "      <td>270187</td>\n",
       "      <td>51</td>\n",
       "      <td>Doritos Mexicana    170g</td>\n",
       "      <td>2</td>\n",
       "      <td>8.8</td>\n",
       "    </tr>\n",
       "    <tr>\n",
       "      <th>264834</th>\n",
       "      <td>272379</td>\n",
       "      <td>YOUNG SINGLES/COUPLES</td>\n",
       "      <td>Premium</td>\n",
       "      <td>2018-12-27</td>\n",
       "      <td>272</td>\n",
       "      <td>270188</td>\n",
       "      <td>42</td>\n",
       "      <td>Doritos Corn Chip Mexican Jalapeno 150g</td>\n",
       "      <td>2</td>\n",
       "      <td>7.8</td>\n",
       "    </tr>\n",
       "    <tr>\n",
       "      <th>264835</th>\n",
       "      <td>272380</td>\n",
       "      <td>YOUNG SINGLES/COUPLES</td>\n",
       "      <td>Premium</td>\n",
       "      <td>2018-09-22</td>\n",
       "      <td>272</td>\n",
       "      <td>270189</td>\n",
       "      <td>74</td>\n",
       "      <td>Tostitos Splash Of  Lime 175g</td>\n",
       "      <td>2</td>\n",
       "      <td>8.8</td>\n",
       "    </tr>\n",
       "  </tbody>\n",
       "</table>\n",
       "<p>264836 rows × 10 columns</p>\n",
       "</div>"
      ],
      "text/plain": [
       "        LYLTY_CARD_NBR               LIFESTAGE PREMIUM_CUSTOMER       DATE  \\\n",
       "0                 1000   YOUNG SINGLES/COUPLES          Premium 2018-10-17   \n",
       "1                 1307  MIDAGE SINGLES/COUPLES           Budget 2019-05-14   \n",
       "2                 1343  MIDAGE SINGLES/COUPLES           Budget 2019-05-20   \n",
       "3                 2373  MIDAGE SINGLES/COUPLES           Budget 2018-08-17   \n",
       "4                 2426  MIDAGE SINGLES/COUPLES           Budget 2018-08-18   \n",
       "...                ...                     ...              ...        ...   \n",
       "264831          272319   YOUNG SINGLES/COUPLES          Premium 2019-03-09   \n",
       "264832          272358   YOUNG SINGLES/COUPLES          Premium 2018-08-13   \n",
       "264833          272379   YOUNG SINGLES/COUPLES          Premium 2018-11-06   \n",
       "264834          272379   YOUNG SINGLES/COUPLES          Premium 2018-12-27   \n",
       "264835          272380   YOUNG SINGLES/COUPLES          Premium 2018-09-22   \n",
       "\n",
       "        STORE_NBR  TXN_ID  PROD_NBR                                 PROD_NAME  \\\n",
       "0               1       1         5    Natural Chip        Compny SeaSalt175g   \n",
       "1               1     348        66                  CCs Nacho Cheese    175g   \n",
       "2               1     383        61    Smiths Crinkle Cut  Chips Chicken 170g   \n",
       "3               2     974        69    Smiths Chip Thinly  S/Cream&Onion 175g   \n",
       "4               2    1038       108  Kettle Tortilla ChpsHny&Jlpno Chili 150g   \n",
       "...           ...     ...       ...                                       ...   \n",
       "264831        272  270088        89   Kettle Sweet Chilli And Sour Cream 175g   \n",
       "264832        272  270154        74             Tostitos Splash Of  Lime 175g   \n",
       "264833        272  270187        51                  Doritos Mexicana    170g   \n",
       "264834        272  270188        42   Doritos Corn Chip Mexican Jalapeno 150g   \n",
       "264835        272  270189        74             Tostitos Splash Of  Lime 175g   \n",
       "\n",
       "        PROD_QTY  TOT_SALES  \n",
       "0              2        6.0  \n",
       "1              3        6.3  \n",
       "2              2        2.9  \n",
       "3              5       15.0  \n",
       "4              3       13.8  \n",
       "...          ...        ...  \n",
       "264831         2       10.8  \n",
       "264832         1        4.4  \n",
       "264833         2        8.8  \n",
       "264834         2        7.8  \n",
       "264835         2        8.8  \n",
       "\n",
       "[264836 rows x 10 columns]"
      ]
     },
     "execution_count": 55,
     "metadata": {},
     "output_type": "execute_result"
    }
   ],
   "source": [
    "merged_df = pd.merge(purchase, transaction, on = 'LYLTY_CARD_NBR', how = 'right')\n",
    "merged_df"
   ]
  },
  {
   "cell_type": "code",
   "execution_count": null,
   "metadata": {},
   "outputs": [
    {
     "name": "stdout",
     "output_type": "stream",
     "text": [
      "<class 'pandas.core.frame.DataFrame'>\n",
      "RangeIndex: 264836 entries, 0 to 264835\n",
      "Data columns (total 10 columns):\n",
      " #   Column            Non-Null Count   Dtype         \n",
      "---  ------            --------------   -----         \n",
      " 0   LYLTY_CARD_NBR    264836 non-null  int64         \n",
      " 1   LIFESTAGE         264836 non-null  object        \n",
      " 2   PREMIUM_CUSTOMER  264836 non-null  object        \n",
      " 3   DATE              264836 non-null  datetime64[ns]\n",
      " 4   STORE_NBR         264836 non-null  int64         \n",
      " 5   TXN_ID            264836 non-null  int64         \n",
      " 6   PROD_NBR          264836 non-null  int64         \n",
      " 7   PROD_NAME         264836 non-null  object        \n",
      " 8   PROD_QTY          264836 non-null  int64         \n",
      " 9   TOT_SALES         264836 non-null  float64       \n",
      "dtypes: datetime64[ns](1), float64(1), int64(5), object(3)\n",
      "memory usage: 20.2+ MB\n"
     ]
    }
   ],
   "source": [
    "merged_df.info()"
   ]
  },
  {
   "cell_type": "markdown",
   "metadata": {},
   "source": [
    "Изучить названия продукта"
   ]
  },
  {
   "cell_type": "code",
   "execution_count": 12,
   "metadata": {},
   "outputs": [
    {
     "data": {
      "text/plain": [
       "array(['Natural Chip        Compny SeaSalt175g',\n",
       "       'CCs Nacho Cheese    175g',\n",
       "       'Smiths Crinkle Cut  Chips Chicken 170g',\n",
       "       'Smiths Chip Thinly  S/Cream&Onion 175g',\n",
       "       'Kettle Tortilla ChpsHny&Jlpno Chili 150g',\n",
       "       'Old El Paso Salsa   Dip Tomato Mild 300g',\n",
       "       'Smiths Crinkle Chips Salt & Vinegar 330g',\n",
       "       'Grain Waves         Sweet Chilli 210g',\n",
       "       'Doritos Corn Chip Mexican Jalapeno 150g',\n",
       "       'Grain Waves Sour    Cream&Chives 210G',\n",
       "       'Kettle Sensations   Siracha Lime 150g',\n",
       "       'Twisties Cheese     270g', 'WW Crinkle Cut      Chicken 175g',\n",
       "       'Thins Chips Light&  Tangy 175g', 'CCs Original 175g',\n",
       "       'Burger Rings 220g', 'NCC Sour Cream &    Garden Chives 175g',\n",
       "       'Doritos Corn Chip Southern Chicken 150g',\n",
       "       'Cheezels Cheese Box 125g', 'Smiths Crinkle      Original 330g',\n",
       "       'Infzns Crn Crnchers Tangy Gcamole 110g',\n",
       "       'Kettle Sea Salt     And Vinegar 175g',\n",
       "       'Smiths Chip Thinly  Cut Original 175g', 'Kettle Original 175g',\n",
       "       'Red Rock Deli Thai  Chilli&Lime 150g',\n",
       "       'Pringles Sthrn FriedChicken 134g', 'Pringles Sweet&Spcy BBQ 134g',\n",
       "       'Red Rock Deli SR    Salsa & Mzzrlla 150g',\n",
       "       'Thins Chips         Originl saltd 175g',\n",
       "       'Red Rock Deli Sp    Salt & Truffle 150G',\n",
       "       'Smiths Thinly       Swt Chli&S/Cream175G', 'Kettle Chilli 175g',\n",
       "       'Doritos Mexicana    170g',\n",
       "       'Smiths Crinkle Cut  French OnionDip 150g',\n",
       "       'Natural ChipCo      Hony Soy Chckn175g',\n",
       "       'Dorito Corn Chp     Supreme 380g', 'Twisties Chicken270g',\n",
       "       'Smiths Thinly Cut   Roast Chicken 175g',\n",
       "       'Smiths Crinkle Cut  Tomato Salsa 150g',\n",
       "       'Kettle Mozzarella   Basil & Pesto 175g',\n",
       "       'Infuzions Thai SweetChili PotatoMix 110g',\n",
       "       'Kettle Sensations   Camembert & Fig 150g',\n",
       "       'Smith Crinkle Cut   Mac N Cheese 150g',\n",
       "       'Kettle Honey Soy    Chicken 175g',\n",
       "       'Thins Chips Seasonedchicken 175g',\n",
       "       'Smiths Crinkle Cut  Salt & Vinegar 170g',\n",
       "       'Infuzions BBQ Rib   Prawn Crackers 110g',\n",
       "       'GrnWves Plus Btroot & Chilli Jam 180g',\n",
       "       'Tyrrells Crisps     Lightly Salted 165g',\n",
       "       'Kettle Sweet Chilli And Sour Cream 175g',\n",
       "       'Doritos Salsa       Medium 300g', 'Kettle 135g Swt Pot Sea Salt',\n",
       "       'Pringles SourCream  Onion 134g',\n",
       "       'Doritos Corn Chips  Original 170g',\n",
       "       'Twisties Cheese     Burger 250g',\n",
       "       'Old El Paso Salsa   Dip Chnky Tom Ht300g',\n",
       "       'Cobs Popd Swt/Chlli &Sr/Cream Chips 110g',\n",
       "       'Woolworths Mild     Salsa 300g',\n",
       "       'Natural Chip Co     Tmato Hrb&Spce 175g',\n",
       "       'Smiths Crinkle Cut  Chips Original 170g',\n",
       "       'Cobs Popd Sea Salt  Chips 110g',\n",
       "       'Smiths Crinkle Cut  Chips Chs&Onion170g',\n",
       "       'French Fries Potato Chips 175g',\n",
       "       'Old El Paso Salsa   Dip Tomato Med 300g',\n",
       "       'Doritos Corn Chips  Cheese Supreme 170g',\n",
       "       'Pringles Original   Crisps 134g',\n",
       "       'RRD Chilli&         Coconut 150g',\n",
       "       'WW Original Corn    Chips 200g',\n",
       "       'Thins Potato Chips  Hot & Spicy 175g',\n",
       "       'Cobs Popd Sour Crm  &Chives Chips 110g',\n",
       "       'Smiths Crnkle Chip  Orgnl Big Bag 380g',\n",
       "       'Doritos Corn Chips  Nacho Cheese 170g',\n",
       "       'Kettle Sensations   BBQ&Maple 150g',\n",
       "       'WW D/Style Chip     Sea Salt 200g',\n",
       "       'Pringles Chicken    Salt Crips 134g',\n",
       "       'WW Original Stacked Chips 160g',\n",
       "       'Smiths Chip Thinly  CutSalt/Vinegr175g', 'Cheezels Cheese 330g',\n",
       "       'Tostitos Lightly    Salted 175g',\n",
       "       'Thins Chips Salt &  Vinegar 175g',\n",
       "       'Smiths Crinkle Cut  Chips Barbecue 170g', 'Cheetos Puffs 165g',\n",
       "       'RRD Sweet Chilli &  Sour Cream 165g',\n",
       "       'WW Crinkle Cut      Original 175g',\n",
       "       'Tostitos Splash Of  Lime 175g', 'Woolworths Medium   Salsa 300g',\n",
       "       'Kettle Tortilla ChpsBtroot&Ricotta 150g',\n",
       "       'CCs Tasty Cheese    175g', 'Woolworths Cheese   Rings 190g',\n",
       "       'Tostitos Smoked     Chipotle 175g', 'Pringles Barbeque   134g',\n",
       "       'WW Supreme Cheese   Corn Chips 200g',\n",
       "       'Pringles Mystery    Flavour 134g',\n",
       "       'Tyrrells Crisps     Ched & Chives 165g',\n",
       "       'Snbts Whlgrn Crisps Cheddr&Mstrd 90g',\n",
       "       'Cheetos Chs & Bacon Balls 190g', 'Pringles Slt Vingar 134g',\n",
       "       'Infuzions SourCream&Herbs Veg Strws 110g',\n",
       "       'Kettle Tortilla ChpsFeta&Garlic 150g',\n",
       "       'Infuzions Mango     Chutny Papadums 70g',\n",
       "       'RRD Steak &         Chimuchurri 150g',\n",
       "       'RRD Honey Soy       Chicken 165g',\n",
       "       'Sunbites Whlegrn    Crisps Frch/Onin 90g',\n",
       "       'RRD Salt & Vinegar  165g', 'Doritos Cheese      Supreme 330g',\n",
       "       'Smiths Crinkle Cut  Snag&Sauce 150g',\n",
       "       'WW Sour Cream &OnionStacked Chips 160g',\n",
       "       'RRD Lime & Pepper   165g',\n",
       "       'Natural ChipCo Sea  Salt & Vinegr 175g',\n",
       "       'Red Rock Deli Chikn&Garlic Aioli 150g',\n",
       "       'RRD SR Slow Rst     Pork Belly 150g', 'RRD Pc Sea Salt     165g',\n",
       "       'Smith Crinkle Cut   Bolognese 150g', 'Doritos Salsa Mild  300g'],\n",
       "      dtype=object)"
      ]
     },
     "execution_count": 12,
     "metadata": {},
     "output_type": "execute_result"
    }
   ],
   "source": [
    "merged_df[\"PROD_NAME\"].unique()"
   ]
  },
  {
   "cell_type": "code",
   "execution_count": 25,
   "metadata": {},
   "outputs": [
    {
     "data": {
      "text/plain": [
       "PROD_NAME\n",
       "Chips       49770\n",
       "Kettle      41288\n",
       "Smiths      28859\n",
       "Salt        27976\n",
       "Cheese      27890\n",
       "            ...  \n",
       "Sunbites     1432\n",
       "Pc           1431\n",
       "Garden       1419\n",
       "NCC          1419\n",
       "Fries        1418\n",
       "Name: count, Length: 220, dtype: int64"
      ]
     },
     "execution_count": 25,
     "metadata": {},
     "output_type": "execute_result"
    }
   ],
   "source": [
    "PROD_NAME = merged_df[\"PROD_NAME\"].str.replace(r'([0-9]+[g])','') \\\n",
    "    .str.replace(r'[^\\w]',' ') \\\n",
    "    .str.replace(r'175g',' ') \\\n",
    "    .str.replace(r'150g',' ') \\\n",
    "    .str.replace(r'&',' ') \\\n",
    "    .str.split().explode()\n",
    "\n",
    "PROD_NAME.value_counts()"
   ]
  },
  {
   "cell_type": "markdown",
   "metadata": {},
   "source": [
    "Уберем строки с продукцией Salsa, так как нам нужно проанализировать чипсы"
   ]
  },
  {
   "cell_type": "code",
   "execution_count": 56,
   "metadata": {},
   "outputs": [
    {
     "data": {
      "application/vnd.microsoft.datawrangler.viewer.v0+json": {
       "columns": [
        {
         "name": "index",
         "rawType": "int64",
         "type": "integer"
        },
        {
         "name": "LYLTY_CARD_NBR",
         "rawType": "int64",
         "type": "integer"
        },
        {
         "name": "LIFESTAGE",
         "rawType": "object",
         "type": "string"
        },
        {
         "name": "PREMIUM_CUSTOMER",
         "rawType": "object",
         "type": "string"
        },
        {
         "name": "DATE",
         "rawType": "datetime64[ns]",
         "type": "datetime"
        },
        {
         "name": "STORE_NBR",
         "rawType": "int64",
         "type": "integer"
        },
        {
         "name": "TXN_ID",
         "rawType": "int64",
         "type": "integer"
        },
        {
         "name": "PROD_NBR",
         "rawType": "int64",
         "type": "integer"
        },
        {
         "name": "PROD_NAME",
         "rawType": "object",
         "type": "string"
        },
        {
         "name": "PROD_QTY",
         "rawType": "int64",
         "type": "integer"
        },
        {
         "name": "TOT_SALES",
         "rawType": "float64",
         "type": "float"
        }
       ],
       "conversionMethod": "pd.DataFrame",
       "ref": "c7ce4aae-aa04-421b-9cfe-255df7ecdd8d",
       "rows": [
        [
         "0",
         "1000",
         "YOUNG SINGLES/COUPLES",
         "Premium",
         "2018-10-17 00:00:00",
         "1",
         "1",
         "5",
         "Natural Chip        Compny SeaSalt175g",
         "2",
         "6.0"
        ],
        [
         "1",
         "1307",
         "MIDAGE SINGLES/COUPLES",
         "Budget",
         "2019-05-14 00:00:00",
         "1",
         "348",
         "66",
         "CCs Nacho Cheese    175g",
         "3",
         "6.3"
        ],
        [
         "2",
         "1343",
         "MIDAGE SINGLES/COUPLES",
         "Budget",
         "2019-05-20 00:00:00",
         "1",
         "383",
         "61",
         "Smiths Crinkle Cut  Chips Chicken 170g",
         "2",
         "2.9"
        ],
        [
         "3",
         "2373",
         "MIDAGE SINGLES/COUPLES",
         "Budget",
         "2018-08-17 00:00:00",
         "2",
         "974",
         "69",
         "Smiths Chip Thinly  S/Cream&Onion 175g",
         "5",
         "15.0"
        ],
        [
         "4",
         "2426",
         "MIDAGE SINGLES/COUPLES",
         "Budget",
         "2018-08-18 00:00:00",
         "2",
         "1038",
         "108",
         "Kettle Tortilla ChpsHny&Jlpno Chili 150g",
         "3",
         "13.8"
        ],
        [
         "6",
         "4149",
         "MIDAGE SINGLES/COUPLES",
         "Budget",
         "2019-05-16 00:00:00",
         "4",
         "3333",
         "16",
         "Smiths Crinkle Chips Salt & Vinegar 330g",
         "1",
         "5.7"
        ],
        [
         "7",
         "4196",
         "MIDAGE SINGLES/COUPLES",
         "Budget",
         "2019-05-16 00:00:00",
         "4",
         "3539",
         "24",
         "Grain Waves         Sweet Chilli 210g",
         "1",
         "3.6"
        ],
        [
         "8",
         "5026",
         "MIDAGE SINGLES/COUPLES",
         "Budget",
         "2018-08-20 00:00:00",
         "5",
         "4525",
         "42",
         "Doritos Corn Chip Mexican Jalapeno 150g",
         "1",
         "3.9"
        ],
        [
         "9",
         "7150",
         "MIDAGE SINGLES/COUPLES",
         "Budget",
         "2018-08-18 00:00:00",
         "7",
         "6900",
         "52",
         "Grain Waves Sour    Cream&Chives 210G",
         "2",
         "7.2"
        ],
        [
         "10",
         "7215",
         "MIDAGE SINGLES/COUPLES",
         "Budget",
         "2019-05-17 00:00:00",
         "7",
         "7176",
         "16",
         "Smiths Crinkle Chips Salt & Vinegar 330g",
         "1",
         "5.7"
        ],
        [
         "11",
         "8294",
         "MIDAGE SINGLES/COUPLES",
         "Budget",
         "2018-08-20 00:00:00",
         "8",
         "8221",
         "114",
         "Kettle Sensations   Siracha Lime 150g",
         "5",
         "23.0"
        ],
        [
         "12",
         "9208",
         "MIDAGE SINGLES/COUPLES",
         "Budget",
         "2019-05-18 00:00:00",
         "9",
         "8634",
         "15",
         "Twisties Cheese     270g",
         "2",
         "9.2"
        ],
        [
         "13",
         "13213",
         "MIDAGE SINGLES/COUPLES",
         "Budget",
         "2018-08-17 00:00:00",
         "13",
         "12447",
         "92",
         "WW Crinkle Cut      Chicken 175g",
         "1",
         "1.7"
        ],
        [
         "14",
         "19272",
         "MIDAGE SINGLES/COUPLES",
         "Budget",
         "2019-05-15 00:00:00",
         "19",
         "16686",
         "44",
         "Thins Chips Light&  Tangy 175g",
         "1",
         "3.3"
        ],
        [
         "15",
         "20164",
         "MIDAGE SINGLES/COUPLES",
         "Budget",
         "2019-05-19 00:00:00",
         "20",
         "17136",
         "54",
         "CCs Original 175g",
         "1",
         "2.1"
        ],
        [
         "16",
         "20418",
         "MIDAGE SINGLES/COUPLES",
         "Budget",
         "2018-08-18 00:00:00",
         "20",
         "17413",
         "94",
         "Burger Rings 220g",
         "4",
         "9.2"
        ],
        [
         "17",
         "22411",
         "MIDAGE SINGLES/COUPLES",
         "Budget",
         "2018-08-14 00:00:00",
         "22",
         "18646",
         "98",
         "NCC Sour Cream &    Garden Chives 175g",
         "1",
         "3.0"
        ],
        [
         "18",
         "22456",
         "MIDAGE SINGLES/COUPLES",
         "Budget",
         "2018-08-17 00:00:00",
         "22",
         "18696",
         "93",
         "Doritos Corn Chip Southern Chicken 150g",
         "1",
         "3.9"
        ],
        [
         "19",
         "23067",
         "MIDAGE SINGLES/COUPLES",
         "Budget",
         "2019-05-16 00:00:00",
         "23",
         "19162",
         "56",
         "Cheezels Cheese Box 125g",
         "1",
         "2.1"
        ],
        [
         "20",
         "25105",
         "MIDAGE SINGLES/COUPLES",
         "Budget",
         "2019-05-19 00:00:00",
         "25",
         "21815",
         "7",
         "Smiths Crinkle      Original 330g",
         "1",
         "5.7"
        ],
        [
         "21",
         "33081",
         "MIDAGE SINGLES/COUPLES",
         "Budget",
         "2018-08-16 00:00:00",
         "33",
         "29949",
         "98",
         "NCC Sour Cream &    Garden Chives 175g",
         "1",
         "3.0"
        ],
        [
         "22",
         "36012",
         "MIDAGE SINGLES/COUPLES",
         "Budget",
         "2018-08-16 00:00:00",
         "36",
         "32077",
         "31",
         "Infzns Crn Crnchers Tangy Gcamole 110g",
         "1",
         "3.8"
        ],
        [
         "23",
         "36302",
         "MIDAGE SINGLES/COUPLES",
         "Budget",
         "2018-08-19 00:00:00",
         "36",
         "33188",
         "32",
         "Kettle Sea Salt     And Vinegar 175g",
         "1",
         "5.4"
        ],
        [
         "24",
         "38142",
         "MIDAGE SINGLES/COUPLES",
         "Budget",
         "2018-08-15 00:00:00",
         "38",
         "34181",
         "108",
         "Kettle Tortilla ChpsHny&Jlpno Chili 150g",
         "2",
         "9.2"
        ],
        [
         "26",
         "39167",
         "MIDAGE SINGLES/COUPLES",
         "Budget",
         "2018-08-19 00:00:00",
         "39",
         "35638",
         "111",
         "Smiths Chip Thinly  Cut Original 175g",
         "2",
         "6.0"
        ],
        [
         "27",
         "41423",
         "MIDAGE SINGLES/COUPLES",
         "Budget",
         "2019-05-15 00:00:00",
         "41",
         "38393",
         "46",
         "Kettle Original 175g",
         "1",
         "5.4"
        ],
        [
         "28",
         "41486",
         "MIDAGE SINGLES/COUPLES",
         "Budget",
         "2018-08-15 00:00:00",
         "41",
         "38472",
         "13",
         "Red Rock Deli Thai  Chilli&Lime 150g",
         "1",
         "2.7"
        ],
        [
         "29",
         "43110",
         "MIDAGE SINGLES/COUPLES",
         "Budget",
         "2019-05-20 00:00:00",
         "43",
         "39342",
         "31",
         "Infzns Crn Crnchers Tangy Gcamole 110g",
         "1",
         "3.8"
        ],
        [
         "30",
         "43147",
         "MIDAGE SINGLES/COUPLES",
         "Budget",
         "2019-05-16 00:00:00",
         "43",
         "39608",
         "99",
         "Pringles Sthrn FriedChicken 134g",
         "1",
         "3.7"
        ],
        [
         "31",
         "43227",
         "MIDAGE SINGLES/COUPLES",
         "Budget",
         "2019-05-15 00:00:00",
         "43",
         "40186",
         "26",
         "Pringles Sweet&Spcy BBQ 134g",
         "4",
         "14.8"
        ],
        [
         "33",
         "45220",
         "MIDAGE SINGLES/COUPLES",
         "Budget",
         "2019-05-18 00:00:00",
         "45",
         "41651",
         "22",
         "Thins Chips         Originl saltd 175g",
         "1",
         "3.3"
        ],
        [
         "34",
         "51100",
         "MIDAGE SINGLES/COUPLES",
         "Budget",
         "2018-08-16 00:00:00",
         "51",
         "46802",
         "48",
         "Red Rock Deli Sp    Salt & Truffle 150G",
         "1",
         "2.7"
        ],
        [
         "35",
         "51100",
         "MIDAGE SINGLES/COUPLES",
         "Budget",
         "2018-08-19 00:00:00",
         "51",
         "46803",
         "37",
         "Smiths Thinly       Swt Chli&S/Cream175G",
         "1",
         "3.0"
        ],
        [
         "36",
         "51113",
         "MIDAGE SINGLES/COUPLES",
         "Budget",
         "2018-08-18 00:00:00",
         "51",
         "46828",
         "36",
         "Kettle Chilli 175g",
         "1",
         "5.4"
        ],
        [
         "37",
         "54226",
         "MIDAGE SINGLES/COUPLES",
         "Budget",
         "2018-08-17 00:00:00",
         "54",
         "48173",
         "51",
         "Doritos Mexicana    170g",
         "1",
         "4.4"
        ],
        [
         "38",
         "54305",
         "MIDAGE SINGLES/COUPLES",
         "Budget",
         "2018-08-18 00:00:00",
         "54",
         "48301",
         "44",
         "Thins Chips Light&  Tangy 175g",
         "2",
         "6.6"
        ],
        [
         "39",
         "55072",
         "MIDAGE SINGLES/COUPLES",
         "Budget",
         "2018-08-18 00:00:00",
         "55",
         "48878",
         "107",
         "Smiths Crinkle Cut  French OnionDip 150g",
         "1",
         "2.6"
        ],
        [
         "40",
         "55072",
         "MIDAGE SINGLES/COUPLES",
         "Budget",
         "2019-05-14 00:00:00",
         "55",
         "48883",
         "106",
         "Natural ChipCo      Hony Soy Chckn175g",
         "1",
         "3.0"
        ],
        [
         "41",
         "55073",
         "MIDAGE SINGLES/COUPLES",
         "Budget",
         "2019-05-20 00:00:00",
         "55",
         "48887",
         "4",
         "Dorito Corn Chp     Supreme 380g",
         "1",
         "3.25"
        ],
        [
         "42",
         "55073",
         "MIDAGE SINGLES/COUPLES",
         "Budget",
         "2019-05-20 00:00:00",
         "55",
         "48887",
         "113",
         "Twisties Chicken270g",
         "1",
         "4.6"
        ],
        [
         "43",
         "55202",
         "MIDAGE SINGLES/COUPLES",
         "Budget",
         "2019-05-16 00:00:00",
         "55",
         "49690",
         "45",
         "Smiths Thinly Cut   Roast Chicken 175g",
         "1",
         "3.0"
        ],
        [
         "45",
         "58324",
         "MIDAGE SINGLES/COUPLES",
         "Budget",
         "2019-05-16 00:00:00",
         "58",
         "54252",
         "102",
         "Kettle Mozzarella   Basil & Pesto 175g",
         "1",
         "5.4"
        ],
        [
         "46",
         "59344",
         "MIDAGE SINGLES/COUPLES",
         "Budget",
         "2019-05-16 00:00:00",
         "59",
         "56007",
         "31",
         "Infzns Crn Crnchers Tangy Gcamole 110g",
         "1",
         "3.8"
        ],
        [
         "47",
         "60038",
         "MIDAGE SINGLES/COUPLES",
         "Budget",
         "2018-08-16 00:00:00",
         "60",
         "56304",
         "104",
         "Infuzions Thai SweetChili PotatoMix 110g",
         "1",
         "3.8"
        ],
        [
         "48",
         "60162",
         "MIDAGE SINGLES/COUPLES",
         "Budget",
         "2019-05-15 00:00:00",
         "60",
         "56825",
         "7",
         "Smiths Crinkle      Original 330g",
         "1",
         "5.7"
        ],
        [
         "49",
         "62177",
         "MIDAGE SINGLES/COUPLES",
         "Budget",
         "2019-05-14 00:00:00",
         "62",
         "58848",
         "3",
         "Kettle Sensations   Camembert & Fig 150g",
         "1",
         "4.6"
        ],
        [
         "50",
         "63201",
         "MIDAGE SINGLES/COUPLES",
         "Budget",
         "2019-05-20 00:00:00",
         "63",
         "60709",
         "82",
         "Smith Crinkle Cut   Mac N Cheese 150g",
         "1",
         "2.6"
        ],
        [
         "51",
         "67053",
         "MIDAGE SINGLES/COUPLES",
         "Budget",
         "2018-08-20 00:00:00",
         "67",
         "64137",
         "88",
         "Kettle Honey Soy    Chicken 175g",
         "1",
         "5.4"
        ],
        [
         "52",
         "71122",
         "MIDAGE SINGLES/COUPLES",
         "Budget",
         "2019-05-20 00:00:00",
         "71",
         "69717",
         "40",
         "Thins Chips Seasonedchicken 175g",
         "1",
         "3.3"
        ],
        [
         "53",
         "71212",
         "MIDAGE SINGLES/COUPLES",
         "Budget",
         "2019-05-19 00:00:00",
         "71",
         "70337",
         "73",
         "Smiths Crinkle Cut  Salt & Vinegar 170g",
         "2",
         "5.8"
        ]
       ],
       "shape": {
        "columns": 10,
        "rows": 246742
       }
      },
      "text/html": [
       "<div>\n",
       "<style scoped>\n",
       "    .dataframe tbody tr th:only-of-type {\n",
       "        vertical-align: middle;\n",
       "    }\n",
       "\n",
       "    .dataframe tbody tr th {\n",
       "        vertical-align: top;\n",
       "    }\n",
       "\n",
       "    .dataframe thead th {\n",
       "        text-align: right;\n",
       "    }\n",
       "</style>\n",
       "<table border=\"1\" class=\"dataframe\">\n",
       "  <thead>\n",
       "    <tr style=\"text-align: right;\">\n",
       "      <th></th>\n",
       "      <th>LYLTY_CARD_NBR</th>\n",
       "      <th>LIFESTAGE</th>\n",
       "      <th>PREMIUM_CUSTOMER</th>\n",
       "      <th>DATE</th>\n",
       "      <th>STORE_NBR</th>\n",
       "      <th>TXN_ID</th>\n",
       "      <th>PROD_NBR</th>\n",
       "      <th>PROD_NAME</th>\n",
       "      <th>PROD_QTY</th>\n",
       "      <th>TOT_SALES</th>\n",
       "    </tr>\n",
       "  </thead>\n",
       "  <tbody>\n",
       "    <tr>\n",
       "      <th>0</th>\n",
       "      <td>1000</td>\n",
       "      <td>YOUNG SINGLES/COUPLES</td>\n",
       "      <td>Premium</td>\n",
       "      <td>2018-10-17</td>\n",
       "      <td>1</td>\n",
       "      <td>1</td>\n",
       "      <td>5</td>\n",
       "      <td>Natural Chip        Compny SeaSalt175g</td>\n",
       "      <td>2</td>\n",
       "      <td>6.0</td>\n",
       "    </tr>\n",
       "    <tr>\n",
       "      <th>1</th>\n",
       "      <td>1307</td>\n",
       "      <td>MIDAGE SINGLES/COUPLES</td>\n",
       "      <td>Budget</td>\n",
       "      <td>2019-05-14</td>\n",
       "      <td>1</td>\n",
       "      <td>348</td>\n",
       "      <td>66</td>\n",
       "      <td>CCs Nacho Cheese    175g</td>\n",
       "      <td>3</td>\n",
       "      <td>6.3</td>\n",
       "    </tr>\n",
       "    <tr>\n",
       "      <th>2</th>\n",
       "      <td>1343</td>\n",
       "      <td>MIDAGE SINGLES/COUPLES</td>\n",
       "      <td>Budget</td>\n",
       "      <td>2019-05-20</td>\n",
       "      <td>1</td>\n",
       "      <td>383</td>\n",
       "      <td>61</td>\n",
       "      <td>Smiths Crinkle Cut  Chips Chicken 170g</td>\n",
       "      <td>2</td>\n",
       "      <td>2.9</td>\n",
       "    </tr>\n",
       "    <tr>\n",
       "      <th>3</th>\n",
       "      <td>2373</td>\n",
       "      <td>MIDAGE SINGLES/COUPLES</td>\n",
       "      <td>Budget</td>\n",
       "      <td>2018-08-17</td>\n",
       "      <td>2</td>\n",
       "      <td>974</td>\n",
       "      <td>69</td>\n",
       "      <td>Smiths Chip Thinly  S/Cream&amp;Onion 175g</td>\n",
       "      <td>5</td>\n",
       "      <td>15.0</td>\n",
       "    </tr>\n",
       "    <tr>\n",
       "      <th>4</th>\n",
       "      <td>2426</td>\n",
       "      <td>MIDAGE SINGLES/COUPLES</td>\n",
       "      <td>Budget</td>\n",
       "      <td>2018-08-18</td>\n",
       "      <td>2</td>\n",
       "      <td>1038</td>\n",
       "      <td>108</td>\n",
       "      <td>Kettle Tortilla ChpsHny&amp;Jlpno Chili 150g</td>\n",
       "      <td>3</td>\n",
       "      <td>13.8</td>\n",
       "    </tr>\n",
       "    <tr>\n",
       "      <th>...</th>\n",
       "      <td>...</td>\n",
       "      <td>...</td>\n",
       "      <td>...</td>\n",
       "      <td>...</td>\n",
       "      <td>...</td>\n",
       "      <td>...</td>\n",
       "      <td>...</td>\n",
       "      <td>...</td>\n",
       "      <td>...</td>\n",
       "      <td>...</td>\n",
       "    </tr>\n",
       "    <tr>\n",
       "      <th>264831</th>\n",
       "      <td>272319</td>\n",
       "      <td>YOUNG SINGLES/COUPLES</td>\n",
       "      <td>Premium</td>\n",
       "      <td>2019-03-09</td>\n",
       "      <td>272</td>\n",
       "      <td>270088</td>\n",
       "      <td>89</td>\n",
       "      <td>Kettle Sweet Chilli And Sour Cream 175g</td>\n",
       "      <td>2</td>\n",
       "      <td>10.8</td>\n",
       "    </tr>\n",
       "    <tr>\n",
       "      <th>264832</th>\n",
       "      <td>272358</td>\n",
       "      <td>YOUNG SINGLES/COUPLES</td>\n",
       "      <td>Premium</td>\n",
       "      <td>2018-08-13</td>\n",
       "      <td>272</td>\n",
       "      <td>270154</td>\n",
       "      <td>74</td>\n",
       "      <td>Tostitos Splash Of  Lime 175g</td>\n",
       "      <td>1</td>\n",
       "      <td>4.4</td>\n",
       "    </tr>\n",
       "    <tr>\n",
       "      <th>264833</th>\n",
       "      <td>272379</td>\n",
       "      <td>YOUNG SINGLES/COUPLES</td>\n",
       "      <td>Premium</td>\n",
       "      <td>2018-11-06</td>\n",
       "      <td>272</td>\n",
       "      <td>270187</td>\n",
       "      <td>51</td>\n",
       "      <td>Doritos Mexicana    170g</td>\n",
       "      <td>2</td>\n",
       "      <td>8.8</td>\n",
       "    </tr>\n",
       "    <tr>\n",
       "      <th>264834</th>\n",
       "      <td>272379</td>\n",
       "      <td>YOUNG SINGLES/COUPLES</td>\n",
       "      <td>Premium</td>\n",
       "      <td>2018-12-27</td>\n",
       "      <td>272</td>\n",
       "      <td>270188</td>\n",
       "      <td>42</td>\n",
       "      <td>Doritos Corn Chip Mexican Jalapeno 150g</td>\n",
       "      <td>2</td>\n",
       "      <td>7.8</td>\n",
       "    </tr>\n",
       "    <tr>\n",
       "      <th>264835</th>\n",
       "      <td>272380</td>\n",
       "      <td>YOUNG SINGLES/COUPLES</td>\n",
       "      <td>Premium</td>\n",
       "      <td>2018-09-22</td>\n",
       "      <td>272</td>\n",
       "      <td>270189</td>\n",
       "      <td>74</td>\n",
       "      <td>Tostitos Splash Of  Lime 175g</td>\n",
       "      <td>2</td>\n",
       "      <td>8.8</td>\n",
       "    </tr>\n",
       "  </tbody>\n",
       "</table>\n",
       "<p>246742 rows × 10 columns</p>\n",
       "</div>"
      ],
      "text/plain": [
       "        LYLTY_CARD_NBR               LIFESTAGE PREMIUM_CUSTOMER       DATE  \\\n",
       "0                 1000   YOUNG SINGLES/COUPLES          Premium 2018-10-17   \n",
       "1                 1307  MIDAGE SINGLES/COUPLES           Budget 2019-05-14   \n",
       "2                 1343  MIDAGE SINGLES/COUPLES           Budget 2019-05-20   \n",
       "3                 2373  MIDAGE SINGLES/COUPLES           Budget 2018-08-17   \n",
       "4                 2426  MIDAGE SINGLES/COUPLES           Budget 2018-08-18   \n",
       "...                ...                     ...              ...        ...   \n",
       "264831          272319   YOUNG SINGLES/COUPLES          Premium 2019-03-09   \n",
       "264832          272358   YOUNG SINGLES/COUPLES          Premium 2018-08-13   \n",
       "264833          272379   YOUNG SINGLES/COUPLES          Premium 2018-11-06   \n",
       "264834          272379   YOUNG SINGLES/COUPLES          Premium 2018-12-27   \n",
       "264835          272380   YOUNG SINGLES/COUPLES          Premium 2018-09-22   \n",
       "\n",
       "        STORE_NBR  TXN_ID  PROD_NBR                                 PROD_NAME  \\\n",
       "0               1       1         5    Natural Chip        Compny SeaSalt175g   \n",
       "1               1     348        66                  CCs Nacho Cheese    175g   \n",
       "2               1     383        61    Smiths Crinkle Cut  Chips Chicken 170g   \n",
       "3               2     974        69    Smiths Chip Thinly  S/Cream&Onion 175g   \n",
       "4               2    1038       108  Kettle Tortilla ChpsHny&Jlpno Chili 150g   \n",
       "...           ...     ...       ...                                       ...   \n",
       "264831        272  270088        89   Kettle Sweet Chilli And Sour Cream 175g   \n",
       "264832        272  270154        74             Tostitos Splash Of  Lime 175g   \n",
       "264833        272  270187        51                  Doritos Mexicana    170g   \n",
       "264834        272  270188        42   Doritos Corn Chip Mexican Jalapeno 150g   \n",
       "264835        272  270189        74             Tostitos Splash Of  Lime 175g   \n",
       "\n",
       "        PROD_QTY  TOT_SALES  \n",
       "0              2        6.0  \n",
       "1              3        6.3  \n",
       "2              2        2.9  \n",
       "3              5       15.0  \n",
       "4              3       13.8  \n",
       "...          ...        ...  \n",
       "264831         2       10.8  \n",
       "264832         1        4.4  \n",
       "264833         2        8.8  \n",
       "264834         2        7.8  \n",
       "264835         2        8.8  \n",
       "\n",
       "[246742 rows x 10 columns]"
      ]
     },
     "execution_count": 56,
     "metadata": {},
     "output_type": "execute_result"
    }
   ],
   "source": [
    "merged_df = merged_df[~merged_df['PROD_NAME'].str.contains('salsa', case=False, na=False)]\n",
    "merged_df"
   ]
  },
  {
   "cell_type": "code",
   "execution_count": 31,
   "metadata": {},
   "outputs": [
    {
     "data": {
      "application/vnd.microsoft.datawrangler.viewer.v0+json": {
       "columns": [
        {
         "name": "index",
         "rawType": "object",
         "type": "string"
        },
        {
         "name": "LYLTY_CARD_NBR",
         "rawType": "float64",
         "type": "float"
        },
        {
         "name": "DATE",
         "rawType": "object",
         "type": "unknown"
        },
        {
         "name": "STORE_NBR",
         "rawType": "float64",
         "type": "float"
        },
        {
         "name": "TXN_ID",
         "rawType": "float64",
         "type": "float"
        },
        {
         "name": "PROD_NBR",
         "rawType": "float64",
         "type": "float"
        },
        {
         "name": "PROD_QTY",
         "rawType": "float64",
         "type": "float"
        },
        {
         "name": "TOT_SALES",
         "rawType": "float64",
         "type": "float"
        }
       ],
       "conversionMethod": "pd.DataFrame",
       "ref": "5668e31f-4cad-422e-9634-d90b78ab469f",
       "rows": [
        [
         "count",
         "246741.0",
         "246741",
         "246741.0",
         "246741.0",
         "246741.0",
         "246741.0",
         "246741.0"
        ],
        [
         "mean",
         "135531.10048998747",
         "1970-01-01 00:00:00.000043464",
         "135.05121159434387",
         "135131.20693358622",
         "56.35183451473407",
         "1.9080614895781407",
         "7.321327626944851"
        ],
        [
         "min",
         "1000.0",
         "1970-01-01 00:00:00.000043282",
         "1.0",
         "1.0",
         "1.0",
         "1.0",
         "1.7"
        ],
        [
         "25%",
         "70015.0",
         "1970-01-01 00:00:00.000043373",
         "70.0",
         "67569.0",
         "26.0",
         "2.0",
         "5.8"
        ],
        [
         "50%",
         "130367.0",
         "1970-01-01 00:00:00.000043464",
         "130.0",
         "135184.0",
         "53.0",
         "2.0",
         "7.4"
        ],
        [
         "75%",
         "203084.0",
         "1970-01-01 00:00:00.000043555",
         "203.0",
         "202654.0",
         "87.0",
         "2.0",
         "8.8"
        ],
        [
         "max",
         "2373711.0",
         "1970-01-01 00:00:00.000043646",
         "272.0",
         "2415841.0",
         "114.0",
         "200.0",
         "650.0"
        ],
        [
         "std",
         "80715.42392629235",
         null,
         "76.78723080898345",
         "78147.85760922878",
         "33.69548816385239",
         "0.6598324329951485",
         "3.0778329828849618"
        ]
       ],
       "shape": {
        "columns": 7,
        "rows": 8
       }
      },
      "text/html": [
       "<div>\n",
       "<style scoped>\n",
       "    .dataframe tbody tr th:only-of-type {\n",
       "        vertical-align: middle;\n",
       "    }\n",
       "\n",
       "    .dataframe tbody tr th {\n",
       "        vertical-align: top;\n",
       "    }\n",
       "\n",
       "    .dataframe thead th {\n",
       "        text-align: right;\n",
       "    }\n",
       "</style>\n",
       "<table border=\"1\" class=\"dataframe\">\n",
       "  <thead>\n",
       "    <tr style=\"text-align: right;\">\n",
       "      <th></th>\n",
       "      <th>LYLTY_CARD_NBR</th>\n",
       "      <th>DATE</th>\n",
       "      <th>STORE_NBR</th>\n",
       "      <th>TXN_ID</th>\n",
       "      <th>PROD_NBR</th>\n",
       "      <th>PROD_QTY</th>\n",
       "      <th>TOT_SALES</th>\n",
       "    </tr>\n",
       "  </thead>\n",
       "  <tbody>\n",
       "    <tr>\n",
       "      <th>count</th>\n",
       "      <td>2.467410e+05</td>\n",
       "      <td>246741</td>\n",
       "      <td>246741.000000</td>\n",
       "      <td>2.467410e+05</td>\n",
       "      <td>246741.000000</td>\n",
       "      <td>246741.000000</td>\n",
       "      <td>246741.000000</td>\n",
       "    </tr>\n",
       "    <tr>\n",
       "      <th>mean</th>\n",
       "      <td>1.355311e+05</td>\n",
       "      <td>1970-01-01 00:00:00.000043464</td>\n",
       "      <td>135.051212</td>\n",
       "      <td>1.351312e+05</td>\n",
       "      <td>56.351835</td>\n",
       "      <td>1.908061</td>\n",
       "      <td>7.321328</td>\n",
       "    </tr>\n",
       "    <tr>\n",
       "      <th>min</th>\n",
       "      <td>1.000000e+03</td>\n",
       "      <td>1970-01-01 00:00:00.000043282</td>\n",
       "      <td>1.000000</td>\n",
       "      <td>1.000000e+00</td>\n",
       "      <td>1.000000</td>\n",
       "      <td>1.000000</td>\n",
       "      <td>1.700000</td>\n",
       "    </tr>\n",
       "    <tr>\n",
       "      <th>25%</th>\n",
       "      <td>7.001500e+04</td>\n",
       "      <td>1970-01-01 00:00:00.000043373</td>\n",
       "      <td>70.000000</td>\n",
       "      <td>6.756900e+04</td>\n",
       "      <td>26.000000</td>\n",
       "      <td>2.000000</td>\n",
       "      <td>5.800000</td>\n",
       "    </tr>\n",
       "    <tr>\n",
       "      <th>50%</th>\n",
       "      <td>1.303670e+05</td>\n",
       "      <td>1970-01-01 00:00:00.000043464</td>\n",
       "      <td>130.000000</td>\n",
       "      <td>1.351840e+05</td>\n",
       "      <td>53.000000</td>\n",
       "      <td>2.000000</td>\n",
       "      <td>7.400000</td>\n",
       "    </tr>\n",
       "    <tr>\n",
       "      <th>75%</th>\n",
       "      <td>2.030840e+05</td>\n",
       "      <td>1970-01-01 00:00:00.000043555</td>\n",
       "      <td>203.000000</td>\n",
       "      <td>2.026540e+05</td>\n",
       "      <td>87.000000</td>\n",
       "      <td>2.000000</td>\n",
       "      <td>8.800000</td>\n",
       "    </tr>\n",
       "    <tr>\n",
       "      <th>max</th>\n",
       "      <td>2.373711e+06</td>\n",
       "      <td>1970-01-01 00:00:00.000043646</td>\n",
       "      <td>272.000000</td>\n",
       "      <td>2.415841e+06</td>\n",
       "      <td>114.000000</td>\n",
       "      <td>200.000000</td>\n",
       "      <td>650.000000</td>\n",
       "    </tr>\n",
       "    <tr>\n",
       "      <th>std</th>\n",
       "      <td>8.071542e+04</td>\n",
       "      <td>NaN</td>\n",
       "      <td>76.787231</td>\n",
       "      <td>7.814786e+04</td>\n",
       "      <td>33.695488</td>\n",
       "      <td>0.659832</td>\n",
       "      <td>3.077833</td>\n",
       "    </tr>\n",
       "  </tbody>\n",
       "</table>\n",
       "</div>"
      ],
      "text/plain": [
       "       LYLTY_CARD_NBR                           DATE      STORE_NBR  \\\n",
       "count    2.467410e+05                         246741  246741.000000   \n",
       "mean     1.355311e+05  1970-01-01 00:00:00.000043464     135.051212   \n",
       "min      1.000000e+03  1970-01-01 00:00:00.000043282       1.000000   \n",
       "25%      7.001500e+04  1970-01-01 00:00:00.000043373      70.000000   \n",
       "50%      1.303670e+05  1970-01-01 00:00:00.000043464     130.000000   \n",
       "75%      2.030840e+05  1970-01-01 00:00:00.000043555     203.000000   \n",
       "max      2.373711e+06  1970-01-01 00:00:00.000043646     272.000000   \n",
       "std      8.071542e+04                            NaN      76.787231   \n",
       "\n",
       "             TXN_ID       PROD_NBR       PROD_QTY      TOT_SALES  \n",
       "count  2.467410e+05  246741.000000  246741.000000  246741.000000  \n",
       "mean   1.351312e+05      56.351835       1.908061       7.321328  \n",
       "min    1.000000e+00       1.000000       1.000000       1.700000  \n",
       "25%    6.756900e+04      26.000000       2.000000       5.800000  \n",
       "50%    1.351840e+05      53.000000       2.000000       7.400000  \n",
       "75%    2.026540e+05      87.000000       2.000000       8.800000  \n",
       "max    2.415841e+06     114.000000     200.000000     650.000000  \n",
       "std    7.814786e+04      33.695488       0.659832       3.077833  "
      ]
     },
     "execution_count": 31,
     "metadata": {},
     "output_type": "execute_result"
    }
   ],
   "source": [
    "merged_df.describe()"
   ]
  },
  {
   "cell_type": "code",
   "execution_count": 57,
   "metadata": {},
   "outputs": [
    {
     "data": {
      "application/vnd.microsoft.datawrangler.viewer.v0+json": {
       "columns": [
        {
         "name": "index",
         "rawType": "int64",
         "type": "integer"
        },
        {
         "name": "LYLTY_CARD_NBR",
         "rawType": "int64",
         "type": "integer"
        },
        {
         "name": "LIFESTAGE",
         "rawType": "object",
         "type": "string"
        },
        {
         "name": "PREMIUM_CUSTOMER",
         "rawType": "object",
         "type": "string"
        },
        {
         "name": "DATE",
         "rawType": "datetime64[ns]",
         "type": "datetime"
        },
        {
         "name": "STORE_NBR",
         "rawType": "int64",
         "type": "integer"
        },
        {
         "name": "TXN_ID",
         "rawType": "int64",
         "type": "integer"
        },
        {
         "name": "PROD_NBR",
         "rawType": "int64",
         "type": "integer"
        },
        {
         "name": "PROD_NAME",
         "rawType": "object",
         "type": "string"
        },
        {
         "name": "PROD_QTY",
         "rawType": "int64",
         "type": "integer"
        },
        {
         "name": "TOT_SALES",
         "rawType": "float64",
         "type": "float"
        }
       ],
       "conversionMethod": "pd.DataFrame",
       "ref": "733f42ff-97a6-435f-b941-ffc9f21c1fb3",
       "rows": [
        [
         "69763",
         "226000",
         "OLDER FAMILIES",
         "Premium",
         "2019-05-20 00:00:00",
         "226",
         "226210",
         "4",
         "Dorito Corn Chp     Supreme 380g",
         "200",
         "650.0"
        ],
        [
         "69762",
         "226000",
         "OLDER FAMILIES",
         "Premium",
         "2018-08-19 00:00:00",
         "226",
         "226201",
         "4",
         "Dorito Corn Chp     Supreme 380g",
         "200",
         "650.0"
        ],
        [
         "135225",
         "46296",
         "RETIREES",
         "Budget",
         "2019-05-15 00:00:00",
         "46",
         "42138",
         "81",
         "Pringles Original   Crisps 134g",
         "5",
         "18.5"
        ],
        [
         "69523",
         "71142",
         "OLDER FAMILIES",
         "Premium",
         "2019-05-15 00:00:00",
         "71",
         "69852",
         "96",
         "WW Original Stacked Chips 160g",
         "5",
         "9.5"
        ],
        [
         "69502",
         "55144",
         "OLDER FAMILIES",
         "Premium",
         "2018-08-18 00:00:00",
         "55",
         "49328",
         "44",
         "Thins Chips Light&  Tangy 175g",
         "5",
         "16.5"
        ]
       ],
       "shape": {
        "columns": 10,
        "rows": 5
       }
      },
      "text/html": [
       "<div>\n",
       "<style scoped>\n",
       "    .dataframe tbody tr th:only-of-type {\n",
       "        vertical-align: middle;\n",
       "    }\n",
       "\n",
       "    .dataframe tbody tr th {\n",
       "        vertical-align: top;\n",
       "    }\n",
       "\n",
       "    .dataframe thead th {\n",
       "        text-align: right;\n",
       "    }\n",
       "</style>\n",
       "<table border=\"1\" class=\"dataframe\">\n",
       "  <thead>\n",
       "    <tr style=\"text-align: right;\">\n",
       "      <th></th>\n",
       "      <th>LYLTY_CARD_NBR</th>\n",
       "      <th>LIFESTAGE</th>\n",
       "      <th>PREMIUM_CUSTOMER</th>\n",
       "      <th>DATE</th>\n",
       "      <th>STORE_NBR</th>\n",
       "      <th>TXN_ID</th>\n",
       "      <th>PROD_NBR</th>\n",
       "      <th>PROD_NAME</th>\n",
       "      <th>PROD_QTY</th>\n",
       "      <th>TOT_SALES</th>\n",
       "    </tr>\n",
       "  </thead>\n",
       "  <tbody>\n",
       "    <tr>\n",
       "      <th>69763</th>\n",
       "      <td>226000</td>\n",
       "      <td>OLDER FAMILIES</td>\n",
       "      <td>Premium</td>\n",
       "      <td>2019-05-20</td>\n",
       "      <td>226</td>\n",
       "      <td>226210</td>\n",
       "      <td>4</td>\n",
       "      <td>Dorito Corn Chp     Supreme 380g</td>\n",
       "      <td>200</td>\n",
       "      <td>650.0</td>\n",
       "    </tr>\n",
       "    <tr>\n",
       "      <th>69762</th>\n",
       "      <td>226000</td>\n",
       "      <td>OLDER FAMILIES</td>\n",
       "      <td>Premium</td>\n",
       "      <td>2018-08-19</td>\n",
       "      <td>226</td>\n",
       "      <td>226201</td>\n",
       "      <td>4</td>\n",
       "      <td>Dorito Corn Chp     Supreme 380g</td>\n",
       "      <td>200</td>\n",
       "      <td>650.0</td>\n",
       "    </tr>\n",
       "    <tr>\n",
       "      <th>135225</th>\n",
       "      <td>46296</td>\n",
       "      <td>RETIREES</td>\n",
       "      <td>Budget</td>\n",
       "      <td>2019-05-15</td>\n",
       "      <td>46</td>\n",
       "      <td>42138</td>\n",
       "      <td>81</td>\n",
       "      <td>Pringles Original   Crisps 134g</td>\n",
       "      <td>5</td>\n",
       "      <td>18.5</td>\n",
       "    </tr>\n",
       "    <tr>\n",
       "      <th>69523</th>\n",
       "      <td>71142</td>\n",
       "      <td>OLDER FAMILIES</td>\n",
       "      <td>Premium</td>\n",
       "      <td>2019-05-15</td>\n",
       "      <td>71</td>\n",
       "      <td>69852</td>\n",
       "      <td>96</td>\n",
       "      <td>WW Original Stacked Chips 160g</td>\n",
       "      <td>5</td>\n",
       "      <td>9.5</td>\n",
       "    </tr>\n",
       "    <tr>\n",
       "      <th>69502</th>\n",
       "      <td>55144</td>\n",
       "      <td>OLDER FAMILIES</td>\n",
       "      <td>Premium</td>\n",
       "      <td>2018-08-18</td>\n",
       "      <td>55</td>\n",
       "      <td>49328</td>\n",
       "      <td>44</td>\n",
       "      <td>Thins Chips Light&amp;  Tangy 175g</td>\n",
       "      <td>5</td>\n",
       "      <td>16.5</td>\n",
       "    </tr>\n",
       "  </tbody>\n",
       "</table>\n",
       "</div>"
      ],
      "text/plain": [
       "        LYLTY_CARD_NBR       LIFESTAGE PREMIUM_CUSTOMER       DATE  STORE_NBR  \\\n",
       "69763           226000  OLDER FAMILIES          Premium 2019-05-20        226   \n",
       "69762           226000  OLDER FAMILIES          Premium 2018-08-19        226   \n",
       "135225           46296        RETIREES           Budget 2019-05-15         46   \n",
       "69523            71142  OLDER FAMILIES          Premium 2019-05-15         71   \n",
       "69502            55144  OLDER FAMILIES          Premium 2018-08-18         55   \n",
       "\n",
       "        TXN_ID  PROD_NBR                         PROD_NAME  PROD_QTY  \\\n",
       "69763   226210         4  Dorito Corn Chp     Supreme 380g       200   \n",
       "69762   226201         4  Dorito Corn Chp     Supreme 380g       200   \n",
       "135225   42138        81   Pringles Original   Crisps 134g         5   \n",
       "69523    69852        96    WW Original Stacked Chips 160g         5   \n",
       "69502    49328        44    Thins Chips Light&  Tangy 175g         5   \n",
       "\n",
       "        TOT_SALES  \n",
       "69763       650.0  \n",
       "69762       650.0  \n",
       "135225       18.5  \n",
       "69523         9.5  \n",
       "69502        16.5  "
      ]
     },
     "execution_count": 57,
     "metadata": {},
     "output_type": "execute_result"
    }
   ],
   "source": [
    "merged_df.sort_values('PROD_QTY', ascending= False).head()"
   ]
  },
  {
   "cell_type": "markdown",
   "metadata": {},
   "source": [
    "Найдены нестандартные данные на покупка за раз 200 упаковок одним и темже покупателем, проверим все его покупки"
   ]
  },
  {
   "cell_type": "code",
   "execution_count": 58,
   "metadata": {},
   "outputs": [
    {
     "data": {
      "application/vnd.microsoft.datawrangler.viewer.v0+json": {
       "columns": [
        {
         "name": "index",
         "rawType": "int64",
         "type": "integer"
        },
        {
         "name": "LYLTY_CARD_NBR",
         "rawType": "int64",
         "type": "integer"
        },
        {
         "name": "LIFESTAGE",
         "rawType": "object",
         "type": "string"
        },
        {
         "name": "PREMIUM_CUSTOMER",
         "rawType": "object",
         "type": "string"
        },
        {
         "name": "DATE",
         "rawType": "datetime64[ns]",
         "type": "datetime"
        },
        {
         "name": "STORE_NBR",
         "rawType": "int64",
         "type": "integer"
        },
        {
         "name": "TXN_ID",
         "rawType": "int64",
         "type": "integer"
        },
        {
         "name": "PROD_NBR",
         "rawType": "int64",
         "type": "integer"
        },
        {
         "name": "PROD_NAME",
         "rawType": "object",
         "type": "string"
        },
        {
         "name": "PROD_QTY",
         "rawType": "int64",
         "type": "integer"
        },
        {
         "name": "TOT_SALES",
         "rawType": "float64",
         "type": "float"
        }
       ],
       "conversionMethod": "pd.DataFrame",
       "ref": "f34e3efc-3124-4249-840a-b18eeabe228e",
       "rows": [
        [
         "69762",
         "226000",
         "OLDER FAMILIES",
         "Premium",
         "2018-08-19 00:00:00",
         "226",
         "226201",
         "4",
         "Dorito Corn Chp     Supreme 380g",
         "200",
         "650.0"
        ],
        [
         "69763",
         "226000",
         "OLDER FAMILIES",
         "Premium",
         "2019-05-20 00:00:00",
         "226",
         "226210",
         "4",
         "Dorito Corn Chp     Supreme 380g",
         "200",
         "650.0"
        ]
       ],
       "shape": {
        "columns": 10,
        "rows": 2
       }
      },
      "text/html": [
       "<div>\n",
       "<style scoped>\n",
       "    .dataframe tbody tr th:only-of-type {\n",
       "        vertical-align: middle;\n",
       "    }\n",
       "\n",
       "    .dataframe tbody tr th {\n",
       "        vertical-align: top;\n",
       "    }\n",
       "\n",
       "    .dataframe thead th {\n",
       "        text-align: right;\n",
       "    }\n",
       "</style>\n",
       "<table border=\"1\" class=\"dataframe\">\n",
       "  <thead>\n",
       "    <tr style=\"text-align: right;\">\n",
       "      <th></th>\n",
       "      <th>LYLTY_CARD_NBR</th>\n",
       "      <th>LIFESTAGE</th>\n",
       "      <th>PREMIUM_CUSTOMER</th>\n",
       "      <th>DATE</th>\n",
       "      <th>STORE_NBR</th>\n",
       "      <th>TXN_ID</th>\n",
       "      <th>PROD_NBR</th>\n",
       "      <th>PROD_NAME</th>\n",
       "      <th>PROD_QTY</th>\n",
       "      <th>TOT_SALES</th>\n",
       "    </tr>\n",
       "  </thead>\n",
       "  <tbody>\n",
       "    <tr>\n",
       "      <th>69762</th>\n",
       "      <td>226000</td>\n",
       "      <td>OLDER FAMILIES</td>\n",
       "      <td>Premium</td>\n",
       "      <td>2018-08-19</td>\n",
       "      <td>226</td>\n",
       "      <td>226201</td>\n",
       "      <td>4</td>\n",
       "      <td>Dorito Corn Chp     Supreme 380g</td>\n",
       "      <td>200</td>\n",
       "      <td>650.0</td>\n",
       "    </tr>\n",
       "    <tr>\n",
       "      <th>69763</th>\n",
       "      <td>226000</td>\n",
       "      <td>OLDER FAMILIES</td>\n",
       "      <td>Premium</td>\n",
       "      <td>2019-05-20</td>\n",
       "      <td>226</td>\n",
       "      <td>226210</td>\n",
       "      <td>4</td>\n",
       "      <td>Dorito Corn Chp     Supreme 380g</td>\n",
       "      <td>200</td>\n",
       "      <td>650.0</td>\n",
       "    </tr>\n",
       "  </tbody>\n",
       "</table>\n",
       "</div>"
      ],
      "text/plain": [
       "       LYLTY_CARD_NBR       LIFESTAGE PREMIUM_CUSTOMER       DATE  STORE_NBR  \\\n",
       "69762          226000  OLDER FAMILIES          Premium 2018-08-19        226   \n",
       "69763          226000  OLDER FAMILIES          Premium 2019-05-20        226   \n",
       "\n",
       "       TXN_ID  PROD_NBR                         PROD_NAME  PROD_QTY  TOT_SALES  \n",
       "69762  226201         4  Dorito Corn Chp     Supreme 380g       200      650.0  \n",
       "69763  226210         4  Dorito Corn Chp     Supreme 380g       200      650.0  "
      ]
     },
     "execution_count": 58,
     "metadata": {},
     "output_type": "execute_result"
    }
   ],
   "source": [
    "merged_df.loc[merged_df['LYLTY_CARD_NBR'] == 226000]"
   ]
  },
  {
   "cell_type": "code",
   "execution_count": 59,
   "metadata": {},
   "outputs": [
    {
     "data": {
      "application/vnd.microsoft.datawrangler.viewer.v0+json": {
       "columns": [
        {
         "name": "index",
         "rawType": "int64",
         "type": "integer"
        },
        {
         "name": "LYLTY_CARD_NBR",
         "rawType": "int64",
         "type": "integer"
        },
        {
         "name": "LIFESTAGE",
         "rawType": "object",
         "type": "string"
        },
        {
         "name": "PREMIUM_CUSTOMER",
         "rawType": "object",
         "type": "string"
        },
        {
         "name": "DATE",
         "rawType": "datetime64[ns]",
         "type": "datetime"
        },
        {
         "name": "STORE_NBR",
         "rawType": "int64",
         "type": "integer"
        },
        {
         "name": "TXN_ID",
         "rawType": "int64",
         "type": "integer"
        },
        {
         "name": "PROD_NBR",
         "rawType": "int64",
         "type": "integer"
        },
        {
         "name": "PROD_NAME",
         "rawType": "object",
         "type": "string"
        },
        {
         "name": "PROD_QTY",
         "rawType": "int64",
         "type": "integer"
        },
        {
         "name": "TOT_SALES",
         "rawType": "float64",
         "type": "float"
        }
       ],
       "conversionMethod": "pd.DataFrame",
       "ref": "7452a4ad-f23b-4602-a77b-1d8a5ac77be3",
       "rows": [
        [
         "0",
         "1000",
         "YOUNG SINGLES/COUPLES",
         "Premium",
         "2018-10-17 00:00:00",
         "1",
         "1",
         "5",
         "Natural Chip        Compny SeaSalt175g",
         "2",
         "6.0"
        ],
        [
         "1",
         "1307",
         "MIDAGE SINGLES/COUPLES",
         "Budget",
         "2019-05-14 00:00:00",
         "1",
         "348",
         "66",
         "CCs Nacho Cheese    175g",
         "3",
         "6.3"
        ],
        [
         "2",
         "1343",
         "MIDAGE SINGLES/COUPLES",
         "Budget",
         "2019-05-20 00:00:00",
         "1",
         "383",
         "61",
         "Smiths Crinkle Cut  Chips Chicken 170g",
         "2",
         "2.9"
        ],
        [
         "3",
         "2373",
         "MIDAGE SINGLES/COUPLES",
         "Budget",
         "2018-08-17 00:00:00",
         "2",
         "974",
         "69",
         "Smiths Chip Thinly  S/Cream&Onion 175g",
         "5",
         "15.0"
        ],
        [
         "4",
         "2426",
         "MIDAGE SINGLES/COUPLES",
         "Budget",
         "2018-08-18 00:00:00",
         "2",
         "1038",
         "108",
         "Kettle Tortilla ChpsHny&Jlpno Chili 150g",
         "3",
         "13.8"
        ],
        [
         "6",
         "4149",
         "MIDAGE SINGLES/COUPLES",
         "Budget",
         "2019-05-16 00:00:00",
         "4",
         "3333",
         "16",
         "Smiths Crinkle Chips Salt & Vinegar 330g",
         "1",
         "5.7"
        ],
        [
         "7",
         "4196",
         "MIDAGE SINGLES/COUPLES",
         "Budget",
         "2019-05-16 00:00:00",
         "4",
         "3539",
         "24",
         "Grain Waves         Sweet Chilli 210g",
         "1",
         "3.6"
        ],
        [
         "8",
         "5026",
         "MIDAGE SINGLES/COUPLES",
         "Budget",
         "2018-08-20 00:00:00",
         "5",
         "4525",
         "42",
         "Doritos Corn Chip Mexican Jalapeno 150g",
         "1",
         "3.9"
        ],
        [
         "9",
         "7150",
         "MIDAGE SINGLES/COUPLES",
         "Budget",
         "2018-08-18 00:00:00",
         "7",
         "6900",
         "52",
         "Grain Waves Sour    Cream&Chives 210G",
         "2",
         "7.2"
        ],
        [
         "10",
         "7215",
         "MIDAGE SINGLES/COUPLES",
         "Budget",
         "2019-05-17 00:00:00",
         "7",
         "7176",
         "16",
         "Smiths Crinkle Chips Salt & Vinegar 330g",
         "1",
         "5.7"
        ],
        [
         "11",
         "8294",
         "MIDAGE SINGLES/COUPLES",
         "Budget",
         "2018-08-20 00:00:00",
         "8",
         "8221",
         "114",
         "Kettle Sensations   Siracha Lime 150g",
         "5",
         "23.0"
        ],
        [
         "12",
         "9208",
         "MIDAGE SINGLES/COUPLES",
         "Budget",
         "2019-05-18 00:00:00",
         "9",
         "8634",
         "15",
         "Twisties Cheese     270g",
         "2",
         "9.2"
        ],
        [
         "13",
         "13213",
         "MIDAGE SINGLES/COUPLES",
         "Budget",
         "2018-08-17 00:00:00",
         "13",
         "12447",
         "92",
         "WW Crinkle Cut      Chicken 175g",
         "1",
         "1.7"
        ],
        [
         "14",
         "19272",
         "MIDAGE SINGLES/COUPLES",
         "Budget",
         "2019-05-15 00:00:00",
         "19",
         "16686",
         "44",
         "Thins Chips Light&  Tangy 175g",
         "1",
         "3.3"
        ],
        [
         "15",
         "20164",
         "MIDAGE SINGLES/COUPLES",
         "Budget",
         "2019-05-19 00:00:00",
         "20",
         "17136",
         "54",
         "CCs Original 175g",
         "1",
         "2.1"
        ],
        [
         "16",
         "20418",
         "MIDAGE SINGLES/COUPLES",
         "Budget",
         "2018-08-18 00:00:00",
         "20",
         "17413",
         "94",
         "Burger Rings 220g",
         "4",
         "9.2"
        ],
        [
         "17",
         "22411",
         "MIDAGE SINGLES/COUPLES",
         "Budget",
         "2018-08-14 00:00:00",
         "22",
         "18646",
         "98",
         "NCC Sour Cream &    Garden Chives 175g",
         "1",
         "3.0"
        ],
        [
         "18",
         "22456",
         "MIDAGE SINGLES/COUPLES",
         "Budget",
         "2018-08-17 00:00:00",
         "22",
         "18696",
         "93",
         "Doritos Corn Chip Southern Chicken 150g",
         "1",
         "3.9"
        ],
        [
         "19",
         "23067",
         "MIDAGE SINGLES/COUPLES",
         "Budget",
         "2019-05-16 00:00:00",
         "23",
         "19162",
         "56",
         "Cheezels Cheese Box 125g",
         "1",
         "2.1"
        ],
        [
         "20",
         "25105",
         "MIDAGE SINGLES/COUPLES",
         "Budget",
         "2019-05-19 00:00:00",
         "25",
         "21815",
         "7",
         "Smiths Crinkle      Original 330g",
         "1",
         "5.7"
        ],
        [
         "21",
         "33081",
         "MIDAGE SINGLES/COUPLES",
         "Budget",
         "2018-08-16 00:00:00",
         "33",
         "29949",
         "98",
         "NCC Sour Cream &    Garden Chives 175g",
         "1",
         "3.0"
        ],
        [
         "22",
         "36012",
         "MIDAGE SINGLES/COUPLES",
         "Budget",
         "2018-08-16 00:00:00",
         "36",
         "32077",
         "31",
         "Infzns Crn Crnchers Tangy Gcamole 110g",
         "1",
         "3.8"
        ],
        [
         "23",
         "36302",
         "MIDAGE SINGLES/COUPLES",
         "Budget",
         "2018-08-19 00:00:00",
         "36",
         "33188",
         "32",
         "Kettle Sea Salt     And Vinegar 175g",
         "1",
         "5.4"
        ],
        [
         "24",
         "38142",
         "MIDAGE SINGLES/COUPLES",
         "Budget",
         "2018-08-15 00:00:00",
         "38",
         "34181",
         "108",
         "Kettle Tortilla ChpsHny&Jlpno Chili 150g",
         "2",
         "9.2"
        ],
        [
         "26",
         "39167",
         "MIDAGE SINGLES/COUPLES",
         "Budget",
         "2018-08-19 00:00:00",
         "39",
         "35638",
         "111",
         "Smiths Chip Thinly  Cut Original 175g",
         "2",
         "6.0"
        ],
        [
         "27",
         "41423",
         "MIDAGE SINGLES/COUPLES",
         "Budget",
         "2019-05-15 00:00:00",
         "41",
         "38393",
         "46",
         "Kettle Original 175g",
         "1",
         "5.4"
        ],
        [
         "28",
         "41486",
         "MIDAGE SINGLES/COUPLES",
         "Budget",
         "2018-08-15 00:00:00",
         "41",
         "38472",
         "13",
         "Red Rock Deli Thai  Chilli&Lime 150g",
         "1",
         "2.7"
        ],
        [
         "29",
         "43110",
         "MIDAGE SINGLES/COUPLES",
         "Budget",
         "2019-05-20 00:00:00",
         "43",
         "39342",
         "31",
         "Infzns Crn Crnchers Tangy Gcamole 110g",
         "1",
         "3.8"
        ],
        [
         "30",
         "43147",
         "MIDAGE SINGLES/COUPLES",
         "Budget",
         "2019-05-16 00:00:00",
         "43",
         "39608",
         "99",
         "Pringles Sthrn FriedChicken 134g",
         "1",
         "3.7"
        ],
        [
         "31",
         "43227",
         "MIDAGE SINGLES/COUPLES",
         "Budget",
         "2019-05-15 00:00:00",
         "43",
         "40186",
         "26",
         "Pringles Sweet&Spcy BBQ 134g",
         "4",
         "14.8"
        ],
        [
         "33",
         "45220",
         "MIDAGE SINGLES/COUPLES",
         "Budget",
         "2019-05-18 00:00:00",
         "45",
         "41651",
         "22",
         "Thins Chips         Originl saltd 175g",
         "1",
         "3.3"
        ],
        [
         "34",
         "51100",
         "MIDAGE SINGLES/COUPLES",
         "Budget",
         "2018-08-16 00:00:00",
         "51",
         "46802",
         "48",
         "Red Rock Deli Sp    Salt & Truffle 150G",
         "1",
         "2.7"
        ],
        [
         "35",
         "51100",
         "MIDAGE SINGLES/COUPLES",
         "Budget",
         "2018-08-19 00:00:00",
         "51",
         "46803",
         "37",
         "Smiths Thinly       Swt Chli&S/Cream175G",
         "1",
         "3.0"
        ],
        [
         "36",
         "51113",
         "MIDAGE SINGLES/COUPLES",
         "Budget",
         "2018-08-18 00:00:00",
         "51",
         "46828",
         "36",
         "Kettle Chilli 175g",
         "1",
         "5.4"
        ],
        [
         "37",
         "54226",
         "MIDAGE SINGLES/COUPLES",
         "Budget",
         "2018-08-17 00:00:00",
         "54",
         "48173",
         "51",
         "Doritos Mexicana    170g",
         "1",
         "4.4"
        ],
        [
         "38",
         "54305",
         "MIDAGE SINGLES/COUPLES",
         "Budget",
         "2018-08-18 00:00:00",
         "54",
         "48301",
         "44",
         "Thins Chips Light&  Tangy 175g",
         "2",
         "6.6"
        ],
        [
         "39",
         "55072",
         "MIDAGE SINGLES/COUPLES",
         "Budget",
         "2018-08-18 00:00:00",
         "55",
         "48878",
         "107",
         "Smiths Crinkle Cut  French OnionDip 150g",
         "1",
         "2.6"
        ],
        [
         "40",
         "55072",
         "MIDAGE SINGLES/COUPLES",
         "Budget",
         "2019-05-14 00:00:00",
         "55",
         "48883",
         "106",
         "Natural ChipCo      Hony Soy Chckn175g",
         "1",
         "3.0"
        ],
        [
         "41",
         "55073",
         "MIDAGE SINGLES/COUPLES",
         "Budget",
         "2019-05-20 00:00:00",
         "55",
         "48887",
         "4",
         "Dorito Corn Chp     Supreme 380g",
         "1",
         "3.25"
        ],
        [
         "42",
         "55073",
         "MIDAGE SINGLES/COUPLES",
         "Budget",
         "2019-05-20 00:00:00",
         "55",
         "48887",
         "113",
         "Twisties Chicken270g",
         "1",
         "4.6"
        ],
        [
         "43",
         "55202",
         "MIDAGE SINGLES/COUPLES",
         "Budget",
         "2019-05-16 00:00:00",
         "55",
         "49690",
         "45",
         "Smiths Thinly Cut   Roast Chicken 175g",
         "1",
         "3.0"
        ],
        [
         "45",
         "58324",
         "MIDAGE SINGLES/COUPLES",
         "Budget",
         "2019-05-16 00:00:00",
         "58",
         "54252",
         "102",
         "Kettle Mozzarella   Basil & Pesto 175g",
         "1",
         "5.4"
        ],
        [
         "46",
         "59344",
         "MIDAGE SINGLES/COUPLES",
         "Budget",
         "2019-05-16 00:00:00",
         "59",
         "56007",
         "31",
         "Infzns Crn Crnchers Tangy Gcamole 110g",
         "1",
         "3.8"
        ],
        [
         "47",
         "60038",
         "MIDAGE SINGLES/COUPLES",
         "Budget",
         "2018-08-16 00:00:00",
         "60",
         "56304",
         "104",
         "Infuzions Thai SweetChili PotatoMix 110g",
         "1",
         "3.8"
        ],
        [
         "48",
         "60162",
         "MIDAGE SINGLES/COUPLES",
         "Budget",
         "2019-05-15 00:00:00",
         "60",
         "56825",
         "7",
         "Smiths Crinkle      Original 330g",
         "1",
         "5.7"
        ],
        [
         "49",
         "62177",
         "MIDAGE SINGLES/COUPLES",
         "Budget",
         "2019-05-14 00:00:00",
         "62",
         "58848",
         "3",
         "Kettle Sensations   Camembert & Fig 150g",
         "1",
         "4.6"
        ],
        [
         "50",
         "63201",
         "MIDAGE SINGLES/COUPLES",
         "Budget",
         "2019-05-20 00:00:00",
         "63",
         "60709",
         "82",
         "Smith Crinkle Cut   Mac N Cheese 150g",
         "1",
         "2.6"
        ],
        [
         "51",
         "67053",
         "MIDAGE SINGLES/COUPLES",
         "Budget",
         "2018-08-20 00:00:00",
         "67",
         "64137",
         "88",
         "Kettle Honey Soy    Chicken 175g",
         "1",
         "5.4"
        ],
        [
         "52",
         "71122",
         "MIDAGE SINGLES/COUPLES",
         "Budget",
         "2019-05-20 00:00:00",
         "71",
         "69717",
         "40",
         "Thins Chips Seasonedchicken 175g",
         "1",
         "3.3"
        ],
        [
         "53",
         "71212",
         "MIDAGE SINGLES/COUPLES",
         "Budget",
         "2019-05-19 00:00:00",
         "71",
         "70337",
         "73",
         "Smiths Crinkle Cut  Salt & Vinegar 170g",
         "2",
         "5.8"
        ]
       ],
       "shape": {
        "columns": 10,
        "rows": 246740
       }
      },
      "text/html": [
       "<div>\n",
       "<style scoped>\n",
       "    .dataframe tbody tr th:only-of-type {\n",
       "        vertical-align: middle;\n",
       "    }\n",
       "\n",
       "    .dataframe tbody tr th {\n",
       "        vertical-align: top;\n",
       "    }\n",
       "\n",
       "    .dataframe thead th {\n",
       "        text-align: right;\n",
       "    }\n",
       "</style>\n",
       "<table border=\"1\" class=\"dataframe\">\n",
       "  <thead>\n",
       "    <tr style=\"text-align: right;\">\n",
       "      <th></th>\n",
       "      <th>LYLTY_CARD_NBR</th>\n",
       "      <th>LIFESTAGE</th>\n",
       "      <th>PREMIUM_CUSTOMER</th>\n",
       "      <th>DATE</th>\n",
       "      <th>STORE_NBR</th>\n",
       "      <th>TXN_ID</th>\n",
       "      <th>PROD_NBR</th>\n",
       "      <th>PROD_NAME</th>\n",
       "      <th>PROD_QTY</th>\n",
       "      <th>TOT_SALES</th>\n",
       "    </tr>\n",
       "  </thead>\n",
       "  <tbody>\n",
       "    <tr>\n",
       "      <th>0</th>\n",
       "      <td>1000</td>\n",
       "      <td>YOUNG SINGLES/COUPLES</td>\n",
       "      <td>Premium</td>\n",
       "      <td>2018-10-17</td>\n",
       "      <td>1</td>\n",
       "      <td>1</td>\n",
       "      <td>5</td>\n",
       "      <td>Natural Chip        Compny SeaSalt175g</td>\n",
       "      <td>2</td>\n",
       "      <td>6.0</td>\n",
       "    </tr>\n",
       "    <tr>\n",
       "      <th>1</th>\n",
       "      <td>1307</td>\n",
       "      <td>MIDAGE SINGLES/COUPLES</td>\n",
       "      <td>Budget</td>\n",
       "      <td>2019-05-14</td>\n",
       "      <td>1</td>\n",
       "      <td>348</td>\n",
       "      <td>66</td>\n",
       "      <td>CCs Nacho Cheese    175g</td>\n",
       "      <td>3</td>\n",
       "      <td>6.3</td>\n",
       "    </tr>\n",
       "    <tr>\n",
       "      <th>2</th>\n",
       "      <td>1343</td>\n",
       "      <td>MIDAGE SINGLES/COUPLES</td>\n",
       "      <td>Budget</td>\n",
       "      <td>2019-05-20</td>\n",
       "      <td>1</td>\n",
       "      <td>383</td>\n",
       "      <td>61</td>\n",
       "      <td>Smiths Crinkle Cut  Chips Chicken 170g</td>\n",
       "      <td>2</td>\n",
       "      <td>2.9</td>\n",
       "    </tr>\n",
       "    <tr>\n",
       "      <th>3</th>\n",
       "      <td>2373</td>\n",
       "      <td>MIDAGE SINGLES/COUPLES</td>\n",
       "      <td>Budget</td>\n",
       "      <td>2018-08-17</td>\n",
       "      <td>2</td>\n",
       "      <td>974</td>\n",
       "      <td>69</td>\n",
       "      <td>Smiths Chip Thinly  S/Cream&amp;Onion 175g</td>\n",
       "      <td>5</td>\n",
       "      <td>15.0</td>\n",
       "    </tr>\n",
       "    <tr>\n",
       "      <th>4</th>\n",
       "      <td>2426</td>\n",
       "      <td>MIDAGE SINGLES/COUPLES</td>\n",
       "      <td>Budget</td>\n",
       "      <td>2018-08-18</td>\n",
       "      <td>2</td>\n",
       "      <td>1038</td>\n",
       "      <td>108</td>\n",
       "      <td>Kettle Tortilla ChpsHny&amp;Jlpno Chili 150g</td>\n",
       "      <td>3</td>\n",
       "      <td>13.8</td>\n",
       "    </tr>\n",
       "    <tr>\n",
       "      <th>...</th>\n",
       "      <td>...</td>\n",
       "      <td>...</td>\n",
       "      <td>...</td>\n",
       "      <td>...</td>\n",
       "      <td>...</td>\n",
       "      <td>...</td>\n",
       "      <td>...</td>\n",
       "      <td>...</td>\n",
       "      <td>...</td>\n",
       "      <td>...</td>\n",
       "    </tr>\n",
       "    <tr>\n",
       "      <th>264831</th>\n",
       "      <td>272319</td>\n",
       "      <td>YOUNG SINGLES/COUPLES</td>\n",
       "      <td>Premium</td>\n",
       "      <td>2019-03-09</td>\n",
       "      <td>272</td>\n",
       "      <td>270088</td>\n",
       "      <td>89</td>\n",
       "      <td>Kettle Sweet Chilli And Sour Cream 175g</td>\n",
       "      <td>2</td>\n",
       "      <td>10.8</td>\n",
       "    </tr>\n",
       "    <tr>\n",
       "      <th>264832</th>\n",
       "      <td>272358</td>\n",
       "      <td>YOUNG SINGLES/COUPLES</td>\n",
       "      <td>Premium</td>\n",
       "      <td>2018-08-13</td>\n",
       "      <td>272</td>\n",
       "      <td>270154</td>\n",
       "      <td>74</td>\n",
       "      <td>Tostitos Splash Of  Lime 175g</td>\n",
       "      <td>1</td>\n",
       "      <td>4.4</td>\n",
       "    </tr>\n",
       "    <tr>\n",
       "      <th>264833</th>\n",
       "      <td>272379</td>\n",
       "      <td>YOUNG SINGLES/COUPLES</td>\n",
       "      <td>Premium</td>\n",
       "      <td>2018-11-06</td>\n",
       "      <td>272</td>\n",
       "      <td>270187</td>\n",
       "      <td>51</td>\n",
       "      <td>Doritos Mexicana    170g</td>\n",
       "      <td>2</td>\n",
       "      <td>8.8</td>\n",
       "    </tr>\n",
       "    <tr>\n",
       "      <th>264834</th>\n",
       "      <td>272379</td>\n",
       "      <td>YOUNG SINGLES/COUPLES</td>\n",
       "      <td>Premium</td>\n",
       "      <td>2018-12-27</td>\n",
       "      <td>272</td>\n",
       "      <td>270188</td>\n",
       "      <td>42</td>\n",
       "      <td>Doritos Corn Chip Mexican Jalapeno 150g</td>\n",
       "      <td>2</td>\n",
       "      <td>7.8</td>\n",
       "    </tr>\n",
       "    <tr>\n",
       "      <th>264835</th>\n",
       "      <td>272380</td>\n",
       "      <td>YOUNG SINGLES/COUPLES</td>\n",
       "      <td>Premium</td>\n",
       "      <td>2018-09-22</td>\n",
       "      <td>272</td>\n",
       "      <td>270189</td>\n",
       "      <td>74</td>\n",
       "      <td>Tostitos Splash Of  Lime 175g</td>\n",
       "      <td>2</td>\n",
       "      <td>8.8</td>\n",
       "    </tr>\n",
       "  </tbody>\n",
       "</table>\n",
       "<p>246740 rows × 10 columns</p>\n",
       "</div>"
      ],
      "text/plain": [
       "        LYLTY_CARD_NBR               LIFESTAGE PREMIUM_CUSTOMER       DATE  \\\n",
       "0                 1000   YOUNG SINGLES/COUPLES          Premium 2018-10-17   \n",
       "1                 1307  MIDAGE SINGLES/COUPLES           Budget 2019-05-14   \n",
       "2                 1343  MIDAGE SINGLES/COUPLES           Budget 2019-05-20   \n",
       "3                 2373  MIDAGE SINGLES/COUPLES           Budget 2018-08-17   \n",
       "4                 2426  MIDAGE SINGLES/COUPLES           Budget 2018-08-18   \n",
       "...                ...                     ...              ...        ...   \n",
       "264831          272319   YOUNG SINGLES/COUPLES          Premium 2019-03-09   \n",
       "264832          272358   YOUNG SINGLES/COUPLES          Premium 2018-08-13   \n",
       "264833          272379   YOUNG SINGLES/COUPLES          Premium 2018-11-06   \n",
       "264834          272379   YOUNG SINGLES/COUPLES          Premium 2018-12-27   \n",
       "264835          272380   YOUNG SINGLES/COUPLES          Premium 2018-09-22   \n",
       "\n",
       "        STORE_NBR  TXN_ID  PROD_NBR                                 PROD_NAME  \\\n",
       "0               1       1         5    Natural Chip        Compny SeaSalt175g   \n",
       "1               1     348        66                  CCs Nacho Cheese    175g   \n",
       "2               1     383        61    Smiths Crinkle Cut  Chips Chicken 170g   \n",
       "3               2     974        69    Smiths Chip Thinly  S/Cream&Onion 175g   \n",
       "4               2    1038       108  Kettle Tortilla ChpsHny&Jlpno Chili 150g   \n",
       "...           ...     ...       ...                                       ...   \n",
       "264831        272  270088        89   Kettle Sweet Chilli And Sour Cream 175g   \n",
       "264832        272  270154        74             Tostitos Splash Of  Lime 175g   \n",
       "264833        272  270187        51                  Doritos Mexicana    170g   \n",
       "264834        272  270188        42   Doritos Corn Chip Mexican Jalapeno 150g   \n",
       "264835        272  270189        74             Tostitos Splash Of  Lime 175g   \n",
       "\n",
       "        PROD_QTY  TOT_SALES  \n",
       "0              2        6.0  \n",
       "1              3        6.3  \n",
       "2              2        2.9  \n",
       "3              5       15.0  \n",
       "4              3       13.8  \n",
       "...          ...        ...  \n",
       "264831         2       10.8  \n",
       "264832         1        4.4  \n",
       "264833         2        8.8  \n",
       "264834         2        7.8  \n",
       "264835         2        8.8  \n",
       "\n",
       "[246740 rows x 10 columns]"
      ]
     },
     "execution_count": 59,
     "metadata": {},
     "output_type": "execute_result"
    }
   ],
   "source": [
    "not_loyl = merged_df.loc[merged_df['LYLTY_CARD_NBR'] == 226000].index\n",
    "merged_df.drop(not_loyl)"
   ]
  },
  {
   "cell_type": "code",
   "execution_count": 60,
   "metadata": {},
   "outputs": [
    {
     "data": {
      "application/vnd.microsoft.datawrangler.viewer.v0+json": {
       "columns": [
        {
         "name": "index",
         "rawType": "int64",
         "type": "integer"
        },
        {
         "name": "LYLTY_CARD_NBR",
         "rawType": "int64",
         "type": "integer"
        },
        {
         "name": "LIFESTAGE",
         "rawType": "object",
         "type": "string"
        },
        {
         "name": "PREMIUM_CUSTOMER",
         "rawType": "object",
         "type": "string"
        },
        {
         "name": "DATE",
         "rawType": "datetime64[ns]",
         "type": "datetime"
        },
        {
         "name": "STORE_NBR",
         "rawType": "int64",
         "type": "integer"
        },
        {
         "name": "TXN_ID",
         "rawType": "int64",
         "type": "integer"
        },
        {
         "name": "PROD_NBR",
         "rawType": "int64",
         "type": "integer"
        },
        {
         "name": "PROD_NAME",
         "rawType": "object",
         "type": "string"
        },
        {
         "name": "PROD_QTY",
         "rawType": "int64",
         "type": "integer"
        },
        {
         "name": "TOT_SALES",
         "rawType": "float64",
         "type": "float"
        }
       ],
       "conversionMethod": "pd.DataFrame",
       "ref": "e7ad445e-0350-4766-9873-151cbd160c60",
       "rows": [
        [
         "0",
         "1000",
         "YOUNG SINGLES/COUPLES",
         "Premium",
         "2018-10-17 00:00:00",
         "1",
         "1",
         "5",
         "Natural Chip        Compny SeaSalt175g",
         "2",
         "6.0"
        ],
        [
         "238495",
         "1002",
         "YOUNG SINGLES/COUPLES",
         "Mainstream",
         "2018-09-16 00:00:00",
         "1",
         "2",
         "58",
         "Red Rock Deli Chikn&Garlic Aioli 150g",
         "1",
         "2.7"
        ],
        [
         "185543",
         "1003",
         "YOUNG FAMILIES",
         "Budget",
         "2019-03-08 00:00:00",
         "1",
         "4",
         "106",
         "Natural ChipCo      Hony Soy Chckn175g",
         "1",
         "3.0"
        ],
        [
         "185542",
         "1003",
         "YOUNG FAMILIES",
         "Budget",
         "2019-03-07 00:00:00",
         "1",
         "3",
         "52",
         "Grain Waves Sour    Cream&Chives 210G",
         "1",
         "3.6"
        ],
        [
         "99838",
         "1004",
         "OLDER SINGLES/COUPLES",
         "Mainstream",
         "2018-11-02 00:00:00",
         "1",
         "5",
         "96",
         "WW Original Stacked Chips 160g",
         "1",
         "1.9"
        ],
        [
         "5466",
         "1005",
         "MIDAGE SINGLES/COUPLES",
         "Mainstream",
         "2018-12-28 00:00:00",
         "1",
         "6",
         "86",
         "Cheetos Puffs 165g",
         "1",
         "2.8"
        ],
        [
         "228801",
         "1007",
         "YOUNG SINGLES/COUPLES",
         "Budget",
         "2018-12-04 00:00:00",
         "1",
         "7",
         "49",
         "Infuzions SourCream&Herbs Veg Strws 110g",
         "1",
         "3.8"
        ],
        [
         "228802",
         "1007",
         "YOUNG SINGLES/COUPLES",
         "Budget",
         "2018-12-05 00:00:00",
         "1",
         "8",
         "10",
         "RRD SR Slow Rst     Pork Belly 150g",
         "1",
         "2.7"
        ],
        [
         "30493",
         "1009",
         "NEW FAMILIES",
         "Premium",
         "2018-11-20 00:00:00",
         "1",
         "9",
         "20",
         "Doritos Cheese      Supreme 330g",
         "1",
         "5.7"
        ],
        [
         "238496",
         "1010",
         "YOUNG SINGLES/COUPLES",
         "Mainstream",
         "2018-09-09 00:00:00",
         "1",
         "10",
         "51",
         "Doritos Mexicana    170g",
         "2",
         "8.8"
        ],
        [
         "99842",
         "1011",
         "OLDER SINGLES/COUPLES",
         "Mainstream",
         "2018-12-19 00:00:00",
         "1",
         "15",
         "1",
         "Smiths Crinkle Cut  Chips Barbecue 170g",
         "1",
         "2.9"
        ],
        [
         "99841",
         "1011",
         "OLDER SINGLES/COUPLES",
         "Mainstream",
         "2018-12-01 00:00:00",
         "1",
         "14",
         "49",
         "Infuzions SourCream&Herbs Veg Strws 110g",
         "1",
         "3.8"
        ],
        [
         "99839",
         "1011",
         "OLDER SINGLES/COUPLES",
         "Mainstream",
         "2018-07-29 00:00:00",
         "1",
         "12",
         "84",
         "GrnWves Plus Btroot & Chilli Jam 180g",
         "2",
         "6.2"
        ],
        [
         "55697",
         "1012",
         "OLDER FAMILIES",
         "Mainstream",
         "2019-03-15 00:00:00",
         "1",
         "16",
         "20",
         "Doritos Cheese      Supreme 330g",
         "1",
         "5.7"
        ],
        [
         "55698",
         "1012",
         "OLDER FAMILIES",
         "Mainstream",
         "2019-06-19 00:00:00",
         "1",
         "17",
         "3",
         "Kettle Sensations   Camembert & Fig 150g",
         "1",
         "4.6"
        ],
        [
         "135735",
         "1013",
         "RETIREES",
         "Budget",
         "2019-03-04 00:00:00",
         "1",
         "18",
         "93",
         "Doritos Corn Chip Southern Chicken 150g",
         "1",
         "3.9"
        ],
        [
         "135736",
         "1013",
         "RETIREES",
         "Budget",
         "2019-03-07 00:00:00",
         "1",
         "19",
         "91",
         "CCs Tasty Cheese    175g",
         "2",
         "4.2"
        ],
        [
         "55699",
         "1016",
         "OLDER FAMILIES",
         "Mainstream",
         "2019-04-19 00:00:00",
         "1",
         "20",
         "74",
         "Tostitos Splash Of  Lime 175g",
         "1",
         "4.4"
        ],
        [
         "55700",
         "1016",
         "OLDER FAMILIES",
         "Mainstream",
         "2019-06-09 00:00:00",
         "1",
         "21",
         "63",
         "Kettle 135g Swt Pot Sea Salt",
         "1",
         "4.2"
        ],
        [
         "238498",
         "1018",
         "YOUNG SINGLES/COUPLES",
         "Mainstream",
         "2018-09-03 00:00:00",
         "1",
         "22",
         "3",
         "Kettle Sensations   Camembert & Fig 150g",
         "1",
         "4.6"
        ],
        [
         "238500",
         "1018",
         "YOUNG SINGLES/COUPLES",
         "Mainstream",
         "2019-06-20 00:00:00",
         "1",
         "24",
         "38",
         "Infuzions Mango     Chutny Papadums 70g",
         "1",
         "2.4"
        ],
        [
         "238499",
         "1018",
         "YOUNG SINGLES/COUPLES",
         "Mainstream",
         "2018-11-28 00:00:00",
         "1",
         "23",
         "97",
         "RRD Salt & Vinegar  165g",
         "1",
         "3.0"
        ],
        [
         "118035",
         "1019",
         "OLDER SINGLES/COUPLES",
         "Premium",
         "2019-01-27 00:00:00",
         "1",
         "25",
         "84",
         "GrnWves Plus Btroot & Chilli Jam 180g",
         "1",
         "3.1"
        ],
        [
         "237702",
         "1020",
         "YOUNG SINGLES/COUPLES",
         "Mainstream",
         "2018-08-16 00:00:00",
         "1",
         "26",
         "19",
         "Smiths Crinkle Cut  Snag&Sauce 150g",
         "1",
         "2.6"
        ],
        [
         "238501",
         "1020",
         "YOUNG SINGLES/COUPLES",
         "Mainstream",
         "2018-10-02 00:00:00",
         "1",
         "27",
         "7",
         "Smiths Crinkle      Original 330g",
         "1",
         "5.7"
        ],
        [
         "238502",
         "1020",
         "YOUNG SINGLES/COUPLES",
         "Mainstream",
         "2019-05-02 00:00:00",
         "1",
         "28",
         "84",
         "GrnWves Plus Btroot & Chilli Jam 180g",
         "1",
         "3.1"
        ],
        [
         "32875",
         "1022",
         "OLDER FAMILIES",
         "Budget",
         "2018-10-24 00:00:00",
         "1",
         "29",
         "3",
         "Kettle Sensations   Camembert & Fig 150g",
         "1",
         "4.6"
        ],
        [
         "17223",
         "1023",
         "MIDAGE SINGLES/COUPLES",
         "Premium",
         "2019-05-27 00:00:00",
         "1",
         "30",
         "53",
         "RRD Sweet Chilli &  Sour Cream 165g",
         "1",
         "3.0"
        ],
        [
         "258797",
         "1024",
         "YOUNG SINGLES/COUPLES",
         "Premium",
         "2019-02-20 00:00:00",
         "1",
         "31",
         "5",
         "Natural Chip        Compny SeaSalt175g",
         "1",
         "3.0"
        ],
        [
         "185544",
         "1025",
         "YOUNG FAMILIES",
         "Budget",
         "2018-11-21 00:00:00",
         "1",
         "32",
         "69",
         "Smiths Chip Thinly  S/Cream&Onion 175g",
         "2",
         "6.0"
        ],
        [
         "17224",
         "1026",
         "MIDAGE SINGLES/COUPLES",
         "Premium",
         "2018-12-08 00:00:00",
         "1",
         "33",
         "91",
         "CCs Tasty Cheese    175g",
         "1",
         "2.1"
        ],
        [
         "69836",
         "1027",
         "OLDER FAMILIES",
         "Premium",
         "2018-07-06 00:00:00",
         "1",
         "34",
         "38",
         "Infuzions Mango     Chutny Papadums 70g",
         "1",
         "2.4"
        ],
        [
         "69837",
         "1027",
         "OLDER FAMILIES",
         "Premium",
         "2018-08-13 00:00:00",
         "1",
         "35",
         "16",
         "Smiths Crinkle Chips Salt & Vinegar 330g",
         "1",
         "5.7"
        ],
        [
         "151178",
         "1030",
         "RETIREES",
         "Mainstream",
         "2019-06-23 00:00:00",
         "1",
         "37",
         "10",
         "RRD SR Slow Rst     Pork Belly 150g",
         "2",
         "5.4"
        ],
        [
         "172312",
         "1034",
         "RETIREES",
         "Premium",
         "2019-03-24 00:00:00",
         "1",
         "38",
         "75",
         "Cobs Popd Sea Salt  Chips 110g",
         "1",
         "3.8"
        ],
        [
         "172313",
         "1034",
         "RETIREES",
         "Premium",
         "2019-03-29 00:00:00",
         "1",
         "39",
         "80",
         "Natural ChipCo Sea  Salt & Vinegr 175g",
         "1",
         "3.0"
        ],
        [
         "55701",
         "1038",
         "OLDER FAMILIES",
         "Mainstream",
         "2018-12-07 00:00:00",
         "1",
         "41",
         "53",
         "RRD Sweet Chilli &  Sour Cream 165g",
         "2",
         "6.0"
        ],
        [
         "204452",
         "1039",
         "YOUNG FAMILIES",
         "Mainstream",
         "2018-10-30 00:00:00",
         "1",
         "42",
         "12",
         "Natural Chip Co     Tmato Hrb&Spce 175g",
         "1",
         "3.0"
        ],
        [
         "258799",
         "1042",
         "YOUNG SINGLES/COUPLES",
         "Premium",
         "2019-02-12 00:00:00",
         "1",
         "46",
         "63",
         "Kettle 135g Swt Pot Sea Salt",
         "1",
         "4.2"
        ],
        [
         "258798",
         "1042",
         "YOUNG SINGLES/COUPLES",
         "Premium",
         "2018-07-21 00:00:00",
         "1",
         "45",
         "94",
         "Burger Rings 220g",
         "1",
         "2.3"
        ],
        [
         "258800",
         "1042",
         "YOUNG SINGLES/COUPLES",
         "Premium",
         "2019-03-07 00:00:00",
         "1",
         "47",
         "105",
         "Woolworths Cheese   Rings 190g",
         "1",
         "1.8"
        ],
        [
         "258801",
         "1042",
         "YOUNG SINGLES/COUPLES",
         "Premium",
         "2019-04-23 00:00:00",
         "1",
         "48",
         "37",
         "Smiths Thinly       Swt Chli&S/Cream175G",
         "1",
         "3.0"
        ],
        [
         "185545",
         "1043",
         "YOUNG FAMILIES",
         "Budget",
         "2019-02-16 00:00:00",
         "1",
         "49",
         "40",
         "Thins Chips Seasonedchicken 175g",
         "1",
         "3.3"
        ],
        [
         "204453",
         "1044",
         "YOUNG FAMILIES",
         "Mainstream",
         "2019-06-30 00:00:00",
         "1",
         "50",
         "45",
         "Smiths Thinly Cut   Roast Chicken 175g",
         "1",
         "3.0"
        ],
        [
         "228804",
         "1046",
         "YOUNG SINGLES/COUPLES",
         "Budget",
         "2019-02-13 00:00:00",
         "1",
         "51",
         "112",
         "Tyrrells Crisps     Ched & Chives 165g",
         "1",
         "4.2"
        ],
        [
         "55704",
         "1048",
         "OLDER FAMILIES",
         "Mainstream",
         "2019-01-24 00:00:00",
         "1",
         "54",
         "38",
         "Infuzions Mango     Chutny Papadums 70g",
         "2",
         "4.8"
        ],
        [
         "55703",
         "1048",
         "OLDER FAMILIES",
         "Mainstream",
         "2018-09-09 00:00:00",
         "1",
         "53",
         "30",
         "Doritos Corn Chips  Cheese Supreme 170g",
         "1",
         "4.4"
        ],
        [
         "55702",
         "1048",
         "OLDER FAMILIES",
         "Mainstream",
         "2018-08-02 00:00:00",
         "1",
         "52",
         "1",
         "Smiths Crinkle Cut  Chips Barbecue 170g",
         "1",
         "2.9"
        ],
        [
         "185546",
         "1050",
         "YOUNG FAMILIES",
         "Budget",
         "2019-04-13 00:00:00",
         "1",
         "55",
         "111",
         "Smiths Chip Thinly  Cut Original 175g",
         "1",
         "3.0"
        ],
        [
         "228805",
         "1051",
         "YOUNG SINGLES/COUPLES",
         "Budget",
         "2018-09-25 00:00:00",
         "1",
         "56",
         "8",
         "Smiths Crinkle Cut  Chips Original 170g",
         "2",
         "5.8"
        ]
       ],
       "shape": {
        "columns": 10,
        "rows": 246742
       }
      },
      "text/html": [
       "<div>\n",
       "<style scoped>\n",
       "    .dataframe tbody tr th:only-of-type {\n",
       "        vertical-align: middle;\n",
       "    }\n",
       "\n",
       "    .dataframe tbody tr th {\n",
       "        vertical-align: top;\n",
       "    }\n",
       "\n",
       "    .dataframe thead th {\n",
       "        text-align: right;\n",
       "    }\n",
       "</style>\n",
       "<table border=\"1\" class=\"dataframe\">\n",
       "  <thead>\n",
       "    <tr style=\"text-align: right;\">\n",
       "      <th></th>\n",
       "      <th>LYLTY_CARD_NBR</th>\n",
       "      <th>LIFESTAGE</th>\n",
       "      <th>PREMIUM_CUSTOMER</th>\n",
       "      <th>DATE</th>\n",
       "      <th>STORE_NBR</th>\n",
       "      <th>TXN_ID</th>\n",
       "      <th>PROD_NBR</th>\n",
       "      <th>PROD_NAME</th>\n",
       "      <th>PROD_QTY</th>\n",
       "      <th>TOT_SALES</th>\n",
       "    </tr>\n",
       "  </thead>\n",
       "  <tbody>\n",
       "    <tr>\n",
       "      <th>0</th>\n",
       "      <td>1000</td>\n",
       "      <td>YOUNG SINGLES/COUPLES</td>\n",
       "      <td>Premium</td>\n",
       "      <td>2018-10-17</td>\n",
       "      <td>1</td>\n",
       "      <td>1</td>\n",
       "      <td>5</td>\n",
       "      <td>Natural Chip        Compny SeaSalt175g</td>\n",
       "      <td>2</td>\n",
       "      <td>6.0</td>\n",
       "    </tr>\n",
       "    <tr>\n",
       "      <th>238495</th>\n",
       "      <td>1002</td>\n",
       "      <td>YOUNG SINGLES/COUPLES</td>\n",
       "      <td>Mainstream</td>\n",
       "      <td>2018-09-16</td>\n",
       "      <td>1</td>\n",
       "      <td>2</td>\n",
       "      <td>58</td>\n",
       "      <td>Red Rock Deli Chikn&amp;Garlic Aioli 150g</td>\n",
       "      <td>1</td>\n",
       "      <td>2.7</td>\n",
       "    </tr>\n",
       "    <tr>\n",
       "      <th>185543</th>\n",
       "      <td>1003</td>\n",
       "      <td>YOUNG FAMILIES</td>\n",
       "      <td>Budget</td>\n",
       "      <td>2019-03-08</td>\n",
       "      <td>1</td>\n",
       "      <td>4</td>\n",
       "      <td>106</td>\n",
       "      <td>Natural ChipCo      Hony Soy Chckn175g</td>\n",
       "      <td>1</td>\n",
       "      <td>3.0</td>\n",
       "    </tr>\n",
       "    <tr>\n",
       "      <th>185542</th>\n",
       "      <td>1003</td>\n",
       "      <td>YOUNG FAMILIES</td>\n",
       "      <td>Budget</td>\n",
       "      <td>2019-03-07</td>\n",
       "      <td>1</td>\n",
       "      <td>3</td>\n",
       "      <td>52</td>\n",
       "      <td>Grain Waves Sour    Cream&amp;Chives 210G</td>\n",
       "      <td>1</td>\n",
       "      <td>3.6</td>\n",
       "    </tr>\n",
       "    <tr>\n",
       "      <th>99838</th>\n",
       "      <td>1004</td>\n",
       "      <td>OLDER SINGLES/COUPLES</td>\n",
       "      <td>Mainstream</td>\n",
       "      <td>2018-11-02</td>\n",
       "      <td>1</td>\n",
       "      <td>5</td>\n",
       "      <td>96</td>\n",
       "      <td>WW Original Stacked Chips 160g</td>\n",
       "      <td>1</td>\n",
       "      <td>1.9</td>\n",
       "    </tr>\n",
       "    <tr>\n",
       "      <th>...</th>\n",
       "      <td>...</td>\n",
       "      <td>...</td>\n",
       "      <td>...</td>\n",
       "      <td>...</td>\n",
       "      <td>...</td>\n",
       "      <td>...</td>\n",
       "      <td>...</td>\n",
       "      <td>...</td>\n",
       "      <td>...</td>\n",
       "      <td>...</td>\n",
       "    </tr>\n",
       "    <tr>\n",
       "      <th>15676</th>\n",
       "      <td>2370651</td>\n",
       "      <td>MIDAGE SINGLES/COUPLES</td>\n",
       "      <td>Mainstream</td>\n",
       "      <td>2018-08-03</td>\n",
       "      <td>88</td>\n",
       "      <td>240350</td>\n",
       "      <td>4</td>\n",
       "      <td>Dorito Corn Chp     Supreme 380g</td>\n",
       "      <td>2</td>\n",
       "      <td>13.0</td>\n",
       "    </tr>\n",
       "    <tr>\n",
       "      <th>215522</th>\n",
       "      <td>2370701</td>\n",
       "      <td>YOUNG FAMILIES</td>\n",
       "      <td>Mainstream</td>\n",
       "      <td>2018-12-08</td>\n",
       "      <td>88</td>\n",
       "      <td>240378</td>\n",
       "      <td>24</td>\n",
       "      <td>Grain Waves         Sweet Chilli 210g</td>\n",
       "      <td>2</td>\n",
       "      <td>7.2</td>\n",
       "    </tr>\n",
       "    <tr>\n",
       "      <th>227371</th>\n",
       "      <td>2370751</td>\n",
       "      <td>YOUNG FAMILIES</td>\n",
       "      <td>Premium</td>\n",
       "      <td>2018-10-01</td>\n",
       "      <td>88</td>\n",
       "      <td>240394</td>\n",
       "      <td>60</td>\n",
       "      <td>Kettle Tortilla ChpsFeta&amp;Garlic 150g</td>\n",
       "      <td>2</td>\n",
       "      <td>9.2</td>\n",
       "    </tr>\n",
       "    <tr>\n",
       "      <th>53106</th>\n",
       "      <td>2370961</td>\n",
       "      <td>OLDER FAMILIES</td>\n",
       "      <td>Budget</td>\n",
       "      <td>2018-10-24</td>\n",
       "      <td>88</td>\n",
       "      <td>240480</td>\n",
       "      <td>70</td>\n",
       "      <td>Tyrrells Crisps     Lightly Salted 165g</td>\n",
       "      <td>2</td>\n",
       "      <td>8.4</td>\n",
       "    </tr>\n",
       "    <tr>\n",
       "      <th>256040</th>\n",
       "      <td>2373711</td>\n",
       "      <td>YOUNG SINGLES/COUPLES</td>\n",
       "      <td>Mainstream</td>\n",
       "      <td>2018-12-14</td>\n",
       "      <td>88</td>\n",
       "      <td>241815</td>\n",
       "      <td>16</td>\n",
       "      <td>Smiths Crinkle Chips Salt &amp; Vinegar 330g</td>\n",
       "      <td>2</td>\n",
       "      <td>11.4</td>\n",
       "    </tr>\n",
       "  </tbody>\n",
       "</table>\n",
       "<p>246742 rows × 10 columns</p>\n",
       "</div>"
      ],
      "text/plain": [
       "        LYLTY_CARD_NBR               LIFESTAGE PREMIUM_CUSTOMER       DATE  \\\n",
       "0                 1000   YOUNG SINGLES/COUPLES          Premium 2018-10-17   \n",
       "238495            1002   YOUNG SINGLES/COUPLES       Mainstream 2018-09-16   \n",
       "185543            1003          YOUNG FAMILIES           Budget 2019-03-08   \n",
       "185542            1003          YOUNG FAMILIES           Budget 2019-03-07   \n",
       "99838             1004   OLDER SINGLES/COUPLES       Mainstream 2018-11-02   \n",
       "...                ...                     ...              ...        ...   \n",
       "15676          2370651  MIDAGE SINGLES/COUPLES       Mainstream 2018-08-03   \n",
       "215522         2370701          YOUNG FAMILIES       Mainstream 2018-12-08   \n",
       "227371         2370751          YOUNG FAMILIES          Premium 2018-10-01   \n",
       "53106          2370961          OLDER FAMILIES           Budget 2018-10-24   \n",
       "256040         2373711   YOUNG SINGLES/COUPLES       Mainstream 2018-12-14   \n",
       "\n",
       "        STORE_NBR  TXN_ID  PROD_NBR                                 PROD_NAME  \\\n",
       "0               1       1         5    Natural Chip        Compny SeaSalt175g   \n",
       "238495          1       2        58     Red Rock Deli Chikn&Garlic Aioli 150g   \n",
       "185543          1       4       106    Natural ChipCo      Hony Soy Chckn175g   \n",
       "185542          1       3        52     Grain Waves Sour    Cream&Chives 210G   \n",
       "99838           1       5        96            WW Original Stacked Chips 160g   \n",
       "...           ...     ...       ...                                       ...   \n",
       "15676          88  240350         4          Dorito Corn Chp     Supreme 380g   \n",
       "215522         88  240378        24     Grain Waves         Sweet Chilli 210g   \n",
       "227371         88  240394        60      Kettle Tortilla ChpsFeta&Garlic 150g   \n",
       "53106          88  240480        70   Tyrrells Crisps     Lightly Salted 165g   \n",
       "256040         88  241815        16  Smiths Crinkle Chips Salt & Vinegar 330g   \n",
       "\n",
       "        PROD_QTY  TOT_SALES  \n",
       "0              2        6.0  \n",
       "238495         1        2.7  \n",
       "185543         1        3.0  \n",
       "185542         1        3.6  \n",
       "99838          1        1.9  \n",
       "...          ...        ...  \n",
       "15676          2       13.0  \n",
       "215522         2        7.2  \n",
       "227371         2        9.2  \n",
       "53106          2        8.4  \n",
       "256040         2       11.4  \n",
       "\n",
       "[246742 rows x 10 columns]"
      ]
     },
     "execution_count": 60,
     "metadata": {},
     "output_type": "execute_result"
    }
   ],
   "source": [
    "merged_df.sort_values('LYLTY_CARD_NBR')\n"
   ]
  },
  {
   "cell_type": "code",
   "execution_count": 69,
   "metadata": {},
   "outputs": [
    {
     "data": {
      "application/vnd.microsoft.datawrangler.viewer.v0+json": {
       "columns": [
        {
         "name": "DATE",
         "rawType": "datetime64[ns]",
         "type": "datetime"
        },
        {
         "name": "count",
         "rawType": "int64",
         "type": "integer"
        }
       ],
       "conversionMethod": "pd.DataFrame",
       "ref": "8452dbc2-e5e8-4529-a127-6f9d38d0bbae",
       "rows": [
        [
         "2018-07-01 00:00:00",
         "663"
        ],
        [
         "2018-07-02 00:00:00",
         "650"
        ],
        [
         "2018-07-03 00:00:00",
         "674"
        ],
        [
         "2018-07-04 00:00:00",
         "669"
        ],
        [
         "2018-07-05 00:00:00",
         "660"
        ],
        [
         "2018-07-06 00:00:00",
         "711"
        ],
        [
         "2018-07-07 00:00:00",
         "695"
        ],
        [
         "2018-07-08 00:00:00",
         "653"
        ],
        [
         "2018-07-09 00:00:00",
         "692"
        ],
        [
         "2018-07-10 00:00:00",
         "650"
        ],
        [
         "2018-07-11 00:00:00",
         "701"
        ],
        [
         "2018-07-12 00:00:00",
         "717"
        ],
        [
         "2018-07-13 00:00:00",
         "727"
        ],
        [
         "2018-07-14 00:00:00",
         "661"
        ],
        [
         "2018-07-15 00:00:00",
         "712"
        ],
        [
         "2018-07-16 00:00:00",
         "678"
        ],
        [
         "2018-07-17 00:00:00",
         "694"
        ],
        [
         "2018-07-18 00:00:00",
         "689"
        ],
        [
         "2018-07-19 00:00:00",
         "637"
        ],
        [
         "2018-07-20 00:00:00",
         "684"
        ],
        [
         "2018-07-21 00:00:00",
         "683"
        ],
        [
         "2018-07-22 00:00:00",
         "673"
        ],
        [
         "2018-07-23 00:00:00",
         "673"
        ],
        [
         "2018-07-24 00:00:00",
         "648"
        ],
        [
         "2018-07-25 00:00:00",
         "674"
        ],
        [
         "2018-07-26 00:00:00",
         "672"
        ],
        [
         "2018-07-27 00:00:00",
         "697"
        ],
        [
         "2018-07-28 00:00:00",
         "640"
        ],
        [
         "2018-07-29 00:00:00",
         "659"
        ],
        [
         "2018-07-30 00:00:00",
         "692"
        ],
        [
         "2018-07-31 00:00:00",
         "688"
        ],
        [
         "2018-08-01 00:00:00",
         "680"
        ],
        [
         "2018-08-02 00:00:00",
         "669"
        ],
        [
         "2018-08-03 00:00:00",
         "662"
        ],
        [
         "2018-08-04 00:00:00",
         "665"
        ],
        [
         "2018-08-05 00:00:00",
         "705"
        ],
        [
         "2018-08-06 00:00:00",
         "706"
        ],
        [
         "2018-08-07 00:00:00",
         "668"
        ],
        [
         "2018-08-08 00:00:00",
         "695"
        ],
        [
         "2018-08-09 00:00:00",
         "652"
        ],
        [
         "2018-08-10 00:00:00",
         "675"
        ],
        [
         "2018-08-11 00:00:00",
         "678"
        ],
        [
         "2018-08-12 00:00:00",
         "642"
        ],
        [
         "2018-08-13 00:00:00",
         "703"
        ],
        [
         "2018-08-14 00:00:00",
         "702"
        ],
        [
         "2018-08-15 00:00:00",
         "702"
        ],
        [
         "2018-08-16 00:00:00",
         "690"
        ],
        [
         "2018-08-17 00:00:00",
         "663"
        ],
        [
         "2018-08-18 00:00:00",
         "683"
        ],
        [
         "2018-08-19 00:00:00",
         "671"
        ]
       ],
       "shape": {
        "columns": 1,
        "rows": 364
       }
      },
      "text/html": [
       "<div>\n",
       "<style scoped>\n",
       "    .dataframe tbody tr th:only-of-type {\n",
       "        vertical-align: middle;\n",
       "    }\n",
       "\n",
       "    .dataframe tbody tr th {\n",
       "        vertical-align: top;\n",
       "    }\n",
       "\n",
       "    .dataframe thead th {\n",
       "        text-align: right;\n",
       "    }\n",
       "</style>\n",
       "<table border=\"1\" class=\"dataframe\">\n",
       "  <thead>\n",
       "    <tr style=\"text-align: right;\">\n",
       "      <th></th>\n",
       "      <th>count</th>\n",
       "    </tr>\n",
       "    <tr>\n",
       "      <th>DATE</th>\n",
       "      <th></th>\n",
       "    </tr>\n",
       "  </thead>\n",
       "  <tbody>\n",
       "    <tr>\n",
       "      <th>2018-07-01</th>\n",
       "      <td>663</td>\n",
       "    </tr>\n",
       "    <tr>\n",
       "      <th>2018-07-02</th>\n",
       "      <td>650</td>\n",
       "    </tr>\n",
       "    <tr>\n",
       "      <th>2018-07-03</th>\n",
       "      <td>674</td>\n",
       "    </tr>\n",
       "    <tr>\n",
       "      <th>2018-07-04</th>\n",
       "      <td>669</td>\n",
       "    </tr>\n",
       "    <tr>\n",
       "      <th>2018-07-05</th>\n",
       "      <td>660</td>\n",
       "    </tr>\n",
       "    <tr>\n",
       "      <th>...</th>\n",
       "      <td>...</td>\n",
       "    </tr>\n",
       "    <tr>\n",
       "      <th>2019-06-26</th>\n",
       "      <td>657</td>\n",
       "    </tr>\n",
       "    <tr>\n",
       "      <th>2019-06-27</th>\n",
       "      <td>669</td>\n",
       "    </tr>\n",
       "    <tr>\n",
       "      <th>2019-06-28</th>\n",
       "      <td>673</td>\n",
       "    </tr>\n",
       "    <tr>\n",
       "      <th>2019-06-29</th>\n",
       "      <td>703</td>\n",
       "    </tr>\n",
       "    <tr>\n",
       "      <th>2019-06-30</th>\n",
       "      <td>704</td>\n",
       "    </tr>\n",
       "  </tbody>\n",
       "</table>\n",
       "<p>364 rows × 1 columns</p>\n",
       "</div>"
      ],
      "text/plain": [
       "            count\n",
       "DATE             \n",
       "2018-07-01    663\n",
       "2018-07-02    650\n",
       "2018-07-03    674\n",
       "2018-07-04    669\n",
       "2018-07-05    660\n",
       "...           ...\n",
       "2019-06-26    657\n",
       "2019-06-27    669\n",
       "2019-06-28    673\n",
       "2019-06-29    703\n",
       "2019-06-30    704\n",
       "\n",
       "[364 rows x 1 columns]"
      ]
     },
     "execution_count": 69,
     "metadata": {},
     "output_type": "execute_result"
    }
   ],
   "source": [
    "date_count = merged_df.groupby('DATE').agg({'TXN_ID': 'count'}).sort_values('DATE').rename(columns={'TXN_ID': 'count'})\n",
    "date_count"
   ]
  },
  {
   "cell_type": "code",
   "execution_count": 75,
   "metadata": {},
   "outputs": [
    {
     "name": "stdout",
     "output_type": "stream",
     "text": [
      "Отсуствующий день: 2018-12-25 00:00:00\n"
     ]
    }
   ],
   "source": [
    "print(f'Отсуствующий день: {pd.date_range(start=merged_df[\"DATE\"].min(), end=merged_df[\"DATE\"].max()).difference(merged_df[\"DATE\"])[0]}')"
   ]
  },
  {
   "cell_type": "markdown",
   "metadata": {},
   "source": [
    "Днем, в который не было произведено ни одной транзакции, является Рождество, когда магазин закрыт. Так что в этом нет ничего необычного."
   ]
  },
  {
   "cell_type": "code",
   "execution_count": 65,
   "metadata": {},
   "outputs": [
    {
     "data": {
      "image/png": "[encoded data removed]",
      "text/plain": [
       "<Figure size 1500x800 with 1 Axes>"
      ]
     },
     "metadata": {},
     "output_type": "display_data"
    }
   ],
   "source": [
    "fig, ax = plt.subplots(figsize=(15, 8))\n",
    "sns.lineplot(data=date_count, ax=ax)\n",
    "ax.set_title('Количество покупок в день\\n')\n",
    "ax.set_ylabel('Количество покупок\\n')\n",
    "ax.set_xlabel('\\nДни покупки')\n",
    "plt.grid(color='gainsboro', linestyle='-', linewidth=2)\n",
    "sns.despine()\n",
    "plt.show() "
   ]
  },
  {
   "cell_type": "code",
   "execution_count": 80,
   "metadata": {},
   "outputs": [
    {
     "data": {
      "image/png": "[encoded data removed]",
      "text/plain": [
       "<Figure size 1500x800 with 1 Axes>"
      ]
     },
     "metadata": {},
     "output_type": "display_data"
    }
   ],
   "source": [
    "fig, ax = plt.subplots(figsize=(15, 8))\n",
    "sns.lineplot(data=date_count.query('DATE >= \"2018-12-01\" and DATE <= \"2018-12-31\"'), ax=ax)\n",
    "ax.set_title('Количество покупок в день\\n')\n",
    "ax.set_ylabel('Количество покупок\\n')\n",
    "ax.set_xlabel('\\nДни покупки')\n",
    "plt.grid(color='gainsboro', linestyle='-', linewidth=2)\n",
    "sns.despine()\n",
    "plt.show() "
   ]
  },
  {
   "cell_type": "markdown",
   "metadata": {},
   "source": [
    "Мы видим, что рост продаж происходит в преддверии Рождества и что есть ноль продаж в Рождественский день. Это связано с магазинами закрываются на\n",
    "Рождество."
   ]
  },
  {
   "cell_type": "markdown",
   "metadata": {},
   "source": [
    "Иследуем размеры упаковки"
   ]
  },
  {
   "cell_type": "code",
   "execution_count": 83,
   "metadata": {},
   "outputs": [
    {
     "name": "stderr",
     "output_type": "stream",
     "text": [
      "C:\\Users\\majkl\\AppData\\Local\\Temp\\ipykernel_27688\\906833305.py:1: SettingWithCopyWarning: \n",
      "A value is trying to be set on a copy of a slice from a DataFrame.\n",
      "Try using .loc[row_indexer,col_indexer] = value instead\n",
      "\n",
      "See the caveats in the documentation: https://pandas.pydata.org/pandas-docs/stable/user_guide/indexing.html#returning-a-view-versus-a-copy\n",
      "  merged_df[\"PROD_NAME\"] = merged_df[\"PROD_NAME\"].str.replace(r'[0-9]+(G)','g')\n"
     ]
    },
    {
     "data": {
      "text/plain": [
       "<Axes: ylabel='Frequency'>"
      ]
     },
     "execution_count": 83,
     "metadata": {},
     "output_type": "execute_result"
    },
    {
     "data": {
      "image/png": "[encoded data removed]",
      "text/plain": [
       "<Figure size 640x480 with 1 Axes>"
      ]
     },
     "metadata": {},
     "output_type": "display_data"
    }
   ],
   "source": [
    "merged_df[\"PROD_NAME\"] = merged_df[\"PROD_NAME\"].str.replace(r'[0-9]+(G)','g')\n",
    "pack_sizes = merged_df[\"PROD_NAME\"].str.extract(r'([0-9]+[gG])')[0].str.replace(\"g\",\"\").str.replace(\"G\",\"\").astype(\"float\")\n",
    "\n",
    "pack_sizes.plot.hist()"
   ]
  },
  {
   "cell_type": "markdown",
   "metadata": {},
   "source": [
    "Иследуем бренды"
   ]
  },
  {
   "cell_type": "code",
   "execution_count": 86,
   "metadata": {},
   "outputs": [
    {
     "name": "stderr",
     "output_type": "stream",
     "text": [
      "C:\\Users\\majkl\\AppData\\Local\\Temp\\ipykernel_27688\\1204368189.py:1: SettingWithCopyWarning: \n",
      "A value is trying to be set on a copy of a slice from a DataFrame.\n",
      "Try using .loc[row_indexer,col_indexer] = value instead\n",
      "\n",
      "See the caveats in the documentation: https://pandas.pydata.org/pandas-docs/stable/user_guide/indexing.html#returning-a-view-versus-a-copy\n",
      "  merged_df['brand_name'] = merged_df.PROD_NAME.apply(lambda x: x.split(' ')[0])\n"
     ]
    },
    {
     "data": {
      "application/vnd.microsoft.datawrangler.viewer.v0+json": {
       "columns": [
        {
         "name": "index",
         "rawType": "int64",
         "type": "integer"
        },
        {
         "name": "LYLTY_CARD_NBR",
         "rawType": "int64",
         "type": "integer"
        },
        {
         "name": "LIFESTAGE",
         "rawType": "object",
         "type": "string"
        },
        {
         "name": "PREMIUM_CUSTOMER",
         "rawType": "object",
         "type": "string"
        },
        {
         "name": "DATE",
         "rawType": "datetime64[ns]",
         "type": "datetime"
        },
        {
         "name": "STORE_NBR",
         "rawType": "int64",
         "type": "integer"
        },
        {
         "name": "TXN_ID",
         "rawType": "int64",
         "type": "integer"
        },
        {
         "name": "PROD_NBR",
         "rawType": "int64",
         "type": "integer"
        },
        {
         "name": "PROD_NAME",
         "rawType": "object",
         "type": "string"
        },
        {
         "name": "PROD_QTY",
         "rawType": "int64",
         "type": "integer"
        },
        {
         "name": "TOT_SALES",
         "rawType": "float64",
         "type": "float"
        },
        {
         "name": "brand_name",
         "rawType": "object",
         "type": "string"
        }
       ],
       "conversionMethod": "pd.DataFrame",
       "ref": "6e66a56e-82a6-4952-89f5-e1aba523ebc5",
       "rows": [
        [
         "0",
         "1000",
         "YOUNG SINGLES/COUPLES",
         "Premium",
         "2018-10-17 00:00:00",
         "1",
         "1",
         "5",
         "Natural Chip        Compny SeaSalt175g",
         "2",
         "6.0",
         "Natural"
        ],
        [
         "1",
         "1307",
         "MIDAGE SINGLES/COUPLES",
         "Budget",
         "2019-05-14 00:00:00",
         "1",
         "348",
         "66",
         "CCs Nacho Cheese    175g",
         "3",
         "6.3",
         "CCs"
        ],
        [
         "2",
         "1343",
         "MIDAGE SINGLES/COUPLES",
         "Budget",
         "2019-05-20 00:00:00",
         "1",
         "383",
         "61",
         "Smiths Crinkle Cut  Chips Chicken 170g",
         "2",
         "2.9",
         "Smiths"
        ],
        [
         "3",
         "2373",
         "MIDAGE SINGLES/COUPLES",
         "Budget",
         "2018-08-17 00:00:00",
         "2",
         "974",
         "69",
         "Smiths Chip Thinly  S/Cream&Onion 175g",
         "5",
         "15.0",
         "Smiths"
        ],
        [
         "4",
         "2426",
         "MIDAGE SINGLES/COUPLES",
         "Budget",
         "2018-08-18 00:00:00",
         "2",
         "1038",
         "108",
         "Kettle Tortilla ChpsHny&Jlpno Chili 150g",
         "3",
         "13.8",
         "Kettle"
        ],
        [
         "6",
         "4149",
         "MIDAGE SINGLES/COUPLES",
         "Budget",
         "2019-05-16 00:00:00",
         "4",
         "3333",
         "16",
         "Smiths Crinkle Chips Salt & Vinegar 330g",
         "1",
         "5.7",
         "Smiths"
        ],
        [
         "7",
         "4196",
         "MIDAGE SINGLES/COUPLES",
         "Budget",
         "2019-05-16 00:00:00",
         "4",
         "3539",
         "24",
         "Grain Waves         Sweet Chilli 210g",
         "1",
         "3.6",
         "Grain"
        ],
        [
         "8",
         "5026",
         "MIDAGE SINGLES/COUPLES",
         "Budget",
         "2018-08-20 00:00:00",
         "5",
         "4525",
         "42",
         "Doritos Corn Chip Mexican Jalapeno 150g",
         "1",
         "3.9",
         "Doritos"
        ],
        [
         "9",
         "7150",
         "MIDAGE SINGLES/COUPLES",
         "Budget",
         "2018-08-18 00:00:00",
         "7",
         "6900",
         "52",
         "Grain Waves Sour    Cream&Chives 210G",
         "2",
         "7.2",
         "Grain"
        ],
        [
         "10",
         "7215",
         "MIDAGE SINGLES/COUPLES",
         "Budget",
         "2019-05-17 00:00:00",
         "7",
         "7176",
         "16",
         "Smiths Crinkle Chips Salt & Vinegar 330g",
         "1",
         "5.7",
         "Smiths"
        ],
        [
         "11",
         "8294",
         "MIDAGE SINGLES/COUPLES",
         "Budget",
         "2018-08-20 00:00:00",
         "8",
         "8221",
         "114",
         "Kettle Sensations   Siracha Lime 150g",
         "5",
         "23.0",
         "Kettle"
        ],
        [
         "12",
         "9208",
         "MIDAGE SINGLES/COUPLES",
         "Budget",
         "2019-05-18 00:00:00",
         "9",
         "8634",
         "15",
         "Twisties Cheese     270g",
         "2",
         "9.2",
         "Twisties"
        ],
        [
         "13",
         "13213",
         "MIDAGE SINGLES/COUPLES",
         "Budget",
         "2018-08-17 00:00:00",
         "13",
         "12447",
         "92",
         "WW Crinkle Cut      Chicken 175g",
         "1",
         "1.7",
         "WW"
        ],
        [
         "14",
         "19272",
         "MIDAGE SINGLES/COUPLES",
         "Budget",
         "2019-05-15 00:00:00",
         "19",
         "16686",
         "44",
         "Thins Chips Light&  Tangy 175g",
         "1",
         "3.3",
         "Thins"
        ],
        [
         "15",
         "20164",
         "MIDAGE SINGLES/COUPLES",
         "Budget",
         "2019-05-19 00:00:00",
         "20",
         "17136",
         "54",
         "CCs Original 175g",
         "1",
         "2.1",
         "CCs"
        ],
        [
         "16",
         "20418",
         "MIDAGE SINGLES/COUPLES",
         "Budget",
         "2018-08-18 00:00:00",
         "20",
         "17413",
         "94",
         "Burger Rings 220g",
         "4",
         "9.2",
         "Burger"
        ],
        [
         "17",
         "22411",
         "MIDAGE SINGLES/COUPLES",
         "Budget",
         "2018-08-14 00:00:00",
         "22",
         "18646",
         "98",
         "NCC Sour Cream &    Garden Chives 175g",
         "1",
         "3.0",
         "NCC"
        ],
        [
         "18",
         "22456",
         "MIDAGE SINGLES/COUPLES",
         "Budget",
         "2018-08-17 00:00:00",
         "22",
         "18696",
         "93",
         "Doritos Corn Chip Southern Chicken 150g",
         "1",
         "3.9",
         "Doritos"
        ],
        [
         "19",
         "23067",
         "MIDAGE SINGLES/COUPLES",
         "Budget",
         "2019-05-16 00:00:00",
         "23",
         "19162",
         "56",
         "Cheezels Cheese Box 125g",
         "1",
         "2.1",
         "Cheezels"
        ],
        [
         "20",
         "25105",
         "MIDAGE SINGLES/COUPLES",
         "Budget",
         "2019-05-19 00:00:00",
         "25",
         "21815",
         "7",
         "Smiths Crinkle      Original 330g",
         "1",
         "5.7",
         "Smiths"
        ],
        [
         "21",
         "33081",
         "MIDAGE SINGLES/COUPLES",
         "Budget",
         "2018-08-16 00:00:00",
         "33",
         "29949",
         "98",
         "NCC Sour Cream &    Garden Chives 175g",
         "1",
         "3.0",
         "NCC"
        ],
        [
         "22",
         "36012",
         "MIDAGE SINGLES/COUPLES",
         "Budget",
         "2018-08-16 00:00:00",
         "36",
         "32077",
         "31",
         "Infzns Crn Crnchers Tangy Gcamole 110g",
         "1",
         "3.8",
         "Infzns"
        ],
        [
         "23",
         "36302",
         "MIDAGE SINGLES/COUPLES",
         "Budget",
         "2018-08-19 00:00:00",
         "36",
         "33188",
         "32",
         "Kettle Sea Salt     And Vinegar 175g",
         "1",
         "5.4",
         "Kettle"
        ],
        [
         "24",
         "38142",
         "MIDAGE SINGLES/COUPLES",
         "Budget",
         "2018-08-15 00:00:00",
         "38",
         "34181",
         "108",
         "Kettle Tortilla ChpsHny&Jlpno Chili 150g",
         "2",
         "9.2",
         "Kettle"
        ],
        [
         "26",
         "39167",
         "MIDAGE SINGLES/COUPLES",
         "Budget",
         "2018-08-19 00:00:00",
         "39",
         "35638",
         "111",
         "Smiths Chip Thinly  Cut Original 175g",
         "2",
         "6.0",
         "Smiths"
        ],
        [
         "27",
         "41423",
         "MIDAGE SINGLES/COUPLES",
         "Budget",
         "2019-05-15 00:00:00",
         "41",
         "38393",
         "46",
         "Kettle Original 175g",
         "1",
         "5.4",
         "Kettle"
        ],
        [
         "28",
         "41486",
         "MIDAGE SINGLES/COUPLES",
         "Budget",
         "2018-08-15 00:00:00",
         "41",
         "38472",
         "13",
         "Red Rock Deli Thai  Chilli&Lime 150g",
         "1",
         "2.7",
         "Red"
        ],
        [
         "29",
         "43110",
         "MIDAGE SINGLES/COUPLES",
         "Budget",
         "2019-05-20 00:00:00",
         "43",
         "39342",
         "31",
         "Infzns Crn Crnchers Tangy Gcamole 110g",
         "1",
         "3.8",
         "Infzns"
        ],
        [
         "30",
         "43147",
         "MIDAGE SINGLES/COUPLES",
         "Budget",
         "2019-05-16 00:00:00",
         "43",
         "39608",
         "99",
         "Pringles Sthrn FriedChicken 134g",
         "1",
         "3.7",
         "Pringles"
        ],
        [
         "31",
         "43227",
         "MIDAGE SINGLES/COUPLES",
         "Budget",
         "2019-05-15 00:00:00",
         "43",
         "40186",
         "26",
         "Pringles Sweet&Spcy BBQ 134g",
         "4",
         "14.8",
         "Pringles"
        ],
        [
         "33",
         "45220",
         "MIDAGE SINGLES/COUPLES",
         "Budget",
         "2019-05-18 00:00:00",
         "45",
         "41651",
         "22",
         "Thins Chips         Originl saltd 175g",
         "1",
         "3.3",
         "Thins"
        ],
        [
         "34",
         "51100",
         "MIDAGE SINGLES/COUPLES",
         "Budget",
         "2018-08-16 00:00:00",
         "51",
         "46802",
         "48",
         "Red Rock Deli Sp    Salt & Truffle 150G",
         "1",
         "2.7",
         "Red"
        ],
        [
         "35",
         "51100",
         "MIDAGE SINGLES/COUPLES",
         "Budget",
         "2018-08-19 00:00:00",
         "51",
         "46803",
         "37",
         "Smiths Thinly       Swt Chli&S/Cream175G",
         "1",
         "3.0",
         "Smiths"
        ],
        [
         "36",
         "51113",
         "MIDAGE SINGLES/COUPLES",
         "Budget",
         "2018-08-18 00:00:00",
         "51",
         "46828",
         "36",
         "Kettle Chilli 175g",
         "1",
         "5.4",
         "Kettle"
        ],
        [
         "37",
         "54226",
         "MIDAGE SINGLES/COUPLES",
         "Budget",
         "2018-08-17 00:00:00",
         "54",
         "48173",
         "51",
         "Doritos Mexicana    170g",
         "1",
         "4.4",
         "Doritos"
        ],
        [
         "38",
         "54305",
         "MIDAGE SINGLES/COUPLES",
         "Budget",
         "2018-08-18 00:00:00",
         "54",
         "48301",
         "44",
         "Thins Chips Light&  Tangy 175g",
         "2",
         "6.6",
         "Thins"
        ],
        [
         "39",
         "55072",
         "MIDAGE SINGLES/COUPLES",
         "Budget",
         "2018-08-18 00:00:00",
         "55",
         "48878",
         "107",
         "Smiths Crinkle Cut  French OnionDip 150g",
         "1",
         "2.6",
         "Smiths"
        ],
        [
         "40",
         "55072",
         "MIDAGE SINGLES/COUPLES",
         "Budget",
         "2019-05-14 00:00:00",
         "55",
         "48883",
         "106",
         "Natural ChipCo      Hony Soy Chckn175g",
         "1",
         "3.0",
         "Natural"
        ],
        [
         "41",
         "55073",
         "MIDAGE SINGLES/COUPLES",
         "Budget",
         "2019-05-20 00:00:00",
         "55",
         "48887",
         "4",
         "Dorito Corn Chp     Supreme 380g",
         "1",
         "3.25",
         "Dorito"
        ],
        [
         "42",
         "55073",
         "MIDAGE SINGLES/COUPLES",
         "Budget",
         "2019-05-20 00:00:00",
         "55",
         "48887",
         "113",
         "Twisties Chicken270g",
         "1",
         "4.6",
         "Twisties"
        ],
        [
         "43",
         "55202",
         "MIDAGE SINGLES/COUPLES",
         "Budget",
         "2019-05-16 00:00:00",
         "55",
         "49690",
         "45",
         "Smiths Thinly Cut   Roast Chicken 175g",
         "1",
         "3.0",
         "Smiths"
        ],
        [
         "45",
         "58324",
         "MIDAGE SINGLES/COUPLES",
         "Budget",
         "2019-05-16 00:00:00",
         "58",
         "54252",
         "102",
         "Kettle Mozzarella   Basil & Pesto 175g",
         "1",
         "5.4",
         "Kettle"
        ],
        [
         "46",
         "59344",
         "MIDAGE SINGLES/COUPLES",
         "Budget",
         "2019-05-16 00:00:00",
         "59",
         "56007",
         "31",
         "Infzns Crn Crnchers Tangy Gcamole 110g",
         "1",
         "3.8",
         "Infzns"
        ],
        [
         "47",
         "60038",
         "MIDAGE SINGLES/COUPLES",
         "Budget",
         "2018-08-16 00:00:00",
         "60",
         "56304",
         "104",
         "Infuzions Thai SweetChili PotatoMix 110g",
         "1",
         "3.8",
         "Infuzions"
        ],
        [
         "48",
         "60162",
         "MIDAGE SINGLES/COUPLES",
         "Budget",
         "2019-05-15 00:00:00",
         "60",
         "56825",
         "7",
         "Smiths Crinkle      Original 330g",
         "1",
         "5.7",
         "Smiths"
        ],
        [
         "49",
         "62177",
         "MIDAGE SINGLES/COUPLES",
         "Budget",
         "2019-05-14 00:00:00",
         "62",
         "58848",
         "3",
         "Kettle Sensations   Camembert & Fig 150g",
         "1",
         "4.6",
         "Kettle"
        ],
        [
         "50",
         "63201",
         "MIDAGE SINGLES/COUPLES",
         "Budget",
         "2019-05-20 00:00:00",
         "63",
         "60709",
         "82",
         "Smith Crinkle Cut   Mac N Cheese 150g",
         "1",
         "2.6",
         "Smith"
        ],
        [
         "51",
         "67053",
         "MIDAGE SINGLES/COUPLES",
         "Budget",
         "2018-08-20 00:00:00",
         "67",
         "64137",
         "88",
         "Kettle Honey Soy    Chicken 175g",
         "1",
         "5.4",
         "Kettle"
        ],
        [
         "52",
         "71122",
         "MIDAGE SINGLES/COUPLES",
         "Budget",
         "2019-05-20 00:00:00",
         "71",
         "69717",
         "40",
         "Thins Chips Seasonedchicken 175g",
         "1",
         "3.3",
         "Thins"
        ],
        [
         "53",
         "71212",
         "MIDAGE SINGLES/COUPLES",
         "Budget",
         "2019-05-19 00:00:00",
         "71",
         "70337",
         "73",
         "Smiths Crinkle Cut  Salt & Vinegar 170g",
         "2",
         "5.8",
         "Smiths"
        ]
       ],
       "shape": {
        "columns": 11,
        "rows": 246742
       }
      },
      "text/html": [
       "<div>\n",
       "<style scoped>\n",
       "    .dataframe tbody tr th:only-of-type {\n",
       "        vertical-align: middle;\n",
       "    }\n",
       "\n",
       "    .dataframe tbody tr th {\n",
       "        vertical-align: top;\n",
       "    }\n",
       "\n",
       "    .dataframe thead th {\n",
       "        text-align: right;\n",
       "    }\n",
       "</style>\n",
       "<table border=\"1\" class=\"dataframe\">\n",
       "  <thead>\n",
       "    <tr style=\"text-align: right;\">\n",
       "      <th></th>\n",
       "      <th>LYLTY_CARD_NBR</th>\n",
       "      <th>LIFESTAGE</th>\n",
       "      <th>PREMIUM_CUSTOMER</th>\n",
       "      <th>DATE</th>\n",
       "      <th>STORE_NBR</th>\n",
       "      <th>TXN_ID</th>\n",
       "      <th>PROD_NBR</th>\n",
       "      <th>PROD_NAME</th>\n",
       "      <th>PROD_QTY</th>\n",
       "      <th>TOT_SALES</th>\n",
       "      <th>brand_name</th>\n",
       "    </tr>\n",
       "  </thead>\n",
       "  <tbody>\n",
       "    <tr>\n",
       "      <th>0</th>\n",
       "      <td>1000</td>\n",
       "      <td>YOUNG SINGLES/COUPLES</td>\n",
       "      <td>Premium</td>\n",
       "      <td>2018-10-17</td>\n",
       "      <td>1</td>\n",
       "      <td>1</td>\n",
       "      <td>5</td>\n",
       "      <td>Natural Chip        Compny SeaSalt175g</td>\n",
       "      <td>2</td>\n",
       "      <td>6.0</td>\n",
       "      <td>Natural</td>\n",
       "    </tr>\n",
       "    <tr>\n",
       "      <th>1</th>\n",
       "      <td>1307</td>\n",
       "      <td>MIDAGE SINGLES/COUPLES</td>\n",
       "      <td>Budget</td>\n",
       "      <td>2019-05-14</td>\n",
       "      <td>1</td>\n",
       "      <td>348</td>\n",
       "      <td>66</td>\n",
       "      <td>CCs Nacho Cheese    175g</td>\n",
       "      <td>3</td>\n",
       "      <td>6.3</td>\n",
       "      <td>CCs</td>\n",
       "    </tr>\n",
       "    <tr>\n",
       "      <th>2</th>\n",
       "      <td>1343</td>\n",
       "      <td>MIDAGE SINGLES/COUPLES</td>\n",
       "      <td>Budget</td>\n",
       "      <td>2019-05-20</td>\n",
       "      <td>1</td>\n",
       "      <td>383</td>\n",
       "      <td>61</td>\n",
       "      <td>Smiths Crinkle Cut  Chips Chicken 170g</td>\n",
       "      <td>2</td>\n",
       "      <td>2.9</td>\n",
       "      <td>Smiths</td>\n",
       "    </tr>\n",
       "    <tr>\n",
       "      <th>3</th>\n",
       "      <td>2373</td>\n",
       "      <td>MIDAGE SINGLES/COUPLES</td>\n",
       "      <td>Budget</td>\n",
       "      <td>2018-08-17</td>\n",
       "      <td>2</td>\n",
       "      <td>974</td>\n",
       "      <td>69</td>\n",
       "      <td>Smiths Chip Thinly  S/Cream&amp;Onion 175g</td>\n",
       "      <td>5</td>\n",
       "      <td>15.0</td>\n",
       "      <td>Smiths</td>\n",
       "    </tr>\n",
       "    <tr>\n",
       "      <th>4</th>\n",
       "      <td>2426</td>\n",
       "      <td>MIDAGE SINGLES/COUPLES</td>\n",
       "      <td>Budget</td>\n",
       "      <td>2018-08-18</td>\n",
       "      <td>2</td>\n",
       "      <td>1038</td>\n",
       "      <td>108</td>\n",
       "      <td>Kettle Tortilla ChpsHny&amp;Jlpno Chili 150g</td>\n",
       "      <td>3</td>\n",
       "      <td>13.8</td>\n",
       "      <td>Kettle</td>\n",
       "    </tr>\n",
       "    <tr>\n",
       "      <th>...</th>\n",
       "      <td>...</td>\n",
       "      <td>...</td>\n",
       "      <td>...</td>\n",
       "      <td>...</td>\n",
       "      <td>...</td>\n",
       "      <td>...</td>\n",
       "      <td>...</td>\n",
       "      <td>...</td>\n",
       "      <td>...</td>\n",
       "      <td>...</td>\n",
       "      <td>...</td>\n",
       "    </tr>\n",
       "    <tr>\n",
       "      <th>264831</th>\n",
       "      <td>272319</td>\n",
       "      <td>YOUNG SINGLES/COUPLES</td>\n",
       "      <td>Premium</td>\n",
       "      <td>2019-03-09</td>\n",
       "      <td>272</td>\n",
       "      <td>270088</td>\n",
       "      <td>89</td>\n",
       "      <td>Kettle Sweet Chilli And Sour Cream 175g</td>\n",
       "      <td>2</td>\n",
       "      <td>10.8</td>\n",
       "      <td>Kettle</td>\n",
       "    </tr>\n",
       "    <tr>\n",
       "      <th>264832</th>\n",
       "      <td>272358</td>\n",
       "      <td>YOUNG SINGLES/COUPLES</td>\n",
       "      <td>Premium</td>\n",
       "      <td>2018-08-13</td>\n",
       "      <td>272</td>\n",
       "      <td>270154</td>\n",
       "      <td>74</td>\n",
       "      <td>Tostitos Splash Of  Lime 175g</td>\n",
       "      <td>1</td>\n",
       "      <td>4.4</td>\n",
       "      <td>Tostitos</td>\n",
       "    </tr>\n",
       "    <tr>\n",
       "      <th>264833</th>\n",
       "      <td>272379</td>\n",
       "      <td>YOUNG SINGLES/COUPLES</td>\n",
       "      <td>Premium</td>\n",
       "      <td>2018-11-06</td>\n",
       "      <td>272</td>\n",
       "      <td>270187</td>\n",
       "      <td>51</td>\n",
       "      <td>Doritos Mexicana    170g</td>\n",
       "      <td>2</td>\n",
       "      <td>8.8</td>\n",
       "      <td>Doritos</td>\n",
       "    </tr>\n",
       "    <tr>\n",
       "      <th>264834</th>\n",
       "      <td>272379</td>\n",
       "      <td>YOUNG SINGLES/COUPLES</td>\n",
       "      <td>Premium</td>\n",
       "      <td>2018-12-27</td>\n",
       "      <td>272</td>\n",
       "      <td>270188</td>\n",
       "      <td>42</td>\n",
       "      <td>Doritos Corn Chip Mexican Jalapeno 150g</td>\n",
       "      <td>2</td>\n",
       "      <td>7.8</td>\n",
       "      <td>Doritos</td>\n",
       "    </tr>\n",
       "    <tr>\n",
       "      <th>264835</th>\n",
       "      <td>272380</td>\n",
       "      <td>YOUNG SINGLES/COUPLES</td>\n",
       "      <td>Premium</td>\n",
       "      <td>2018-09-22</td>\n",
       "      <td>272</td>\n",
       "      <td>270189</td>\n",
       "      <td>74</td>\n",
       "      <td>Tostitos Splash Of  Lime 175g</td>\n",
       "      <td>2</td>\n",
       "      <td>8.8</td>\n",
       "      <td>Tostitos</td>\n",
       "    </tr>\n",
       "  </tbody>\n",
       "</table>\n",
       "<p>246742 rows × 11 columns</p>\n",
       "</div>"
      ],
      "text/plain": [
       "        LYLTY_CARD_NBR               LIFESTAGE PREMIUM_CUSTOMER       DATE  \\\n",
       "0                 1000   YOUNG SINGLES/COUPLES          Premium 2018-10-17   \n",
       "1                 1307  MIDAGE SINGLES/COUPLES           Budget 2019-05-14   \n",
       "2                 1343  MIDAGE SINGLES/COUPLES           Budget 2019-05-20   \n",
       "3                 2373  MIDAGE SINGLES/COUPLES           Budget 2018-08-17   \n",
       "4                 2426  MIDAGE SINGLES/COUPLES           Budget 2018-08-18   \n",
       "...                ...                     ...              ...        ...   \n",
       "264831          272319   YOUNG SINGLES/COUPLES          Premium 2019-03-09   \n",
       "264832          272358   YOUNG SINGLES/COUPLES          Premium 2018-08-13   \n",
       "264833          272379   YOUNG SINGLES/COUPLES          Premium 2018-11-06   \n",
       "264834          272379   YOUNG SINGLES/COUPLES          Premium 2018-12-27   \n",
       "264835          272380   YOUNG SINGLES/COUPLES          Premium 2018-09-22   \n",
       "\n",
       "        STORE_NBR  TXN_ID  PROD_NBR                                 PROD_NAME  \\\n",
       "0               1       1         5    Natural Chip        Compny SeaSalt175g   \n",
       "1               1     348        66                  CCs Nacho Cheese    175g   \n",
       "2               1     383        61    Smiths Crinkle Cut  Chips Chicken 170g   \n",
       "3               2     974        69    Smiths Chip Thinly  S/Cream&Onion 175g   \n",
       "4               2    1038       108  Kettle Tortilla ChpsHny&Jlpno Chili 150g   \n",
       "...           ...     ...       ...                                       ...   \n",
       "264831        272  270088        89   Kettle Sweet Chilli And Sour Cream 175g   \n",
       "264832        272  270154        74             Tostitos Splash Of  Lime 175g   \n",
       "264833        272  270187        51                  Doritos Mexicana    170g   \n",
       "264834        272  270188        42   Doritos Corn Chip Mexican Jalapeno 150g   \n",
       "264835        272  270189        74             Tostitos Splash Of  Lime 175g   \n",
       "\n",
       "        PROD_QTY  TOT_SALES brand_name  \n",
       "0              2        6.0    Natural  \n",
       "1              3        6.3        CCs  \n",
       "2              2        2.9     Smiths  \n",
       "3              5       15.0     Smiths  \n",
       "4              3       13.8     Kettle  \n",
       "...          ...        ...        ...  \n",
       "264831         2       10.8     Kettle  \n",
       "264832         1        4.4   Tostitos  \n",
       "264833         2        8.8    Doritos  \n",
       "264834         2        7.8    Doritos  \n",
       "264835         2        8.8   Tostitos  \n",
       "\n",
       "[246742 rows x 11 columns]"
      ]
     },
     "execution_count": 86,
     "metadata": {},
     "output_type": "execute_result"
    }
   ],
   "source": [
    "merged_df['brand_name'] = merged_df.PROD_NAME.apply(lambda x: x.split(' ')[0])\n",
    "merged_df"
   ]
  },
  {
   "cell_type": "markdown",
   "metadata": {},
   "source": [
    "Некоторые торговые марки выглядят так, как будто они принадлежат к одному и тому же бренду, например, RED и\n",
    "RRD, которые являются чипсами Red Rock Deli. Объединим их вместе"
   ]
  },
  {
   "cell_type": "code",
   "execution_count": 88,
   "metadata": {},
   "outputs": [
    {
     "name": "stderr",
     "output_type": "stream",
     "text": [
      "C:\\Users\\majkl\\AppData\\Local\\Temp\\ipykernel_27688\\4159005793.py:1: SettingWithCopyWarning: \n",
      "A value is trying to be set on a copy of a slice from a DataFrame.\n",
      "Try using .loc[row_indexer,col_indexer] = value instead\n",
      "\n",
      "See the caveats in the documentation: https://pandas.pydata.org/pandas-docs/stable/user_guide/indexing.html#returning-a-view-versus-a-copy\n",
      "  merged_df[\"Cleaned_Brand_Names\"] = merged_df[\"PROD_NAME\"].str.split().str[0]\n"
     ]
    }
   ],
   "source": [
    "merged_df[\"Cleaned_Brand_Names\"] = merged_df[\"PROD_NAME\"].str.split().str[0]"
   ]
  },
  {
   "cell_type": "code",
   "execution_count": 89,
   "metadata": {},
   "outputs": [],
   "source": [
    "def clean_brand_names(line):\n",
    "    brand = line[\"Cleaned_Brand_Names\"]\n",
    "    if brand == \"Dorito\":\n",
    "        return \"Doritos\"\n",
    "    elif brand == \"GrnWves\" or brand == \"Grain\":\n",
    "        return \"Grain Waves\"\n",
    "    elif brand == \"Infzns\":\n",
    "        return \"Infuzions\"\n",
    "    elif brand == \"Natural\" or brand == \"NCC\":\n",
    "        return \"Natural Chip Co\"\n",
    "    elif brand == \"Red\":\n",
    "        return \"RRD\"\n",
    "    elif brand == \"Smith\":\n",
    "        return \"Smiths\"\n",
    "    elif brand == \"Snbts\":\n",
    "        return \"Sunbites\"\n",
    "    elif brand == \"WW\":\n",
    "        return \"Woolworths\"\n",
    "    else:\n",
    "        return brand"
   ]
  },
  {
   "cell_type": "code",
   "execution_count": 90,
   "metadata": {},
   "outputs": [
    {
     "name": "stderr",
     "output_type": "stream",
     "text": [
      "C:\\Users\\majkl\\AppData\\Local\\Temp\\ipykernel_27688\\2959494453.py:1: SettingWithCopyWarning: \n",
      "A value is trying to be set on a copy of a slice from a DataFrame.\n",
      "Try using .loc[row_indexer,col_indexer] = value instead\n",
      "\n",
      "See the caveats in the documentation: https://pandas.pydata.org/pandas-docs/stable/user_guide/indexing.html#returning-a-view-versus-a-copy\n",
      "  merged_df[\"Cleaned_Brand_Names\"] = merged_df.apply(lambda line: clean_brand_names(line), axis=1)\n"
     ]
    }
   ],
   "source": [
    "merged_df[\"Cleaned_Brand_Names\"] = merged_df.apply(lambda line: clean_brand_names(line), axis=1)"
   ]
  },
  {
   "cell_type": "code",
   "execution_count": 94,
   "metadata": {},
   "outputs": [
    {
     "data": {
      "text/plain": [
       "array(['Natural Chip Co', 'CCs', 'Smiths', 'Kettle', 'Grain Waves',\n",
       "       'Doritos', 'Twisties', 'Woolworths', 'Thins', 'Burger', 'Cheezels',\n",
       "       'Infuzions', 'RRD', 'Pringles', 'Tyrrells', 'Cobs', 'French',\n",
       "       'Tostitos', 'Cheetos', 'Sunbites'], dtype=object)"
      ]
     },
     "execution_count": 94,
     "metadata": {},
     "output_type": "execute_result"
    }
   ],
   "source": [
    "merged_df[\"Cleaned_Brand_Names\"].unique()"
   ]
  },
  {
   "cell_type": "code",
   "execution_count": 95,
   "metadata": {},
   "outputs": [
    {
     "data": {
      "text/plain": [
       "<Axes: ylabel='Cleaned_Brand_Names'>"
      ]
     },
     "execution_count": 95,
     "metadata": {},
     "output_type": "execute_result"
    },
    {
     "data": {
      "image/png": "[encoded data removed]",
      "text/plain": [
       "<Figure size 1500x1000 with 1 Axes>"
      ]
     },
     "metadata": {},
     "output_type": "display_data"
    }
   ],
   "source": [
    "merged_df[\"Cleaned_Brand_Names\"].value_counts(ascending=True).plot.barh(figsize=(15,10))"
   ]
  },
  {
   "cell_type": "code",
   "execution_count": 96,
   "metadata": {},
   "outputs": [
    {
     "data": {
      "text/plain": [
       "LYLTY_CARD_NBR         0\n",
       "LIFESTAGE              0\n",
       "PREMIUM_CUSTOMER       0\n",
       "DATE                   0\n",
       "STORE_NBR              0\n",
       "TXN_ID                 0\n",
       "PROD_NBR               0\n",
       "PROD_NAME              0\n",
       "PROD_QTY               0\n",
       "TOT_SALES              0\n",
       "brand_name             0\n",
       "Cleaned_Brand_Names    0\n",
       "dtype: int64"
      ]
     },
     "execution_count": 96,
     "metadata": {},
     "output_type": "execute_result"
    }
   ],
   "source": [
    "merged_df.isnull().sum()"
   ]
  },
  {
   "cell_type": "code",
   "execution_count": 97,
   "metadata": {},
   "outputs": [],
   "source": [
    "merged_df.to_csv('C:/Users/majkl/WorkSpace/Project_8/QVI_data.csv')"
   ]
  },
  {
   "cell_type": "markdown",
   "metadata": {},
   "source": [
    "Анализ данных по сегментам клиентов"
   ]
  },
  {
   "cell_type": "markdown",
   "metadata": {},
   "source": [
    "Сделаем расчет общего объема продаж по категориям LIFESTAGE и PREMIUM_CUSTOMER и\n",
    "построим график распределения по этим сегментам, чтобы описать, какой потребительский сегмент вносит\n",
    "наибольший вклад в продажи чипсов."
   ]
  },
  {
   "cell_type": "code",
   "execution_count": 100,
   "metadata": {},
   "outputs": [
    {
     "data": {
      "application/vnd.microsoft.datawrangler.viewer.v0+json": {
       "columns": [
        {
         "name": "('LIFESTAGE', 'PREMIUM_CUSTOMER')",
         "rawType": "object",
         "type": "unknown"
        },
        {
         "name": "sum",
         "rawType": "float64",
         "type": "float"
        },
        {
         "name": "mean",
         "rawType": "float64",
         "type": "float"
        }
       ],
       "conversionMethod": "pd.DataFrame",
       "ref": "b7db4d79-fef2-4462-8c29-0e416288a027",
       "rows": [
        [
         "('OLDER FAMILIES', 'Budget')",
         "156863.75",
         "7.291240587524403"
        ],
        [
         "('YOUNG SINGLES/COUPLES', 'Mainstream')",
         "147582.2",
         "7.551279164961114"
        ],
        [
         "('RETIREES', 'Mainstream')",
         "145168.95",
         "7.269351527290937"
        ],
        [
         "('YOUNG FAMILIES', 'Budget')",
         "129717.95",
         "7.302705061082024"
        ],
        [
         "('OLDER SINGLES/COUPLES', 'Budget')",
         "127833.6",
         "7.444304682040531"
        ],
        [
         "('OLDER SINGLES/COUPLES', 'Mainstream')",
         "124648.5",
         "7.306048883418322"
        ],
        [
         "('OLDER SINGLES/COUPLES', 'Premium')",
         "123537.55",
         "7.459996980676329"
        ],
        [
         "('RETIREES', 'Budget')",
         "105916.3",
         "7.445785588752197"
        ],
        [
         "('OLDER FAMILIES', 'Mainstream')",
         "96413.55",
         "7.281440223548071"
        ],
        [
         "('RETIREES', 'Premium')",
         "91296.65",
         "7.461314972213141"
        ],
        [
         "('YOUNG FAMILIES', 'Mainstream')",
         "86338.25",
         "7.226772411484054"
        ],
        [
         "('MIDAGE SINGLES/COUPLES', 'Mainstream')",
         "84734.25",
         "7.637156376746282"
        ],
        [
         "('YOUNG FAMILIES', 'Premium')",
         "78571.7",
         "7.285951409495548"
        ],
        [
         "('OLDER FAMILIES', 'Premium')",
         "76542.6",
         "7.356328688130707"
        ],
        [
         "('YOUNG SINGLES/COUPLES', 'Budget')",
         "57122.1",
         "6.663023445701621"
        ],
        [
         "('MIDAGE SINGLES/COUPLES', 'Premium')",
         "54443.85",
         "7.152371255911718"
        ],
        [
         "('YOUNG SINGLES/COUPLES', 'Premium')",
         "39052.3",
         "6.673325358851675"
        ],
        [
         "('MIDAGE SINGLES/COUPLES', 'Budget')",
         "33345.7",
         "7.108441696866339"
        ],
        [
         "('NEW FAMILIES', 'Budget')",
         "20607.45",
         "7.29725566572238"
        ],
        [
         "('NEW FAMILIES', 'Mainstream')",
         "15979.7",
         "7.313363844393593"
        ],
        [
         "('NEW FAMILIES', 'Premium')",
         "10760.8",
         "7.231720430107527"
        ]
       ],
       "shape": {
        "columns": 2,
        "rows": 21
       }
      },
      "text/html": [
       "<div>\n",
       "<style scoped>\n",
       "    .dataframe tbody tr th:only-of-type {\n",
       "        vertical-align: middle;\n",
       "    }\n",
       "\n",
       "    .dataframe tbody tr th {\n",
       "        vertical-align: top;\n",
       "    }\n",
       "\n",
       "    .dataframe thead th {\n",
       "        text-align: right;\n",
       "    }\n",
       "</style>\n",
       "<table border=\"1\" class=\"dataframe\">\n",
       "  <thead>\n",
       "    <tr style=\"text-align: right;\">\n",
       "      <th></th>\n",
       "      <th></th>\n",
       "      <th>sum</th>\n",
       "      <th>mean</th>\n",
       "    </tr>\n",
       "    <tr>\n",
       "      <th>LIFESTAGE</th>\n",
       "      <th>PREMIUM_CUSTOMER</th>\n",
       "      <th></th>\n",
       "      <th></th>\n",
       "    </tr>\n",
       "  </thead>\n",
       "  <tbody>\n",
       "    <tr>\n",
       "      <th>OLDER FAMILIES</th>\n",
       "      <th>Budget</th>\n",
       "      <td>156863.75</td>\n",
       "      <td>7.291241</td>\n",
       "    </tr>\n",
       "    <tr>\n",
       "      <th>YOUNG SINGLES/COUPLES</th>\n",
       "      <th>Mainstream</th>\n",
       "      <td>147582.20</td>\n",
       "      <td>7.551279</td>\n",
       "    </tr>\n",
       "    <tr>\n",
       "      <th>RETIREES</th>\n",
       "      <th>Mainstream</th>\n",
       "      <td>145168.95</td>\n",
       "      <td>7.269352</td>\n",
       "    </tr>\n",
       "    <tr>\n",
       "      <th>YOUNG FAMILIES</th>\n",
       "      <th>Budget</th>\n",
       "      <td>129717.95</td>\n",
       "      <td>7.302705</td>\n",
       "    </tr>\n",
       "    <tr>\n",
       "      <th rowspan=\"3\" valign=\"top\">OLDER SINGLES/COUPLES</th>\n",
       "      <th>Budget</th>\n",
       "      <td>127833.60</td>\n",
       "      <td>7.444305</td>\n",
       "    </tr>\n",
       "    <tr>\n",
       "      <th>Mainstream</th>\n",
       "      <td>124648.50</td>\n",
       "      <td>7.306049</td>\n",
       "    </tr>\n",
       "    <tr>\n",
       "      <th>Premium</th>\n",
       "      <td>123537.55</td>\n",
       "      <td>7.459997</td>\n",
       "    </tr>\n",
       "    <tr>\n",
       "      <th>RETIREES</th>\n",
       "      <th>Budget</th>\n",
       "      <td>105916.30</td>\n",
       "      <td>7.445786</td>\n",
       "    </tr>\n",
       "    <tr>\n",
       "      <th>OLDER FAMILIES</th>\n",
       "      <th>Mainstream</th>\n",
       "      <td>96413.55</td>\n",
       "      <td>7.281440</td>\n",
       "    </tr>\n",
       "    <tr>\n",
       "      <th>RETIREES</th>\n",
       "      <th>Premium</th>\n",
       "      <td>91296.65</td>\n",
       "      <td>7.461315</td>\n",
       "    </tr>\n",
       "    <tr>\n",
       "      <th>YOUNG FAMILIES</th>\n",
       "      <th>Mainstream</th>\n",
       "      <td>86338.25</td>\n",
       "      <td>7.226772</td>\n",
       "    </tr>\n",
       "    <tr>\n",
       "      <th>MIDAGE SINGLES/COUPLES</th>\n",
       "      <th>Mainstream</th>\n",
       "      <td>84734.25</td>\n",
       "      <td>7.637156</td>\n",
       "    </tr>\n",
       "    <tr>\n",
       "      <th>YOUNG FAMILIES</th>\n",
       "      <th>Premium</th>\n",
       "      <td>78571.70</td>\n",
       "      <td>7.285951</td>\n",
       "    </tr>\n",
       "    <tr>\n",
       "      <th>OLDER FAMILIES</th>\n",
       "      <th>Premium</th>\n",
       "      <td>76542.60</td>\n",
       "      <td>7.356329</td>\n",
       "    </tr>\n",
       "    <tr>\n",
       "      <th>YOUNG SINGLES/COUPLES</th>\n",
       "      <th>Budget</th>\n",
       "      <td>57122.10</td>\n",
       "      <td>6.663023</td>\n",
       "    </tr>\n",
       "    <tr>\n",
       "      <th>MIDAGE SINGLES/COUPLES</th>\n",
       "      <th>Premium</th>\n",
       "      <td>54443.85</td>\n",
       "      <td>7.152371</td>\n",
       "    </tr>\n",
       "    <tr>\n",
       "      <th>YOUNG SINGLES/COUPLES</th>\n",
       "      <th>Premium</th>\n",
       "      <td>39052.30</td>\n",
       "      <td>6.673325</td>\n",
       "    </tr>\n",
       "    <tr>\n",
       "      <th>MIDAGE SINGLES/COUPLES</th>\n",
       "      <th>Budget</th>\n",
       "      <td>33345.70</td>\n",
       "      <td>7.108442</td>\n",
       "    </tr>\n",
       "    <tr>\n",
       "      <th rowspan=\"3\" valign=\"top\">NEW FAMILIES</th>\n",
       "      <th>Budget</th>\n",
       "      <td>20607.45</td>\n",
       "      <td>7.297256</td>\n",
       "    </tr>\n",
       "    <tr>\n",
       "      <th>Mainstream</th>\n",
       "      <td>15979.70</td>\n",
       "      <td>7.313364</td>\n",
       "    </tr>\n",
       "    <tr>\n",
       "      <th>Premium</th>\n",
       "      <td>10760.80</td>\n",
       "      <td>7.231720</td>\n",
       "    </tr>\n",
       "  </tbody>\n",
       "</table>\n",
       "</div>"
      ],
      "text/plain": [
       "                                               sum      mean\n",
       "LIFESTAGE              PREMIUM_CUSTOMER                     \n",
       "OLDER FAMILIES         Budget            156863.75  7.291241\n",
       "YOUNG SINGLES/COUPLES  Mainstream        147582.20  7.551279\n",
       "RETIREES               Mainstream        145168.95  7.269352\n",
       "YOUNG FAMILIES         Budget            129717.95  7.302705\n",
       "OLDER SINGLES/COUPLES  Budget            127833.60  7.444305\n",
       "                       Mainstream        124648.50  7.306049\n",
       "                       Premium           123537.55  7.459997\n",
       "RETIREES               Budget            105916.30  7.445786\n",
       "OLDER FAMILIES         Mainstream         96413.55  7.281440\n",
       "RETIREES               Premium            91296.65  7.461315\n",
       "YOUNG FAMILIES         Mainstream         86338.25  7.226772\n",
       "MIDAGE SINGLES/COUPLES Mainstream         84734.25  7.637156\n",
       "YOUNG FAMILIES         Premium            78571.70  7.285951\n",
       "OLDER FAMILIES         Premium            76542.60  7.356329\n",
       "YOUNG SINGLES/COUPLES  Budget             57122.10  6.663023\n",
       "MIDAGE SINGLES/COUPLES Premium            54443.85  7.152371\n",
       "YOUNG SINGLES/COUPLES  Premium            39052.30  6.673325\n",
       "MIDAGE SINGLES/COUPLES Budget             33345.70  7.108442\n",
       "NEW FAMILIES           Budget             20607.45  7.297256\n",
       "                       Mainstream         15979.70  7.313364\n",
       "                       Premium            10760.80  7.231720"
      ]
     },
     "execution_count": 100,
     "metadata": {},
     "output_type": "execute_result"
    }
   ],
   "source": [
    "grouped_sales = pd.DataFrame(merged_df.groupby([\"LIFESTAGE\", \"PREMIUM_CUSTOMER\"])[\"TOT_SALES\"].agg([\"sum\", \"mean\"]))\n",
    "grouped_sales.sort_values(ascending=False, by=\"sum\")"
   ]
  },
  {
   "cell_type": "code",
   "execution_count": 101,
   "metadata": {},
   "outputs": [
    {
     "data": {
      "text/plain": [
       "<Axes: ylabel='LIFESTAGE,PREMIUM_CUSTOMER'>"
      ]
     },
     "execution_count": 101,
     "metadata": {},
     "output_type": "execute_result"
    },
    {
     "data": {
      "image/png": "[encoded data removed]",
      "text/plain": [
       "<Figure size 1500x1000 with 1 Axes>"
      ]
     },
     "metadata": {},
     "output_type": "display_data"
    }
   ],
   "source": [
    "grouped_sales[\"sum\"].sort_values().plot.barh(figsize=(15,10))"
   ]
  },
  {
   "cell_type": "code",
   "execution_count": 104,
   "metadata": {},
   "outputs": [
    {
     "name": "stdout",
     "output_type": "stream",
     "text": [
      "Top contributor per LIFESTAGE by PREMIUM category\n",
      "LIFESTAGE\n",
      "NEW FAMILIES                  Budget\n",
      "OLDER FAMILIES                Budget\n",
      "OLDER SINGLES/COUPLES         Budget\n",
      "YOUNG FAMILIES                Budget\n",
      "MIDAGE SINGLES/COUPLES    Mainstream\n",
      "RETIREES                  Mainstream\n",
      "YOUNG SINGLES/COUPLES     Mainstream\n",
      "Name: PREMIUM_CUSTOMER, dtype: object\n"
     ]
    }
   ],
   "source": [
    "stage_agg_prem = merged_df.groupby(\"LIFESTAGE\")[\"PREMIUM_CUSTOMER\"].agg(pd.Series.mode).sort_values()\n",
    "print(\"Top contributor per LIFESTAGE by PREMIUM category\")\n",
    "print(stage_agg_prem)"
   ]
  },
  {
   "cell_type": "markdown",
   "metadata": {},
   "source": [
    "В топ-3 сегмента с общим объемом продаж входят (по порядку):\n",
    "\n",
    "Семьи пожилого возраста (бюджет) - 156 864 доллара США\n",
    "Молодые одиночки/семейные пары (основной поток) - 147 582 доллара США\n",
    "Пенсионеры (основной поток) - 145 169 долларов США"
   ]
  },
  {
   "cell_type": "code",
   "execution_count": 106,
   "metadata": {},
   "outputs": [
    {
     "data": {
      "application/vnd.microsoft.datawrangler.viewer.v0+json": {
       "columns": [
        {
         "name": "('LIFESTAGE', 'PREMIUM_CUSTOMER')",
         "rawType": "object",
         "type": "unknown"
        },
        {
         "name": "LYLTY_CARD_NBR",
         "rawType": "int64",
         "type": "integer"
        }
       ],
       "conversionMethod": "pd.DataFrame",
       "ref": "0dda9271-3f8f-4063-83f6-f4116acde1ba",
       "rows": [
        [
         "('YOUNG SINGLES/COUPLES', 'Mainstream')",
         "7917"
        ],
        [
         "('RETIREES', 'Mainstream')",
         "6358"
        ],
        [
         "('OLDER SINGLES/COUPLES', 'Mainstream')",
         "4858"
        ],
        [
         "('OLDER SINGLES/COUPLES', 'Budget')",
         "4849"
        ],
        [
         "('OLDER SINGLES/COUPLES', 'Premium')",
         "4682"
        ],
        [
         "('OLDER FAMILIES', 'Budget')",
         "4611"
        ],
        [
         "('RETIREES', 'Budget')",
         "4385"
        ],
        [
         "('YOUNG FAMILIES', 'Budget')",
         "3953"
        ],
        [
         "('RETIREES', 'Premium')",
         "3812"
        ],
        [
         "('YOUNG SINGLES/COUPLES', 'Budget')",
         "3647"
        ],
        [
         "('MIDAGE SINGLES/COUPLES', 'Mainstream')",
         "3298"
        ],
        [
         "('OLDER FAMILIES', 'Mainstream')",
         "2788"
        ],
        [
         "('YOUNG FAMILIES', 'Mainstream')",
         "2685"
        ],
        [
         "('YOUNG SINGLES/COUPLES', 'Premium')",
         "2480"
        ],
        [
         "('YOUNG FAMILIES', 'Premium')",
         "2398"
        ],
        [
         "('MIDAGE SINGLES/COUPLES', 'Premium')",
         "2369"
        ],
        [
         "('OLDER FAMILIES', 'Premium')",
         "2232"
        ],
        [
         "('MIDAGE SINGLES/COUPLES', 'Budget')",
         "1474"
        ],
        [
         "('NEW FAMILIES', 'Budget')",
         "1087"
        ],
        [
         "('NEW FAMILIES', 'Mainstream')",
         "830"
        ],
        [
         "('NEW FAMILIES', 'Premium')",
         "575"
        ]
       ],
       "shape": {
        "columns": 1,
        "rows": 21
       }
      },
      "text/html": [
       "<div>\n",
       "<style scoped>\n",
       "    .dataframe tbody tr th:only-of-type {\n",
       "        vertical-align: middle;\n",
       "    }\n",
       "\n",
       "    .dataframe tbody tr th {\n",
       "        vertical-align: top;\n",
       "    }\n",
       "\n",
       "    .dataframe thead th {\n",
       "        text-align: right;\n",
       "    }\n",
       "</style>\n",
       "<table border=\"1\" class=\"dataframe\">\n",
       "  <thead>\n",
       "    <tr style=\"text-align: right;\">\n",
       "      <th></th>\n",
       "      <th></th>\n",
       "      <th>LYLTY_CARD_NBR</th>\n",
       "    </tr>\n",
       "    <tr>\n",
       "      <th>LIFESTAGE</th>\n",
       "      <th>PREMIUM_CUSTOMER</th>\n",
       "      <th></th>\n",
       "    </tr>\n",
       "  </thead>\n",
       "  <tbody>\n",
       "    <tr>\n",
       "      <th>YOUNG SINGLES/COUPLES</th>\n",
       "      <th>Mainstream</th>\n",
       "      <td>7917</td>\n",
       "    </tr>\n",
       "    <tr>\n",
       "      <th>RETIREES</th>\n",
       "      <th>Mainstream</th>\n",
       "      <td>6358</td>\n",
       "    </tr>\n",
       "    <tr>\n",
       "      <th rowspan=\"3\" valign=\"top\">OLDER SINGLES/COUPLES</th>\n",
       "      <th>Mainstream</th>\n",
       "      <td>4858</td>\n",
       "    </tr>\n",
       "    <tr>\n",
       "      <th>Budget</th>\n",
       "      <td>4849</td>\n",
       "    </tr>\n",
       "    <tr>\n",
       "      <th>Premium</th>\n",
       "      <td>4682</td>\n",
       "    </tr>\n",
       "    <tr>\n",
       "      <th>OLDER FAMILIES</th>\n",
       "      <th>Budget</th>\n",
       "      <td>4611</td>\n",
       "    </tr>\n",
       "    <tr>\n",
       "      <th>RETIREES</th>\n",
       "      <th>Budget</th>\n",
       "      <td>4385</td>\n",
       "    </tr>\n",
       "    <tr>\n",
       "      <th>YOUNG FAMILIES</th>\n",
       "      <th>Budget</th>\n",
       "      <td>3953</td>\n",
       "    </tr>\n",
       "    <tr>\n",
       "      <th>RETIREES</th>\n",
       "      <th>Premium</th>\n",
       "      <td>3812</td>\n",
       "    </tr>\n",
       "    <tr>\n",
       "      <th>YOUNG SINGLES/COUPLES</th>\n",
       "      <th>Budget</th>\n",
       "      <td>3647</td>\n",
       "    </tr>\n",
       "    <tr>\n",
       "      <th>MIDAGE SINGLES/COUPLES</th>\n",
       "      <th>Mainstream</th>\n",
       "      <td>3298</td>\n",
       "    </tr>\n",
       "    <tr>\n",
       "      <th>OLDER FAMILIES</th>\n",
       "      <th>Mainstream</th>\n",
       "      <td>2788</td>\n",
       "    </tr>\n",
       "    <tr>\n",
       "      <th>YOUNG FAMILIES</th>\n",
       "      <th>Mainstream</th>\n",
       "      <td>2685</td>\n",
       "    </tr>\n",
       "    <tr>\n",
       "      <th>YOUNG SINGLES/COUPLES</th>\n",
       "      <th>Premium</th>\n",
       "      <td>2480</td>\n",
       "    </tr>\n",
       "    <tr>\n",
       "      <th>YOUNG FAMILIES</th>\n",
       "      <th>Premium</th>\n",
       "      <td>2398</td>\n",
       "    </tr>\n",
       "    <tr>\n",
       "      <th>MIDAGE SINGLES/COUPLES</th>\n",
       "      <th>Premium</th>\n",
       "      <td>2369</td>\n",
       "    </tr>\n",
       "    <tr>\n",
       "      <th>OLDER FAMILIES</th>\n",
       "      <th>Premium</th>\n",
       "      <td>2232</td>\n",
       "    </tr>\n",
       "    <tr>\n",
       "      <th>MIDAGE SINGLES/COUPLES</th>\n",
       "      <th>Budget</th>\n",
       "      <td>1474</td>\n",
       "    </tr>\n",
       "    <tr>\n",
       "      <th rowspan=\"3\" valign=\"top\">NEW FAMILIES</th>\n",
       "      <th>Budget</th>\n",
       "      <td>1087</td>\n",
       "    </tr>\n",
       "    <tr>\n",
       "      <th>Mainstream</th>\n",
       "      <td>830</td>\n",
       "    </tr>\n",
       "    <tr>\n",
       "      <th>Premium</th>\n",
       "      <td>575</td>\n",
       "    </tr>\n",
       "  </tbody>\n",
       "</table>\n",
       "</div>"
      ],
      "text/plain": [
       "                                         LYLTY_CARD_NBR\n",
       "LIFESTAGE              PREMIUM_CUSTOMER                \n",
       "YOUNG SINGLES/COUPLES  Mainstream                  7917\n",
       "RETIREES               Mainstream                  6358\n",
       "OLDER SINGLES/COUPLES  Mainstream                  4858\n",
       "                       Budget                      4849\n",
       "                       Premium                     4682\n",
       "OLDER FAMILIES         Budget                      4611\n",
       "RETIREES               Budget                      4385\n",
       "YOUNG FAMILIES         Budget                      3953\n",
       "RETIREES               Premium                     3812\n",
       "YOUNG SINGLES/COUPLES  Budget                      3647\n",
       "MIDAGE SINGLES/COUPLES Mainstream                  3298\n",
       "OLDER FAMILIES         Mainstream                  2788\n",
       "YOUNG FAMILIES         Mainstream                  2685\n",
       "YOUNG SINGLES/COUPLES  Premium                     2480\n",
       "YOUNG FAMILIES         Premium                     2398\n",
       "MIDAGE SINGLES/COUPLES Premium                     2369\n",
       "OLDER FAMILIES         Premium                     2232\n",
       "MIDAGE SINGLES/COUPLES Budget                      1474\n",
       "NEW FAMILIES           Budget                      1087\n",
       "                       Mainstream                   830\n",
       "                       Premium                      575"
      ]
     },
     "execution_count": 106,
     "metadata": {},
     "output_type": "execute_result"
    }
   ],
   "source": [
    "unique_cust = merged_df.groupby([\"LIFESTAGE\", \"PREMIUM_CUSTOMER\"])[\"LYLTY_CARD_NBR\"].nunique().sort_values(ascending=False)\n",
    "pd.DataFrame(unique_cust)"
   ]
  },
  {
   "cell_type": "code",
   "execution_count": 107,
   "metadata": {},
   "outputs": [
    {
     "data": {
      "text/plain": [
       "<Axes: ylabel='LIFESTAGE,PREMIUM_CUSTOMER'>"
      ]
     },
     "execution_count": 107,
     "metadata": {},
     "output_type": "execute_result"
    },
    {
     "data": {
      "image/png": "[encoded data removed]",
      "text/plain": [
       "<Figure size 1500x1000 with 1 Axes>"
      ]
     },
     "metadata": {},
     "output_type": "display_data"
    }
   ],
   "source": [
    "\n",
    "unique_cust.sort_values().plot.barh(figsize=(15,10))"
   ]
  },
  {
   "cell_type": "code",
   "execution_count": 119,
   "metadata": {},
   "outputs": [
    {
     "data": {
      "application/vnd.microsoft.datawrangler.viewer.v0+json": {
       "columns": [
        {
         "name": "Segment",
         "rawType": "object",
         "type": "string"
        },
        {
         "name": "mean_price",
         "rawType": "float64",
         "type": "float"
        }
       ],
       "conversionMethod": "pd.DataFrame",
       "ref": "d2167122-fb66-40b5-af4b-8ccac1ec448b",
       "rows": [
        [
         "YOUNG SINGLES/COUPLES - Mainstream",
         "4.065641629144494"
        ],
        [
         "MIDAGE SINGLES/COUPLES - Mainstream",
         "3.994240648940964"
        ],
        [
         "RETIREES - Budget",
         "3.9244042179261864"
        ],
        [
         "RETIREES - Premium",
         "3.920942301405688"
        ],
        [
         "NEW FAMILIES - Budget",
         "3.917687677053824"
        ],
        [
         "NEW FAMILIES - Mainstream",
         "3.916132723112128"
        ],
        [
         "OLDER SINGLES/COUPLES - Premium",
         "3.8931823671497585"
        ],
        [
         "OLDER SINGLES/COUPLES - Budget",
         "3.882095853715351"
        ],
        [
         "NEW FAMILIES - Premium",
         "3.8721102150537634"
        ],
        [
         "RETIREES - Mainstream",
         "3.844293940911367"
        ],
        [
         "OLDER SINGLES/COUPLES - Mainstream",
         "3.814665025496747"
        ],
        [
         "MIDAGE SINGLES/COUPLES - Premium",
         "3.7706975827640568"
        ],
        [
         "YOUNG FAMILIES - Premium",
         "3.7621504080118693"
        ],
        [
         "YOUNG FAMILIES - Budget",
         "3.7607369250689637"
        ],
        [
         "OLDER FAMILIES - Budget",
         "3.7453402435623313"
        ],
        [
         "MIDAGE SINGLES/COUPLES - Budget",
         "3.7433276486889793"
        ],
        [
         "OLDER FAMILIES - Mainstream",
         "3.7370772600256776"
        ],
        [
         "YOUNG FAMILIES - Mainstream",
         "3.724533355654139"
        ],
        [
         "OLDER FAMILIES - Premium",
         "3.7169101393560786"
        ],
        [
         "YOUNG SINGLES/COUPLES - Premium",
         "3.6654135338345863"
        ],
        [
         "YOUNG SINGLES/COUPLES - Budget",
         "3.657366149539251"
        ]
       ],
       "shape": {
        "columns": 1,
        "rows": 21
       }
      },
      "text/html": [
       "<div>\n",
       "<style scoped>\n",
       "    .dataframe tbody tr th:only-of-type {\n",
       "        vertical-align: middle;\n",
       "    }\n",
       "\n",
       "    .dataframe tbody tr th {\n",
       "        vertical-align: top;\n",
       "    }\n",
       "\n",
       "    .dataframe thead th {\n",
       "        text-align: right;\n",
       "    }\n",
       "</style>\n",
       "<table border=\"1\" class=\"dataframe\">\n",
       "  <thead>\n",
       "    <tr style=\"text-align: right;\">\n",
       "      <th></th>\n",
       "      <th>mean_price</th>\n",
       "    </tr>\n",
       "    <tr>\n",
       "      <th>Segment</th>\n",
       "      <th></th>\n",
       "    </tr>\n",
       "  </thead>\n",
       "  <tbody>\n",
       "    <tr>\n",
       "      <th>YOUNG SINGLES/COUPLES - Mainstream</th>\n",
       "      <td>4.065642</td>\n",
       "    </tr>\n",
       "    <tr>\n",
       "      <th>MIDAGE SINGLES/COUPLES - Mainstream</th>\n",
       "      <td>3.994241</td>\n",
       "    </tr>\n",
       "    <tr>\n",
       "      <th>RETIREES - Budget</th>\n",
       "      <td>3.924404</td>\n",
       "    </tr>\n",
       "    <tr>\n",
       "      <th>RETIREES - Premium</th>\n",
       "      <td>3.920942</td>\n",
       "    </tr>\n",
       "    <tr>\n",
       "      <th>NEW FAMILIES - Budget</th>\n",
       "      <td>3.917688</td>\n",
       "    </tr>\n",
       "    <tr>\n",
       "      <th>NEW FAMILIES - Mainstream</th>\n",
       "      <td>3.916133</td>\n",
       "    </tr>\n",
       "    <tr>\n",
       "      <th>OLDER SINGLES/COUPLES - Premium</th>\n",
       "      <td>3.893182</td>\n",
       "    </tr>\n",
       "    <tr>\n",
       "      <th>OLDER SINGLES/COUPLES - Budget</th>\n",
       "      <td>3.882096</td>\n",
       "    </tr>\n",
       "    <tr>\n",
       "      <th>NEW FAMILIES - Premium</th>\n",
       "      <td>3.872110</td>\n",
       "    </tr>\n",
       "    <tr>\n",
       "      <th>RETIREES - Mainstream</th>\n",
       "      <td>3.844294</td>\n",
       "    </tr>\n",
       "    <tr>\n",
       "      <th>OLDER SINGLES/COUPLES - Mainstream</th>\n",
       "      <td>3.814665</td>\n",
       "    </tr>\n",
       "    <tr>\n",
       "      <th>MIDAGE SINGLES/COUPLES - Premium</th>\n",
       "      <td>3.770698</td>\n",
       "    </tr>\n",
       "    <tr>\n",
       "      <th>YOUNG FAMILIES - Premium</th>\n",
       "      <td>3.762150</td>\n",
       "    </tr>\n",
       "    <tr>\n",
       "      <th>YOUNG FAMILIES - Budget</th>\n",
       "      <td>3.760737</td>\n",
       "    </tr>\n",
       "    <tr>\n",
       "      <th>OLDER FAMILIES - Budget</th>\n",
       "      <td>3.745340</td>\n",
       "    </tr>\n",
       "    <tr>\n",
       "      <th>MIDAGE SINGLES/COUPLES - Budget</th>\n",
       "      <td>3.743328</td>\n",
       "    </tr>\n",
       "    <tr>\n",
       "      <th>OLDER FAMILIES - Mainstream</th>\n",
       "      <td>3.737077</td>\n",
       "    </tr>\n",
       "    <tr>\n",
       "      <th>YOUNG FAMILIES - Mainstream</th>\n",
       "      <td>3.724533</td>\n",
       "    </tr>\n",
       "    <tr>\n",
       "      <th>OLDER FAMILIES - Premium</th>\n",
       "      <td>3.716910</td>\n",
       "    </tr>\n",
       "    <tr>\n",
       "      <th>YOUNG SINGLES/COUPLES - Premium</th>\n",
       "      <td>3.665414</td>\n",
       "    </tr>\n",
       "    <tr>\n",
       "      <th>YOUNG SINGLES/COUPLES - Budget</th>\n",
       "      <td>3.657366</td>\n",
       "    </tr>\n",
       "  </tbody>\n",
       "</table>\n",
       "</div>"
      ],
      "text/plain": [
       "                                     mean_price\n",
       "Segment                                        \n",
       "YOUNG SINGLES/COUPLES - Mainstream     4.065642\n",
       "MIDAGE SINGLES/COUPLES - Mainstream    3.994241\n",
       "RETIREES - Budget                      3.924404\n",
       "RETIREES - Premium                     3.920942\n",
       "NEW FAMILIES - Budget                  3.917688\n",
       "NEW FAMILIES - Mainstream              3.916133\n",
       "OLDER SINGLES/COUPLES - Premium        3.893182\n",
       "OLDER SINGLES/COUPLES - Budget         3.882096\n",
       "NEW FAMILIES - Premium                 3.872110\n",
       "RETIREES - Mainstream                  3.844294\n",
       "OLDER SINGLES/COUPLES - Mainstream     3.814665\n",
       "MIDAGE SINGLES/COUPLES - Premium       3.770698\n",
       "YOUNG FAMILIES - Premium               3.762150\n",
       "YOUNG FAMILIES - Budget                3.760737\n",
       "OLDER FAMILIES - Budget                3.745340\n",
       "MIDAGE SINGLES/COUPLES - Budget        3.743328\n",
       "OLDER FAMILIES - Mainstream            3.737077\n",
       "YOUNG FAMILIES - Mainstream            3.724533\n",
       "OLDER FAMILIES - Premium               3.716910\n",
       "YOUNG SINGLES/COUPLES - Premium        3.665414\n",
       "YOUNG SINGLES/COUPLES - Budget         3.657366"
      ]
     },
     "execution_count": 119,
     "metadata": {},
     "output_type": "execute_result"
    }
   ],
   "source": [
    "#Средняя цена  за транзакцию по сегментам\n",
    "temp = merged_df.reset_index().rename(columns = {\"index\": \"transaction\"})\n",
    "temp[\"Segment\"] = temp[\"LIFESTAGE\"] + ' - ' + temp['PREMIUM_CUSTOMER']\n",
    "segment_brand_encode = pd.concat([pd.get_dummies(temp[\"Segment\"]), pd.get_dummies(temp[\"Cleaned_Brand_Names\"])], axis=1)\n",
    "temp[\"Unit_Price\"] = temp[\"TOT_SALES\"] / temp[\"PROD_QTY\"]\n",
    "temp.groupby([\"Segment\"]).agg({'Unit_Price': 'mean'}).sort_values(by='Unit_Price', ascending=False).rename(columns={'Unit_Price': 'mean_price'})"
   ]
  },
  {
   "cell_type": "code",
   "execution_count": 124,
   "metadata": {},
   "outputs": [
    {
     "name": "stderr",
     "output_type": "stream",
     "text": [
      "No artists with labels found to put in legend.  Note that artists whose label start with an underscore are ignored when legend() is called with no argument.\n"
     ]
    },
    {
     "data": {
      "text/plain": [
       "<matplotlib.legend.Legend at 0x24dbcf7d0d0>"
      ]
     },
     "execution_count": 124,
     "metadata": {},
     "output_type": "execute_result"
    },
    {
     "data": {
      "image/png": "[encoded data removed]",
      "text/plain": [
       "<Figure size 1500x400 with 1 Axes>"
      ]
     },
     "metadata": {},
     "output_type": "display_data"
    }
   ],
   "source": [
    "temp.groupby([\"Segment\"]).agg({'Unit_Price': 'mean'}).sort_values(by='Unit_Price', ascending=False).rename(columns={'Unit_Price': 'mean_price'}).unstack().plot.bar(figsize=(15,4), rot=0)\n",
    "plt.legend(loc=\"center left\", bbox_to_anchor=(1,0.5))"
   ]
  },
  {
   "cell_type": "markdown",
   "metadata": {},
   "source": [
    "Самые высокие средние траты на покупку совершают люди среднего возраста и молодые \"Одиночки/семейные пары\". Разница между их основной и неосновной группами может показаться незначительной (7,6 против 6,6), но мы выясним, является ли эта разница статистически значимой."
   ]
  },
  {
   "cell_type": "code",
   "execution_count": 127,
   "metadata": {},
   "outputs": [
    {
     "name": "stdout",
     "output_type": "stream",
     "text": [
      "1.834645908180742e-237\n"
     ]
    },
    {
     "data": {
      "text/plain": [
       "True"
      ]
     },
     "execution_count": 127,
     "metadata": {},
     "output_type": "execute_result"
    }
   ],
   "source": [
    "from scipy.stats import ttest_ind\n",
    "mainstream = merged_df[\"PREMIUM_CUSTOMER\"] == \"Mainstream\"\n",
    "young_midage = (merged_df[\"LIFESTAGE\"] == \"MIDAGE SINGLES/COUPLES\") | (merged_df[\"LIFESTAGE\"] == \"YOUNG SINGLES/COUPLES\")\n",
    "\n",
    "budget_premium = (merged_df[\"PREMIUM_CUSTOMER\"] == \"Budget\") | (merged_df[\"PREMIUM_CUSTOMER\"] == \"Premium\")\n",
    "\n",
    "a = merged_df[young_midage & mainstream][\"TOT_SALES\"]\n",
    "b = merged_df[young_midage & budget_premium][\"TOT_SALES\"]\n",
    "stat, pval = ttest_ind(a.values, b.values, equal_var=False)\n",
    "\n",
    "print(pval)\n",
    "pval < 0.0000001"
   ]
  },
  {
   "cell_type": "markdown",
   "metadata": {},
   "source": [
    "Показатель pval близок к 0. Существует статистически значимая разница в общем объеме продаж между сегментом \"Молодежь среднего возраста\" и сегментом \"Молодежь среднего возраста бюджетного и премиум-класса\"."
   ]
  },
  {
   "cell_type": "markdown",
   "metadata": {},
   "source": [
    "Больше всего одиноких молодых людей/семейных пар (основное население), за ними следуют пенсионеры (основное население). Что объясняет их высокий общий объем продаж.\n",
    "\n",
    "Несмотря на то, что пожилые семьи не имеют самого большого числа покупателей, они чаще совершают покупки, что способствует их высокому общему объему продаж.\n",
    "\n",
    "Семьи старшего возраста, за которыми следуют молодые семьи, имеют самое высокое среднее количество чипсов, купленных за одну покупку.\n",
    "\n",
    "В основной категории \"Молодые и средние по возрасту одиночки/семейные пары\" больше всего тратят чипсов на покупку. И разница с \"Молодыми и средними по возрасту одиночками/семейными парами\", не относящимися к основной категории, статистически значима.\n",
    "\n",
    "Бренд чипсов Kettle доминирует в каждом сегменте как самый покупаемый бренд.\n",
    "\n",
    "Занимая 2-е место по покупаемости среди брендов, \"Молодые люди и пары среднего возраста\" являются единственным сегментом, где предпочтения (Doritos) отличаются от предпочтений других (Smiths).\n",
    "\n",
    "Чаще всего покупают чипсы весом 175 г, за которыми следуют чипсы весом 150 г для всех сегментов."
   ]
  }
 ],
 "metadata": {
  "kernelspec": {
   "display_name": "base",
   "language": "python",
   "name": "python3"
  },
  "language_info": {
   "codemirror_mode": {
    "name": "ipython",
    "version": 3
   },
   "file_extension": ".py",
   "mimetype": "text/x-python",
   "name": "python",
   "nbconvert_exporter": "python",
   "pygments_lexer": "ipython3",
   "version": "3.12.4"
  }
 },
 "nbformat": 4,
 "nbformat_minor": 2
}
