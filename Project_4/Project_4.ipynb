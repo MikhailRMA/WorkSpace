{
 "cells": [
  {
   "cell_type": "markdown",
   "metadata": {},
   "source": [
    "Загрузить датасет transaction_data.csv. Проверьте размер таблицы, типы переменных, число пропущенных значений и описательную статистику."
   ]
  },
  {
   "cell_type": "code",
   "execution_count": 36,
   "metadata": {},
   "outputs": [],
   "source": [
    "import pandas as pd\n",
    "import seaborn as sns\n",
    "import matplotlib.pyplot as plt"
   ]
  },
  {
   "cell_type": "code",
   "execution_count": 14,
   "metadata": {},
   "outputs": [],
   "source": [
    "df = pd.read_csv(r'C:\\Users\\majkl\\WorkSpace\\Project_4\\5_transaction_data.csv')\n",
    "df['date'] = pd.to_datetime(df['date'])"
   ]
  },
  {
   "cell_type": "code",
   "execution_count": 17,
   "metadata": {},
   "outputs": [
    {
     "name": "stdout",
     "output_type": "stream",
     "text": [
      "<class 'pandas.core.frame.DataFrame'>\n",
      "RangeIndex: 5315 entries, 0 to 5314\n",
      "Data columns (total 3 columns):\n",
      " #   Column       Non-Null Count  Dtype         \n",
      "---  ------       --------------  -----         \n",
      " 0   date         5315 non-null   datetime64[ns]\n",
      " 1   name         5315 non-null   object        \n",
      " 2   transaction  5315 non-null   object        \n",
      "dtypes: datetime64[ns](1), object(2)\n",
      "memory usage: 124.7+ KB\n"
     ]
    }
   ],
   "source": [
    "df.info()"
   ]
  },
  {
   "cell_type": "code",
   "execution_count": 18,
   "metadata": {},
   "outputs": [
    {
     "name": "stdout",
     "output_type": "stream",
     "text": [
      "date           0\n",
      "name           0\n",
      "transaction    0\n",
      "dtype: int64\n"
     ]
    }
   ],
   "source": [
    "print(df.isnull().sum())"
   ]
  },
  {
   "cell_type": "code",
   "execution_count": 21,
   "metadata": {},
   "outputs": [
    {
     "data": {
      "application/vnd.microsoft.datawrangler.viewer.v0+json": {
       "columns": [
        {
         "name": "index",
         "rawType": "object",
         "type": "string"
        },
        {
         "name": "date",
         "rawType": "object",
         "type": "unknown"
        }
       ],
       "conversionMethod": "pd.DataFrame",
       "ref": "7f55b61a-40d8-44aa-9a0d-f0b946fa6a47",
       "rows": [
        [
         "count",
         "5315"
        ],
        [
         "mean",
         "2020-03-02 00:43:56.628974592"
        ],
        [
         "min",
         "2020-03-02 00:00:00"
        ],
        [
         "25%",
         "2020-03-02 00:21:50.500000"
        ],
        [
         "50%",
         "2020-03-02 00:43:26"
        ],
        [
         "75%",
         "2020-03-02 01:06:22.500000"
        ],
        [
         "max",
         "2020-03-02 01:29:05"
        ]
       ],
       "shape": {
        "columns": 1,
        "rows": 7
       }
      },
      "text/html": [
       "<div>\n",
       "<style scoped>\n",
       "    .dataframe tbody tr th:only-of-type {\n",
       "        vertical-align: middle;\n",
       "    }\n",
       "\n",
       "    .dataframe tbody tr th {\n",
       "        vertical-align: top;\n",
       "    }\n",
       "\n",
       "    .dataframe thead th {\n",
       "        text-align: right;\n",
       "    }\n",
       "</style>\n",
       "<table border=\"1\" class=\"dataframe\">\n",
       "  <thead>\n",
       "    <tr style=\"text-align: right;\">\n",
       "      <th></th>\n",
       "      <th>date</th>\n",
       "    </tr>\n",
       "  </thead>\n",
       "  <tbody>\n",
       "    <tr>\n",
       "      <th>count</th>\n",
       "      <td>5315</td>\n",
       "    </tr>\n",
       "    <tr>\n",
       "      <th>mean</th>\n",
       "      <td>2020-03-02 00:43:56.628974592</td>\n",
       "    </tr>\n",
       "    <tr>\n",
       "      <th>min</th>\n",
       "      <td>2020-03-02 00:00:00</td>\n",
       "    </tr>\n",
       "    <tr>\n",
       "      <th>25%</th>\n",
       "      <td>2020-03-02 00:21:50.500000</td>\n",
       "    </tr>\n",
       "    <tr>\n",
       "      <th>50%</th>\n",
       "      <td>2020-03-02 00:43:26</td>\n",
       "    </tr>\n",
       "    <tr>\n",
       "      <th>75%</th>\n",
       "      <td>2020-03-02 01:06:22.500000</td>\n",
       "    </tr>\n",
       "    <tr>\n",
       "      <th>max</th>\n",
       "      <td>2020-03-02 01:29:05</td>\n",
       "    </tr>\n",
       "  </tbody>\n",
       "</table>\n",
       "</div>"
      ],
      "text/plain": [
       "                                date\n",
       "count                           5315\n",
       "mean   2020-03-02 00:43:56.628974592\n",
       "min              2020-03-02 00:00:00\n",
       "25%       2020-03-02 00:21:50.500000\n",
       "50%              2020-03-02 00:43:26\n",
       "75%       2020-03-02 01:06:22.500000\n",
       "max              2020-03-02 01:29:05"
      ]
     },
     "execution_count": 21,
     "metadata": {},
     "output_type": "execute_result"
    }
   ],
   "source": [
    "df.describe()"
   ]
  },
  {
   "cell_type": "markdown",
   "metadata": {},
   "source": [
    "Какие значения находятся в колонке transaction? Сколько наблюдений относятся к тому или иному уровню? Визуализируйте результат с помощью барплота. "
   ]
  },
  {
   "cell_type": "code",
   "execution_count": 26,
   "metadata": {},
   "outputs": [
    {
     "data": {
      "text/plain": [
       "array(['cancelled', 'successfull', 'error'], dtype=object)"
      ]
     },
     "execution_count": 26,
     "metadata": {},
     "output_type": "execute_result"
    }
   ],
   "source": [
    "df.transaction.unique()"
   ]
  },
  {
   "cell_type": "code",
   "execution_count": 42,
   "metadata": {},
   "outputs": [
    {
     "data": {
      "text/plain": [
       "transaction\n",
       "successfull    3692\n",
       "cancelled      1619\n",
       "error             4\n",
       "Name: count, dtype: int64"
      ]
     },
     "execution_count": 42,
     "metadata": {},
     "output_type": "execute_result"
    }
   ],
   "source": [
    "transaction = df.transaction.value_counts()\n",
    "transaction"
   ]
  },
  {
   "cell_type": "code",
   "execution_count": 44,
   "metadata": {},
   "outputs": [
    {
     "data": {
      "image/png": "[encoded data removed]",
      "text/plain": [
       "<Figure size 900x700 with 1 Axes>"
      ]
     },
     "metadata": {},
     "output_type": "display_data"
    }
   ],
   "source": [
    "fig, ax = plt.subplots(figsize=(9,7))\n",
    "sns.barplot(x=transaction.index, y=transaction.values, ax=ax)\n",
    "ax.set_ylabel('Количество')\n",
    "ax.set_xlabel('Тип завершения')\n",
    "ax.set_title('Распределение по типам транзакций')\n",
    "ax.bar_label(ax.containers[0])\n",
    "sns.despine()"
   ]
  },
  {
   "cell_type": "markdown",
   "metadata": {},
   "source": [
    "Сколько успешных транзакций осуществил каждый из пользователей? Постройте гистограмму распределения числа успешных транзакций."
   ]
  },
  {
   "cell_type": "code",
   "execution_count": 51,
   "metadata": {},
   "outputs": [
    {
     "data": {
      "application/vnd.microsoft.datawrangler.viewer.v0+json": {
       "columns": [
        {
         "name": "index",
         "rawType": "int64",
         "type": "integer"
        },
        {
         "name": "date",
         "rawType": "datetime64[ns]",
         "type": "datetime"
        },
        {
         "name": "name",
         "rawType": "object",
         "type": "string"
        },
        {
         "name": "transaction",
         "rawType": "object",
         "type": "string"
        }
       ],
       "conversionMethod": "pd.DataFrame",
       "ref": "21a21228-5268-4a0b-aa52-907e5d48372a",
       "rows": [
        [
         "0",
         "2020-03-02 00:37:20",
         "Ekaterina_Petrova",
         "cancelled"
        ],
        [
         "1",
         "2020-03-02 00:59:09",
         "Irina_Fedorova",
         "successfull"
        ],
        [
         "2",
         "2020-03-02 01:06:14",
         "Ekaterina_Smirnova",
         "successfull"
        ],
        [
         "3",
         "2020-03-02 00:02:58",
         "Lolita_Polyanova",
         "cancelled"
        ],
        [
         "4",
         "2020-03-02 00:17:52",
         "Julia_Smirnova",
         "cancelled"
        ],
        [
         "5",
         "2020-03-02 01:09:55",
         "Irina_Polyanova",
         "cancelled"
        ],
        [
         "6",
         "2020-03-02 00:54:12",
         "Olga_Lesnova",
         "successfull"
        ],
        [
         "7",
         "2020-03-02 00:18:43",
         "Irina_Lesnova",
         "successfull"
        ],
        [
         "8",
         "2020-03-02 00:06:10",
         "Vasilisa_Petrova",
         "successfull"
        ],
        [
         "9",
         "2020-03-02 00:47:06",
         "Olga_Petrova",
         "successfull"
        ],
        [
         "10",
         "2020-03-02 01:20:50",
         "Irina_Smirnova",
         "successfull"
        ],
        [
         "11",
         "2020-03-02 00:45:16",
         "Vasilisa_Polyanova",
         "successfull"
        ],
        [
         "12",
         "2020-03-02 01:01:48",
         "Masha_Ozerova",
         "successfull"
        ],
        [
         "13",
         "2020-03-02 01:04:03",
         "Lolita_Polyanova",
         "cancelled"
        ],
        [
         "14",
         "2020-03-02 00:22:27",
         "Masha_Fedorova",
         "successfull"
        ],
        [
         "15",
         "2020-03-02 01:28:21",
         "Lolita_Ivanova",
         "successfull"
        ],
        [
         "16",
         "2020-03-02 01:21:01",
         "Svetlana_Petrova",
         "successfull"
        ],
        [
         "17",
         "2020-03-02 01:20:20",
         "Svetlana_Polyanova",
         "successfull"
        ],
        [
         "18",
         "2020-03-02 00:52:08",
         "Masha_Fedorova",
         "cancelled"
        ],
        [
         "19",
         "2020-03-02 00:37:53",
         "Svetlana_Ozerova",
         "cancelled"
        ],
        [
         "20",
         "2020-03-02 00:54:51",
         "Irina_Ozerova",
         "successfull"
        ],
        [
         "21",
         "2020-03-02 00:29:43",
         "Vasilisa_Smirnova",
         "successfull"
        ],
        [
         "22",
         "2020-03-02 00:06:00",
         "Irina_Petrova",
         "successfull"
        ],
        [
         "23",
         "2020-03-02 01:27:01",
         "Svetlana_Ozerova",
         "successfull"
        ],
        [
         "24",
         "2020-03-02 00:14:38",
         "Olga_Polyanova",
         "successfull"
        ],
        [
         "25",
         "2020-03-02 00:33:26",
         "Julia_Ozerova",
         "successfull"
        ],
        [
         "26",
         "2020-03-02 01:11:36",
         "Ekaterina_Ivanova",
         "successfull"
        ],
        [
         "27",
         "2020-03-02 01:07:32",
         "Julia_Polyanova",
         "cancelled"
        ],
        [
         "28",
         "2020-03-02 00:34:45",
         "Masha_Fedorova",
         "successfull"
        ],
        [
         "29",
         "2020-03-02 00:09:20",
         "Olga_Smirnova",
         "successfull"
        ],
        [
         "30",
         "2020-03-02 00:46:28",
         "Irina_Fedorova",
         "successfull"
        ],
        [
         "31",
         "2020-03-02 00:52:00",
         "Julia_Lesnova",
         "cancelled"
        ],
        [
         "32",
         "2020-03-02 00:22:31",
         "Svetlana_Petrova",
         "successfull"
        ],
        [
         "33",
         "2020-03-02 00:45:38",
         "Lolita_Polyanova",
         "successfull"
        ],
        [
         "34",
         "2020-03-02 00:34:31",
         "Svetlana_Ivanova",
         "successfull"
        ],
        [
         "35",
         "2020-03-02 00:20:20",
         "Ekaterina_Ozerova",
         "cancelled"
        ],
        [
         "36",
         "2020-03-02 00:13:08",
         "Lolita_Lesnova",
         "successfull"
        ],
        [
         "37",
         "2020-03-02 00:43:13",
         "Vasilisa_Smirnova",
         "successfull"
        ],
        [
         "38",
         "2020-03-02 00:33:36",
         "Lolita_Ivanova",
         "successfull"
        ],
        [
         "39",
         "2020-03-02 00:13:59",
         "Vasilisa_Petrova",
         "successfull"
        ],
        [
         "40",
         "2020-03-02 00:38:58",
         "Vasilisa_Polyanova",
         "successfull"
        ],
        [
         "41",
         "2020-03-02 00:16:03",
         "Vasilisa_Fedorova",
         "successfull"
        ],
        [
         "42",
         "2020-03-02 01:22:49",
         "Lolita_Petrova",
         "successfull"
        ],
        [
         "43",
         "2020-03-02 01:11:44",
         "Ekaterina_Polyanova",
         "successfull"
        ],
        [
         "44",
         "2020-03-02 00:11:40",
         "Ekaterina_Petrova",
         "successfull"
        ],
        [
         "45",
         "2020-03-02 01:23:08",
         "Vasilisa_Petrova",
         "cancelled"
        ],
        [
         "46",
         "2020-03-02 01:16:40",
         "Olga_Ozerova",
         "successfull"
        ],
        [
         "47",
         "2020-03-02 01:25:09",
         "Svetlana_Lesnova",
         "cancelled"
        ],
        [
         "48",
         "2020-03-02 00:14:10",
         "Olga_Ivanova",
         "successfull"
        ],
        [
         "49",
         "2020-03-02 00:45:20",
         "Vasilisa_Fedorova",
         "cancelled"
        ]
       ],
       "shape": {
        "columns": 3,
        "rows": 5315
       }
      },
      "text/html": [
       "<div>\n",
       "<style scoped>\n",
       "    .dataframe tbody tr th:only-of-type {\n",
       "        vertical-align: middle;\n",
       "    }\n",
       "\n",
       "    .dataframe tbody tr th {\n",
       "        vertical-align: top;\n",
       "    }\n",
       "\n",
       "    .dataframe thead th {\n",
       "        text-align: right;\n",
       "    }\n",
       "</style>\n",
       "<table border=\"1\" class=\"dataframe\">\n",
       "  <thead>\n",
       "    <tr style=\"text-align: right;\">\n",
       "      <th></th>\n",
       "      <th>date</th>\n",
       "      <th>name</th>\n",
       "      <th>transaction</th>\n",
       "    </tr>\n",
       "  </thead>\n",
       "  <tbody>\n",
       "    <tr>\n",
       "      <th>0</th>\n",
       "      <td>2020-03-02 00:37:20</td>\n",
       "      <td>Ekaterina_Petrova</td>\n",
       "      <td>cancelled</td>\n",
       "    </tr>\n",
       "    <tr>\n",
       "      <th>1</th>\n",
       "      <td>2020-03-02 00:59:09</td>\n",
       "      <td>Irina_Fedorova</td>\n",
       "      <td>successfull</td>\n",
       "    </tr>\n",
       "    <tr>\n",
       "      <th>2</th>\n",
       "      <td>2020-03-02 01:06:14</td>\n",
       "      <td>Ekaterina_Smirnova</td>\n",
       "      <td>successfull</td>\n",
       "    </tr>\n",
       "    <tr>\n",
       "      <th>3</th>\n",
       "      <td>2020-03-02 00:02:58</td>\n",
       "      <td>Lolita_Polyanova</td>\n",
       "      <td>cancelled</td>\n",
       "    </tr>\n",
       "    <tr>\n",
       "      <th>4</th>\n",
       "      <td>2020-03-02 00:17:52</td>\n",
       "      <td>Julia_Smirnova</td>\n",
       "      <td>cancelled</td>\n",
       "    </tr>\n",
       "    <tr>\n",
       "      <th>...</th>\n",
       "      <td>...</td>\n",
       "      <td>...</td>\n",
       "      <td>...</td>\n",
       "    </tr>\n",
       "    <tr>\n",
       "      <th>5310</th>\n",
       "      <td>2020-03-02 00:09:28</td>\n",
       "      <td>Vasilisa_Fedorova</td>\n",
       "      <td>successfull</td>\n",
       "    </tr>\n",
       "    <tr>\n",
       "      <th>5311</th>\n",
       "      <td>2020-03-02 00:46:31</td>\n",
       "      <td>Vasilisa_Ozerova</td>\n",
       "      <td>successfull</td>\n",
       "    </tr>\n",
       "    <tr>\n",
       "      <th>5312</th>\n",
       "      <td>2020-03-02 00:16:38</td>\n",
       "      <td>Olga_Polyanova</td>\n",
       "      <td>successfull</td>\n",
       "    </tr>\n",
       "    <tr>\n",
       "      <th>5313</th>\n",
       "      <td>2020-03-02 00:13:00</td>\n",
       "      <td>Ekaterina_Smirnova</td>\n",
       "      <td>successfull</td>\n",
       "    </tr>\n",
       "    <tr>\n",
       "      <th>5314</th>\n",
       "      <td>2020-03-02 01:15:45</td>\n",
       "      <td>Irina_Fedorova</td>\n",
       "      <td>cancelled</td>\n",
       "    </tr>\n",
       "  </tbody>\n",
       "</table>\n",
       "<p>5315 rows × 3 columns</p>\n",
       "</div>"
      ],
      "text/plain": [
       "                    date                name  transaction\n",
       "0    2020-03-02 00:37:20   Ekaterina_Petrova    cancelled\n",
       "1    2020-03-02 00:59:09      Irina_Fedorova  successfull\n",
       "2    2020-03-02 01:06:14  Ekaterina_Smirnova  successfull\n",
       "3    2020-03-02 00:02:58    Lolita_Polyanova    cancelled\n",
       "4    2020-03-02 00:17:52      Julia_Smirnova    cancelled\n",
       "...                  ...                 ...          ...\n",
       "5310 2020-03-02 00:09:28   Vasilisa_Fedorova  successfull\n",
       "5311 2020-03-02 00:46:31    Vasilisa_Ozerova  successfull\n",
       "5312 2020-03-02 00:16:38      Olga_Polyanova  successfull\n",
       "5313 2020-03-02 00:13:00  Ekaterina_Smirnova  successfull\n",
       "5314 2020-03-02 01:15:45      Irina_Fedorova    cancelled\n",
       "\n",
       "[5315 rows x 3 columns]"
      ]
     },
     "execution_count": 51,
     "metadata": {},
     "output_type": "execute_result"
    }
   ],
   "source": [
    "df"
   ]
  },
  {
   "cell_type": "code",
   "execution_count": 55,
   "metadata": {},
   "outputs": [
    {
     "data": {
      "application/vnd.microsoft.datawrangler.viewer.v0+json": {
       "columns": [
        {
         "name": "name",
         "rawType": "object",
         "type": "string"
        },
        {
         "name": "transaction",
         "rawType": "int64",
         "type": "integer"
        }
       ],
       "conversionMethod": "pd.DataFrame",
       "ref": "11830692-7346-4f30-9232-7f784b38ea6b",
       "rows": [
        [
         "Svetlana_Smirnova",
         "82"
        ],
        [
         "Olga_Smirnova",
         "80"
        ],
        [
         "Masha_Ozerova",
         "80"
        ],
        [
         "Svetlana_Ivanova",
         "79"
        ],
        [
         "Svetlana_Polyanova",
         "78"
        ],
        [
         "Masha_Polyanova",
         "78"
        ],
        [
         "Ekaterina_Smirnova",
         "77"
        ],
        [
         "Lolita_Ivanova",
         "76"
        ],
        [
         "Irina_Lesnova",
         "76"
        ],
        [
         "Irina_Ozerova",
         "76"
        ],
        [
         "Julia_Petrova",
         "74"
        ],
        [
         "Masha_Ivanova",
         "73"
        ],
        [
         "Ekaterina_Fedorova",
         "72"
        ],
        [
         "Ekaterina_Ozerova",
         "72"
        ],
        [
         "Olga_Fedorova",
         "72"
        ],
        [
         "Olga_Polyanova",
         "70"
        ],
        [
         "Lolita_Fedorova",
         "70"
        ],
        [
         "Masha_Fedorova",
         "69"
        ],
        [
         "Ekaterina_Polyanova",
         "68"
        ],
        [
         "Ekaterina_Petrova",
         "68"
        ],
        [
         "Julia_Fedorova",
         "67"
        ],
        [
         "Julia_Smirnova",
         "67"
        ],
        [
         "Svetlana_Fedorova",
         "67"
        ],
        [
         "Olga_Petrova",
         "67"
        ],
        [
         "Irina_Petrova",
         "66"
        ],
        [
         "Olga_Ozerova",
         "65"
        ],
        [
         "Lolita_Smirnova",
         "65"
        ],
        [
         "Olga_Ivanova",
         "64"
        ],
        [
         "Vasilisa_Smirnova",
         "64"
        ],
        [
         "Lolita_Petrova",
         "64"
        ],
        [
         "Masha_Lesnova",
         "63"
        ],
        [
         "Ekaterina_Lesnova",
         "63"
        ],
        [
         "Lolita_Ozerova",
         "63"
        ],
        [
         "Julia_Ivanova",
         "63"
        ],
        [
         "Vasilisa_Petrova",
         "63"
        ],
        [
         "Irina_Smirnova",
         "63"
        ],
        [
         "Masha_Petrova",
         "62"
        ],
        [
         "Vasilisa_Ivanova",
         "62"
        ],
        [
         "Vasilisa_Ozerova",
         "62"
        ],
        [
         "Svetlana_Ozerova",
         "62"
        ],
        [
         "Irina_Fedorova",
         "62"
        ],
        [
         "Vasilisa_Fedorova",
         "61"
        ],
        [
         "Julia_Polyanova",
         "61"
        ],
        [
         "Svetlana_Lesnova",
         "60"
        ],
        [
         "Julia_Ozerova",
         "60"
        ],
        [
         "Irina_Ivanova",
         "60"
        ],
        [
         "Irina_Polyanova",
         "59"
        ],
        [
         "Ekaterina_Ivanova",
         "59"
        ],
        [
         "Lolita_Polyanova",
         "59"
        ],
        [
         "Svetlana_Petrova",
         "58"
        ]
       ],
       "shape": {
        "columns": 1,
        "rows": 56
       }
      },
      "text/html": [
       "<div>\n",
       "<style scoped>\n",
       "    .dataframe tbody tr th:only-of-type {\n",
       "        vertical-align: middle;\n",
       "    }\n",
       "\n",
       "    .dataframe tbody tr th {\n",
       "        vertical-align: top;\n",
       "    }\n",
       "\n",
       "    .dataframe thead th {\n",
       "        text-align: right;\n",
       "    }\n",
       "</style>\n",
       "<table border=\"1\" class=\"dataframe\">\n",
       "  <thead>\n",
       "    <tr style=\"text-align: right;\">\n",
       "      <th></th>\n",
       "      <th>transaction</th>\n",
       "    </tr>\n",
       "    <tr>\n",
       "      <th>name</th>\n",
       "      <th></th>\n",
       "    </tr>\n",
       "  </thead>\n",
       "  <tbody>\n",
       "    <tr>\n",
       "      <th>Svetlana_Smirnova</th>\n",
       "      <td>82</td>\n",
       "    </tr>\n",
       "    <tr>\n",
       "      <th>Olga_Smirnova</th>\n",
       "      <td>80</td>\n",
       "    </tr>\n",
       "    <tr>\n",
       "      <th>Masha_Ozerova</th>\n",
       "      <td>80</td>\n",
       "    </tr>\n",
       "    <tr>\n",
       "      <th>Svetlana_Ivanova</th>\n",
       "      <td>79</td>\n",
       "    </tr>\n",
       "    <tr>\n",
       "      <th>Svetlana_Polyanova</th>\n",
       "      <td>78</td>\n",
       "    </tr>\n",
       "    <tr>\n",
       "      <th>Masha_Polyanova</th>\n",
       "      <td>78</td>\n",
       "    </tr>\n",
       "    <tr>\n",
       "      <th>Ekaterina_Smirnova</th>\n",
       "      <td>77</td>\n",
       "    </tr>\n",
       "    <tr>\n",
       "      <th>Lolita_Ivanova</th>\n",
       "      <td>76</td>\n",
       "    </tr>\n",
       "    <tr>\n",
       "      <th>Irina_Lesnova</th>\n",
       "      <td>76</td>\n",
       "    </tr>\n",
       "    <tr>\n",
       "      <th>Irina_Ozerova</th>\n",
       "      <td>76</td>\n",
       "    </tr>\n",
       "    <tr>\n",
       "      <th>Julia_Petrova</th>\n",
       "      <td>74</td>\n",
       "    </tr>\n",
       "    <tr>\n",
       "      <th>Masha_Ivanova</th>\n",
       "      <td>73</td>\n",
       "    </tr>\n",
       "    <tr>\n",
       "      <th>Ekaterina_Fedorova</th>\n",
       "      <td>72</td>\n",
       "    </tr>\n",
       "    <tr>\n",
       "      <th>Ekaterina_Ozerova</th>\n",
       "      <td>72</td>\n",
       "    </tr>\n",
       "    <tr>\n",
       "      <th>Olga_Fedorova</th>\n",
       "      <td>72</td>\n",
       "    </tr>\n",
       "    <tr>\n",
       "      <th>Olga_Polyanova</th>\n",
       "      <td>70</td>\n",
       "    </tr>\n",
       "    <tr>\n",
       "      <th>Lolita_Fedorova</th>\n",
       "      <td>70</td>\n",
       "    </tr>\n",
       "    <tr>\n",
       "      <th>Masha_Fedorova</th>\n",
       "      <td>69</td>\n",
       "    </tr>\n",
       "    <tr>\n",
       "      <th>Ekaterina_Polyanova</th>\n",
       "      <td>68</td>\n",
       "    </tr>\n",
       "    <tr>\n",
       "      <th>Ekaterina_Petrova</th>\n",
       "      <td>68</td>\n",
       "    </tr>\n",
       "    <tr>\n",
       "      <th>Julia_Fedorova</th>\n",
       "      <td>67</td>\n",
       "    </tr>\n",
       "    <tr>\n",
       "      <th>Julia_Smirnova</th>\n",
       "      <td>67</td>\n",
       "    </tr>\n",
       "    <tr>\n",
       "      <th>Svetlana_Fedorova</th>\n",
       "      <td>67</td>\n",
       "    </tr>\n",
       "    <tr>\n",
       "      <th>Olga_Petrova</th>\n",
       "      <td>67</td>\n",
       "    </tr>\n",
       "    <tr>\n",
       "      <th>Irina_Petrova</th>\n",
       "      <td>66</td>\n",
       "    </tr>\n",
       "    <tr>\n",
       "      <th>Olga_Ozerova</th>\n",
       "      <td>65</td>\n",
       "    </tr>\n",
       "    <tr>\n",
       "      <th>Lolita_Smirnova</th>\n",
       "      <td>65</td>\n",
       "    </tr>\n",
       "    <tr>\n",
       "      <th>Olga_Ivanova</th>\n",
       "      <td>64</td>\n",
       "    </tr>\n",
       "    <tr>\n",
       "      <th>Vasilisa_Smirnova</th>\n",
       "      <td>64</td>\n",
       "    </tr>\n",
       "    <tr>\n",
       "      <th>Lolita_Petrova</th>\n",
       "      <td>64</td>\n",
       "    </tr>\n",
       "    <tr>\n",
       "      <th>Masha_Lesnova</th>\n",
       "      <td>63</td>\n",
       "    </tr>\n",
       "    <tr>\n",
       "      <th>Ekaterina_Lesnova</th>\n",
       "      <td>63</td>\n",
       "    </tr>\n",
       "    <tr>\n",
       "      <th>Lolita_Ozerova</th>\n",
       "      <td>63</td>\n",
       "    </tr>\n",
       "    <tr>\n",
       "      <th>Julia_Ivanova</th>\n",
       "      <td>63</td>\n",
       "    </tr>\n",
       "    <tr>\n",
       "      <th>Vasilisa_Petrova</th>\n",
       "      <td>63</td>\n",
       "    </tr>\n",
       "    <tr>\n",
       "      <th>Irina_Smirnova</th>\n",
       "      <td>63</td>\n",
       "    </tr>\n",
       "    <tr>\n",
       "      <th>Masha_Petrova</th>\n",
       "      <td>62</td>\n",
       "    </tr>\n",
       "    <tr>\n",
       "      <th>Vasilisa_Ivanova</th>\n",
       "      <td>62</td>\n",
       "    </tr>\n",
       "    <tr>\n",
       "      <th>Vasilisa_Ozerova</th>\n",
       "      <td>62</td>\n",
       "    </tr>\n",
       "    <tr>\n",
       "      <th>Svetlana_Ozerova</th>\n",
       "      <td>62</td>\n",
       "    </tr>\n",
       "    <tr>\n",
       "      <th>Irina_Fedorova</th>\n",
       "      <td>62</td>\n",
       "    </tr>\n",
       "    <tr>\n",
       "      <th>Vasilisa_Fedorova</th>\n",
       "      <td>61</td>\n",
       "    </tr>\n",
       "    <tr>\n",
       "      <th>Julia_Polyanova</th>\n",
       "      <td>61</td>\n",
       "    </tr>\n",
       "    <tr>\n",
       "      <th>Svetlana_Lesnova</th>\n",
       "      <td>60</td>\n",
       "    </tr>\n",
       "    <tr>\n",
       "      <th>Julia_Ozerova</th>\n",
       "      <td>60</td>\n",
       "    </tr>\n",
       "    <tr>\n",
       "      <th>Irina_Ivanova</th>\n",
       "      <td>60</td>\n",
       "    </tr>\n",
       "    <tr>\n",
       "      <th>Irina_Polyanova</th>\n",
       "      <td>59</td>\n",
       "    </tr>\n",
       "    <tr>\n",
       "      <th>Ekaterina_Ivanova</th>\n",
       "      <td>59</td>\n",
       "    </tr>\n",
       "    <tr>\n",
       "      <th>Lolita_Polyanova</th>\n",
       "      <td>59</td>\n",
       "    </tr>\n",
       "    <tr>\n",
       "      <th>Svetlana_Petrova</th>\n",
       "      <td>58</td>\n",
       "    </tr>\n",
       "    <tr>\n",
       "      <th>Masha_Smirnova</th>\n",
       "      <td>57</td>\n",
       "    </tr>\n",
       "    <tr>\n",
       "      <th>Olga_Lesnova</th>\n",
       "      <td>56</td>\n",
       "    </tr>\n",
       "    <tr>\n",
       "      <th>Vasilisa_Lesnova</th>\n",
       "      <td>55</td>\n",
       "    </tr>\n",
       "    <tr>\n",
       "      <th>Julia_Lesnova</th>\n",
       "      <td>55</td>\n",
       "    </tr>\n",
       "    <tr>\n",
       "      <th>Lolita_Lesnova</th>\n",
       "      <td>52</td>\n",
       "    </tr>\n",
       "    <tr>\n",
       "      <th>Vasilisa_Polyanova</th>\n",
       "      <td>46</td>\n",
       "    </tr>\n",
       "  </tbody>\n",
       "</table>\n",
       "</div>"
      ],
      "text/plain": [
       "                     transaction\n",
       "name                            \n",
       "Svetlana_Smirnova             82\n",
       "Olga_Smirnova                 80\n",
       "Masha_Ozerova                 80\n",
       "Svetlana_Ivanova              79\n",
       "Svetlana_Polyanova            78\n",
       "Masha_Polyanova               78\n",
       "Ekaterina_Smirnova            77\n",
       "Lolita_Ivanova                76\n",
       "Irina_Lesnova                 76\n",
       "Irina_Ozerova                 76\n",
       "Julia_Petrova                 74\n",
       "Masha_Ivanova                 73\n",
       "Ekaterina_Fedorova            72\n",
       "Ekaterina_Ozerova             72\n",
       "Olga_Fedorova                 72\n",
       "Olga_Polyanova                70\n",
       "Lolita_Fedorova               70\n",
       "Masha_Fedorova                69\n",
       "Ekaterina_Polyanova           68\n",
       "Ekaterina_Petrova             68\n",
       "Julia_Fedorova                67\n",
       "Julia_Smirnova                67\n",
       "Svetlana_Fedorova             67\n",
       "Olga_Petrova                  67\n",
       "Irina_Petrova                 66\n",
       "Olga_Ozerova                  65\n",
       "Lolita_Smirnova               65\n",
       "Olga_Ivanova                  64\n",
       "Vasilisa_Smirnova             64\n",
       "Lolita_Petrova                64\n",
       "Masha_Lesnova                 63\n",
       "Ekaterina_Lesnova             63\n",
       "Lolita_Ozerova                63\n",
       "Julia_Ivanova                 63\n",
       "Vasilisa_Petrova              63\n",
       "Irina_Smirnova                63\n",
       "Masha_Petrova                 62\n",
       "Vasilisa_Ivanova              62\n",
       "Vasilisa_Ozerova              62\n",
       "Svetlana_Ozerova              62\n",
       "Irina_Fedorova                62\n",
       "Vasilisa_Fedorova             61\n",
       "Julia_Polyanova               61\n",
       "Svetlana_Lesnova              60\n",
       "Julia_Ozerova                 60\n",
       "Irina_Ivanova                 60\n",
       "Irina_Polyanova               59\n",
       "Ekaterina_Ivanova             59\n",
       "Lolita_Polyanova              59\n",
       "Svetlana_Petrova              58\n",
       "Masha_Smirnova                57\n",
       "Olga_Lesnova                  56\n",
       "Vasilisa_Lesnova              55\n",
       "Julia_Lesnova                 55\n",
       "Lolita_Lesnova                52\n",
       "Vasilisa_Polyanova            46"
      ]
     },
     "execution_count": 55,
     "metadata": {},
     "output_type": "execute_result"
    }
   ],
   "source": [
    "tr_tn = 'successfull'\n",
    "users = df.query('transaction == @tr_tn') \\\n",
    "    .groupby('name') \\\n",
    "    .agg({'transaction': 'count'}) \\\n",
    "    .sort_values('transaction', ascending = False)\n",
    "users"
   ]
  },
  {
   "cell_type": "code",
   "execution_count": 63,
   "metadata": {},
   "outputs": [
    {
     "data": {
      "text/plain": [
       "<Figure size 2000x1500 with 0 Axes>"
      ]
     },
     "metadata": {},
     "output_type": "display_data"
    },
    {
     "data": {
      "image/png": "[encoded data removed]",
      "text/plain": [
       "<Figure size 640x480 with 1 Axes>"
      ]
     },
     "metadata": {},
     "output_type": "display_data"
    }
   ],
   "source": [
    "plt.figure(figsize=(20, 15))\n",
    "users.plot(kind='bar', color='skyblue')\n",
    "plt.title('Распределение числа успешных транзакций по пользователям')\n",
    "plt.xlabel('Пользователь')\n",
    "plt.ylabel('Количество успешных транзакций')\n",
    "plt.xticks(rotation=90)\n",
    "plt.grid(axis='y')\n",
    "plt.show()"
   ]
  },
  {
   "cell_type": "markdown",
   "metadata": {},
   "source": [
    "Коллега прислал Вам обновленные данные. Постройте сводную таблицу user_vs_minute_pivot, где в качестве столбцов будут использованы имена пользователей, строк – минуты, значений – число совершенных операций в указанную минуту. Пропущенные значения заполните нулями."
   ]
  },
  {
   "cell_type": "code",
   "execution_count": 70,
   "metadata": {},
   "outputs": [
    {
     "data": {
      "application/vnd.microsoft.datawrangler.viewer.v0+json": {
       "columns": [
        {
         "name": "index",
         "rawType": "int64",
         "type": "integer"
        },
        {
         "name": "date",
         "rawType": "datetime64[ns]",
         "type": "datetime"
        },
        {
         "name": "name",
         "rawType": "object",
         "type": "string"
        },
        {
         "name": "transaction",
         "rawType": "object",
         "type": "string"
        },
        {
         "name": "minute",
         "rawType": "int64",
         "type": "integer"
        }
       ],
       "conversionMethod": "pd.DataFrame",
       "ref": "a220068f-2c24-4135-8a77-1d06218376b7",
       "rows": [
        [
         "0",
         "2020-03-02 00:37:20",
         "Ekaterina_Petrova",
         "cancelled",
         "37"
        ],
        [
         "1",
         "2020-03-02 00:59:09",
         "Irina_Fedorova",
         "successfull",
         "59"
        ],
        [
         "2",
         "2020-03-02 01:06:14",
         "Ekaterina_Smirnova",
         "successfull",
         "6"
        ],
        [
         "3",
         "2020-03-02 00:02:58",
         "Lolita_Polyanova",
         "cancelled",
         "2"
        ],
        [
         "4",
         "2020-03-02 00:17:52",
         "Julia_Smirnova",
         "cancelled",
         "17"
        ],
        [
         "5",
         "2020-03-02 01:09:55",
         "Irina_Polyanova",
         "cancelled",
         "9"
        ],
        [
         "6",
         "2020-03-02 00:54:12",
         "Olga_Lesnova",
         "successfull",
         "54"
        ],
        [
         "7",
         "2020-03-02 00:18:43",
         "Irina_Lesnova",
         "successfull",
         "18"
        ],
        [
         "8",
         "2020-03-02 00:06:10",
         "Vasilisa_Petrova",
         "successfull",
         "6"
        ],
        [
         "9",
         "2020-03-02 00:47:06",
         "Olga_Petrova",
         "successfull",
         "47"
        ],
        [
         "10",
         "2020-03-02 01:20:50",
         "Irina_Smirnova",
         "successfull",
         "20"
        ],
        [
         "11",
         "2020-03-02 00:45:16",
         "Vasilisa_Polyanova",
         "successfull",
         "45"
        ],
        [
         "12",
         "2020-03-02 01:01:48",
         "Masha_Ozerova",
         "successfull",
         "1"
        ],
        [
         "13",
         "2020-03-02 01:04:03",
         "Lolita_Polyanova",
         "cancelled",
         "4"
        ],
        [
         "14",
         "2020-03-02 00:22:27",
         "Masha_Fedorova",
         "successfull",
         "22"
        ],
        [
         "15",
         "2020-03-02 01:28:21",
         "Lolita_Ivanova",
         "successfull",
         "28"
        ],
        [
         "16",
         "2020-03-02 01:21:01",
         "Svetlana_Petrova",
         "successfull",
         "21"
        ],
        [
         "17",
         "2020-03-02 01:20:20",
         "Svetlana_Polyanova",
         "successfull",
         "20"
        ],
        [
         "18",
         "2020-03-02 00:52:08",
         "Masha_Fedorova",
         "cancelled",
         "52"
        ],
        [
         "19",
         "2020-03-02 00:37:53",
         "Svetlana_Ozerova",
         "cancelled",
         "37"
        ],
        [
         "20",
         "2020-03-02 00:54:51",
         "Irina_Ozerova",
         "successfull",
         "54"
        ],
        [
         "21",
         "2020-03-02 00:29:43",
         "Vasilisa_Smirnova",
         "successfull",
         "29"
        ],
        [
         "22",
         "2020-03-02 00:06:00",
         "Irina_Petrova",
         "successfull",
         "6"
        ],
        [
         "23",
         "2020-03-02 01:27:01",
         "Svetlana_Ozerova",
         "successfull",
         "27"
        ],
        [
         "24",
         "2020-03-02 00:14:38",
         "Olga_Polyanova",
         "successfull",
         "14"
        ],
        [
         "25",
         "2020-03-02 00:33:26",
         "Julia_Ozerova",
         "successfull",
         "33"
        ],
        [
         "26",
         "2020-03-02 01:11:36",
         "Ekaterina_Ivanova",
         "successfull",
         "11"
        ],
        [
         "27",
         "2020-03-02 01:07:32",
         "Julia_Polyanova",
         "cancelled",
         "7"
        ],
        [
         "28",
         "2020-03-02 00:34:45",
         "Masha_Fedorova",
         "successfull",
         "34"
        ],
        [
         "29",
         "2020-03-02 00:09:20",
         "Olga_Smirnova",
         "successfull",
         "9"
        ],
        [
         "30",
         "2020-03-02 00:46:28",
         "Irina_Fedorova",
         "successfull",
         "46"
        ],
        [
         "31",
         "2020-03-02 00:52:00",
         "Julia_Lesnova",
         "cancelled",
         "52"
        ],
        [
         "32",
         "2020-03-02 00:22:31",
         "Svetlana_Petrova",
         "successfull",
         "22"
        ],
        [
         "33",
         "2020-03-02 00:45:38",
         "Lolita_Polyanova",
         "successfull",
         "45"
        ],
        [
         "34",
         "2020-03-02 00:34:31",
         "Svetlana_Ivanova",
         "successfull",
         "34"
        ],
        [
         "35",
         "2020-03-02 00:20:20",
         "Ekaterina_Ozerova",
         "cancelled",
         "20"
        ],
        [
         "36",
         "2020-03-02 00:13:08",
         "Lolita_Lesnova",
         "successfull",
         "13"
        ],
        [
         "37",
         "2020-03-02 00:43:13",
         "Vasilisa_Smirnova",
         "successfull",
         "43"
        ],
        [
         "38",
         "2020-03-02 00:33:36",
         "Lolita_Ivanova",
         "successfull",
         "33"
        ],
        [
         "39",
         "2020-03-02 00:13:59",
         "Vasilisa_Petrova",
         "successfull",
         "13"
        ],
        [
         "40",
         "2020-03-02 00:38:58",
         "Vasilisa_Polyanova",
         "successfull",
         "38"
        ],
        [
         "41",
         "2020-03-02 00:16:03",
         "Vasilisa_Fedorova",
         "successfull",
         "16"
        ],
        [
         "42",
         "2020-03-02 01:22:49",
         "Lolita_Petrova",
         "successfull",
         "22"
        ],
        [
         "43",
         "2020-03-02 01:11:44",
         "Ekaterina_Polyanova",
         "successfull",
         "11"
        ],
        [
         "44",
         "2020-03-02 00:11:40",
         "Ekaterina_Petrova",
         "successfull",
         "11"
        ],
        [
         "45",
         "2020-03-02 01:23:08",
         "Vasilisa_Petrova",
         "cancelled",
         "23"
        ],
        [
         "46",
         "2020-03-02 01:16:40",
         "Olga_Ozerova",
         "successfull",
         "16"
        ],
        [
         "47",
         "2020-03-02 01:25:09",
         "Svetlana_Lesnova",
         "cancelled",
         "25"
        ],
        [
         "48",
         "2020-03-02 00:14:10",
         "Olga_Ivanova",
         "successfull",
         "14"
        ],
        [
         "49",
         "2020-03-02 00:45:20",
         "Vasilisa_Fedorova",
         "cancelled",
         "45"
        ]
       ],
       "shape": {
        "columns": 4,
        "rows": 5315
       }
      },
      "text/html": [
       "<div>\n",
       "<style scoped>\n",
       "    .dataframe tbody tr th:only-of-type {\n",
       "        vertical-align: middle;\n",
       "    }\n",
       "\n",
       "    .dataframe tbody tr th {\n",
       "        vertical-align: top;\n",
       "    }\n",
       "\n",
       "    .dataframe thead th {\n",
       "        text-align: right;\n",
       "    }\n",
       "</style>\n",
       "<table border=\"1\" class=\"dataframe\">\n",
       "  <thead>\n",
       "    <tr style=\"text-align: right;\">\n",
       "      <th></th>\n",
       "      <th>date</th>\n",
       "      <th>name</th>\n",
       "      <th>transaction</th>\n",
       "      <th>minute</th>\n",
       "    </tr>\n",
       "  </thead>\n",
       "  <tbody>\n",
       "    <tr>\n",
       "      <th>0</th>\n",
       "      <td>2020-03-02 00:37:20</td>\n",
       "      <td>Ekaterina_Petrova</td>\n",
       "      <td>cancelled</td>\n",
       "      <td>37</td>\n",
       "    </tr>\n",
       "    <tr>\n",
       "      <th>1</th>\n",
       "      <td>2020-03-02 00:59:09</td>\n",
       "      <td>Irina_Fedorova</td>\n",
       "      <td>successfull</td>\n",
       "      <td>59</td>\n",
       "    </tr>\n",
       "    <tr>\n",
       "      <th>2</th>\n",
       "      <td>2020-03-02 01:06:14</td>\n",
       "      <td>Ekaterina_Smirnova</td>\n",
       "      <td>successfull</td>\n",
       "      <td>6</td>\n",
       "    </tr>\n",
       "    <tr>\n",
       "      <th>3</th>\n",
       "      <td>2020-03-02 00:02:58</td>\n",
       "      <td>Lolita_Polyanova</td>\n",
       "      <td>cancelled</td>\n",
       "      <td>2</td>\n",
       "    </tr>\n",
       "    <tr>\n",
       "      <th>4</th>\n",
       "      <td>2020-03-02 00:17:52</td>\n",
       "      <td>Julia_Smirnova</td>\n",
       "      <td>cancelled</td>\n",
       "      <td>17</td>\n",
       "    </tr>\n",
       "    <tr>\n",
       "      <th>...</th>\n",
       "      <td>...</td>\n",
       "      <td>...</td>\n",
       "      <td>...</td>\n",
       "      <td>...</td>\n",
       "    </tr>\n",
       "    <tr>\n",
       "      <th>5310</th>\n",
       "      <td>2020-03-02 00:09:28</td>\n",
       "      <td>Vasilisa_Fedorova</td>\n",
       "      <td>successfull</td>\n",
       "      <td>9</td>\n",
       "    </tr>\n",
       "    <tr>\n",
       "      <th>5311</th>\n",
       "      <td>2020-03-02 00:46:31</td>\n",
       "      <td>Vasilisa_Ozerova</td>\n",
       "      <td>successfull</td>\n",
       "      <td>46</td>\n",
       "    </tr>\n",
       "    <tr>\n",
       "      <th>5312</th>\n",
       "      <td>2020-03-02 00:16:38</td>\n",
       "      <td>Olga_Polyanova</td>\n",
       "      <td>successfull</td>\n",
       "      <td>16</td>\n",
       "    </tr>\n",
       "    <tr>\n",
       "      <th>5313</th>\n",
       "      <td>2020-03-02 00:13:00</td>\n",
       "      <td>Ekaterina_Smirnova</td>\n",
       "      <td>successfull</td>\n",
       "      <td>13</td>\n",
       "    </tr>\n",
       "    <tr>\n",
       "      <th>5314</th>\n",
       "      <td>2020-03-02 01:15:45</td>\n",
       "      <td>Irina_Fedorova</td>\n",
       "      <td>cancelled</td>\n",
       "      <td>15</td>\n",
       "    </tr>\n",
       "  </tbody>\n",
       "</table>\n",
       "<p>5315 rows × 4 columns</p>\n",
       "</div>"
      ],
      "text/plain": [
       "                    date                name  transaction  minute\n",
       "0    2020-03-02 00:37:20   Ekaterina_Petrova    cancelled      37\n",
       "1    2020-03-02 00:59:09      Irina_Fedorova  successfull      59\n",
       "2    2020-03-02 01:06:14  Ekaterina_Smirnova  successfull       6\n",
       "3    2020-03-02 00:02:58    Lolita_Polyanova    cancelled       2\n",
       "4    2020-03-02 00:17:52      Julia_Smirnova    cancelled      17\n",
       "...                  ...                 ...          ...     ...\n",
       "5310 2020-03-02 00:09:28   Vasilisa_Fedorova  successfull       9\n",
       "5311 2020-03-02 00:46:31    Vasilisa_Ozerova  successfull      46\n",
       "5312 2020-03-02 00:16:38      Olga_Polyanova  successfull      16\n",
       "5313 2020-03-02 00:13:00  Ekaterina_Smirnova  successfull      13\n",
       "5314 2020-03-02 01:15:45      Irina_Fedorova    cancelled      15\n",
       "\n",
       "[5315 rows x 4 columns]"
      ]
     },
     "execution_count": 70,
     "metadata": {},
     "output_type": "execute_result"
    }
   ],
   "source": [
    "user_vs_minute = pd.read_csv(r'C:\\Users\\majkl\\WorkSpace\\Project_4\\5_transaction_data_updated.csv', parse_dates=['date'])\n",
    "user_vs_minute"
   ]
  },
  {
   "cell_type": "code",
   "execution_count": 71,
   "metadata": {},
   "outputs": [
    {
     "data": {
      "application/vnd.microsoft.datawrangler.viewer.v0+json": {
       "columns": [
        {
         "name": "index",
         "rawType": "int64",
         "type": "integer"
        },
        {
         "name": "name",
         "rawType": "object",
         "type": "string"
        },
        {
         "name": "minute",
         "rawType": "int64",
         "type": "integer"
        },
        {
         "name": "size",
         "rawType": "int64",
         "type": "integer"
        }
       ],
       "conversionMethod": "pd.DataFrame",
       "ref": "ba5665a3-b7e7-46ab-8b3b-17118f266d2d",
       "rows": [
        [
         "0",
         "Ekaterina_Fedorova",
         "0",
         "3"
        ],
        [
         "1",
         "Ekaterina_Fedorova",
         "1",
         "4"
        ],
        [
         "2",
         "Ekaterina_Fedorova",
         "2",
         "1"
        ],
        [
         "3",
         "Ekaterina_Fedorova",
         "3",
         "3"
        ],
        [
         "4",
         "Ekaterina_Fedorova",
         "4",
         "3"
        ]
       ],
       "shape": {
        "columns": 3,
        "rows": 5
       }
      },
      "text/html": [
       "<div>\n",
       "<style scoped>\n",
       "    .dataframe tbody tr th:only-of-type {\n",
       "        vertical-align: middle;\n",
       "    }\n",
       "\n",
       "    .dataframe tbody tr th {\n",
       "        vertical-align: top;\n",
       "    }\n",
       "\n",
       "    .dataframe thead th {\n",
       "        text-align: right;\n",
       "    }\n",
       "</style>\n",
       "<table border=\"1\" class=\"dataframe\">\n",
       "  <thead>\n",
       "    <tr style=\"text-align: right;\">\n",
       "      <th></th>\n",
       "      <th>name</th>\n",
       "      <th>minute</th>\n",
       "      <th>size</th>\n",
       "    </tr>\n",
       "  </thead>\n",
       "  <tbody>\n",
       "    <tr>\n",
       "      <th>0</th>\n",
       "      <td>Ekaterina_Fedorova</td>\n",
       "      <td>0</td>\n",
       "      <td>3</td>\n",
       "    </tr>\n",
       "    <tr>\n",
       "      <th>1</th>\n",
       "      <td>Ekaterina_Fedorova</td>\n",
       "      <td>1</td>\n",
       "      <td>4</td>\n",
       "    </tr>\n",
       "    <tr>\n",
       "      <th>2</th>\n",
       "      <td>Ekaterina_Fedorova</td>\n",
       "      <td>2</td>\n",
       "      <td>1</td>\n",
       "    </tr>\n",
       "    <tr>\n",
       "      <th>3</th>\n",
       "      <td>Ekaterina_Fedorova</td>\n",
       "      <td>3</td>\n",
       "      <td>3</td>\n",
       "    </tr>\n",
       "    <tr>\n",
       "      <th>4</th>\n",
       "      <td>Ekaterina_Fedorova</td>\n",
       "      <td>4</td>\n",
       "      <td>3</td>\n",
       "    </tr>\n",
       "  </tbody>\n",
       "</table>\n",
       "</div>"
      ],
      "text/plain": [
       "                 name  minute  size\n",
       "0  Ekaterina_Fedorova       0     3\n",
       "1  Ekaterina_Fedorova       1     4\n",
       "2  Ekaterina_Fedorova       2     1\n",
       "3  Ekaterina_Fedorova       3     3\n",
       "4  Ekaterina_Fedorova       4     3"
      ]
     },
     "execution_count": 71,
     "metadata": {},
     "output_type": "execute_result"
    }
   ],
   "source": [
    "trans_per_minute = user_vs_minute.groupby(['name', 'minute'], as_index=False).size()\n",
    "trans_per_minute.head()"
   ]
  },
  {
   "cell_type": "code",
   "execution_count": 72,
   "metadata": {},
   "outputs": [
    {
     "data": {
      "application/vnd.microsoft.datawrangler.viewer.v0+json": {
       "columns": [
        {
         "name": "minute",
         "rawType": "int64",
         "type": "integer"
        },
        {
         "name": "Ekaterina_Fedorova",
         "rawType": "float64",
         "type": "float"
        },
        {
         "name": "Ekaterina_Ivanova",
         "rawType": "float64",
         "type": "float"
        },
        {
         "name": "Ekaterina_Lesnova",
         "rawType": "float64",
         "type": "float"
        },
        {
         "name": "Ekaterina_Ozerova",
         "rawType": "float64",
         "type": "float"
        },
        {
         "name": "Ekaterina_Petrova",
         "rawType": "float64",
         "type": "float"
        },
        {
         "name": "Ekaterina_Polyanova",
         "rawType": "float64",
         "type": "float"
        },
        {
         "name": "Ekaterina_Smirnova",
         "rawType": "float64",
         "type": "float"
        },
        {
         "name": "Irina_Fedorova",
         "rawType": "float64",
         "type": "float"
        },
        {
         "name": "Irina_Ivanova",
         "rawType": "float64",
         "type": "float"
        },
        {
         "name": "Irina_Lesnova",
         "rawType": "float64",
         "type": "float"
        },
        {
         "name": "Irina_Ozerova",
         "rawType": "float64",
         "type": "float"
        },
        {
         "name": "Irina_Petrova",
         "rawType": "float64",
         "type": "float"
        },
        {
         "name": "Irina_Polyanova",
         "rawType": "float64",
         "type": "float"
        },
        {
         "name": "Irina_Smirnova",
         "rawType": "float64",
         "type": "float"
        },
        {
         "name": "Julia_Fedorova",
         "rawType": "float64",
         "type": "float"
        },
        {
         "name": "Julia_Ivanova",
         "rawType": "float64",
         "type": "float"
        },
        {
         "name": "Julia_Lesnova",
         "rawType": "float64",
         "type": "float"
        },
        {
         "name": "Julia_Ozerova",
         "rawType": "float64",
         "type": "float"
        },
        {
         "name": "Julia_Petrova",
         "rawType": "float64",
         "type": "float"
        },
        {
         "name": "Julia_Polyanova",
         "rawType": "float64",
         "type": "float"
        },
        {
         "name": "Julia_Smirnova",
         "rawType": "float64",
         "type": "float"
        },
        {
         "name": "Lolita_Fedorova",
         "rawType": "float64",
         "type": "float"
        },
        {
         "name": "Lolita_Ivanova",
         "rawType": "float64",
         "type": "float"
        },
        {
         "name": "Lolita_Lesnova",
         "rawType": "float64",
         "type": "float"
        },
        {
         "name": "Lolita_Ozerova",
         "rawType": "float64",
         "type": "float"
        },
        {
         "name": "Lolita_Petrova",
         "rawType": "float64",
         "type": "float"
        },
        {
         "name": "Lolita_Polyanova",
         "rawType": "float64",
         "type": "float"
        },
        {
         "name": "Lolita_Smirnova",
         "rawType": "float64",
         "type": "float"
        },
        {
         "name": "Masha_Fedorova",
         "rawType": "float64",
         "type": "float"
        },
        {
         "name": "Masha_Ivanova",
         "rawType": "float64",
         "type": "float"
        },
        {
         "name": "Masha_Lesnova",
         "rawType": "float64",
         "type": "float"
        },
        {
         "name": "Masha_Ozerova",
         "rawType": "float64",
         "type": "float"
        },
        {
         "name": "Masha_Petrova",
         "rawType": "float64",
         "type": "float"
        },
        {
         "name": "Masha_Polyanova",
         "rawType": "float64",
         "type": "float"
        },
        {
         "name": "Masha_Smirnova",
         "rawType": "float64",
         "type": "float"
        },
        {
         "name": "Olga_Fedorova",
         "rawType": "float64",
         "type": "float"
        },
        {
         "name": "Olga_Ivanova",
         "rawType": "float64",
         "type": "float"
        },
        {
         "name": "Olga_Lesnova",
         "rawType": "float64",
         "type": "float"
        },
        {
         "name": "Olga_Ozerova",
         "rawType": "float64",
         "type": "float"
        },
        {
         "name": "Olga_Petrova",
         "rawType": "float64",
         "type": "float"
        },
        {
         "name": "Olga_Polyanova",
         "rawType": "float64",
         "type": "float"
        },
        {
         "name": "Olga_Smirnova",
         "rawType": "float64",
         "type": "float"
        },
        {
         "name": "Svetlana_Fedorova",
         "rawType": "float64",
         "type": "float"
        },
        {
         "name": "Svetlana_Ivanova",
         "rawType": "float64",
         "type": "float"
        },
        {
         "name": "Svetlana_Lesnova",
         "rawType": "float64",
         "type": "float"
        },
        {
         "name": "Svetlana_Ozerova",
         "rawType": "float64",
         "type": "float"
        },
        {
         "name": "Svetlana_Petrova",
         "rawType": "float64",
         "type": "float"
        },
        {
         "name": "Svetlana_Polyanova",
         "rawType": "float64",
         "type": "float"
        },
        {
         "name": "Svetlana_Smirnova",
         "rawType": "float64",
         "type": "float"
        },
        {
         "name": "Vasilisa_Fedorova",
         "rawType": "float64",
         "type": "float"
        },
        {
         "name": "Vasilisa_Ivanova",
         "rawType": "float64",
         "type": "float"
        },
        {
         "name": "Vasilisa_Lesnova",
         "rawType": "float64",
         "type": "float"
        },
        {
         "name": "Vasilisa_Ozerova",
         "rawType": "float64",
         "type": "float"
        },
        {
         "name": "Vasilisa_Petrova",
         "rawType": "float64",
         "type": "float"
        },
        {
         "name": "Vasilisa_Polyanova",
         "rawType": "float64",
         "type": "float"
        },
        {
         "name": "Vasilisa_Smirnova",
         "rawType": "float64",
         "type": "float"
        }
       ],
       "conversionMethod": "pd.DataFrame",
       "ref": "f13f517a-7d21-416b-9439-cc458d14dd0f",
       "rows": [
        [
         "0",
         "3.0",
         "4.0",
         "2.0",
         "3.0",
         "4.0",
         "4.0",
         "2.0",
         "1.0",
         "2.0",
         "2.0",
         "2.0",
         "1.0",
         "2.0",
         "2.0",
         "0.0",
         "1.0",
         "4.0",
         "2.0",
         "1.0",
         "0.0",
         "3.0",
         "1.0",
         "1.0",
         "3.0",
         "3.0",
         "4.0",
         "2.0",
         "1.0",
         "2.0",
         "5.0",
         "4.0",
         "4.0",
         "1.0",
         "3.0",
         "1.0",
         "4.0",
         "2.0",
         "1.0",
         "3.0",
         "1.0",
         "1.0",
         "0.0",
         "0.0",
         "1.0",
         "3.0",
         "1.0",
         "0.0",
         "3.0",
         "1.0",
         "1.0",
         "4.0",
         "1.0",
         "3.0",
         "0.0",
         "0.0",
         "1.0"
        ],
        [
         "1",
         "4.0",
         "4.0",
         "0.0",
         "4.0",
         "2.0",
         "5.0",
         "4.0",
         "4.0",
         "4.0",
         "3.0",
         "2.0",
         "4.0",
         "1.0",
         "5.0",
         "4.0",
         "1.0",
         "2.0",
         "2.0",
         "3.0",
         "1.0",
         "1.0",
         "2.0",
         "1.0",
         "0.0",
         "1.0",
         "3.0",
         "2.0",
         "2.0",
         "3.0",
         "3.0",
         "2.0",
         "6.0",
         "4.0",
         "4.0",
         "4.0",
         "3.0",
         "1.0",
         "1.0",
         "1.0",
         "2.0",
         "2.0",
         "3.0",
         "4.0",
         "4.0",
         "1.0",
         "1.0",
         "4.0",
         "5.0",
         "3.0",
         "2.0",
         "3.0",
         "3.0",
         "0.0",
         "0.0",
         "3.0",
         "2.0"
        ],
        [
         "2",
         "1.0",
         "2.0",
         "4.0",
         "4.0",
         "2.0",
         "1.0",
         "3.0",
         "2.0",
         "3.0",
         "3.0",
         "1.0",
         "3.0",
         "0.0",
         "2.0",
         "3.0",
         "4.0",
         "3.0",
         "0.0",
         "5.0",
         "3.0",
         "2.0",
         "2.0",
         "1.0",
         "2.0",
         "2.0",
         "1.0",
         "3.0",
         "3.0",
         "1.0",
         "2.0",
         "2.0",
         "4.0",
         "0.0",
         "2.0",
         "1.0",
         "2.0",
         "2.0",
         "1.0",
         "0.0",
         "2.0",
         "2.0",
         "5.0",
         "2.0",
         "3.0",
         "3.0",
         "5.0",
         "4.0",
         "1.0",
         "3.0",
         "3.0",
         "0.0",
         "1.0",
         "2.0",
         "1.0",
         "3.0",
         "1.0"
        ],
        [
         "3",
         "3.0",
         "0.0",
         "2.0",
         "0.0",
         "5.0",
         "2.0",
         "1.0",
         "3.0",
         "2.0",
         "2.0",
         "3.0",
         "2.0",
         "1.0",
         "2.0",
         "0.0",
         "2.0",
         "2.0",
         "2.0",
         "4.0",
         "3.0",
         "5.0",
         "3.0",
         "3.0",
         "0.0",
         "3.0",
         "2.0",
         "2.0",
         "4.0",
         "1.0",
         "3.0",
         "4.0",
         "2.0",
         "0.0",
         "2.0",
         "1.0",
         "4.0",
         "3.0",
         "3.0",
         "1.0",
         "4.0",
         "1.0",
         "2.0",
         "3.0",
         "4.0",
         "2.0",
         "1.0",
         "1.0",
         "5.0",
         "5.0",
         "2.0",
         "4.0",
         "0.0",
         "3.0",
         "4.0",
         "1.0",
         "0.0"
        ],
        [
         "4",
         "3.0",
         "0.0",
         "0.0",
         "3.0",
         "1.0",
         "1.0",
         "2.0",
         "3.0",
         "2.0",
         "1.0",
         "1.0",
         "3.0",
         "1.0",
         "1.0",
         "3.0",
         "1.0",
         "0.0",
         "2.0",
         "3.0",
         "1.0",
         "1.0",
         "2.0",
         "1.0",
         "0.0",
         "0.0",
         "1.0",
         "1.0",
         "3.0",
         "0.0",
         "2.0",
         "1.0",
         "4.0",
         "6.0",
         "0.0",
         "1.0",
         "2.0",
         "1.0",
         "1.0",
         "4.0",
         "2.0",
         "1.0",
         "3.0",
         "3.0",
         "3.0",
         "2.0",
         "0.0",
         "1.0",
         "2.0",
         "2.0",
         "1.0",
         "1.0",
         "2.0",
         "2.0",
         "3.0",
         "0.0",
         "1.0"
        ]
       ],
       "shape": {
        "columns": 56,
        "rows": 5
       }
      },
      "text/html": [
       "<div>\n",
       "<style scoped>\n",
       "    .dataframe tbody tr th:only-of-type {\n",
       "        vertical-align: middle;\n",
       "    }\n",
       "\n",
       "    .dataframe tbody tr th {\n",
       "        vertical-align: top;\n",
       "    }\n",
       "\n",
       "    .dataframe thead th {\n",
       "        text-align: right;\n",
       "    }\n",
       "</style>\n",
       "<table border=\"1\" class=\"dataframe\">\n",
       "  <thead>\n",
       "    <tr style=\"text-align: right;\">\n",
       "      <th>name</th>\n",
       "      <th>Ekaterina_Fedorova</th>\n",
       "      <th>Ekaterina_Ivanova</th>\n",
       "      <th>Ekaterina_Lesnova</th>\n",
       "      <th>Ekaterina_Ozerova</th>\n",
       "      <th>Ekaterina_Petrova</th>\n",
       "      <th>Ekaterina_Polyanova</th>\n",
       "      <th>Ekaterina_Smirnova</th>\n",
       "      <th>Irina_Fedorova</th>\n",
       "      <th>Irina_Ivanova</th>\n",
       "      <th>Irina_Lesnova</th>\n",
       "      <th>...</th>\n",
       "      <th>Svetlana_Petrova</th>\n",
       "      <th>Svetlana_Polyanova</th>\n",
       "      <th>Svetlana_Smirnova</th>\n",
       "      <th>Vasilisa_Fedorova</th>\n",
       "      <th>Vasilisa_Ivanova</th>\n",
       "      <th>Vasilisa_Lesnova</th>\n",
       "      <th>Vasilisa_Ozerova</th>\n",
       "      <th>Vasilisa_Petrova</th>\n",
       "      <th>Vasilisa_Polyanova</th>\n",
       "      <th>Vasilisa_Smirnova</th>\n",
       "    </tr>\n",
       "    <tr>\n",
       "      <th>minute</th>\n",
       "      <th></th>\n",
       "      <th></th>\n",
       "      <th></th>\n",
       "      <th></th>\n",
       "      <th></th>\n",
       "      <th></th>\n",
       "      <th></th>\n",
       "      <th></th>\n",
       "      <th></th>\n",
       "      <th></th>\n",
       "      <th></th>\n",
       "      <th></th>\n",
       "      <th></th>\n",
       "      <th></th>\n",
       "      <th></th>\n",
       "      <th></th>\n",
       "      <th></th>\n",
       "      <th></th>\n",
       "      <th></th>\n",
       "      <th></th>\n",
       "      <th></th>\n",
       "    </tr>\n",
       "  </thead>\n",
       "  <tbody>\n",
       "    <tr>\n",
       "      <th>0</th>\n",
       "      <td>3.0</td>\n",
       "      <td>4.0</td>\n",
       "      <td>2.0</td>\n",
       "      <td>3.0</td>\n",
       "      <td>4.0</td>\n",
       "      <td>4.0</td>\n",
       "      <td>2.0</td>\n",
       "      <td>1.0</td>\n",
       "      <td>2.0</td>\n",
       "      <td>2.0</td>\n",
       "      <td>...</td>\n",
       "      <td>0.0</td>\n",
       "      <td>3.0</td>\n",
       "      <td>1.0</td>\n",
       "      <td>1.0</td>\n",
       "      <td>4.0</td>\n",
       "      <td>1.0</td>\n",
       "      <td>3.0</td>\n",
       "      <td>0.0</td>\n",
       "      <td>0.0</td>\n",
       "      <td>1.0</td>\n",
       "    </tr>\n",
       "    <tr>\n",
       "      <th>1</th>\n",
       "      <td>4.0</td>\n",
       "      <td>4.0</td>\n",
       "      <td>0.0</td>\n",
       "      <td>4.0</td>\n",
       "      <td>2.0</td>\n",
       "      <td>5.0</td>\n",
       "      <td>4.0</td>\n",
       "      <td>4.0</td>\n",
       "      <td>4.0</td>\n",
       "      <td>3.0</td>\n",
       "      <td>...</td>\n",
       "      <td>4.0</td>\n",
       "      <td>5.0</td>\n",
       "      <td>3.0</td>\n",
       "      <td>2.0</td>\n",
       "      <td>3.0</td>\n",
       "      <td>3.0</td>\n",
       "      <td>0.0</td>\n",
       "      <td>0.0</td>\n",
       "      <td>3.0</td>\n",
       "      <td>2.0</td>\n",
       "    </tr>\n",
       "    <tr>\n",
       "      <th>2</th>\n",
       "      <td>1.0</td>\n",
       "      <td>2.0</td>\n",
       "      <td>4.0</td>\n",
       "      <td>4.0</td>\n",
       "      <td>2.0</td>\n",
       "      <td>1.0</td>\n",
       "      <td>3.0</td>\n",
       "      <td>2.0</td>\n",
       "      <td>3.0</td>\n",
       "      <td>3.0</td>\n",
       "      <td>...</td>\n",
       "      <td>4.0</td>\n",
       "      <td>1.0</td>\n",
       "      <td>3.0</td>\n",
       "      <td>3.0</td>\n",
       "      <td>0.0</td>\n",
       "      <td>1.0</td>\n",
       "      <td>2.0</td>\n",
       "      <td>1.0</td>\n",
       "      <td>3.0</td>\n",
       "      <td>1.0</td>\n",
       "    </tr>\n",
       "    <tr>\n",
       "      <th>3</th>\n",
       "      <td>3.0</td>\n",
       "      <td>0.0</td>\n",
       "      <td>2.0</td>\n",
       "      <td>0.0</td>\n",
       "      <td>5.0</td>\n",
       "      <td>2.0</td>\n",
       "      <td>1.0</td>\n",
       "      <td>3.0</td>\n",
       "      <td>2.0</td>\n",
       "      <td>2.0</td>\n",
       "      <td>...</td>\n",
       "      <td>1.0</td>\n",
       "      <td>5.0</td>\n",
       "      <td>5.0</td>\n",
       "      <td>2.0</td>\n",
       "      <td>4.0</td>\n",
       "      <td>0.0</td>\n",
       "      <td>3.0</td>\n",
       "      <td>4.0</td>\n",
       "      <td>1.0</td>\n",
       "      <td>0.0</td>\n",
       "    </tr>\n",
       "    <tr>\n",
       "      <th>4</th>\n",
       "      <td>3.0</td>\n",
       "      <td>0.0</td>\n",
       "      <td>0.0</td>\n",
       "      <td>3.0</td>\n",
       "      <td>1.0</td>\n",
       "      <td>1.0</td>\n",
       "      <td>2.0</td>\n",
       "      <td>3.0</td>\n",
       "      <td>2.0</td>\n",
       "      <td>1.0</td>\n",
       "      <td>...</td>\n",
       "      <td>1.0</td>\n",
       "      <td>2.0</td>\n",
       "      <td>2.0</td>\n",
       "      <td>1.0</td>\n",
       "      <td>1.0</td>\n",
       "      <td>2.0</td>\n",
       "      <td>2.0</td>\n",
       "      <td>3.0</td>\n",
       "      <td>0.0</td>\n",
       "      <td>1.0</td>\n",
       "    </tr>\n",
       "  </tbody>\n",
       "</table>\n",
       "<p>5 rows × 56 columns</p>\n",
       "</div>"
      ],
      "text/plain": [
       "name    Ekaterina_Fedorova  Ekaterina_Ivanova  Ekaterina_Lesnova  \\\n",
       "minute                                                             \n",
       "0                      3.0                4.0                2.0   \n",
       "1                      4.0                4.0                0.0   \n",
       "2                      1.0                2.0                4.0   \n",
       "3                      3.0                0.0                2.0   \n",
       "4                      3.0                0.0                0.0   \n",
       "\n",
       "name    Ekaterina_Ozerova  Ekaterina_Petrova  Ekaterina_Polyanova  \\\n",
       "minute                                                              \n",
       "0                     3.0                4.0                  4.0   \n",
       "1                     4.0                2.0                  5.0   \n",
       "2                     4.0                2.0                  1.0   \n",
       "3                     0.0                5.0                  2.0   \n",
       "4                     3.0                1.0                  1.0   \n",
       "\n",
       "name    Ekaterina_Smirnova  Irina_Fedorova  Irina_Ivanova  Irina_Lesnova  ...  \\\n",
       "minute                                                                    ...   \n",
       "0                      2.0             1.0            2.0            2.0  ...   \n",
       "1                      4.0             4.0            4.0            3.0  ...   \n",
       "2                      3.0             2.0            3.0            3.0  ...   \n",
       "3                      1.0             3.0            2.0            2.0  ...   \n",
       "4                      2.0             3.0            2.0            1.0  ...   \n",
       "\n",
       "name    Svetlana_Petrova  Svetlana_Polyanova  Svetlana_Smirnova  \\\n",
       "minute                                                            \n",
       "0                    0.0                 3.0                1.0   \n",
       "1                    4.0                 5.0                3.0   \n",
       "2                    4.0                 1.0                3.0   \n",
       "3                    1.0                 5.0                5.0   \n",
       "4                    1.0                 2.0                2.0   \n",
       "\n",
       "name    Vasilisa_Fedorova  Vasilisa_Ivanova  Vasilisa_Lesnova  \\\n",
       "minute                                                          \n",
       "0                     1.0               4.0               1.0   \n",
       "1                     2.0               3.0               3.0   \n",
       "2                     3.0               0.0               1.0   \n",
       "3                     2.0               4.0               0.0   \n",
       "4                     1.0               1.0               2.0   \n",
       "\n",
       "name    Vasilisa_Ozerova  Vasilisa_Petrova  Vasilisa_Polyanova  \\\n",
       "minute                                                           \n",
       "0                    3.0               0.0                 0.0   \n",
       "1                    0.0               0.0                 3.0   \n",
       "2                    2.0               1.0                 3.0   \n",
       "3                    3.0               4.0                 1.0   \n",
       "4                    2.0               3.0                 0.0   \n",
       "\n",
       "name    Vasilisa_Smirnova  \n",
       "minute                     \n",
       "0                     1.0  \n",
       "1                     2.0  \n",
       "2                     1.0  \n",
       "3                     0.0  \n",
       "4                     1.0  \n",
       "\n",
       "[5 rows x 56 columns]"
      ]
     },
     "execution_count": 72,
     "metadata": {},
     "output_type": "execute_result"
    }
   ],
   "source": [
    "pivot_trans_per_minute = trans_per_minute.pivot(index='minute', columns='name', values='size')\n",
    "pivot_trans_per_minute.head().fillna(0)"
   ]
  }
 ],
 "metadata": {
  "kernelspec": {
   "display_name": "base",
   "language": "python",
   "name": "python3"
  },
  "language_info": {
   "codemirror_mode": {
    "name": "ipython",
    "version": 3
   },
   "file_extension": ".py",
   "mimetype": "text/x-python",
   "name": "python",
   "nbconvert_exporter": "python",
   "pygments_lexer": "ipython3",
   "version": "3.12.4"
  }
 },
 "nbformat": 4,
 "nbformat_minor": 2
}
