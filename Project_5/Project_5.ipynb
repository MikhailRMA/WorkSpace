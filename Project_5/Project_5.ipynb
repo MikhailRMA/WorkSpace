{
 "cells": [
  {
   "cell_type": "code",
   "execution_count": 42,
   "metadata": {},
   "outputs": [],
   "source": [
    "import pandas as pd\n",
    "import numpy as np\n",
    "%matplotlib inline\n",
    "import matplotlib.pyplot as plt\n",
    "import seaborn as sns\n",
    "import plotly.express as px\n"
   ]
  },
  {
   "cell_type": "code",
   "execution_count": 3,
   "metadata": {},
   "outputs": [],
   "source": [
    "ads_data = pd.read_csv('C:/Users/majkl/WorkSpace/Project_5/ads_data.csv', parse_dates=['date', 'time'])\n",
    "ads_clients_data = pd.read_csv('C:/Users/majkl/WorkSpace/Project_5/ads_clients_data.csv', parse_dates=['date', 'create_date'])"
   ]
  },
  {
   "cell_type": "code",
   "execution_count": 4,
   "metadata": {},
   "outputs": [
    {
     "data": {
      "application/vnd.microsoft.datawrangler.viewer.v0+json": {
       "columns": [
        {
         "name": "index",
         "rawType": "int64",
         "type": "integer"
        },
        {
         "name": "date",
         "rawType": "datetime64[ns]",
         "type": "datetime"
        },
        {
         "name": "time",
         "rawType": "datetime64[ns]",
         "type": "datetime"
        },
        {
         "name": "event",
         "rawType": "object",
         "type": "string"
        },
        {
         "name": "platform",
         "rawType": "object",
         "type": "string"
        },
        {
         "name": "ad_id",
         "rawType": "int64",
         "type": "integer"
        },
        {
         "name": "client_union_id",
         "rawType": "int64",
         "type": "integer"
        },
        {
         "name": "campaign_union_id",
         "rawType": "int64",
         "type": "integer"
        },
        {
         "name": "ad_cost_type",
         "rawType": "object",
         "type": "string"
        },
        {
         "name": "ad_cost",
         "rawType": "float64",
         "type": "float"
        },
        {
         "name": "has_video",
         "rawType": "int64",
         "type": "integer"
        },
        {
         "name": "target_audience_count",
         "rawType": "int64",
         "type": "integer"
        }
       ],
       "conversionMethod": "pd.DataFrame",
       "ref": "4970bced-fe7e-45c8-93fd-984c205ec94f",
       "rows": [
        [
         "0",
         "2019-04-01 00:00:00",
         "2019-04-01 00:00:48",
         "view",
         "android",
         "45061",
         "34734",
         "45061",
         "CPM",
         "200.6",
         "0",
         "1955269"
        ],
        [
         "1",
         "2019-04-01 00:00:00",
         "2019-04-01 00:00:48",
         "view",
         "web",
         "121288",
         "121288",
         "121288",
         "CPM",
         "187.4",
         "0",
         "232011"
        ],
        [
         "2",
         "2019-04-01 00:00:00",
         "2019-04-01 00:01:03",
         "view",
         "android",
         "102737",
         "102535",
         "102564",
         "CPC",
         "60.7",
         "0",
         "4410"
        ],
        [
         "3",
         "2019-04-01 00:00:00",
         "2019-04-01 00:01:03",
         "view",
         "android",
         "107564",
         "106914",
         "107564",
         "CPM",
         "217.3",
         "0",
         "62711"
        ],
        [
         "4",
         "2019-04-01 00:00:00",
         "2019-04-01 00:01:09",
         "view",
         "android",
         "4922",
         "37",
         "4400",
         "CPC",
         "60.1",
         "0",
         "1183501"
        ]
       ],
       "shape": {
        "columns": 11,
        "rows": 5
       }
      },
      "text/html": [
       "<div>\n",
       "<style scoped>\n",
       "    .dataframe tbody tr th:only-of-type {\n",
       "        vertical-align: middle;\n",
       "    }\n",
       "\n",
       "    .dataframe tbody tr th {\n",
       "        vertical-align: top;\n",
       "    }\n",
       "\n",
       "    .dataframe thead th {\n",
       "        text-align: right;\n",
       "    }\n",
       "</style>\n",
       "<table border=\"1\" class=\"dataframe\">\n",
       "  <thead>\n",
       "    <tr style=\"text-align: right;\">\n",
       "      <th></th>\n",
       "      <th>date</th>\n",
       "      <th>time</th>\n",
       "      <th>event</th>\n",
       "      <th>platform</th>\n",
       "      <th>ad_id</th>\n",
       "      <th>client_union_id</th>\n",
       "      <th>campaign_union_id</th>\n",
       "      <th>ad_cost_type</th>\n",
       "      <th>ad_cost</th>\n",
       "      <th>has_video</th>\n",
       "      <th>target_audience_count</th>\n",
       "    </tr>\n",
       "  </thead>\n",
       "  <tbody>\n",
       "    <tr>\n",
       "      <th>0</th>\n",
       "      <td>2019-04-01</td>\n",
       "      <td>2019-04-01 00:00:48</td>\n",
       "      <td>view</td>\n",
       "      <td>android</td>\n",
       "      <td>45061</td>\n",
       "      <td>34734</td>\n",
       "      <td>45061</td>\n",
       "      <td>CPM</td>\n",
       "      <td>200.6</td>\n",
       "      <td>0</td>\n",
       "      <td>1955269</td>\n",
       "    </tr>\n",
       "    <tr>\n",
       "      <th>1</th>\n",
       "      <td>2019-04-01</td>\n",
       "      <td>2019-04-01 00:00:48</td>\n",
       "      <td>view</td>\n",
       "      <td>web</td>\n",
       "      <td>121288</td>\n",
       "      <td>121288</td>\n",
       "      <td>121288</td>\n",
       "      <td>CPM</td>\n",
       "      <td>187.4</td>\n",
       "      <td>0</td>\n",
       "      <td>232011</td>\n",
       "    </tr>\n",
       "    <tr>\n",
       "      <th>2</th>\n",
       "      <td>2019-04-01</td>\n",
       "      <td>2019-04-01 00:01:03</td>\n",
       "      <td>view</td>\n",
       "      <td>android</td>\n",
       "      <td>102737</td>\n",
       "      <td>102535</td>\n",
       "      <td>102564</td>\n",
       "      <td>CPC</td>\n",
       "      <td>60.7</td>\n",
       "      <td>0</td>\n",
       "      <td>4410</td>\n",
       "    </tr>\n",
       "    <tr>\n",
       "      <th>3</th>\n",
       "      <td>2019-04-01</td>\n",
       "      <td>2019-04-01 00:01:03</td>\n",
       "      <td>view</td>\n",
       "      <td>android</td>\n",
       "      <td>107564</td>\n",
       "      <td>106914</td>\n",
       "      <td>107564</td>\n",
       "      <td>CPM</td>\n",
       "      <td>217.3</td>\n",
       "      <td>0</td>\n",
       "      <td>62711</td>\n",
       "    </tr>\n",
       "    <tr>\n",
       "      <th>4</th>\n",
       "      <td>2019-04-01</td>\n",
       "      <td>2019-04-01 00:01:09</td>\n",
       "      <td>view</td>\n",
       "      <td>android</td>\n",
       "      <td>4922</td>\n",
       "      <td>37</td>\n",
       "      <td>4400</td>\n",
       "      <td>CPC</td>\n",
       "      <td>60.1</td>\n",
       "      <td>0</td>\n",
       "      <td>1183501</td>\n",
       "    </tr>\n",
       "  </tbody>\n",
       "</table>\n",
       "</div>"
      ],
      "text/plain": [
       "        date                time event platform   ad_id  client_union_id  \\\n",
       "0 2019-04-01 2019-04-01 00:00:48  view  android   45061            34734   \n",
       "1 2019-04-01 2019-04-01 00:00:48  view      web  121288           121288   \n",
       "2 2019-04-01 2019-04-01 00:01:03  view  android  102737           102535   \n",
       "3 2019-04-01 2019-04-01 00:01:03  view  android  107564           106914   \n",
       "4 2019-04-01 2019-04-01 00:01:09  view  android    4922               37   \n",
       "\n",
       "   campaign_union_id ad_cost_type  ad_cost  has_video  target_audience_count  \n",
       "0              45061          CPM    200.6          0                1955269  \n",
       "1             121288          CPM    187.4          0                 232011  \n",
       "2             102564          CPC     60.7          0                   4410  \n",
       "3             107564          CPM    217.3          0                  62711  \n",
       "4               4400          CPC     60.1          0                1183501  "
      ]
     },
     "execution_count": 4,
     "metadata": {},
     "output_type": "execute_result"
    }
   ],
   "source": [
    "ads_data.head()"
   ]
  },
  {
   "cell_type": "code",
   "execution_count": 5,
   "metadata": {},
   "outputs": [
    {
     "name": "stdout",
     "output_type": "stream",
     "text": [
      "date                     0\n",
      "time                     0\n",
      "event                    0\n",
      "platform                 0\n",
      "ad_id                    0\n",
      "client_union_id          0\n",
      "campaign_union_id        0\n",
      "ad_cost_type             0\n",
      "ad_cost                  0\n",
      "has_video                0\n",
      "target_audience_count    0\n",
      "dtype: int64\n"
     ]
    }
   ],
   "source": [
    "print(ads_data.isnull().sum())"
   ]
  },
  {
   "cell_type": "code",
   "execution_count": 6,
   "metadata": {},
   "outputs": [
    {
     "name": "stdout",
     "output_type": "stream",
     "text": [
      "<class 'pandas.core.frame.DataFrame'>\n",
      "RangeIndex: 1000000 entries, 0 to 999999\n",
      "Data columns (total 11 columns):\n",
      " #   Column                 Non-Null Count    Dtype         \n",
      "---  ------                 --------------    -----         \n",
      " 0   date                   1000000 non-null  datetime64[ns]\n",
      " 1   time                   1000000 non-null  datetime64[ns]\n",
      " 2   event                  1000000 non-null  object        \n",
      " 3   platform               1000000 non-null  object        \n",
      " 4   ad_id                  1000000 non-null  int64         \n",
      " 5   client_union_id        1000000 non-null  int64         \n",
      " 6   campaign_union_id      1000000 non-null  int64         \n",
      " 7   ad_cost_type           1000000 non-null  object        \n",
      " 8   ad_cost                1000000 non-null  float64       \n",
      " 9   has_video              1000000 non-null  int64         \n",
      " 10  target_audience_count  1000000 non-null  int64         \n",
      "dtypes: datetime64[ns](2), float64(1), int64(5), object(3)\n",
      "memory usage: 83.9+ MB\n"
     ]
    }
   ],
   "source": [
    "ads_data.info()"
   ]
  },
  {
   "cell_type": "code",
   "execution_count": 7,
   "metadata": {},
   "outputs": [
    {
     "data": {
      "application/vnd.microsoft.datawrangler.viewer.v0+json": {
       "columns": [
        {
         "name": "index",
         "rawType": "int64",
         "type": "integer"
        },
        {
         "name": "date",
         "rawType": "datetime64[ns]",
         "type": "datetime"
        },
        {
         "name": "client_union_id",
         "rawType": "int64",
         "type": "integer"
        },
        {
         "name": "community_id",
         "rawType": "int64",
         "type": "integer"
        },
        {
         "name": "create_date",
         "rawType": "datetime64[ns]",
         "type": "datetime"
        }
       ],
       "conversionMethod": "pd.DataFrame",
       "ref": "2df7d754-28ba-4059-8cf5-380aa0754bdd",
       "rows": [
        [
         "0",
         "2020-05-07 00:00:00",
         "1",
         "-130371893",
         "2018-12-24 00:00:00"
        ],
        [
         "1",
         "2020-05-07 00:00:00",
         "2",
         "-130304626",
         "2019-02-10 00:00:00"
        ],
        [
         "2",
         "2020-05-07 00:00:00",
         "3",
         "-130462599",
         "2019-01-25 00:00:00"
        ],
        [
         "3",
         "2020-05-07 00:00:00",
         "4",
         "-130574300",
         "2018-12-09 00:00:00"
        ],
        [
         "4",
         "2020-05-07 00:00:00",
         "5",
         "-130292358",
         "2019-01-08 00:00:00"
        ]
       ],
       "shape": {
        "columns": 4,
        "rows": 5
       }
      },
      "text/html": [
       "<div>\n",
       "<style scoped>\n",
       "    .dataframe tbody tr th:only-of-type {\n",
       "        vertical-align: middle;\n",
       "    }\n",
       "\n",
       "    .dataframe tbody tr th {\n",
       "        vertical-align: top;\n",
       "    }\n",
       "\n",
       "    .dataframe thead th {\n",
       "        text-align: right;\n",
       "    }\n",
       "</style>\n",
       "<table border=\"1\" class=\"dataframe\">\n",
       "  <thead>\n",
       "    <tr style=\"text-align: right;\">\n",
       "      <th></th>\n",
       "      <th>date</th>\n",
       "      <th>client_union_id</th>\n",
       "      <th>community_id</th>\n",
       "      <th>create_date</th>\n",
       "    </tr>\n",
       "  </thead>\n",
       "  <tbody>\n",
       "    <tr>\n",
       "      <th>0</th>\n",
       "      <td>2020-05-07</td>\n",
       "      <td>1</td>\n",
       "      <td>-130371893</td>\n",
       "      <td>2018-12-24</td>\n",
       "    </tr>\n",
       "    <tr>\n",
       "      <th>1</th>\n",
       "      <td>2020-05-07</td>\n",
       "      <td>2</td>\n",
       "      <td>-130304626</td>\n",
       "      <td>2019-02-10</td>\n",
       "    </tr>\n",
       "    <tr>\n",
       "      <th>2</th>\n",
       "      <td>2020-05-07</td>\n",
       "      <td>3</td>\n",
       "      <td>-130462599</td>\n",
       "      <td>2019-01-25</td>\n",
       "    </tr>\n",
       "    <tr>\n",
       "      <th>3</th>\n",
       "      <td>2020-05-07</td>\n",
       "      <td>4</td>\n",
       "      <td>-130574300</td>\n",
       "      <td>2018-12-09</td>\n",
       "    </tr>\n",
       "    <tr>\n",
       "      <th>4</th>\n",
       "      <td>2020-05-07</td>\n",
       "      <td>5</td>\n",
       "      <td>-130292358</td>\n",
       "      <td>2019-01-08</td>\n",
       "    </tr>\n",
       "  </tbody>\n",
       "</table>\n",
       "</div>"
      ],
      "text/plain": [
       "        date  client_union_id  community_id create_date\n",
       "0 2020-05-07                1    -130371893  2018-12-24\n",
       "1 2020-05-07                2    -130304626  2019-02-10\n",
       "2 2020-05-07                3    -130462599  2019-01-25\n",
       "3 2020-05-07                4    -130574300  2018-12-09\n",
       "4 2020-05-07                5    -130292358  2019-01-08"
      ]
     },
     "execution_count": 7,
     "metadata": {},
     "output_type": "execute_result"
    }
   ],
   "source": [
    "ads_clients_data.head()"
   ]
  },
  {
   "cell_type": "code",
   "execution_count": 8,
   "metadata": {},
   "outputs": [
    {
     "name": "stdout",
     "output_type": "stream",
     "text": [
      "date               0\n",
      "client_union_id    0\n",
      "community_id       0\n",
      "create_date        0\n",
      "dtype: int64\n"
     ]
    }
   ],
   "source": [
    "print(ads_clients_data.isnull().sum())"
   ]
  },
  {
   "cell_type": "code",
   "execution_count": 9,
   "metadata": {},
   "outputs": [
    {
     "name": "stdout",
     "output_type": "stream",
     "text": [
      "<class 'pandas.core.frame.DataFrame'>\n",
      "RangeIndex: 122078 entries, 0 to 122077\n",
      "Data columns (total 4 columns):\n",
      " #   Column           Non-Null Count   Dtype         \n",
      "---  ------           --------------   -----         \n",
      " 0   date             122078 non-null  datetime64[ns]\n",
      " 1   client_union_id  122078 non-null  int64         \n",
      " 2   community_id     122078 non-null  int64         \n",
      " 3   create_date      122078 non-null  datetime64[ns]\n",
      "dtypes: datetime64[ns](2), int64(2)\n",
      "memory usage: 3.7 MB\n"
     ]
    }
   ],
   "source": [
    "ads_clients_data.info()"
   ]
  },
  {
   "cell_type": "markdown",
   "metadata": {},
   "source": [
    "Разобраться с распределением количества показов и кликов. Посчитать среднее количество показов и среднее количество кликов на объявления за весь период (округлить до целых)."
   ]
  },
  {
   "cell_type": "code",
   "execution_count": 10,
   "metadata": {},
   "outputs": [
    {
     "data": {
      "application/vnd.microsoft.datawrangler.viewer.v0+json": {
       "columns": [
        {
         "name": "index",
         "rawType": "int64",
         "type": "integer"
        },
        {
         "name": "ad_id",
         "rawType": "int64",
         "type": "integer"
        },
        {
         "name": "event",
         "rawType": "object",
         "type": "string"
        },
        {
         "name": "size",
         "rawType": "int64",
         "type": "integer"
        }
       ],
       "conversionMethod": "pd.DataFrame",
       "ref": "244384a1-522a-4f74-a799-987d96e6f558",
       "rows": [
        [
         "0",
         "2",
         "click",
         "1"
        ],
        [
         "1",
         "2",
         "view",
         "101"
        ],
        [
         "2",
         "3",
         "click",
         "3"
        ],
        [
         "3",
         "3",
         "view",
         "184"
        ],
        [
         "4",
         "1902",
         "click",
         "1"
        ]
       ],
       "shape": {
        "columns": 3,
        "rows": 5
       }
      },
      "text/html": [
       "<div>\n",
       "<style scoped>\n",
       "    .dataframe tbody tr th:only-of-type {\n",
       "        vertical-align: middle;\n",
       "    }\n",
       "\n",
       "    .dataframe tbody tr th {\n",
       "        vertical-align: top;\n",
       "    }\n",
       "\n",
       "    .dataframe thead th {\n",
       "        text-align: right;\n",
       "    }\n",
       "</style>\n",
       "<table border=\"1\" class=\"dataframe\">\n",
       "  <thead>\n",
       "    <tr style=\"text-align: right;\">\n",
       "      <th></th>\n",
       "      <th>ad_id</th>\n",
       "      <th>event</th>\n",
       "      <th>size</th>\n",
       "    </tr>\n",
       "  </thead>\n",
       "  <tbody>\n",
       "    <tr>\n",
       "      <th>0</th>\n",
       "      <td>2</td>\n",
       "      <td>click</td>\n",
       "      <td>1</td>\n",
       "    </tr>\n",
       "    <tr>\n",
       "      <th>1</th>\n",
       "      <td>2</td>\n",
       "      <td>view</td>\n",
       "      <td>101</td>\n",
       "    </tr>\n",
       "    <tr>\n",
       "      <th>2</th>\n",
       "      <td>3</td>\n",
       "      <td>click</td>\n",
       "      <td>3</td>\n",
       "    </tr>\n",
       "    <tr>\n",
       "      <th>3</th>\n",
       "      <td>3</td>\n",
       "      <td>view</td>\n",
       "      <td>184</td>\n",
       "    </tr>\n",
       "    <tr>\n",
       "      <th>4</th>\n",
       "      <td>1902</td>\n",
       "      <td>click</td>\n",
       "      <td>1</td>\n",
       "    </tr>\n",
       "  </tbody>\n",
       "</table>\n",
       "</div>"
      ],
      "text/plain": [
       "   ad_id  event  size\n",
       "0      2  click     1\n",
       "1      2   view   101\n",
       "2      3  click     3\n",
       "3      3   view   184\n",
       "4   1902  click     1"
      ]
     },
     "execution_count": 10,
     "metadata": {},
     "output_type": "execute_result"
    }
   ],
   "source": [
    "event = ads_data.groupby(['ad_id', 'event'], as_index=False).size()\n",
    "event.head()\n"
   ]
  },
  {
   "cell_type": "code",
   "execution_count": 11,
   "metadata": {},
   "outputs": [
    {
     "data": {
      "application/vnd.microsoft.datawrangler.viewer.v0+json": {
       "columns": [
        {
         "name": "ad_id",
         "rawType": "int64",
         "type": "integer"
        },
        {
         "name": "click",
         "rawType": "float64",
         "type": "float"
        },
        {
         "name": "view",
         "rawType": "float64",
         "type": "float"
        }
       ],
       "conversionMethod": "pd.DataFrame",
       "ref": "305e14aa-c458-4955-ad96-f5d14ef8c653",
       "rows": [
        [
         "2",
         "1.0",
         "101.0"
        ],
        [
         "3",
         "3.0",
         "184.0"
        ],
        [
         "1902",
         "1.0",
         "41.0"
        ],
        [
         "2064",
         "0.0",
         "35.0"
        ],
        [
         "2132",
         "1.0",
         "58.0"
        ],
        [
         "2468",
         "0.0",
         "39.0"
        ],
        [
         "2494",
         "1.0",
         "324.0"
        ],
        [
         "2604",
         "4.0",
         "402.0"
        ],
        [
         "2709",
         "14.0",
         "2628.0"
        ],
        [
         "3787",
         "6.0",
         "359.0"
        ],
        [
         "4365",
         "8.0",
         "157.0"
        ],
        [
         "4369",
         "27.0",
         "584.0"
        ],
        [
         "4450",
         "2.0",
         "19.0"
        ],
        [
         "4483",
         "0.0",
         "21.0"
        ],
        [
         "4804",
         "0.0",
         "33.0"
        ],
        [
         "4922",
         "20.0",
         "1465.0"
        ],
        [
         "4933",
         "10.0",
         "773.0"
        ],
        [
         "4953",
         "2.0",
         "477.0"
        ],
        [
         "6338",
         "23.0",
         "409.0"
        ],
        [
         "7358",
         "1.0",
         "18.0"
        ],
        [
         "7494",
         "1.0",
         "114.0"
        ],
        [
         "8276",
         "1.0",
         "85.0"
        ],
        [
         "9123",
         "1.0",
         "653.0"
        ],
        [
         "9418",
         "2.0",
         "18.0"
        ],
        [
         "9431",
         "0.0",
         "125.0"
        ],
        [
         "9471",
         "1.0",
         "124.0"
        ],
        [
         "9720",
         "6.0",
         "116.0"
        ],
        [
         "9767",
         "0.0",
         "75.0"
        ],
        [
         "9808",
         "0.0",
         "16.0"
        ],
        [
         "9830",
         "1.0",
         "24.0"
        ],
        [
         "9996",
         "0.0",
         "200.0"
        ],
        [
         "10008",
         "0.0",
         "229.0"
        ],
        [
         "10012",
         "3.0",
         "299.0"
        ],
        [
         "10325",
         "0.0",
         "63.0"
        ],
        [
         "10629",
         "1.0",
         "32.0"
        ],
        [
         "10678",
         "0.0",
         "207.0"
        ],
        [
         "10705",
         "0.0",
         "14.0"
        ],
        [
         "10789",
         "0.0",
         "43.0"
        ],
        [
         "10793",
         "0.0",
         "27.0"
        ],
        [
         "10794",
         "22.0",
         "526.0"
        ],
        [
         "11358",
         "0.0",
         "17.0"
        ],
        [
         "11409",
         "2.0",
         "54.0"
        ],
        [
         "11532",
         "7.0",
         "197.0"
        ],
        [
         "11797",
         "0.0",
         "28.0"
        ],
        [
         "12022",
         "0.0",
         "18.0"
        ],
        [
         "12025",
         "0.0",
         "55.0"
        ],
        [
         "12030",
         "10.0",
         "902.0"
        ],
        [
         "12122",
         "2.0",
         "54.0"
        ],
        [
         "12282",
         "3.0",
         "214.0"
        ],
        [
         "12530",
         "0.0",
         "40.0"
        ]
       ],
       "shape": {
        "columns": 2,
        "rows": 965
       }
      },
      "text/html": [
       "<div>\n",
       "<style scoped>\n",
       "    .dataframe tbody tr th:only-of-type {\n",
       "        vertical-align: middle;\n",
       "    }\n",
       "\n",
       "    .dataframe tbody tr th {\n",
       "        vertical-align: top;\n",
       "    }\n",
       "\n",
       "    .dataframe thead th {\n",
       "        text-align: right;\n",
       "    }\n",
       "</style>\n",
       "<table border=\"1\" class=\"dataframe\">\n",
       "  <thead>\n",
       "    <tr style=\"text-align: right;\">\n",
       "      <th>event</th>\n",
       "      <th>click</th>\n",
       "      <th>view</th>\n",
       "    </tr>\n",
       "    <tr>\n",
       "      <th>ad_id</th>\n",
       "      <th></th>\n",
       "      <th></th>\n",
       "    </tr>\n",
       "  </thead>\n",
       "  <tbody>\n",
       "    <tr>\n",
       "      <th>2</th>\n",
       "      <td>1.0</td>\n",
       "      <td>101.0</td>\n",
       "    </tr>\n",
       "    <tr>\n",
       "      <th>3</th>\n",
       "      <td>3.0</td>\n",
       "      <td>184.0</td>\n",
       "    </tr>\n",
       "    <tr>\n",
       "      <th>1902</th>\n",
       "      <td>1.0</td>\n",
       "      <td>41.0</td>\n",
       "    </tr>\n",
       "    <tr>\n",
       "      <th>2064</th>\n",
       "      <td>0.0</td>\n",
       "      <td>35.0</td>\n",
       "    </tr>\n",
       "    <tr>\n",
       "      <th>2132</th>\n",
       "      <td>1.0</td>\n",
       "      <td>58.0</td>\n",
       "    </tr>\n",
       "    <tr>\n",
       "      <th>...</th>\n",
       "      <td>...</td>\n",
       "      <td>...</td>\n",
       "    </tr>\n",
       "    <tr>\n",
       "      <th>122004</th>\n",
       "      <td>4.0</td>\n",
       "      <td>100.0</td>\n",
       "    </tr>\n",
       "    <tr>\n",
       "      <th>122013</th>\n",
       "      <td>0.0</td>\n",
       "      <td>156.0</td>\n",
       "    </tr>\n",
       "    <tr>\n",
       "      <th>122023</th>\n",
       "      <td>0.0</td>\n",
       "      <td>68.0</td>\n",
       "    </tr>\n",
       "    <tr>\n",
       "      <th>122031</th>\n",
       "      <td>1.0</td>\n",
       "      <td>138.0</td>\n",
       "    </tr>\n",
       "    <tr>\n",
       "      <th>122078</th>\n",
       "      <td>0.0</td>\n",
       "      <td>42.0</td>\n",
       "    </tr>\n",
       "  </tbody>\n",
       "</table>\n",
       "<p>965 rows × 2 columns</p>\n",
       "</div>"
      ],
      "text/plain": [
       "event   click   view\n",
       "ad_id               \n",
       "2         1.0  101.0\n",
       "3         3.0  184.0\n",
       "1902      1.0   41.0\n",
       "2064      0.0   35.0\n",
       "2132      1.0   58.0\n",
       "...       ...    ...\n",
       "122004    4.0  100.0\n",
       "122013    0.0  156.0\n",
       "122023    0.0   68.0\n",
       "122031    1.0  138.0\n",
       "122078    0.0   42.0\n",
       "\n",
       "[965 rows x 2 columns]"
      ]
     },
     "execution_count": 11,
     "metadata": {},
     "output_type": "execute_result"
    }
   ],
   "source": [
    "event_pivot = event.pivot(index='ad_id', columns='event', values='size')\n",
    "event_pivot.fillna(0)\n"
   ]
  },
  {
   "cell_type": "code",
   "execution_count": 12,
   "metadata": {},
   "outputs": [],
   "source": [
    "n, b = event_pivot.mean().round()"
   ]
  },
  {
   "cell_type": "code",
   "execution_count": 13,
   "metadata": {},
   "outputs": [
    {
     "name": "stdout",
     "output_type": "stream",
     "text": [
      "Среднее количество кликов 208.0, среднее количество показов 932.0\n"
     ]
    }
   ],
   "source": [
    "print(f'Среднее количество кликов {n}, среднее количество показов {b}')"
   ]
  },
  {
   "cell_type": "markdown",
   "metadata": {},
   "source": [
    "Нарисовать график распределения показов на объявление за весь период."
   ]
  },
  {
   "cell_type": "code",
   "execution_count": 14,
   "metadata": {},
   "outputs": [
    {
     "data": {
      "text/plain": [
       "ad_id\n",
       "112583    351802\n",
       "107729    184596\n",
       "107837     51996\n",
       "28142      24152\n",
       "45008      19668\n",
       "Name: count, dtype: int64"
      ]
     },
     "execution_count": 14,
     "metadata": {},
     "output_type": "execute_result"
    }
   ],
   "source": [
    "view = ads_data.loc[ads_data.event == 'view'].ad_id.value_counts().head()\n",
    "view"
   ]
  },
  {
   "cell_type": "code",
   "execution_count": 15,
   "metadata": {},
   "outputs": [],
   "source": [
    "sns.set(\n",
    "font_scale=2,\n",
    "style=\"whitegrid\",\n",
    "rc={'figure.figsize':(20,7)}\n",
    "       )"
   ]
  },
  {
   "cell_type": "code",
   "execution_count": 16,
   "metadata": {},
   "outputs": [
    {
     "data": {
      "text/plain": [
       "ad_id\n",
       "112583    12.770824\n",
       "107729    12.125925\n",
       "107837    10.858922\n",
       "28142     10.092122\n",
       "45008      9.886748\n",
       "Name: count, dtype: float64"
      ]
     },
     "execution_count": 16,
     "metadata": {},
     "output_type": "execute_result"
    }
   ],
   "source": [
    "log_views = np.log(ads_data.loc[ads_data.event == 'view'].ad_id.value_counts())\n",
    "log_views.head()"
   ]
  },
  {
   "cell_type": "code",
   "execution_count": 17,
   "metadata": {},
   "outputs": [
    {
     "data": {
      "image/png": "[encoded data removed]",
      "text/plain": [
       "<Figure size 1000x600 with 1 Axes>"
      ]
     },
     "metadata": {},
     "output_type": "display_data"
    }
   ],
   "source": [
    "fig, ax = plt.subplots(figsize=(10, 6))\n",
    "sns.histplot(data=log_views, kde=True, stat='density', ax=ax)\n",
    "sns.despine()"
   ]
  },
  {
   "cell_type": "markdown",
   "metadata": {},
   "source": [
    "Посчитать скользящее среднее показов с окном 2. Какое значение скользящего среднего получится за 6 апреля 2019 года (ответ округлить до целых)?"
   ]
  },
  {
   "cell_type": "code",
   "execution_count": 18,
   "metadata": {},
   "outputs": [
    {
     "data": {
      "application/vnd.microsoft.datawrangler.viewer.v0+json": {
       "columns": [
        {
         "name": "ad_id",
         "rawType": "int64",
         "type": "integer"
        },
        {
         "name": "2019-04-01 00:00:00",
         "rawType": "float64",
         "type": "float"
        },
        {
         "name": "2019-04-02 00:00:00",
         "rawType": "float64",
         "type": "float"
        },
        {
         "name": "2019-04-03 00:00:00",
         "rawType": "float64",
         "type": "float"
        },
        {
         "name": "2019-04-04 00:00:00",
         "rawType": "float64",
         "type": "float"
        },
        {
         "name": "2019-04-05 00:00:00",
         "rawType": "float64",
         "type": "float"
        },
        {
         "name": "2019-04-06 00:00:00",
         "rawType": "float64",
         "type": "float"
        }
       ],
       "conversionMethod": "pd.DataFrame",
       "ref": "10cc108e-ccdb-48d8-9471-8b9070cf1f82",
       "rows": [
        [
         "2",
         "83.0",
         "18.0",
         null,
         null,
         null,
         null
        ],
        [
         "3",
         "158.0",
         "26.0",
         null,
         null,
         null,
         null
        ],
        [
         "1902",
         null,
         null,
         "34.0",
         "7.0",
         null,
         null
        ],
        [
         "2064",
         null,
         "28.0",
         "7.0",
         null,
         null,
         null
        ],
        [
         "2132",
         null,
         null,
         "25.0",
         "27.0",
         "6.0",
         null
        ]
       ],
       "shape": {
        "columns": 6,
        "rows": 5
       }
      },
      "text/html": [
       "<div>\n",
       "<style scoped>\n",
       "    .dataframe tbody tr th:only-of-type {\n",
       "        vertical-align: middle;\n",
       "    }\n",
       "\n",
       "    .dataframe tbody tr th {\n",
       "        vertical-align: top;\n",
       "    }\n",
       "\n",
       "    .dataframe thead th {\n",
       "        text-align: right;\n",
       "    }\n",
       "</style>\n",
       "<table border=\"1\" class=\"dataframe\">\n",
       "  <thead>\n",
       "    <tr style=\"text-align: right;\">\n",
       "      <th>date</th>\n",
       "      <th>2019-04-01</th>\n",
       "      <th>2019-04-02</th>\n",
       "      <th>2019-04-03</th>\n",
       "      <th>2019-04-04</th>\n",
       "      <th>2019-04-05</th>\n",
       "      <th>2019-04-06</th>\n",
       "    </tr>\n",
       "    <tr>\n",
       "      <th>ad_id</th>\n",
       "      <th></th>\n",
       "      <th></th>\n",
       "      <th></th>\n",
       "      <th></th>\n",
       "      <th></th>\n",
       "      <th></th>\n",
       "    </tr>\n",
       "  </thead>\n",
       "  <tbody>\n",
       "    <tr>\n",
       "      <th>2</th>\n",
       "      <td>83.0</td>\n",
       "      <td>18.0</td>\n",
       "      <td>NaN</td>\n",
       "      <td>NaN</td>\n",
       "      <td>NaN</td>\n",
       "      <td>NaN</td>\n",
       "    </tr>\n",
       "    <tr>\n",
       "      <th>3</th>\n",
       "      <td>158.0</td>\n",
       "      <td>26.0</td>\n",
       "      <td>NaN</td>\n",
       "      <td>NaN</td>\n",
       "      <td>NaN</td>\n",
       "      <td>NaN</td>\n",
       "    </tr>\n",
       "    <tr>\n",
       "      <th>1902</th>\n",
       "      <td>NaN</td>\n",
       "      <td>NaN</td>\n",
       "      <td>34.0</td>\n",
       "      <td>7.0</td>\n",
       "      <td>NaN</td>\n",
       "      <td>NaN</td>\n",
       "    </tr>\n",
       "    <tr>\n",
       "      <th>2064</th>\n",
       "      <td>NaN</td>\n",
       "      <td>28.0</td>\n",
       "      <td>7.0</td>\n",
       "      <td>NaN</td>\n",
       "      <td>NaN</td>\n",
       "      <td>NaN</td>\n",
       "    </tr>\n",
       "    <tr>\n",
       "      <th>2132</th>\n",
       "      <td>NaN</td>\n",
       "      <td>NaN</td>\n",
       "      <td>25.0</td>\n",
       "      <td>27.0</td>\n",
       "      <td>6.0</td>\n",
       "      <td>NaN</td>\n",
       "    </tr>\n",
       "  </tbody>\n",
       "</table>\n",
       "</div>"
      ],
      "text/plain": [
       "date   2019-04-01  2019-04-02  2019-04-03  2019-04-04  2019-04-05  2019-04-06\n",
       "ad_id                                                                        \n",
       "2            83.0        18.0         NaN         NaN         NaN         NaN\n",
       "3           158.0        26.0         NaN         NaN         NaN         NaN\n",
       "1902          NaN         NaN        34.0         7.0         NaN         NaN\n",
       "2064          NaN        28.0         7.0         NaN         NaN         NaN\n",
       "2132          NaN         NaN        25.0        27.0         6.0         NaN"
      ]
     },
     "execution_count": 18,
     "metadata": {},
     "output_type": "execute_result"
    }
   ],
   "source": [
    "daily_ad_views = ads_data.loc[ads_data.event == 'view'].pivot_table(index='ad_id',\n",
    "                                                                    columns='date',\n",
    "                                                                    values='time', \n",
    "                                                                    aggfunc='count')\n",
    "daily_ad_views.head()"
   ]
  },
  {
   "cell_type": "code",
   "execution_count": 19,
   "metadata": {},
   "outputs": [
    {
     "data": {
      "text/plain": [
       "date\n",
       "2019-04-01    154.482270\n",
       "2019-04-02    137.786982\n",
       "2019-04-03    163.952778\n",
       "2019-04-04    675.901720\n",
       "2019-04-05    919.109677\n",
       "2019-04-06    277.122727\n",
       "dtype: float64"
      ]
     },
     "execution_count": 19,
     "metadata": {},
     "output_type": "execute_result"
    }
   ],
   "source": [
    "mean_views = daily_ad_views.mean()\n",
    "mean_views"
   ]
  },
  {
   "cell_type": "code",
   "execution_count": 20,
   "metadata": {},
   "outputs": [
    {
     "data": {
      "text/plain": [
       "date\n",
       "2019-04-01      NaN\n",
       "2019-04-02    146.0\n",
       "2019-04-03    151.0\n",
       "2019-04-04    420.0\n",
       "2019-04-05    798.0\n",
       "2019-04-06    598.0\n",
       "dtype: float64"
      ]
     },
     "execution_count": 20,
     "metadata": {},
     "output_type": "execute_result"
    }
   ],
   "source": [
    "rolling_daily = daily_ad_views.mean().rolling(window=2).mean().round(0)\n",
    "rolling_daily"
   ]
  },
  {
   "cell_type": "code",
   "execution_count": 21,
   "metadata": {},
   "outputs": [
    {
     "name": "stdout",
     "output_type": "stream",
     "text": [
      "Значение скользящего среднего за 6 апреля 2019 года 598.0\n"
     ]
    }
   ],
   "source": [
    "a = rolling_daily['2019-04-06']\n",
    "print(f'Значение скользящего среднего за 6 апреля 2019 года {a}')"
   ]
  },
  {
   "cell_type": "markdown",
   "metadata": {},
   "source": [
    "Нанести на один график значения арифметического среднего по дням и скользящего среднего количества показов. В какой день наблюдается наибольшая разница по модулю между арифметическим средним и скользящим средним? "
   ]
  },
  {
   "cell_type": "code",
   "execution_count": 22,
   "metadata": {},
   "outputs": [
    {
     "data": {
      "image/png": "[encoded data removed]",
      "text/plain": [
       "<Figure size 2000x700 with 1 Axes>"
      ]
     },
     "metadata": {},
     "output_type": "display_data"
    }
   ],
   "source": [
    "fig, ax = plt.subplots()\n",
    "sns.lineplot(data=rolling_daily, ax=ax, label='rolling')\n",
    "sns.lineplot(data=mean_views, ax=ax, label='usual')\n",
    "ax.tick_params(axis='x', rotation=45)\n",
    "plt.legend()\n",
    "sns.despine()"
   ]
  },
  {
   "cell_type": "markdown",
   "metadata": {},
   "source": [
    "Большая разница наблюдается 04.04.2019"
   ]
  },
  {
   "cell_type": "markdown",
   "metadata": {},
   "source": [
    "Подгрузить данные по рекламным клиентам и найти среднее количество дней от даты создания рекламного клиента и первым запуском рекламного объявления этим клиентом."
   ]
  },
  {
   "cell_type": "code",
   "execution_count": 23,
   "metadata": {},
   "outputs": [
    {
     "data": {
      "application/vnd.microsoft.datawrangler.viewer.v0+json": {
       "columns": [
        {
         "name": "index",
         "rawType": "int64",
         "type": "integer"
        },
        {
         "name": "date_clients_data",
         "rawType": "datetime64[ns]",
         "type": "datetime"
        },
        {
         "name": "client_union_id",
         "rawType": "int64",
         "type": "integer"
        },
        {
         "name": "community_id",
         "rawType": "int64",
         "type": "integer"
        },
        {
         "name": "create_date",
         "rawType": "datetime64[ns]",
         "type": "datetime"
        },
        {
         "name": "date_ad_data",
         "rawType": "datetime64[ns]",
         "type": "datetime"
        },
        {
         "name": "time",
         "rawType": "datetime64[ns]",
         "type": "datetime"
        },
        {
         "name": "event",
         "rawType": "object",
         "type": "string"
        },
        {
         "name": "platform",
         "rawType": "object",
         "type": "string"
        },
        {
         "name": "ad_id",
         "rawType": "int64",
         "type": "integer"
        },
        {
         "name": "campaign_union_id",
         "rawType": "int64",
         "type": "integer"
        },
        {
         "name": "ad_cost_type",
         "rawType": "object",
         "type": "string"
        },
        {
         "name": "ad_cost",
         "rawType": "float64",
         "type": "float"
        },
        {
         "name": "has_video",
         "rawType": "int64",
         "type": "integer"
        },
        {
         "name": "target_audience_count",
         "rawType": "int64",
         "type": "integer"
        }
       ],
       "conversionMethod": "pd.DataFrame",
       "ref": "1563b1b5-2d40-4903-b190-a1577397b2f6",
       "rows": [
        [
         "0",
         "2020-05-07 00:00:00",
         "1",
         "-130371893",
         "2018-12-24 00:00:00",
         "2019-04-01 00:00:00",
         "2019-04-01 00:08:51",
         "view",
         "android",
         "3",
         "1",
         "CPC",
         "46.7",
         "0",
         "45035"
        ],
        [
         "1",
         "2020-05-07 00:00:00",
         "1",
         "-130371893",
         "2018-12-24 00:00:00",
         "2019-04-01 00:00:00",
         "2019-04-01 00:09:36",
         "view",
         "ios",
         "3",
         "1",
         "CPC",
         "46.7",
         "0",
         "45035"
        ],
        [
         "2",
         "2020-05-07 00:00:00",
         "1",
         "-130371893",
         "2018-12-24 00:00:00",
         "2019-04-01 00:00:00",
         "2019-04-01 00:29:30",
         "view",
         "ios",
         "3",
         "1",
         "CPC",
         "46.7",
         "0",
         "45035"
        ],
        [
         "3",
         "2020-05-07 00:00:00",
         "1",
         "-130371893",
         "2018-12-24 00:00:00",
         "2019-04-01 00:00:00",
         "2019-04-01 00:29:58",
         "view",
         "android",
         "3",
         "1",
         "CPC",
         "46.7",
         "0",
         "45035"
        ],
        [
         "4",
         "2020-05-07 00:00:00",
         "1",
         "-130371893",
         "2018-12-24 00:00:00",
         "2019-04-01 00:00:00",
         "2019-04-01 00:51:54",
         "view",
         "android",
         "3",
         "1",
         "CPC",
         "46.7",
         "0",
         "45035"
        ]
       ],
       "shape": {
        "columns": 14,
        "rows": 5
       }
      },
      "text/html": [
       "<div>\n",
       "<style scoped>\n",
       "    .dataframe tbody tr th:only-of-type {\n",
       "        vertical-align: middle;\n",
       "    }\n",
       "\n",
       "    .dataframe tbody tr th {\n",
       "        vertical-align: top;\n",
       "    }\n",
       "\n",
       "    .dataframe thead th {\n",
       "        text-align: right;\n",
       "    }\n",
       "</style>\n",
       "<table border=\"1\" class=\"dataframe\">\n",
       "  <thead>\n",
       "    <tr style=\"text-align: right;\">\n",
       "      <th></th>\n",
       "      <th>date_clients_data</th>\n",
       "      <th>client_union_id</th>\n",
       "      <th>community_id</th>\n",
       "      <th>create_date</th>\n",
       "      <th>date_ad_data</th>\n",
       "      <th>time</th>\n",
       "      <th>event</th>\n",
       "      <th>platform</th>\n",
       "      <th>ad_id</th>\n",
       "      <th>campaign_union_id</th>\n",
       "      <th>ad_cost_type</th>\n",
       "      <th>ad_cost</th>\n",
       "      <th>has_video</th>\n",
       "      <th>target_audience_count</th>\n",
       "    </tr>\n",
       "  </thead>\n",
       "  <tbody>\n",
       "    <tr>\n",
       "      <th>0</th>\n",
       "      <td>2020-05-07</td>\n",
       "      <td>1</td>\n",
       "      <td>-130371893</td>\n",
       "      <td>2018-12-24</td>\n",
       "      <td>2019-04-01</td>\n",
       "      <td>2019-04-01 00:08:51</td>\n",
       "      <td>view</td>\n",
       "      <td>android</td>\n",
       "      <td>3</td>\n",
       "      <td>1</td>\n",
       "      <td>CPC</td>\n",
       "      <td>46.7</td>\n",
       "      <td>0</td>\n",
       "      <td>45035</td>\n",
       "    </tr>\n",
       "    <tr>\n",
       "      <th>1</th>\n",
       "      <td>2020-05-07</td>\n",
       "      <td>1</td>\n",
       "      <td>-130371893</td>\n",
       "      <td>2018-12-24</td>\n",
       "      <td>2019-04-01</td>\n",
       "      <td>2019-04-01 00:09:36</td>\n",
       "      <td>view</td>\n",
       "      <td>ios</td>\n",
       "      <td>3</td>\n",
       "      <td>1</td>\n",
       "      <td>CPC</td>\n",
       "      <td>46.7</td>\n",
       "      <td>0</td>\n",
       "      <td>45035</td>\n",
       "    </tr>\n",
       "    <tr>\n",
       "      <th>2</th>\n",
       "      <td>2020-05-07</td>\n",
       "      <td>1</td>\n",
       "      <td>-130371893</td>\n",
       "      <td>2018-12-24</td>\n",
       "      <td>2019-04-01</td>\n",
       "      <td>2019-04-01 00:29:30</td>\n",
       "      <td>view</td>\n",
       "      <td>ios</td>\n",
       "      <td>3</td>\n",
       "      <td>1</td>\n",
       "      <td>CPC</td>\n",
       "      <td>46.7</td>\n",
       "      <td>0</td>\n",
       "      <td>45035</td>\n",
       "    </tr>\n",
       "    <tr>\n",
       "      <th>3</th>\n",
       "      <td>2020-05-07</td>\n",
       "      <td>1</td>\n",
       "      <td>-130371893</td>\n",
       "      <td>2018-12-24</td>\n",
       "      <td>2019-04-01</td>\n",
       "      <td>2019-04-01 00:29:58</td>\n",
       "      <td>view</td>\n",
       "      <td>android</td>\n",
       "      <td>3</td>\n",
       "      <td>1</td>\n",
       "      <td>CPC</td>\n",
       "      <td>46.7</td>\n",
       "      <td>0</td>\n",
       "      <td>45035</td>\n",
       "    </tr>\n",
       "    <tr>\n",
       "      <th>4</th>\n",
       "      <td>2020-05-07</td>\n",
       "      <td>1</td>\n",
       "      <td>-130371893</td>\n",
       "      <td>2018-12-24</td>\n",
       "      <td>2019-04-01</td>\n",
       "      <td>2019-04-01 00:51:54</td>\n",
       "      <td>view</td>\n",
       "      <td>android</td>\n",
       "      <td>3</td>\n",
       "      <td>1</td>\n",
       "      <td>CPC</td>\n",
       "      <td>46.7</td>\n",
       "      <td>0</td>\n",
       "      <td>45035</td>\n",
       "    </tr>\n",
       "  </tbody>\n",
       "</table>\n",
       "</div>"
      ],
      "text/plain": [
       "  date_clients_data  client_union_id  community_id create_date date_ad_data  \\\n",
       "0        2020-05-07                1    -130371893  2018-12-24   2019-04-01   \n",
       "1        2020-05-07                1    -130371893  2018-12-24   2019-04-01   \n",
       "2        2020-05-07                1    -130371893  2018-12-24   2019-04-01   \n",
       "3        2020-05-07                1    -130371893  2018-12-24   2019-04-01   \n",
       "4        2020-05-07                1    -130371893  2018-12-24   2019-04-01   \n",
       "\n",
       "                 time event platform  ad_id  campaign_union_id ad_cost_type  \\\n",
       "0 2019-04-01 00:08:51  view  android      3                  1          CPC   \n",
       "1 2019-04-01 00:09:36  view      ios      3                  1          CPC   \n",
       "2 2019-04-01 00:29:30  view      ios      3                  1          CPC   \n",
       "3 2019-04-01 00:29:58  view  android      3                  1          CPC   \n",
       "4 2019-04-01 00:51:54  view  android      3                  1          CPC   \n",
       "\n",
       "   ad_cost  has_video  target_audience_count  \n",
       "0     46.7          0                  45035  \n",
       "1     46.7          0                  45035  \n",
       "2     46.7          0                  45035  \n",
       "3     46.7          0                  45035  \n",
       "4     46.7          0                  45035  "
      ]
     },
     "execution_count": 23,
     "metadata": {},
     "output_type": "execute_result"
    }
   ],
   "source": [
    "merged = ads_clients_data.merge(ads_data, on=['client_union_id'], suffixes=('_clients_data', '_ad_data'))\n",
    "merged.head()"
   ]
  },
  {
   "cell_type": "code",
   "execution_count": 24,
   "metadata": {},
   "outputs": [
    {
     "name": "stdout",
     "output_type": "stream",
     "text": [
      "<class 'pandas.core.frame.DataFrame'>\n",
      "RangeIndex: 1000000 entries, 0 to 999999\n",
      "Data columns (total 14 columns):\n",
      " #   Column                 Non-Null Count    Dtype         \n",
      "---  ------                 --------------    -----         \n",
      " 0   date_clients_data      1000000 non-null  datetime64[ns]\n",
      " 1   client_union_id        1000000 non-null  int64         \n",
      " 2   community_id           1000000 non-null  int64         \n",
      " 3   create_date            1000000 non-null  datetime64[ns]\n",
      " 4   date_ad_data           1000000 non-null  datetime64[ns]\n",
      " 5   time                   1000000 non-null  datetime64[ns]\n",
      " 6   event                  1000000 non-null  object        \n",
      " 7   platform               1000000 non-null  object        \n",
      " 8   ad_id                  1000000 non-null  int64         \n",
      " 9   campaign_union_id      1000000 non-null  int64         \n",
      " 10  ad_cost_type           1000000 non-null  object        \n",
      " 11  ad_cost                1000000 non-null  float64       \n",
      " 12  has_video              1000000 non-null  int64         \n",
      " 13  target_audience_count  1000000 non-null  int64         \n",
      "dtypes: datetime64[ns](4), float64(1), int64(6), object(3)\n",
      "memory usage: 106.8+ MB\n"
     ]
    }
   ],
   "source": [
    "merged.info()"
   ]
  },
  {
   "cell_type": "code",
   "execution_count": 26,
   "metadata": {},
   "outputs": [
    {
     "data": {
      "application/vnd.microsoft.datawrangler.viewer.v0+json": {
       "columns": [
        {
         "name": "index",
         "rawType": "int64",
         "type": "integer"
        },
        {
         "name": "date_clients_data",
         "rawType": "datetime64[ns]",
         "type": "datetime"
        },
        {
         "name": "client_union_id",
         "rawType": "int64",
         "type": "integer"
        },
        {
         "name": "community_id",
         "rawType": "int64",
         "type": "integer"
        },
        {
         "name": "create_date",
         "rawType": "datetime64[ns]",
         "type": "datetime"
        },
        {
         "name": "date_ad_data",
         "rawType": "datetime64[ns]",
         "type": "datetime"
        },
        {
         "name": "time",
         "rawType": "datetime64[ns]",
         "type": "datetime"
        },
        {
         "name": "event",
         "rawType": "object",
         "type": "string"
        },
        {
         "name": "platform",
         "rawType": "object",
         "type": "string"
        },
        {
         "name": "ad_id",
         "rawType": "int64",
         "type": "integer"
        },
        {
         "name": "campaign_union_id",
         "rawType": "int64",
         "type": "integer"
        },
        {
         "name": "ad_cost_type",
         "rawType": "object",
         "type": "string"
        },
        {
         "name": "ad_cost",
         "rawType": "float64",
         "type": "float"
        },
        {
         "name": "has_video",
         "rawType": "int64",
         "type": "integer"
        },
        {
         "name": "target_audience_count",
         "rawType": "int64",
         "type": "integer"
        },
        {
         "name": "difference",
         "rawType": "timedelta64[ns]",
         "type": "unknown"
        }
       ],
       "conversionMethod": "pd.DataFrame",
       "ref": "1e6582ed-3250-42f2-87d2-2026a52007b4",
       "rows": [
        [
         "0",
         "2020-05-07 00:00:00",
         "1",
         "-130371893",
         "2018-12-24 00:00:00",
         "2019-04-01 00:00:00",
         "2019-04-01 00:08:51",
         "view",
         "android",
         "3",
         "1",
         "CPC",
         "46.7",
         "0",
         "45035",
         "98 days 00:00:00"
        ],
        [
         "1",
         "2020-05-07 00:00:00",
         "1",
         "-130371893",
         "2018-12-24 00:00:00",
         "2019-04-01 00:00:00",
         "2019-04-01 00:09:36",
         "view",
         "ios",
         "3",
         "1",
         "CPC",
         "46.7",
         "0",
         "45035",
         "98 days 00:00:00"
        ],
        [
         "2",
         "2020-05-07 00:00:00",
         "1",
         "-130371893",
         "2018-12-24 00:00:00",
         "2019-04-01 00:00:00",
         "2019-04-01 00:29:30",
         "view",
         "ios",
         "3",
         "1",
         "CPC",
         "46.7",
         "0",
         "45035",
         "98 days 00:00:00"
        ],
        [
         "3",
         "2020-05-07 00:00:00",
         "1",
         "-130371893",
         "2018-12-24 00:00:00",
         "2019-04-01 00:00:00",
         "2019-04-01 00:29:58",
         "view",
         "android",
         "3",
         "1",
         "CPC",
         "46.7",
         "0",
         "45035",
         "98 days 00:00:00"
        ],
        [
         "4",
         "2020-05-07 00:00:00",
         "1",
         "-130371893",
         "2018-12-24 00:00:00",
         "2019-04-01 00:00:00",
         "2019-04-01 00:51:54",
         "view",
         "android",
         "3",
         "1",
         "CPC",
         "46.7",
         "0",
         "45035",
         "98 days 00:00:00"
        ],
        [
         "5",
         "2020-05-07 00:00:00",
         "1",
         "-130371893",
         "2018-12-24 00:00:00",
         "2019-04-01 00:00:00",
         "2019-04-01 00:59:41",
         "view",
         "android",
         "2",
         "1",
         "CPM",
         "186.4",
         "0",
         "14841",
         "98 days 00:00:00"
        ],
        [
         "6",
         "2020-05-07 00:00:00",
         "1",
         "-130371893",
         "2018-12-24 00:00:00",
         "2019-04-01 00:00:00",
         "2019-04-01 02:06:11",
         "click",
         "android",
         "3",
         "1",
         "CPC",
         "46.7",
         "0",
         "45035",
         "98 days 00:00:00"
        ],
        [
         "7",
         "2020-05-07 00:00:00",
         "1",
         "-130371893",
         "2018-12-24 00:00:00",
         "2019-04-01 00:00:00",
         "2019-04-01 02:28:52",
         "view",
         "android",
         "3",
         "1",
         "CPC",
         "46.7",
         "0",
         "45035",
         "98 days 00:00:00"
        ],
        [
         "8",
         "2020-05-07 00:00:00",
         "1",
         "-130371893",
         "2018-12-24 00:00:00",
         "2019-04-01 00:00:00",
         "2019-04-01 03:04:12",
         "view",
         "android",
         "2",
         "1",
         "CPM",
         "186.4",
         "0",
         "14841",
         "98 days 00:00:00"
        ],
        [
         "9",
         "2020-05-07 00:00:00",
         "1",
         "-130371893",
         "2018-12-24 00:00:00",
         "2019-04-01 00:00:00",
         "2019-04-01 03:21:59",
         "view",
         "web",
         "2",
         "1",
         "CPM",
         "186.4",
         "0",
         "14841",
         "98 days 00:00:00"
        ],
        [
         "10",
         "2020-05-07 00:00:00",
         "1",
         "-130371893",
         "2018-12-24 00:00:00",
         "2019-04-01 00:00:00",
         "2019-04-01 04:09:02",
         "view",
         "ios",
         "3",
         "1",
         "CPC",
         "46.7",
         "0",
         "45035",
         "98 days 00:00:00"
        ],
        [
         "11",
         "2020-05-07 00:00:00",
         "1",
         "-130371893",
         "2018-12-24 00:00:00",
         "2019-04-01 00:00:00",
         "2019-04-01 05:15:06",
         "view",
         "android",
         "2",
         "1",
         "CPM",
         "186.4",
         "0",
         "14841",
         "98 days 00:00:00"
        ],
        [
         "12",
         "2020-05-07 00:00:00",
         "1",
         "-130371893",
         "2018-12-24 00:00:00",
         "2019-04-01 00:00:00",
         "2019-04-01 05:50:52",
         "view",
         "ios",
         "2",
         "1",
         "CPM",
         "186.4",
         "0",
         "14841",
         "98 days 00:00:00"
        ],
        [
         "13",
         "2020-05-07 00:00:00",
         "1",
         "-130371893",
         "2018-12-24 00:00:00",
         "2019-04-01 00:00:00",
         "2019-04-01 05:53:34",
         "view",
         "android",
         "3",
         "1",
         "CPC",
         "46.7",
         "0",
         "45035",
         "98 days 00:00:00"
        ],
        [
         "14",
         "2020-05-07 00:00:00",
         "1",
         "-130371893",
         "2018-12-24 00:00:00",
         "2019-04-01 00:00:00",
         "2019-04-01 05:56:02",
         "view",
         "android",
         "2",
         "1",
         "CPM",
         "186.4",
         "0",
         "14841",
         "98 days 00:00:00"
        ],
        [
         "15",
         "2020-05-07 00:00:00",
         "1",
         "-130371893",
         "2018-12-24 00:00:00",
         "2019-04-01 00:00:00",
         "2019-04-01 05:56:40",
         "view",
         "android",
         "3",
         "1",
         "CPC",
         "46.7",
         "0",
         "45035",
         "98 days 00:00:00"
        ],
        [
         "16",
         "2020-05-07 00:00:00",
         "1",
         "-130371893",
         "2018-12-24 00:00:00",
         "2019-04-01 00:00:00",
         "2019-04-01 06:07:46",
         "view",
         "android",
         "3",
         "1",
         "CPC",
         "46.7",
         "0",
         "45035",
         "98 days 00:00:00"
        ],
        [
         "17",
         "2020-05-07 00:00:00",
         "1",
         "-130371893",
         "2018-12-24 00:00:00",
         "2019-04-01 00:00:00",
         "2019-04-01 06:16:42",
         "view",
         "android",
         "3",
         "1",
         "CPC",
         "46.7",
         "0",
         "45035",
         "98 days 00:00:00"
        ],
        [
         "18",
         "2020-05-07 00:00:00",
         "1",
         "-130371893",
         "2018-12-24 00:00:00",
         "2019-04-01 00:00:00",
         "2019-04-01 06:16:56",
         "view",
         "android",
         "2",
         "1",
         "CPM",
         "186.4",
         "0",
         "14841",
         "98 days 00:00:00"
        ],
        [
         "19",
         "2020-05-07 00:00:00",
         "1",
         "-130371893",
         "2018-12-24 00:00:00",
         "2019-04-01 00:00:00",
         "2019-04-01 06:24:11",
         "view",
         "ios",
         "2",
         "1",
         "CPM",
         "186.4",
         "0",
         "14841",
         "98 days 00:00:00"
        ],
        [
         "20",
         "2020-05-07 00:00:00",
         "1",
         "-130371893",
         "2018-12-24 00:00:00",
         "2019-04-01 00:00:00",
         "2019-04-01 06:44:55",
         "view",
         "web",
         "3",
         "1",
         "CPC",
         "46.7",
         "0",
         "45035",
         "98 days 00:00:00"
        ],
        [
         "21",
         "2020-05-07 00:00:00",
         "1",
         "-130371893",
         "2018-12-24 00:00:00",
         "2019-04-01 00:00:00",
         "2019-04-01 06:48:11",
         "view",
         "android",
         "3",
         "1",
         "CPC",
         "46.7",
         "0",
         "45035",
         "98 days 00:00:00"
        ],
        [
         "22",
         "2020-05-07 00:00:00",
         "1",
         "-130371893",
         "2018-12-24 00:00:00",
         "2019-04-01 00:00:00",
         "2019-04-01 06:55:38",
         "view",
         "android",
         "3",
         "1",
         "CPC",
         "46.7",
         "0",
         "45035",
         "98 days 00:00:00"
        ],
        [
         "23",
         "2020-05-07 00:00:00",
         "1",
         "-130371893",
         "2018-12-24 00:00:00",
         "2019-04-01 00:00:00",
         "2019-04-01 07:08:37",
         "view",
         "android",
         "2",
         "1",
         "CPM",
         "186.4",
         "0",
         "14841",
         "98 days 00:00:00"
        ],
        [
         "24",
         "2020-05-07 00:00:00",
         "1",
         "-130371893",
         "2018-12-24 00:00:00",
         "2019-04-01 00:00:00",
         "2019-04-01 07:16:26",
         "view",
         "android",
         "3",
         "1",
         "CPC",
         "46.7",
         "0",
         "45035",
         "98 days 00:00:00"
        ],
        [
         "25",
         "2020-05-07 00:00:00",
         "1",
         "-130371893",
         "2018-12-24 00:00:00",
         "2019-04-01 00:00:00",
         "2019-04-01 07:18:39",
         "view",
         "android",
         "3",
         "1",
         "CPC",
         "46.7",
         "0",
         "45035",
         "98 days 00:00:00"
        ],
        [
         "26",
         "2020-05-07 00:00:00",
         "1",
         "-130371893",
         "2018-12-24 00:00:00",
         "2019-04-01 00:00:00",
         "2019-04-01 07:20:15",
         "view",
         "ios",
         "2",
         "1",
         "CPM",
         "186.4",
         "0",
         "14841",
         "98 days 00:00:00"
        ],
        [
         "27",
         "2020-05-07 00:00:00",
         "1",
         "-130371893",
         "2018-12-24 00:00:00",
         "2019-04-01 00:00:00",
         "2019-04-01 07:20:15",
         "view",
         "ios",
         "3",
         "1",
         "CPC",
         "46.7",
         "0",
         "45035",
         "98 days 00:00:00"
        ],
        [
         "28",
         "2020-05-07 00:00:00",
         "1",
         "-130371893",
         "2018-12-24 00:00:00",
         "2019-04-01 00:00:00",
         "2019-04-01 07:25:22",
         "view",
         "android",
         "3",
         "1",
         "CPC",
         "46.7",
         "0",
         "45035",
         "98 days 00:00:00"
        ],
        [
         "29",
         "2020-05-07 00:00:00",
         "1",
         "-130371893",
         "2018-12-24 00:00:00",
         "2019-04-01 00:00:00",
         "2019-04-01 07:35:44",
         "view",
         "ios",
         "3",
         "1",
         "CPC",
         "46.7",
         "0",
         "45035",
         "98 days 00:00:00"
        ],
        [
         "30",
         "2020-05-07 00:00:00",
         "1",
         "-130371893",
         "2018-12-24 00:00:00",
         "2019-04-01 00:00:00",
         "2019-04-01 07:59:59",
         "view",
         "android",
         "3",
         "1",
         "CPC",
         "46.7",
         "0",
         "45035",
         "98 days 00:00:00"
        ],
        [
         "31",
         "2020-05-07 00:00:00",
         "1",
         "-130371893",
         "2018-12-24 00:00:00",
         "2019-04-01 00:00:00",
         "2019-04-01 08:02:04",
         "view",
         "android",
         "3",
         "1",
         "CPC",
         "46.7",
         "0",
         "45035",
         "98 days 00:00:00"
        ],
        [
         "32",
         "2020-05-07 00:00:00",
         "1",
         "-130371893",
         "2018-12-24 00:00:00",
         "2019-04-01 00:00:00",
         "2019-04-01 08:09:45",
         "view",
         "android",
         "3",
         "1",
         "CPC",
         "46.7",
         "0",
         "45035",
         "98 days 00:00:00"
        ],
        [
         "33",
         "2020-05-07 00:00:00",
         "1",
         "-130371893",
         "2018-12-24 00:00:00",
         "2019-04-01 00:00:00",
         "2019-04-01 08:11:36",
         "view",
         "ios",
         "3",
         "1",
         "CPC",
         "46.7",
         "0",
         "45035",
         "98 days 00:00:00"
        ],
        [
         "34",
         "2020-05-07 00:00:00",
         "1",
         "-130371893",
         "2018-12-24 00:00:00",
         "2019-04-01 00:00:00",
         "2019-04-01 08:12:41",
         "view",
         "ios",
         "2",
         "1",
         "CPM",
         "186.4",
         "0",
         "14841",
         "98 days 00:00:00"
        ],
        [
         "35",
         "2020-05-07 00:00:00",
         "1",
         "-130371893",
         "2018-12-24 00:00:00",
         "2019-04-01 00:00:00",
         "2019-04-01 08:20:14",
         "view",
         "web",
         "2",
         "1",
         "CPM",
         "186.4",
         "0",
         "14841",
         "98 days 00:00:00"
        ],
        [
         "36",
         "2020-05-07 00:00:00",
         "1",
         "-130371893",
         "2018-12-24 00:00:00",
         "2019-04-01 00:00:00",
         "2019-04-01 08:31:31",
         "view",
         "ios",
         "2",
         "1",
         "CPM",
         "186.4",
         "0",
         "14841",
         "98 days 00:00:00"
        ],
        [
         "37",
         "2020-05-07 00:00:00",
         "1",
         "-130371893",
         "2018-12-24 00:00:00",
         "2019-04-01 00:00:00",
         "2019-04-01 08:34:50",
         "view",
         "android",
         "3",
         "1",
         "CPC",
         "46.7",
         "0",
         "45035",
         "98 days 00:00:00"
        ],
        [
         "38",
         "2020-05-07 00:00:00",
         "1",
         "-130371893",
         "2018-12-24 00:00:00",
         "2019-04-01 00:00:00",
         "2019-04-01 08:43:17",
         "view",
         "android",
         "2",
         "1",
         "CPM",
         "186.4",
         "0",
         "14841",
         "98 days 00:00:00"
        ],
        [
         "39",
         "2020-05-07 00:00:00",
         "1",
         "-130371893",
         "2018-12-24 00:00:00",
         "2019-04-01 00:00:00",
         "2019-04-01 08:43:28",
         "view",
         "android",
         "3",
         "1",
         "CPC",
         "46.7",
         "0",
         "45035",
         "98 days 00:00:00"
        ],
        [
         "40",
         "2020-05-07 00:00:00",
         "1",
         "-130371893",
         "2018-12-24 00:00:00",
         "2019-04-01 00:00:00",
         "2019-04-01 08:45:44",
         "view",
         "android",
         "3",
         "1",
         "CPC",
         "46.7",
         "0",
         "45035",
         "98 days 00:00:00"
        ],
        [
         "41",
         "2020-05-07 00:00:00",
         "1",
         "-130371893",
         "2018-12-24 00:00:00",
         "2019-04-01 00:00:00",
         "2019-04-01 08:48:20",
         "view",
         "web",
         "3",
         "1",
         "CPC",
         "46.7",
         "0",
         "45035",
         "98 days 00:00:00"
        ],
        [
         "42",
         "2020-05-07 00:00:00",
         "1",
         "-130371893",
         "2018-12-24 00:00:00",
         "2019-04-01 00:00:00",
         "2019-04-01 08:56:28",
         "view",
         "android",
         "3",
         "1",
         "CPC",
         "46.7",
         "0",
         "45035",
         "98 days 00:00:00"
        ],
        [
         "43",
         "2020-05-07 00:00:00",
         "1",
         "-130371893",
         "2018-12-24 00:00:00",
         "2019-04-01 00:00:00",
         "2019-04-01 08:56:59",
         "view",
         "ios",
         "3",
         "1",
         "CPC",
         "46.7",
         "0",
         "45035",
         "98 days 00:00:00"
        ],
        [
         "44",
         "2020-05-07 00:00:00",
         "1",
         "-130371893",
         "2018-12-24 00:00:00",
         "2019-04-01 00:00:00",
         "2019-04-01 08:59:20",
         "view",
         "web",
         "2",
         "1",
         "CPM",
         "186.4",
         "0",
         "14841",
         "98 days 00:00:00"
        ],
        [
         "45",
         "2020-05-07 00:00:00",
         "1",
         "-130371893",
         "2018-12-24 00:00:00",
         "2019-04-01 00:00:00",
         "2019-04-01 09:04:19",
         "view",
         "web",
         "3",
         "1",
         "CPC",
         "46.7",
         "0",
         "45035",
         "98 days 00:00:00"
        ],
        [
         "46",
         "2020-05-07 00:00:00",
         "1",
         "-130371893",
         "2018-12-24 00:00:00",
         "2019-04-01 00:00:00",
         "2019-04-01 09:05:17",
         "view",
         "web",
         "2",
         "1",
         "CPM",
         "186.4",
         "0",
         "14841",
         "98 days 00:00:00"
        ],
        [
         "47",
         "2020-05-07 00:00:00",
         "1",
         "-130371893",
         "2018-12-24 00:00:00",
         "2019-04-01 00:00:00",
         "2019-04-01 09:06:01",
         "view",
         "web",
         "3",
         "1",
         "CPC",
         "46.7",
         "0",
         "45035",
         "98 days 00:00:00"
        ],
        [
         "48",
         "2020-05-07 00:00:00",
         "1",
         "-130371893",
         "2018-12-24 00:00:00",
         "2019-04-01 00:00:00",
         "2019-04-01 09:08:35",
         "view",
         "android",
         "2",
         "1",
         "CPM",
         "186.4",
         "0",
         "14841",
         "98 days 00:00:00"
        ],
        [
         "49",
         "2020-05-07 00:00:00",
         "1",
         "-130371893",
         "2018-12-24 00:00:00",
         "2019-04-01 00:00:00",
         "2019-04-01 09:08:35",
         "view",
         "web",
         "3",
         "1",
         "CPC",
         "46.7",
         "0",
         "45035",
         "98 days 00:00:00"
        ]
       ],
       "shape": {
        "columns": 15,
        "rows": 1000000
       }
      },
      "text/html": [
       "<div>\n",
       "<style scoped>\n",
       "    .dataframe tbody tr th:only-of-type {\n",
       "        vertical-align: middle;\n",
       "    }\n",
       "\n",
       "    .dataframe tbody tr th {\n",
       "        vertical-align: top;\n",
       "    }\n",
       "\n",
       "    .dataframe thead th {\n",
       "        text-align: right;\n",
       "    }\n",
       "</style>\n",
       "<table border=\"1\" class=\"dataframe\">\n",
       "  <thead>\n",
       "    <tr style=\"text-align: right;\">\n",
       "      <th></th>\n",
       "      <th>date_clients_data</th>\n",
       "      <th>client_union_id</th>\n",
       "      <th>community_id</th>\n",
       "      <th>create_date</th>\n",
       "      <th>date_ad_data</th>\n",
       "      <th>time</th>\n",
       "      <th>event</th>\n",
       "      <th>platform</th>\n",
       "      <th>ad_id</th>\n",
       "      <th>campaign_union_id</th>\n",
       "      <th>ad_cost_type</th>\n",
       "      <th>ad_cost</th>\n",
       "      <th>has_video</th>\n",
       "      <th>target_audience_count</th>\n",
       "      <th>difference</th>\n",
       "    </tr>\n",
       "  </thead>\n",
       "  <tbody>\n",
       "    <tr>\n",
       "      <th>0</th>\n",
       "      <td>2020-05-07</td>\n",
       "      <td>1</td>\n",
       "      <td>-130371893</td>\n",
       "      <td>2018-12-24</td>\n",
       "      <td>2019-04-01</td>\n",
       "      <td>2019-04-01 00:08:51</td>\n",
       "      <td>view</td>\n",
       "      <td>android</td>\n",
       "      <td>3</td>\n",
       "      <td>1</td>\n",
       "      <td>CPC</td>\n",
       "      <td>46.7</td>\n",
       "      <td>0</td>\n",
       "      <td>45035</td>\n",
       "      <td>98 days</td>\n",
       "    </tr>\n",
       "    <tr>\n",
       "      <th>1</th>\n",
       "      <td>2020-05-07</td>\n",
       "      <td>1</td>\n",
       "      <td>-130371893</td>\n",
       "      <td>2018-12-24</td>\n",
       "      <td>2019-04-01</td>\n",
       "      <td>2019-04-01 00:09:36</td>\n",
       "      <td>view</td>\n",
       "      <td>ios</td>\n",
       "      <td>3</td>\n",
       "      <td>1</td>\n",
       "      <td>CPC</td>\n",
       "      <td>46.7</td>\n",
       "      <td>0</td>\n",
       "      <td>45035</td>\n",
       "      <td>98 days</td>\n",
       "    </tr>\n",
       "    <tr>\n",
       "      <th>2</th>\n",
       "      <td>2020-05-07</td>\n",
       "      <td>1</td>\n",
       "      <td>-130371893</td>\n",
       "      <td>2018-12-24</td>\n",
       "      <td>2019-04-01</td>\n",
       "      <td>2019-04-01 00:29:30</td>\n",
       "      <td>view</td>\n",
       "      <td>ios</td>\n",
       "      <td>3</td>\n",
       "      <td>1</td>\n",
       "      <td>CPC</td>\n",
       "      <td>46.7</td>\n",
       "      <td>0</td>\n",
       "      <td>45035</td>\n",
       "      <td>98 days</td>\n",
       "    </tr>\n",
       "    <tr>\n",
       "      <th>3</th>\n",
       "      <td>2020-05-07</td>\n",
       "      <td>1</td>\n",
       "      <td>-130371893</td>\n",
       "      <td>2018-12-24</td>\n",
       "      <td>2019-04-01</td>\n",
       "      <td>2019-04-01 00:29:58</td>\n",
       "      <td>view</td>\n",
       "      <td>android</td>\n",
       "      <td>3</td>\n",
       "      <td>1</td>\n",
       "      <td>CPC</td>\n",
       "      <td>46.7</td>\n",
       "      <td>0</td>\n",
       "      <td>45035</td>\n",
       "      <td>98 days</td>\n",
       "    </tr>\n",
       "    <tr>\n",
       "      <th>4</th>\n",
       "      <td>2020-05-07</td>\n",
       "      <td>1</td>\n",
       "      <td>-130371893</td>\n",
       "      <td>2018-12-24</td>\n",
       "      <td>2019-04-01</td>\n",
       "      <td>2019-04-01 00:51:54</td>\n",
       "      <td>view</td>\n",
       "      <td>android</td>\n",
       "      <td>3</td>\n",
       "      <td>1</td>\n",
       "      <td>CPC</td>\n",
       "      <td>46.7</td>\n",
       "      <td>0</td>\n",
       "      <td>45035</td>\n",
       "      <td>98 days</td>\n",
       "    </tr>\n",
       "    <tr>\n",
       "      <th>...</th>\n",
       "      <td>...</td>\n",
       "      <td>...</td>\n",
       "      <td>...</td>\n",
       "      <td>...</td>\n",
       "      <td>...</td>\n",
       "      <td>...</td>\n",
       "      <td>...</td>\n",
       "      <td>...</td>\n",
       "      <td>...</td>\n",
       "      <td>...</td>\n",
       "      <td>...</td>\n",
       "      <td>...</td>\n",
       "      <td>...</td>\n",
       "      <td>...</td>\n",
       "      <td>...</td>\n",
       "    </tr>\n",
       "    <tr>\n",
       "      <th>999995</th>\n",
       "      <td>2020-05-07</td>\n",
       "      <td>122078</td>\n",
       "      <td>-130558729</td>\n",
       "      <td>2019-01-22</td>\n",
       "      <td>2019-04-04</td>\n",
       "      <td>2019-04-03 21:54:35</td>\n",
       "      <td>view</td>\n",
       "      <td>android</td>\n",
       "      <td>122078</td>\n",
       "      <td>122078</td>\n",
       "      <td>CPC</td>\n",
       "      <td>56.4</td>\n",
       "      <td>0</td>\n",
       "      <td>32354</td>\n",
       "      <td>72 days</td>\n",
       "    </tr>\n",
       "    <tr>\n",
       "      <th>999996</th>\n",
       "      <td>2020-05-07</td>\n",
       "      <td>122078</td>\n",
       "      <td>-130558729</td>\n",
       "      <td>2019-01-22</td>\n",
       "      <td>2019-04-04</td>\n",
       "      <td>2019-04-03 22:26:58</td>\n",
       "      <td>view</td>\n",
       "      <td>web</td>\n",
       "      <td>122078</td>\n",
       "      <td>122078</td>\n",
       "      <td>CPC</td>\n",
       "      <td>56.4</td>\n",
       "      <td>0</td>\n",
       "      <td>32354</td>\n",
       "      <td>72 days</td>\n",
       "    </tr>\n",
       "    <tr>\n",
       "      <th>999997</th>\n",
       "      <td>2020-05-07</td>\n",
       "      <td>122078</td>\n",
       "      <td>-130558729</td>\n",
       "      <td>2019-01-22</td>\n",
       "      <td>2019-04-04</td>\n",
       "      <td>2019-04-03 22:32:34</td>\n",
       "      <td>view</td>\n",
       "      <td>android</td>\n",
       "      <td>122078</td>\n",
       "      <td>122078</td>\n",
       "      <td>CPC</td>\n",
       "      <td>56.4</td>\n",
       "      <td>0</td>\n",
       "      <td>32354</td>\n",
       "      <td>72 days</td>\n",
       "    </tr>\n",
       "    <tr>\n",
       "      <th>999998</th>\n",
       "      <td>2020-05-07</td>\n",
       "      <td>122078</td>\n",
       "      <td>-130558729</td>\n",
       "      <td>2019-01-22</td>\n",
       "      <td>2019-04-04</td>\n",
       "      <td>2019-04-03 22:43:03</td>\n",
       "      <td>view</td>\n",
       "      <td>ios</td>\n",
       "      <td>122078</td>\n",
       "      <td>122078</td>\n",
       "      <td>CPC</td>\n",
       "      <td>56.4</td>\n",
       "      <td>0</td>\n",
       "      <td>32354</td>\n",
       "      <td>72 days</td>\n",
       "    </tr>\n",
       "    <tr>\n",
       "      <th>999999</th>\n",
       "      <td>2020-05-07</td>\n",
       "      <td>122078</td>\n",
       "      <td>-130558729</td>\n",
       "      <td>2019-01-22</td>\n",
       "      <td>2019-04-04</td>\n",
       "      <td>2019-04-03 23:18:11</td>\n",
       "      <td>view</td>\n",
       "      <td>android</td>\n",
       "      <td>122078</td>\n",
       "      <td>122078</td>\n",
       "      <td>CPC</td>\n",
       "      <td>56.4</td>\n",
       "      <td>0</td>\n",
       "      <td>32354</td>\n",
       "      <td>72 days</td>\n",
       "    </tr>\n",
       "  </tbody>\n",
       "</table>\n",
       "<p>1000000 rows × 15 columns</p>\n",
       "</div>"
      ],
      "text/plain": [
       "       date_clients_data  client_union_id  community_id create_date  \\\n",
       "0             2020-05-07                1    -130371893  2018-12-24   \n",
       "1             2020-05-07                1    -130371893  2018-12-24   \n",
       "2             2020-05-07                1    -130371893  2018-12-24   \n",
       "3             2020-05-07                1    -130371893  2018-12-24   \n",
       "4             2020-05-07                1    -130371893  2018-12-24   \n",
       "...                  ...              ...           ...         ...   \n",
       "999995        2020-05-07           122078    -130558729  2019-01-22   \n",
       "999996        2020-05-07           122078    -130558729  2019-01-22   \n",
       "999997        2020-05-07           122078    -130558729  2019-01-22   \n",
       "999998        2020-05-07           122078    -130558729  2019-01-22   \n",
       "999999        2020-05-07           122078    -130558729  2019-01-22   \n",
       "\n",
       "       date_ad_data                time event platform   ad_id  \\\n",
       "0        2019-04-01 2019-04-01 00:08:51  view  android       3   \n",
       "1        2019-04-01 2019-04-01 00:09:36  view      ios       3   \n",
       "2        2019-04-01 2019-04-01 00:29:30  view      ios       3   \n",
       "3        2019-04-01 2019-04-01 00:29:58  view  android       3   \n",
       "4        2019-04-01 2019-04-01 00:51:54  view  android       3   \n",
       "...             ...                 ...   ...      ...     ...   \n",
       "999995   2019-04-04 2019-04-03 21:54:35  view  android  122078   \n",
       "999996   2019-04-04 2019-04-03 22:26:58  view      web  122078   \n",
       "999997   2019-04-04 2019-04-03 22:32:34  view  android  122078   \n",
       "999998   2019-04-04 2019-04-03 22:43:03  view      ios  122078   \n",
       "999999   2019-04-04 2019-04-03 23:18:11  view  android  122078   \n",
       "\n",
       "        campaign_union_id ad_cost_type  ad_cost  has_video  \\\n",
       "0                       1          CPC     46.7          0   \n",
       "1                       1          CPC     46.7          0   \n",
       "2                       1          CPC     46.7          0   \n",
       "3                       1          CPC     46.7          0   \n",
       "4                       1          CPC     46.7          0   \n",
       "...                   ...          ...      ...        ...   \n",
       "999995             122078          CPC     56.4          0   \n",
       "999996             122078          CPC     56.4          0   \n",
       "999997             122078          CPC     56.4          0   \n",
       "999998             122078          CPC     56.4          0   \n",
       "999999             122078          CPC     56.4          0   \n",
       "\n",
       "        target_audience_count difference  \n",
       "0                       45035    98 days  \n",
       "1                       45035    98 days  \n",
       "2                       45035    98 days  \n",
       "3                       45035    98 days  \n",
       "4                       45035    98 days  \n",
       "...                       ...        ...  \n",
       "999995                  32354    72 days  \n",
       "999996                  32354    72 days  \n",
       "999997                  32354    72 days  \n",
       "999998                  32354    72 days  \n",
       "999999                  32354    72 days  \n",
       "\n",
       "[1000000 rows x 15 columns]"
      ]
     },
     "execution_count": 26,
     "metadata": {},
     "output_type": "execute_result"
    }
   ],
   "source": [
    "merged['difference'] = merged.date_ad_data - merged.create_date\n",
    "merged"
   ]
  },
  {
   "cell_type": "code",
   "execution_count": 27,
   "metadata": {},
   "outputs": [
    {
     "data": {
      "text/plain": [
       "client_union_id\n",
       "1         98 days\n",
       "9        114 days\n",
       "13        66 days\n",
       "16       105 days\n",
       "20        32 days\n",
       "           ...   \n",
       "122004    67 days\n",
       "122013   151 days\n",
       "122023   126 days\n",
       "122031    96 days\n",
       "122078    71 days\n",
       "Name: difference, Length: 838, dtype: timedelta64[ns]"
      ]
     },
     "execution_count": 27,
     "metadata": {},
     "output_type": "execute_result"
    }
   ],
   "source": [
    "first_ad = merged.groupby('client_union_id').difference.min()\n",
    "first_ad"
   ]
  },
  {
   "cell_type": "code",
   "execution_count": 32,
   "metadata": {},
   "outputs": [
    {
     "name": "stdout",
     "output_type": "stream",
     "text": [
      "Cреднее количество дней от даты создания рекламного клиента \n",
      "и первым запуском рекламного объявления этим клиентом: 124\n"
     ]
    }
   ],
   "source": [
    "\n",
    "print(f'Cреднее количество дней от даты создания рекламного клиента \\nи первым запуском рекламного объявления этим клиентом: {first_ad.mean().days}')"
   ]
  },
  {
   "cell_type": "markdown",
   "metadata": {},
   "source": [
    "Вычислить конверсию из создания рекламного клиента в запуск первой рекламы в течение не более 365 дней."
   ]
  },
  {
   "cell_type": "code",
   "execution_count": 33,
   "metadata": {},
   "outputs": [
    {
     "data": {
      "text/plain": [
       "client_union_id\n",
       "1         98 days\n",
       "9        114 days\n",
       "13        66 days\n",
       "16       105 days\n",
       "20        32 days\n",
       "           ...   \n",
       "122004    67 days\n",
       "122013   151 days\n",
       "122023   126 days\n",
       "122031    96 days\n",
       "122078    71 days\n",
       "Name: difference, Length: 838, dtype: timedelta64[ns]"
      ]
     },
     "execution_count": 33,
     "metadata": {},
     "output_type": "execute_result"
    }
   ],
   "source": [
    "treshold = pd.Timedelta(365, unit='day')\n",
    "lt_365 = first_ad.loc[first_ad < treshold]\n",
    "lt_365"
   ]
  },
  {
   "cell_type": "code",
   "execution_count": 35,
   "metadata": {},
   "outputs": [],
   "source": [
    "q = np.round(len(lt_365) / ads_clients_data.client_union_id.nunique() * 100, 2)"
   ]
  },
  {
   "cell_type": "code",
   "execution_count": 36,
   "metadata": {},
   "outputs": [
    {
     "name": "stdout",
     "output_type": "stream",
     "text": [
      "Конверсия из создания рекламного клиента в запуск первой рекламы равна 0.69\n"
     ]
    }
   ],
   "source": [
    "print(f'Конверсия из создания рекламного клиента в запуск первой рекламы равна {q}')"
   ]
  },
  {
   "cell_type": "markdown",
   "metadata": {},
   "source": [
    "Разбить наших клиентов по промежуткам от создания до запуска рекламного объявления, равным 30. Определить, сколько уникальных клиентов запустили свое первое объявление в первый месяц своего существования (от 0 до 30 дней). Список промежутков для метода pd.cut – [0, 30, 90, 180, 365]"
   ]
  },
  {
   "cell_type": "code",
   "execution_count": 37,
   "metadata": {},
   "outputs": [
    {
     "data": {
      "text/plain": [
       "[Timedelta('0 days 00:00:00'),\n",
       " Timedelta('30 days 00:00:00'),\n",
       " Timedelta('90 days 00:00:00'),\n",
       " Timedelta('180 days 00:00:00'),\n",
       " Timedelta('365 days 00:00:00')]"
      ]
     },
     "execution_count": 37,
     "metadata": {},
     "output_type": "execute_result"
    }
   ],
   "source": [
    "bins = [0, 30, 90, 180, 365]\n",
    "bins = [pd.Timedelta(x, 'd') for x in bins]\n",
    "bins"
   ]
  },
  {
   "cell_type": "code",
   "execution_count": 38,
   "metadata": {},
   "outputs": [],
   "source": [
    "labels = ['0 - 30', '30 - 90', '90 - 180', '180 - 365']"
   ]
  },
  {
   "cell_type": "code",
   "execution_count": 39,
   "metadata": {},
   "outputs": [
    {
     "data": {
      "text/plain": [
       "client_union_id\n",
       "1     90 - 180\n",
       "9     90 - 180\n",
       "13     30 - 90\n",
       "16    90 - 180\n",
       "20     30 - 90\n",
       "Name: difference, dtype: category\n",
       "Categories (4, object): ['0 - 30' < '30 - 90' < '90 - 180' < '180 - 365']"
      ]
     },
     "execution_count": 39,
     "metadata": {},
     "output_type": "execute_result"
    }
   ],
   "source": [
    "binned_first = pd.cut(first_ad, bins, labels=labels)\n",
    "binned_first.head()"
   ]
  },
  {
   "cell_type": "code",
   "execution_count": 40,
   "metadata": {},
   "outputs": [
    {
     "data": {
      "text/plain": [
       "difference\n",
       "90 - 180     396\n",
       "30 - 90      263\n",
       "180 - 365    168\n",
       "0 - 30        11\n",
       "Name: count, dtype: int64"
      ]
     },
     "execution_count": 40,
     "metadata": {},
     "output_type": "execute_result"
    }
   ],
   "source": [
    "binned_first.value_counts()"
   ]
  },
  {
   "cell_type": "markdown",
   "metadata": {},
   "source": [
    "Ответ: `0-30 => 11`"
   ]
  },
  {
   "cell_type": "markdown",
   "metadata": {},
   "source": [
    "Вывести на интерактивный график  категории полученные ранее с количеством уникальных клиентов в них"
   ]
  },
  {
   "cell_type": "code",
   "execution_count": 43,
   "metadata": {},
   "outputs": [
    {
     "data": {
      "application/vnd.plotly.v1+json": {
       "config": {
        "plotlyServerURL": "https://plot.ly"
       },
       "data": [
        {
         "alignmentgroup": "True",
         "hovertemplate": "variable=count<br>difference=%{x}<br>value=%{y}<extra></extra>",
         "legendgroup": "count",
         "marker": {
          "color": "#636efa",
          "pattern": {
           "shape": ""
          }
         },
         "name": "count",
         "offsetgroup": "count",
         "orientation": "v",
         "showlegend": true,
         "textposition": "auto",
         "type": "bar",
         "x": [
          "90 - 180",
          "30 - 90",
          "180 - 365",
          "0 - 30"
         ],
         "xaxis": "x",
         "y": [
          396,
          263,
          168,
          11
         ],
         "yaxis": "y"
        }
       ],
       "layout": {
        "barmode": "relative",
        "legend": {
         "title": {
          "text": "variable"
         },
         "tracegroupgap": 0
        },
        "margin": {
         "t": 60
        },
        "template": {
         "data": {
          "bar": [
           {
            "error_x": {
             "color": "#2a3f5f"
            },
            "error_y": {
             "color": "#2a3f5f"
            },
            "marker": {
             "line": {
              "color": "#E5ECF6",
              "width": 0.5
             },
             "pattern": {
              "fillmode": "overlay",
              "size": 10,
              "solidity": 0.2
             }
            },
            "type": "bar"
           }
          ],
          "barpolar": [
           {
            "marker": {
             "line": {
              "color": "#E5ECF6",
              "width": 0.5
             },
             "pattern": {
              "fillmode": "overlay",
              "size": 10,
              "solidity": 0.2
             }
            },
            "type": "barpolar"
           }
          ],
          "carpet": [
           {
            "aaxis": {
             "endlinecolor": "#2a3f5f",
             "gridcolor": "white",
             "linecolor": "white",
             "minorgridcolor": "white",
             "startlinecolor": "#2a3f5f"
            },
            "baxis": {
             "endlinecolor": "#2a3f5f",
             "gridcolor": "white",
             "linecolor": "white",
             "minorgridcolor": "white",
             "startlinecolor": "#2a3f5f"
            },
            "type": "carpet"
           }
          ],
          "choropleth": [
           {
            "colorbar": {
             "outlinewidth": 0,
             "ticks": ""
            },
            "type": "choropleth"
           }
          ],
          "contour": [
           {
            "colorbar": {
             "outlinewidth": 0,
             "ticks": ""
            },
            "colorscale": [
             [
              0,
              "#0d0887"
             ],
             [
              0.1111111111111111,
              "#46039f"
             ],
             [
              0.2222222222222222,
              "#7201a8"
             ],
             [
              0.3333333333333333,
              "#9c179e"
             ],
             [
              0.4444444444444444,
              "#bd3786"
             ],
             [
              0.5555555555555556,
              "#d8576b"
             ],
             [
              0.6666666666666666,
              "#ed7953"
             ],
             [
              0.7777777777777778,
              "#fb9f3a"
             ],
             [
              0.8888888888888888,
              "#fdca26"
             ],
             [
              1,
              "#f0f921"
             ]
            ],
            "type": "contour"
           }
          ],
          "contourcarpet": [
           {
            "colorbar": {
             "outlinewidth": 0,
             "ticks": ""
            },
            "type": "contourcarpet"
           }
          ],
          "heatmap": [
           {
            "colorbar": {
             "outlinewidth": 0,
             "ticks": ""
            },
            "colorscale": [
             [
              0,
              "#0d0887"
             ],
             [
              0.1111111111111111,
              "#46039f"
             ],
             [
              0.2222222222222222,
              "#7201a8"
             ],
             [
              0.3333333333333333,
              "#9c179e"
             ],
             [
              0.4444444444444444,
              "#bd3786"
             ],
             [
              0.5555555555555556,
              "#d8576b"
             ],
             [
              0.6666666666666666,
              "#ed7953"
             ],
             [
              0.7777777777777778,
              "#fb9f3a"
             ],
             [
              0.8888888888888888,
              "#fdca26"
             ],
             [
              1,
              "#f0f921"
             ]
            ],
            "type": "heatmap"
           }
          ],
          "heatmapgl": [
           {
            "colorbar": {
             "outlinewidth": 0,
             "ticks": ""
            },
            "colorscale": [
             [
              0,
              "#0d0887"
             ],
             [
              0.1111111111111111,
              "#46039f"
             ],
             [
              0.2222222222222222,
              "#7201a8"
             ],
             [
              0.3333333333333333,
              "#9c179e"
             ],
             [
              0.4444444444444444,
              "#bd3786"
             ],
             [
              0.5555555555555556,
              "#d8576b"
             ],
             [
              0.6666666666666666,
              "#ed7953"
             ],
             [
              0.7777777777777778,
              "#fb9f3a"
             ],
             [
              0.8888888888888888,
              "#fdca26"
             ],
             [
              1,
              "#f0f921"
             ]
            ],
            "type": "heatmapgl"
           }
          ],
          "histogram": [
           {
            "marker": {
             "pattern": {
              "fillmode": "overlay",
              "size": 10,
              "solidity": 0.2
             }
            },
            "type": "histogram"
           }
          ],
          "histogram2d": [
           {
            "colorbar": {
             "outlinewidth": 0,
             "ticks": ""
            },
            "colorscale": [
             [
              0,
              "#0d0887"
             ],
             [
              0.1111111111111111,
              "#46039f"
             ],
             [
              0.2222222222222222,
              "#7201a8"
             ],
             [
              0.3333333333333333,
              "#9c179e"
             ],
             [
              0.4444444444444444,
              "#bd3786"
             ],
             [
              0.5555555555555556,
              "#d8576b"
             ],
             [
              0.6666666666666666,
              "#ed7953"
             ],
             [
              0.7777777777777778,
              "#fb9f3a"
             ],
             [
              0.8888888888888888,
              "#fdca26"
             ],
             [
              1,
              "#f0f921"
             ]
            ],
            "type": "histogram2d"
           }
          ],
          "histogram2dcontour": [
           {
            "colorbar": {
             "outlinewidth": 0,
             "ticks": ""
            },
            "colorscale": [
             [
              0,
              "#0d0887"
             ],
             [
              0.1111111111111111,
              "#46039f"
             ],
             [
              0.2222222222222222,
              "#7201a8"
             ],
             [
              0.3333333333333333,
              "#9c179e"
             ],
             [
              0.4444444444444444,
              "#bd3786"
             ],
             [
              0.5555555555555556,
              "#d8576b"
             ],
             [
              0.6666666666666666,
              "#ed7953"
             ],
             [
              0.7777777777777778,
              "#fb9f3a"
             ],
             [
              0.8888888888888888,
              "#fdca26"
             ],
             [
              1,
              "#f0f921"
             ]
            ],
            "type": "histogram2dcontour"
           }
          ],
          "mesh3d": [
           {
            "colorbar": {
             "outlinewidth": 0,
             "ticks": ""
            },
            "type": "mesh3d"
           }
          ],
          "parcoords": [
           {
            "line": {
             "colorbar": {
              "outlinewidth": 0,
              "ticks": ""
             }
            },
            "type": "parcoords"
           }
          ],
          "pie": [
           {
            "automargin": true,
            "type": "pie"
           }
          ],
          "scatter": [
           {
            "fillpattern": {
             "fillmode": "overlay",
             "size": 10,
             "solidity": 0.2
            },
            "type": "scatter"
           }
          ],
          "scatter3d": [
           {
            "line": {
             "colorbar": {
              "outlinewidth": 0,
              "ticks": ""
             }
            },
            "marker": {
             "colorbar": {
              "outlinewidth": 0,
              "ticks": ""
             }
            },
            "type": "scatter3d"
           }
          ],
          "scattercarpet": [
           {
            "marker": {
             "colorbar": {
              "outlinewidth": 0,
              "ticks": ""
             }
            },
            "type": "scattercarpet"
           }
          ],
          "scattergeo": [
           {
            "marker": {
             "colorbar": {
              "outlinewidth": 0,
              "ticks": ""
             }
            },
            "type": "scattergeo"
           }
          ],
          "scattergl": [
           {
            "marker": {
             "colorbar": {
              "outlinewidth": 0,
              "ticks": ""
             }
            },
            "type": "scattergl"
           }
          ],
          "scattermapbox": [
           {
            "marker": {
             "colorbar": {
              "outlinewidth": 0,
              "ticks": ""
             }
            },
            "type": "scattermapbox"
           }
          ],
          "scatterpolar": [
           {
            "marker": {
             "colorbar": {
              "outlinewidth": 0,
              "ticks": ""
             }
            },
            "type": "scatterpolar"
           }
          ],
          "scatterpolargl": [
           {
            "marker": {
             "colorbar": {
              "outlinewidth": 0,
              "ticks": ""
             }
            },
            "type": "scatterpolargl"
           }
          ],
          "scatterternary": [
           {
            "marker": {
             "colorbar": {
              "outlinewidth": 0,
              "ticks": ""
             }
            },
            "type": "scatterternary"
           }
          ],
          "surface": [
           {
            "colorbar": {
             "outlinewidth": 0,
             "ticks": ""
            },
            "colorscale": [
             [
              0,
              "#0d0887"
             ],
             [
              0.1111111111111111,
              "#46039f"
             ],
             [
              0.2222222222222222,
              "#7201a8"
             ],
             [
              0.3333333333333333,
              "#9c179e"
             ],
             [
              0.4444444444444444,
              "#bd3786"
             ],
             [
              0.5555555555555556,
              "#d8576b"
             ],
             [
              0.6666666666666666,
              "#ed7953"
             ],
             [
              0.7777777777777778,
              "#fb9f3a"
             ],
             [
              0.8888888888888888,
              "#fdca26"
             ],
             [
              1,
              "#f0f921"
             ]
            ],
            "type": "surface"
           }
          ],
          "table": [
           {
            "cells": {
             "fill": {
              "color": "#EBF0F8"
             },
             "line": {
              "color": "white"
             }
            },
            "header": {
             "fill": {
              "color": "#C8D4E3"
             },
             "line": {
              "color": "white"
             }
            },
            "type": "table"
           }
          ]
         },
         "layout": {
          "annotationdefaults": {
           "arrowcolor": "#2a3f5f",
           "arrowhead": 0,
           "arrowwidth": 1
          },
          "autotypenumbers": "strict",
          "coloraxis": {
           "colorbar": {
            "outlinewidth": 0,
            "ticks": ""
           }
          },
          "colorscale": {
           "diverging": [
            [
             0,
             "#8e0152"
            ],
            [
             0.1,
             "#c51b7d"
            ],
            [
             0.2,
             "#de77ae"
            ],
            [
             0.3,
             "#f1b6da"
            ],
            [
             0.4,
             "#fde0ef"
            ],
            [
             0.5,
             "#f7f7f7"
            ],
            [
             0.6,
             "#e6f5d0"
            ],
            [
             0.7,
             "#b8e186"
            ],
            [
             0.8,
             "#7fbc41"
            ],
            [
             0.9,
             "#4d9221"
            ],
            [
             1,
             "#276419"
            ]
           ],
           "sequential": [
            [
             0,
             "#0d0887"
            ],
            [
             0.1111111111111111,
             "#46039f"
            ],
            [
             0.2222222222222222,
             "#7201a8"
            ],
            [
             0.3333333333333333,
             "#9c179e"
            ],
            [
             0.4444444444444444,
             "#bd3786"
            ],
            [
             0.5555555555555556,
             "#d8576b"
            ],
            [
             0.6666666666666666,
             "#ed7953"
            ],
            [
             0.7777777777777778,
             "#fb9f3a"
            ],
            [
             0.8888888888888888,
             "#fdca26"
            ],
            [
             1,
             "#f0f921"
            ]
           ],
           "sequentialminus": [
            [
             0,
             "#0d0887"
            ],
            [
             0.1111111111111111,
             "#46039f"
            ],
            [
             0.2222222222222222,
             "#7201a8"
            ],
            [
             0.3333333333333333,
             "#9c179e"
            ],
            [
             0.4444444444444444,
             "#bd3786"
            ],
            [
             0.5555555555555556,
             "#d8576b"
            ],
            [
             0.6666666666666666,
             "#ed7953"
            ],
            [
             0.7777777777777778,
             "#fb9f3a"
            ],
            [
             0.8888888888888888,
             "#fdca26"
            ],
            [
             1,
             "#f0f921"
            ]
           ]
          },
          "colorway": [
           "#636efa",
           "#EF553B",
           "#00cc96",
           "#ab63fa",
           "#FFA15A",
           "#19d3f3",
           "#FF6692",
           "#B6E880",
           "#FF97FF",
           "#FECB52"
          ],
          "font": {
           "color": "#2a3f5f"
          },
          "geo": {
           "bgcolor": "white",
           "lakecolor": "white",
           "landcolor": "#E5ECF6",
           "showlakes": true,
           "showland": true,
           "subunitcolor": "white"
          },
          "hoverlabel": {
           "align": "left"
          },
          "hovermode": "closest",
          "mapbox": {
           "style": "light"
          },
          "paper_bgcolor": "white",
          "plot_bgcolor": "#E5ECF6",
          "polar": {
           "angularaxis": {
            "gridcolor": "white",
            "linecolor": "white",
            "ticks": ""
           },
           "bgcolor": "#E5ECF6",
           "radialaxis": {
            "gridcolor": "white",
            "linecolor": "white",
            "ticks": ""
           }
          },
          "scene": {
           "xaxis": {
            "backgroundcolor": "#E5ECF6",
            "gridcolor": "white",
            "gridwidth": 2,
            "linecolor": "white",
            "showbackground": true,
            "ticks": "",
            "zerolinecolor": "white"
           },
           "yaxis": {
            "backgroundcolor": "#E5ECF6",
            "gridcolor": "white",
            "gridwidth": 2,
            "linecolor": "white",
            "showbackground": true,
            "ticks": "",
            "zerolinecolor": "white"
           },
           "zaxis": {
            "backgroundcolor": "#E5ECF6",
            "gridcolor": "white",
            "gridwidth": 2,
            "linecolor": "white",
            "showbackground": true,
            "ticks": "",
            "zerolinecolor": "white"
           }
          },
          "shapedefaults": {
           "line": {
            "color": "#2a3f5f"
           }
          },
          "ternary": {
           "aaxis": {
            "gridcolor": "white",
            "linecolor": "white",
            "ticks": ""
           },
           "baxis": {
            "gridcolor": "white",
            "linecolor": "white",
            "ticks": ""
           },
           "bgcolor": "#E5ECF6",
           "caxis": {
            "gridcolor": "white",
            "linecolor": "white",
            "ticks": ""
           }
          },
          "title": {
           "x": 0.05
          },
          "xaxis": {
           "automargin": true,
           "gridcolor": "white",
           "linecolor": "white",
           "ticks": "",
           "title": {
            "standoff": 15
           },
           "zerolinecolor": "white",
           "zerolinewidth": 2
          },
          "yaxis": {
           "automargin": true,
           "gridcolor": "white",
           "linecolor": "white",
           "ticks": "",
           "title": {
            "standoff": 15
           },
           "zerolinecolor": "white",
           "zerolinewidth": 2
          }
         }
        },
        "xaxis": {
         "anchor": "y",
         "domain": [
          0,
          1
         ],
         "title": {
          "text": "difference"
         }
        },
        "yaxis": {
         "anchor": "x",
         "domain": [
          0,
          1
         ],
         "title": {
          "text": "value"
         }
        }
       }
      }
     },
     "metadata": {},
     "output_type": "display_data"
    }
   ],
   "source": [
    "px.bar(binned_first.value_counts())"
   ]
  }
 ],
 "metadata": {
  "kernelspec": {
   "display_name": "base",
   "language": "python",
   "name": "python3"
  },
  "language_info": {
   "codemirror_mode": {
    "name": "ipython",
    "version": 3
   },
   "file_extension": ".py",
   "mimetype": "text/x-python",
   "name": "python",
   "nbconvert_exporter": "python",
   "pygments_lexer": "ipython3",
   "version": "3.12.4"
  }
 },
 "nbformat": 4,
 "nbformat_minor": 2
}
