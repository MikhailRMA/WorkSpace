{
 "cells": [
  {
   "cell_type": "markdown",
   "metadata": {},
   "source": [
    "Подготовка данных"
   ]
  },
  {
   "cell_type": "code",
   "execution_count": 50,
   "metadata": {},
   "outputs": [],
   "source": [
    "import pandas as pd\n",
    "import numpy as np\n",
    "import matplotlib.pyplot as plt\n",
    "import seaborn as sns\n",
    "import calendar"
   ]
  },
  {
   "cell_type": "code",
   "execution_count": 5,
   "metadata": {},
   "outputs": [],
   "source": [
    "customers = pd.read_csv('C:/Users/majkl/WorkSpace/Project_6/olist_customers_dataset.csv')\n",
    "order_items = pd.read_csv('C:/Users/majkl/WorkSpace/Project_6/olist_order_items_dataset.csv', parse_dates = ['shipping_limit_date'])\n",
    "orders = pd.read_csv('C:/Users/majkl/WorkSpace/Project_6/olist_orders_dataset.csv', parse_dates = [3,4, 5, 6, 7, -1])\n"
   ]
  },
  {
   "cell_type": "code",
   "execution_count": 6,
   "metadata": {},
   "outputs": [
    {
     "name": "stdout",
     "output_type": "stream",
     "text": [
      "<class 'pandas.core.frame.DataFrame'>\n",
      "RangeIndex: 99441 entries, 0 to 99440\n",
      "Data columns (total 5 columns):\n",
      " #   Column                    Non-Null Count  Dtype \n",
      "---  ------                    --------------  ----- \n",
      " 0   customer_id               99441 non-null  object\n",
      " 1   customer_unique_id        99441 non-null  object\n",
      " 2   customer_zip_code_prefix  99441 non-null  int64 \n",
      " 3   customer_city             99441 non-null  object\n",
      " 4   customer_state            99441 non-null  object\n",
      "dtypes: int64(1), object(4)\n",
      "memory usage: 3.8+ MB\n"
     ]
    }
   ],
   "source": [
    "customers.info()\n"
   ]
  },
  {
   "cell_type": "code",
   "execution_count": 7,
   "metadata": {},
   "outputs": [
    {
     "name": "stdout",
     "output_type": "stream",
     "text": [
      "customer_id                 0\n",
      "customer_unique_id          0\n",
      "customer_zip_code_prefix    0\n",
      "customer_city               0\n",
      "customer_state              0\n",
      "dtype: int64\n"
     ]
    }
   ],
   "source": [
    "print(customers.isnull().sum())"
   ]
  },
  {
   "cell_type": "code",
   "execution_count": 8,
   "metadata": {},
   "outputs": [
    {
     "name": "stdout",
     "output_type": "stream",
     "text": [
      "<class 'pandas.core.frame.DataFrame'>\n",
      "RangeIndex: 112650 entries, 0 to 112649\n",
      "Data columns (total 7 columns):\n",
      " #   Column               Non-Null Count   Dtype         \n",
      "---  ------               --------------   -----         \n",
      " 0   order_id             112650 non-null  object        \n",
      " 1   order_item_id        112650 non-null  int64         \n",
      " 2   product_id           112650 non-null  object        \n",
      " 3   seller_id            112650 non-null  object        \n",
      " 4   shipping_limit_date  112650 non-null  datetime64[ns]\n",
      " 5   price                112650 non-null  float64       \n",
      " 6   freight_value        112650 non-null  float64       \n",
      "dtypes: datetime64[ns](1), float64(2), int64(1), object(3)\n",
      "memory usage: 6.0+ MB\n"
     ]
    }
   ],
   "source": [
    "order_items.info()"
   ]
  },
  {
   "cell_type": "code",
   "execution_count": 9,
   "metadata": {},
   "outputs": [
    {
     "name": "stdout",
     "output_type": "stream",
     "text": [
      "order_id               0\n",
      "order_item_id          0\n",
      "product_id             0\n",
      "seller_id              0\n",
      "shipping_limit_date    0\n",
      "price                  0\n",
      "freight_value          0\n",
      "dtype: int64\n"
     ]
    }
   ],
   "source": [
    "print(order_items.isnull().sum())"
   ]
  },
  {
   "cell_type": "code",
   "execution_count": 10,
   "metadata": {},
   "outputs": [
    {
     "name": "stdout",
     "output_type": "stream",
     "text": [
      "<class 'pandas.core.frame.DataFrame'>\n",
      "RangeIndex: 99441 entries, 0 to 99440\n",
      "Data columns (total 8 columns):\n",
      " #   Column                         Non-Null Count  Dtype         \n",
      "---  ------                         --------------  -----         \n",
      " 0   order_id                       99441 non-null  object        \n",
      " 1   customer_id                    99441 non-null  object        \n",
      " 2   order_status                   99441 non-null  object        \n",
      " 3   order_purchase_timestamp       99441 non-null  datetime64[ns]\n",
      " 4   order_approved_at              99281 non-null  datetime64[ns]\n",
      " 5   order_delivered_carrier_date   97658 non-null  datetime64[ns]\n",
      " 6   order_delivered_customer_date  96476 non-null  datetime64[ns]\n",
      " 7   order_estimated_delivery_date  99441 non-null  datetime64[ns]\n",
      "dtypes: datetime64[ns](5), object(3)\n",
      "memory usage: 6.1+ MB\n"
     ]
    }
   ],
   "source": [
    "orders.info()"
   ]
  },
  {
   "cell_type": "code",
   "execution_count": 11,
   "metadata": {},
   "outputs": [
    {
     "name": "stdout",
     "output_type": "stream",
     "text": [
      "order_id                            0\n",
      "customer_id                         0\n",
      "order_status                        0\n",
      "order_purchase_timestamp            0\n",
      "order_approved_at                 160\n",
      "order_delivered_carrier_date     1783\n",
      "order_delivered_customer_date    2965\n",
      "order_estimated_delivery_date       0\n",
      "dtype: int64\n"
     ]
    }
   ],
   "source": [
    "print(orders.isnull().sum())"
   ]
  },
  {
   "cell_type": "markdown",
   "metadata": {},
   "source": [
    "### Сколько у нас пользователей, которые совершили покупку только один раз?  "
   ]
  },
  {
   "cell_type": "code",
   "execution_count": 12,
   "metadata": {},
   "outputs": [
    {
     "data": {
      "text/plain": [
       "array(['delivered', 'invoiced', 'shipped', 'processing', 'unavailable',\n",
       "       'canceled', 'created', 'approved'], dtype=object)"
      ]
     },
     "execution_count": 12,
     "metadata": {},
     "output_type": "execute_result"
    }
   ],
   "source": [
    "orders.order_status.unique()"
   ]
  },
  {
   "cell_type": "markdown",
   "metadata": {},
   "source": [
    "Для выполнения задания мы должны использовать данные со статусом delivered.\n",
    "Объеденим файл customers_dataset и orders_dataset по общему полю customer_id, чтобы получить уникальные значение покупателя \"customer_unique_id \" и в последующем найти покупателей совершивших только 1 покупку "
   ]
  },
  {
   "cell_type": "code",
   "execution_count": 13,
   "metadata": {},
   "outputs": [
    {
     "data": {
      "application/vnd.microsoft.datawrangler.viewer.v0+json": {
       "columns": [
        {
         "name": "index",
         "rawType": "int64",
         "type": "integer"
        },
        {
         "name": "customer_id",
         "rawType": "object",
         "type": "string"
        },
        {
         "name": "customer_unique_id",
         "rawType": "object",
         "type": "string"
        },
        {
         "name": "customer_zip_code_prefix",
         "rawType": "int64",
         "type": "integer"
        },
        {
         "name": "customer_city",
         "rawType": "object",
         "type": "string"
        },
        {
         "name": "customer_state",
         "rawType": "object",
         "type": "string"
        },
        {
         "name": "order_id",
         "rawType": "object",
         "type": "string"
        },
        {
         "name": "order_status",
         "rawType": "object",
         "type": "string"
        },
        {
         "name": "order_purchase_timestamp",
         "rawType": "datetime64[ns]",
         "type": "datetime"
        },
        {
         "name": "order_approved_at",
         "rawType": "datetime64[ns]",
         "type": "datetime"
        },
        {
         "name": "order_delivered_carrier_date",
         "rawType": "datetime64[ns]",
         "type": "datetime"
        },
        {
         "name": "order_delivered_customer_date",
         "rawType": "datetime64[ns]",
         "type": "datetime"
        },
        {
         "name": "order_estimated_delivery_date",
         "rawType": "datetime64[ns]",
         "type": "datetime"
        }
       ],
       "conversionMethod": "pd.DataFrame",
       "ref": "0ab1f207-fd17-4eea-b2b9-1da448afcfcf",
       "rows": [
        [
         "0",
         "06b8999e2fba1a1fbc88172c00ba8bc7",
         "861eff4711a542e4b93843c6dd7febb0",
         "14409",
         "franca",
         "SP",
         "00e7ee1b050b8499577073aeb2a297a1",
         "delivered",
         "2017-05-16 15:05:35",
         "2017-05-16 15:22:12",
         "2017-05-23 10:47:57",
         "2017-05-25 10:35:35",
         "2017-06-05 00:00:00"
        ],
        [
         "1",
         "18955e83d337fd6b2def6b18a428ac77",
         "290c77bc529b7ac935b93aa66c333dc3",
         "9790",
         "sao bernardo do campo",
         "SP",
         "29150127e6685892b6eab3eec79f59c7",
         "delivered",
         "2018-01-12 20:48:24",
         "2018-01-12 20:58:32",
         "2018-01-15 17:14:59",
         "2018-01-29 12:41:19",
         "2018-02-06 00:00:00"
        ],
        [
         "2",
         "4e7b3e00288586ebd08712fdd0374a03",
         "060e732b5b29e8181a18229c7b0b2b5e",
         "1151",
         "sao paulo",
         "SP",
         "b2059ed67ce144a36e2aa97d2c9e9ad2",
         "delivered",
         "2018-05-19 16:07:45",
         "2018-05-20 16:19:10",
         "2018-06-11 14:31:00",
         "2018-06-14 17:58:51",
         "2018-06-13 00:00:00"
        ],
        [
         "3",
         "b2b6027bc5c5109e529d4dc6358b12c3",
         "259dac757896d24d7702b9acbbff3f3c",
         "8775",
         "mogi das cruzes",
         "SP",
         "951670f92359f4fe4a63112aa7306eba",
         "delivered",
         "2018-03-13 16:06:38",
         "2018-03-13 17:29:19",
         "2018-03-27 23:22:42",
         "2018-03-28 16:04:25",
         "2018-04-10 00:00:00"
        ],
        [
         "4",
         "4f2d8ab171c80ec8364f7c12e35b23ad",
         "345ecd01c38d18a9036ed96c73b8d066",
         "13056",
         "campinas",
         "SP",
         "6b7d50bd145f6fc7f33cebabd7e49d0f",
         "delivered",
         "2018-07-29 09:51:30",
         "2018-07-29 10:10:09",
         "2018-07-30 15:16:00",
         "2018-08-09 20:55:48",
         "2018-08-15 00:00:00"
        ]
       ],
       "shape": {
        "columns": 12,
        "rows": 5
       }
      },
      "text/html": [
       "<div>\n",
       "<style scoped>\n",
       "    .dataframe tbody tr th:only-of-type {\n",
       "        vertical-align: middle;\n",
       "    }\n",
       "\n",
       "    .dataframe tbody tr th {\n",
       "        vertical-align: top;\n",
       "    }\n",
       "\n",
       "    .dataframe thead th {\n",
       "        text-align: right;\n",
       "    }\n",
       "</style>\n",
       "<table border=\"1\" class=\"dataframe\">\n",
       "  <thead>\n",
       "    <tr style=\"text-align: right;\">\n",
       "      <th></th>\n",
       "      <th>customer_id</th>\n",
       "      <th>customer_unique_id</th>\n",
       "      <th>customer_zip_code_prefix</th>\n",
       "      <th>customer_city</th>\n",
       "      <th>customer_state</th>\n",
       "      <th>order_id</th>\n",
       "      <th>order_status</th>\n",
       "      <th>order_purchase_timestamp</th>\n",
       "      <th>order_approved_at</th>\n",
       "      <th>order_delivered_carrier_date</th>\n",
       "      <th>order_delivered_customer_date</th>\n",
       "      <th>order_estimated_delivery_date</th>\n",
       "    </tr>\n",
       "  </thead>\n",
       "  <tbody>\n",
       "    <tr>\n",
       "      <th>0</th>\n",
       "      <td>06b8999e2fba1a1fbc88172c00ba8bc7</td>\n",
       "      <td>861eff4711a542e4b93843c6dd7febb0</td>\n",
       "      <td>14409</td>\n",
       "      <td>franca</td>\n",
       "      <td>SP</td>\n",
       "      <td>00e7ee1b050b8499577073aeb2a297a1</td>\n",
       "      <td>delivered</td>\n",
       "      <td>2017-05-16 15:05:35</td>\n",
       "      <td>2017-05-16 15:22:12</td>\n",
       "      <td>2017-05-23 10:47:57</td>\n",
       "      <td>2017-05-25 10:35:35</td>\n",
       "      <td>2017-06-05</td>\n",
       "    </tr>\n",
       "    <tr>\n",
       "      <th>1</th>\n",
       "      <td>18955e83d337fd6b2def6b18a428ac77</td>\n",
       "      <td>290c77bc529b7ac935b93aa66c333dc3</td>\n",
       "      <td>9790</td>\n",
       "      <td>sao bernardo do campo</td>\n",
       "      <td>SP</td>\n",
       "      <td>29150127e6685892b6eab3eec79f59c7</td>\n",
       "      <td>delivered</td>\n",
       "      <td>2018-01-12 20:48:24</td>\n",
       "      <td>2018-01-12 20:58:32</td>\n",
       "      <td>2018-01-15 17:14:59</td>\n",
       "      <td>2018-01-29 12:41:19</td>\n",
       "      <td>2018-02-06</td>\n",
       "    </tr>\n",
       "    <tr>\n",
       "      <th>2</th>\n",
       "      <td>4e7b3e00288586ebd08712fdd0374a03</td>\n",
       "      <td>060e732b5b29e8181a18229c7b0b2b5e</td>\n",
       "      <td>1151</td>\n",
       "      <td>sao paulo</td>\n",
       "      <td>SP</td>\n",
       "      <td>b2059ed67ce144a36e2aa97d2c9e9ad2</td>\n",
       "      <td>delivered</td>\n",
       "      <td>2018-05-19 16:07:45</td>\n",
       "      <td>2018-05-20 16:19:10</td>\n",
       "      <td>2018-06-11 14:31:00</td>\n",
       "      <td>2018-06-14 17:58:51</td>\n",
       "      <td>2018-06-13</td>\n",
       "    </tr>\n",
       "    <tr>\n",
       "      <th>3</th>\n",
       "      <td>b2b6027bc5c5109e529d4dc6358b12c3</td>\n",
       "      <td>259dac757896d24d7702b9acbbff3f3c</td>\n",
       "      <td>8775</td>\n",
       "      <td>mogi das cruzes</td>\n",
       "      <td>SP</td>\n",
       "      <td>951670f92359f4fe4a63112aa7306eba</td>\n",
       "      <td>delivered</td>\n",
       "      <td>2018-03-13 16:06:38</td>\n",
       "      <td>2018-03-13 17:29:19</td>\n",
       "      <td>2018-03-27 23:22:42</td>\n",
       "      <td>2018-03-28 16:04:25</td>\n",
       "      <td>2018-04-10</td>\n",
       "    </tr>\n",
       "    <tr>\n",
       "      <th>4</th>\n",
       "      <td>4f2d8ab171c80ec8364f7c12e35b23ad</td>\n",
       "      <td>345ecd01c38d18a9036ed96c73b8d066</td>\n",
       "      <td>13056</td>\n",
       "      <td>campinas</td>\n",
       "      <td>SP</td>\n",
       "      <td>6b7d50bd145f6fc7f33cebabd7e49d0f</td>\n",
       "      <td>delivered</td>\n",
       "      <td>2018-07-29 09:51:30</td>\n",
       "      <td>2018-07-29 10:10:09</td>\n",
       "      <td>2018-07-30 15:16:00</td>\n",
       "      <td>2018-08-09 20:55:48</td>\n",
       "      <td>2018-08-15</td>\n",
       "    </tr>\n",
       "  </tbody>\n",
       "</table>\n",
       "</div>"
      ],
      "text/plain": [
       "                        customer_id                customer_unique_id  \\\n",
       "0  06b8999e2fba1a1fbc88172c00ba8bc7  861eff4711a542e4b93843c6dd7febb0   \n",
       "1  18955e83d337fd6b2def6b18a428ac77  290c77bc529b7ac935b93aa66c333dc3   \n",
       "2  4e7b3e00288586ebd08712fdd0374a03  060e732b5b29e8181a18229c7b0b2b5e   \n",
       "3  b2b6027bc5c5109e529d4dc6358b12c3  259dac757896d24d7702b9acbbff3f3c   \n",
       "4  4f2d8ab171c80ec8364f7c12e35b23ad  345ecd01c38d18a9036ed96c73b8d066   \n",
       "\n",
       "   customer_zip_code_prefix          customer_city customer_state  \\\n",
       "0                     14409                 franca             SP   \n",
       "1                      9790  sao bernardo do campo             SP   \n",
       "2                      1151              sao paulo             SP   \n",
       "3                      8775        mogi das cruzes             SP   \n",
       "4                     13056               campinas             SP   \n",
       "\n",
       "                           order_id order_status order_purchase_timestamp  \\\n",
       "0  00e7ee1b050b8499577073aeb2a297a1    delivered      2017-05-16 15:05:35   \n",
       "1  29150127e6685892b6eab3eec79f59c7    delivered      2018-01-12 20:48:24   \n",
       "2  b2059ed67ce144a36e2aa97d2c9e9ad2    delivered      2018-05-19 16:07:45   \n",
       "3  951670f92359f4fe4a63112aa7306eba    delivered      2018-03-13 16:06:38   \n",
       "4  6b7d50bd145f6fc7f33cebabd7e49d0f    delivered      2018-07-29 09:51:30   \n",
       "\n",
       "    order_approved_at order_delivered_carrier_date  \\\n",
       "0 2017-05-16 15:22:12          2017-05-23 10:47:57   \n",
       "1 2018-01-12 20:58:32          2018-01-15 17:14:59   \n",
       "2 2018-05-20 16:19:10          2018-06-11 14:31:00   \n",
       "3 2018-03-13 17:29:19          2018-03-27 23:22:42   \n",
       "4 2018-07-29 10:10:09          2018-07-30 15:16:00   \n",
       "\n",
       "  order_delivered_customer_date order_estimated_delivery_date  \n",
       "0           2017-05-25 10:35:35                    2017-06-05  \n",
       "1           2018-01-29 12:41:19                    2018-02-06  \n",
       "2           2018-06-14 17:58:51                    2018-06-13  \n",
       "3           2018-03-28 16:04:25                    2018-04-10  \n",
       "4           2018-08-09 20:55:48                    2018-08-15  "
      ]
     },
     "execution_count": 13,
     "metadata": {},
     "output_type": "execute_result"
    }
   ],
   "source": [
    "merge = customers.merge(orders, on='customer_id')\n",
    "merge.head()"
   ]
  },
  {
   "cell_type": "code",
   "execution_count": 14,
   "metadata": {},
   "outputs": [],
   "source": [
    "orders_st = 'delivered'\n",
    "orders_delivered = merge.query('order_status == @orders_st') \\\n",
    "    .groupby('customer_unique_id', as_index=False) \\\n",
    "    .agg({'order_id': 'count'}) \\\n",
    "    .rename(columns={'order_id': 'count'}) \\\n",
    "    .query('count == 1')\n"
   ]
  },
  {
   "cell_type": "code",
   "execution_count": 15,
   "metadata": {},
   "outputs": [
    {
     "name": "stdout",
     "output_type": "stream",
     "text": [
      "Число пользователей, которые совершили покупку только один раз равно 90557\n"
     ]
    }
   ],
   "source": [
    "print(f'Число пользователей, которые совершили покупку только один раз равно {orders_delivered.shape[0]}')"
   ]
  },
  {
   "cell_type": "markdown",
   "metadata": {},
   "source": [
    "###  Сколько заказов в месяц в среднем не доставляется по разным причинам (вывести детализацию по причинам)?"
   ]
  },
  {
   "cell_type": "code",
   "execution_count": 16,
   "metadata": {},
   "outputs": [
    {
     "data": {
      "application/vnd.microsoft.datawrangler.viewer.v0+json": {
       "columns": [
        {
         "name": "index",
         "rawType": "int64",
         "type": "integer"
        },
        {
         "name": "order_status",
         "rawType": "object",
         "type": "string"
        },
        {
         "name": "count",
         "rawType": "int64",
         "type": "integer"
        }
       ],
       "conversionMethod": "pd.DataFrame",
       "ref": "1cb9ca5c-a9eb-48cb-ab22-4eb40e1ef688",
       "rows": [
        [
         "5",
         "shipped",
         "1107"
        ],
        [
         "1",
         "canceled",
         "625"
        ],
        [
         "6",
         "unavailable",
         "609"
        ],
        [
         "3",
         "invoiced",
         "314"
        ],
        [
         "4",
         "processing",
         "301"
        ],
        [
         "2",
         "created",
         "5"
        ],
        [
         "0",
         "approved",
         "2"
        ]
       ],
       "shape": {
        "columns": 2,
        "rows": 7
       }
      },
      "text/html": [
       "<div>\n",
       "<style scoped>\n",
       "    .dataframe tbody tr th:only-of-type {\n",
       "        vertical-align: middle;\n",
       "    }\n",
       "\n",
       "    .dataframe tbody tr th {\n",
       "        vertical-align: top;\n",
       "    }\n",
       "\n",
       "    .dataframe thead th {\n",
       "        text-align: right;\n",
       "    }\n",
       "</style>\n",
       "<table border=\"1\" class=\"dataframe\">\n",
       "  <thead>\n",
       "    <tr style=\"text-align: right;\">\n",
       "      <th></th>\n",
       "      <th>order_status</th>\n",
       "      <th>count</th>\n",
       "    </tr>\n",
       "  </thead>\n",
       "  <tbody>\n",
       "    <tr>\n",
       "      <th>5</th>\n",
       "      <td>shipped</td>\n",
       "      <td>1107</td>\n",
       "    </tr>\n",
       "    <tr>\n",
       "      <th>1</th>\n",
       "      <td>canceled</td>\n",
       "      <td>625</td>\n",
       "    </tr>\n",
       "    <tr>\n",
       "      <th>6</th>\n",
       "      <td>unavailable</td>\n",
       "      <td>609</td>\n",
       "    </tr>\n",
       "    <tr>\n",
       "      <th>3</th>\n",
       "      <td>invoiced</td>\n",
       "      <td>314</td>\n",
       "    </tr>\n",
       "    <tr>\n",
       "      <th>4</th>\n",
       "      <td>processing</td>\n",
       "      <td>301</td>\n",
       "    </tr>\n",
       "    <tr>\n",
       "      <th>2</th>\n",
       "      <td>created</td>\n",
       "      <td>5</td>\n",
       "    </tr>\n",
       "    <tr>\n",
       "      <th>0</th>\n",
       "      <td>approved</td>\n",
       "      <td>2</td>\n",
       "    </tr>\n",
       "  </tbody>\n",
       "</table>\n",
       "</div>"
      ],
      "text/plain": [
       "  order_status  count\n",
       "5      shipped   1107\n",
       "1     canceled    625\n",
       "6  unavailable    609\n",
       "3     invoiced    314\n",
       "4   processing    301\n",
       "2      created      5\n",
       "0     approved      2"
      ]
     },
     "execution_count": 16,
     "metadata": {},
     "output_type": "execute_result"
    }
   ],
   "source": [
    "undelivered = orders.query('order_status != @orders_st') \\\n",
    "    .groupby('order_status', as_index=False) \\\n",
    "    .agg({'order_id': 'count'}) \\\n",
    "    .rename(columns={'order_id': 'count'}) \\\n",
    "    .sort_values(\"count\", ascending=False) \n",
    "undelivered"
   ]
  },
  {
   "cell_type": "markdown",
   "metadata": {},
   "source": [
    "Детализация по недоставленным заказам"
   ]
  },
  {
   "cell_type": "code",
   "execution_count": 17,
   "metadata": {},
   "outputs": [
    {
     "name": "stderr",
     "output_type": "stream",
     "text": [
      "C:\\Users\\majkl\\AppData\\Local\\Temp\\ipykernel_26900\\3432208425.py:2: FutureWarning: \n",
      "\n",
      "Passing `palette` without assigning `hue` is deprecated and will be removed in v0.14.0. Assign the `x` variable to `hue` and set `legend=False` for the same effect.\n",
      "\n",
      "  ax = sns.barplot(data=undelivered ,x='order_status', y='count', palette='plasma')\n"
     ]
    },
    {
     "data": {
      "image/png": "[encoded data removed]",
      "text/plain": [
       "<Figure size 1500x800 with 1 Axes>"
      ]
     },
     "metadata": {},
     "output_type": "display_data"
    }
   ],
   "source": [
    "fig = plt.figure(figsize=(15,8))\n",
    "ax = sns.barplot(data=undelivered ,x='order_status', y='count', palette='plasma')\n",
    "ax.set_title('Недоставленные заказы\\n')\n",
    "ax.set_ylabel('Количество\\n') \n",
    "ax.set_xlabel('\\nПричина')\n",
    "plt.xticks(rotation=45) \n",
    "sns.despine()"
   ]
  },
  {
   "cell_type": "markdown",
   "metadata": {},
   "source": [
    "Считаю, что корректно будет выделить заказы со статусами `'canceled'`, `'unavailable'`, `'invoiced'`, так как в других статусах нет основания полагать, что они не доставлены или не доставятся."
   ]
  },
  {
   "cell_type": "code",
   "execution_count": 18,
   "metadata": {},
   "outputs": [
    {
     "data": {
      "application/vnd.microsoft.datawrangler.viewer.v0+json": {
       "columns": [
        {
         "name": "index",
         "rawType": "int64",
         "type": "integer"
        },
        {
         "name": "order_status",
         "rawType": "object",
         "type": "string"
        },
        {
         "name": "orders_count",
         "rawType": "int64",
         "type": "integer"
        }
       ],
       "conversionMethod": "pd.DataFrame",
       "ref": "0c2aad4e-995b-4874-ac09-5a5952781ee0",
       "rows": [
        [
         "0",
         "canceled",
         "625"
        ],
        [
         "1",
         "invoiced",
         "314"
        ],
        [
         "2",
         "unavailable",
         "609"
        ]
       ],
       "shape": {
        "columns": 2,
        "rows": 3
       }
      },
      "text/html": [
       "<div>\n",
       "<style scoped>\n",
       "    .dataframe tbody tr th:only-of-type {\n",
       "        vertical-align: middle;\n",
       "    }\n",
       "\n",
       "    .dataframe tbody tr th {\n",
       "        vertical-align: top;\n",
       "    }\n",
       "\n",
       "    .dataframe thead th {\n",
       "        text-align: right;\n",
       "    }\n",
       "</style>\n",
       "<table border=\"1\" class=\"dataframe\">\n",
       "  <thead>\n",
       "    <tr style=\"text-align: right;\">\n",
       "      <th></th>\n",
       "      <th>order_status</th>\n",
       "      <th>orders_count</th>\n",
       "    </tr>\n",
       "  </thead>\n",
       "  <tbody>\n",
       "    <tr>\n",
       "      <th>0</th>\n",
       "      <td>canceled</td>\n",
       "      <td>625</td>\n",
       "    </tr>\n",
       "    <tr>\n",
       "      <th>1</th>\n",
       "      <td>invoiced</td>\n",
       "      <td>314</td>\n",
       "    </tr>\n",
       "    <tr>\n",
       "      <th>2</th>\n",
       "      <td>unavailable</td>\n",
       "      <td>609</td>\n",
       "    </tr>\n",
       "  </tbody>\n",
       "</table>\n",
       "</div>"
      ],
      "text/plain": [
       "  order_status  orders_count\n",
       "0     canceled           625\n",
       "1     invoiced           314\n",
       "2  unavailable           609"
      ]
     },
     "execution_count": 18,
     "metadata": {},
     "output_type": "execute_result"
    }
   ],
   "source": [
    "monthly = orders[orders.order_status != 'delivered']\n",
    "orders_count = monthly.groupby(['order_status']) \\\n",
    "                      .agg({'order_id': 'count'}) \\\n",
    "                      .query(\"order_status in ('canceled', 'unavailable', 'invoiced')\") \\\n",
    "                      .rename(columns={'order_id' : 'orders_count'}) \\\n",
    "                      .reset_index()\n",
    "orders_count\n"
   ]
  },
  {
   "cell_type": "code",
   "execution_count": 19,
   "metadata": {},
   "outputs": [
    {
     "data": {
      "image/png": "[encoded data removed]",
      "text/plain": [
       "<Figure size 1500x800 with 1 Axes>"
      ]
     },
     "metadata": {},
     "output_type": "display_data"
    }
   ],
   "source": [
    "\n",
    "fig = plt.figure(figsize=(15,8))\n",
    "axx = sns.barplot(data=orders_count ,x='order_status', y='orders_count', palette='Paired', hue=False, legend=False)\n",
    "axx.set_title('Недоставленные заказы\\n')\n",
    "axx.set_ylabel('Количество\\n') \n",
    "axx.set_xlabel('\\nПричина') \n",
    "sns.despine()"
   ]
  },
  {
   "cell_type": "code",
   "execution_count": 20,
   "metadata": {},
   "outputs": [
    {
     "name": "stderr",
     "output_type": "stream",
     "text": [
      "C:\\Users\\majkl\\AppData\\Local\\Temp\\ipykernel_26900\\3096549509.py:1: SettingWithCopyWarning: \n",
      "A value is trying to be set on a copy of a slice from a DataFrame.\n",
      "Try using .loc[row_indexer,col_indexer] = value instead\n",
      "\n",
      "See the caveats in the documentation: https://pandas.pydata.org/pandas-docs/stable/user_guide/indexing.html#returning-a-view-versus-a-copy\n",
      "  monthly['estimated_delivery'] = monthly.order_estimated_delivery_date.apply(lambda x: x.strftime('%Y-%m'))\n"
     ]
    }
   ],
   "source": [
    "monthly['estimated_delivery'] = monthly.order_estimated_delivery_date.apply(lambda x: x.strftime('%Y-%m'))"
   ]
  },
  {
   "cell_type": "code",
   "execution_count": 21,
   "metadata": {},
   "outputs": [],
   "source": [
    "monthly_orders = monthly.groupby(['estimated_delivery', 'order_status']) \\\n",
    "          .agg({'order_id': 'count'}).reset_index()"
   ]
  },
  {
   "cell_type": "markdown",
   "metadata": {},
   "source": [
    "Ответ на вопрос \"Сколько заказов в месяц в среднем не доставляется по разным причинам?\""
   ]
  },
  {
   "cell_type": "code",
   "execution_count": 22,
   "metadata": {},
   "outputs": [
    {
     "data": {
      "application/vnd.microsoft.datawrangler.viewer.v0+json": {
       "columns": [
        {
         "name": "order_status",
         "rawType": "object",
         "type": "string"
        },
        {
         "name": "order_id",
         "rawType": "float64",
         "type": "float"
        }
       ],
       "conversionMethod": "pd.DataFrame",
       "ref": "24f2f063-b8c7-4cdf-9e66-7fee2639bb43",
       "rows": [
        [
         "canceled",
         "24.0"
        ],
        [
         "invoiced",
         "15.0"
        ],
        [
         "unavailable",
         "29.0"
        ]
       ],
       "shape": {
        "columns": 1,
        "rows": 3
       }
      },
      "text/html": [
       "<div>\n",
       "<style scoped>\n",
       "    .dataframe tbody tr th:only-of-type {\n",
       "        vertical-align: middle;\n",
       "    }\n",
       "\n",
       "    .dataframe tbody tr th {\n",
       "        vertical-align: top;\n",
       "    }\n",
       "\n",
       "    .dataframe thead th {\n",
       "        text-align: right;\n",
       "    }\n",
       "</style>\n",
       "<table border=\"1\" class=\"dataframe\">\n",
       "  <thead>\n",
       "    <tr style=\"text-align: right;\">\n",
       "      <th></th>\n",
       "      <th>order_id</th>\n",
       "    </tr>\n",
       "    <tr>\n",
       "      <th>order_status</th>\n",
       "      <th></th>\n",
       "    </tr>\n",
       "  </thead>\n",
       "  <tbody>\n",
       "    <tr>\n",
       "      <th>canceled</th>\n",
       "      <td>24.0</td>\n",
       "    </tr>\n",
       "    <tr>\n",
       "      <th>invoiced</th>\n",
       "      <td>15.0</td>\n",
       "    </tr>\n",
       "    <tr>\n",
       "      <th>unavailable</th>\n",
       "      <td>29.0</td>\n",
       "    </tr>\n",
       "  </tbody>\n",
       "</table>\n",
       "</div>"
      ],
      "text/plain": [
       "              order_id\n",
       "order_status          \n",
       "canceled          24.0\n",
       "invoiced          15.0\n",
       "unavailable       29.0"
      ]
     },
     "execution_count": 22,
     "metadata": {},
     "output_type": "execute_result"
    }
   ],
   "source": [
    "monthly_orders.query(\"order_status in ('canceled', 'unavailable', 'invoiced')\") \\\n",
    "           .groupby('order_status') \\\n",
    "           .agg({'order_id': 'mean'}) \\\n",
    "           .round(0)"
   ]
  },
  {
   "cell_type": "markdown",
   "metadata": {},
   "source": [
    "### По каждому товару определить, в какой день недели товар чаще всего покупается."
   ]
  },
  {
   "cell_type": "markdown",
   "metadata": {},
   "source": [
    "Для начала объеденим данные из таблицы продукции и заказов"
   ]
  },
  {
   "cell_type": "code",
   "execution_count": 25,
   "metadata": {},
   "outputs": [],
   "source": [
    "purchase = order_items.merge(orders, how= 'inner', on='order_id')"
   ]
  },
  {
   "cell_type": "markdown",
   "metadata": {},
   "source": [
    "Добавим колонку с днем, когда был сделан каждый заказ"
   ]
  },
  {
   "cell_type": "code",
   "execution_count": 26,
   "metadata": {},
   "outputs": [
    {
     "data": {
      "application/vnd.microsoft.datawrangler.viewer.v0+json": {
       "columns": [
        {
         "name": "index",
         "rawType": "int64",
         "type": "integer"
        },
        {
         "name": "order_id",
         "rawType": "object",
         "type": "string"
        },
        {
         "name": "order_item_id",
         "rawType": "int64",
         "type": "integer"
        },
        {
         "name": "product_id",
         "rawType": "object",
         "type": "string"
        },
        {
         "name": "seller_id",
         "rawType": "object",
         "type": "string"
        },
        {
         "name": "shipping_limit_date",
         "rawType": "datetime64[ns]",
         "type": "datetime"
        },
        {
         "name": "price",
         "rawType": "float64",
         "type": "float"
        },
        {
         "name": "freight_value",
         "rawType": "float64",
         "type": "float"
        },
        {
         "name": "customer_id",
         "rawType": "object",
         "type": "string"
        },
        {
         "name": "order_status",
         "rawType": "object",
         "type": "string"
        },
        {
         "name": "order_purchase_timestamp",
         "rawType": "datetime64[ns]",
         "type": "datetime"
        },
        {
         "name": "order_approved_at",
         "rawType": "datetime64[ns]",
         "type": "datetime"
        },
        {
         "name": "order_delivered_carrier_date",
         "rawType": "datetime64[ns]",
         "type": "datetime"
        },
        {
         "name": "order_delivered_customer_date",
         "rawType": "datetime64[ns]",
         "type": "datetime"
        },
        {
         "name": "order_estimated_delivery_date",
         "rawType": "datetime64[ns]",
         "type": "datetime"
        },
        {
         "name": "Day",
         "rawType": "object",
         "type": "string"
        }
       ],
       "conversionMethod": "pd.DataFrame",
       "ref": "5fef6a38-24da-4e1b-9f0e-a4367f50ab02",
       "rows": [
        [
         "0",
         "00010242fe8c5a6d1ba2dd792cb16214",
         "1",
         "4244733e06e7ecb4970a6e2683c13e61",
         "48436dade18ac8b2bce089ec2a041202",
         "2017-09-19 09:45:35",
         "58.9",
         "13.29",
         "3ce436f183e68e07877b285a838db11a",
         "delivered",
         "2017-09-13 08:59:02",
         "2017-09-13 09:45:35",
         "2017-09-19 18:34:16",
         "2017-09-20 23:43:48",
         "2017-09-29 00:00:00",
         "Wednesday"
        ],
        [
         "1",
         "00018f77f2f0320c557190d7a144bdd3",
         "1",
         "e5f2d52b802189ee658865ca93d83a8f",
         "dd7ddc04e1b6c2c614352b383efe2d36",
         "2017-05-03 11:05:13",
         "239.9",
         "19.93",
         "f6dd3ec061db4e3987629fe6b26e5cce",
         "delivered",
         "2017-04-26 10:53:06",
         "2017-04-26 11:05:13",
         "2017-05-04 14:35:00",
         "2017-05-12 16:04:24",
         "2017-05-15 00:00:00",
         "Wednesday"
        ],
        [
         "2",
         "000229ec398224ef6ca0657da4fc703e",
         "1",
         "c777355d18b72b67abbeef9df44fd0fd",
         "5b51032eddd242adc84c38acab88f23d",
         "2018-01-18 14:48:30",
         "199.0",
         "17.87",
         "6489ae5e4333f3693df5ad4372dab6d3",
         "delivered",
         "2018-01-14 14:33:31",
         "2018-01-14 14:48:30",
         "2018-01-16 12:36:48",
         "2018-01-22 13:19:16",
         "2018-02-05 00:00:00",
         "Sunday"
        ],
        [
         "3",
         "00024acbcdf0a6daa1e931b038114c75",
         "1",
         "7634da152a4610f1595efa32f14722fc",
         "9d7a1d34a5052409006425275ba1c2b4",
         "2018-08-15 10:10:18",
         "12.99",
         "12.79",
         "d4eb9395c8c0431ee92fce09860c5a06",
         "delivered",
         "2018-08-08 10:00:35",
         "2018-08-08 10:10:18",
         "2018-08-10 13:28:00",
         "2018-08-14 13:32:39",
         "2018-08-20 00:00:00",
         "Wednesday"
        ],
        [
         "4",
         "00042b26cf59d7ce69dfabb4e55b4fd9",
         "1",
         "ac6c3623068f30de03045865e4e10089",
         "df560393f3a51e74553ab94004ba5c87",
         "2017-02-13 13:57:51",
         "199.9",
         "18.14",
         "58dbd0b2d70206bf40e62cd34e84d795",
         "delivered",
         "2017-02-04 13:57:51",
         "2017-02-04 14:10:13",
         "2017-02-16 09:46:09",
         "2017-03-01 16:42:31",
         "2017-03-17 00:00:00",
         "Saturday"
        ],
        [
         "5",
         "00048cc3ae777c65dbb7d2a0634bc1ea",
         "1",
         "ef92defde845ab8450f9d70c526ef70f",
         "6426d21aca402a131fc0a5d0960a3c90",
         "2017-05-23 03:55:27",
         "21.9",
         "12.69",
         "816cbea969fe5b689b39cfc97a506742",
         "delivered",
         "2017-05-15 21:42:34",
         "2017-05-17 03:55:27",
         "2017-05-17 11:05:55",
         "2017-05-22 13:44:35",
         "2017-06-06 00:00:00",
         "Monday"
        ],
        [
         "6",
         "00054e8431b9d7675808bcb819fb4a32",
         "1",
         "8d4f2bb7e93e6710a28f34fa83ee7d28",
         "7040e82f899a04d1b434b795a43b4617",
         "2017-12-14 12:10:31",
         "19.9",
         "11.85",
         "32e2e6ab09e778d99bf2e0ecd4898718",
         "delivered",
         "2017-12-10 11:53:48",
         "2017-12-10 12:10:31",
         "2017-12-12 01:07:48",
         "2017-12-18 22:03:38",
         "2018-01-04 00:00:00",
         "Sunday"
        ],
        [
         "7",
         "000576fe39319847cbb9d288c5617fa6",
         "1",
         "557d850972a7d6f792fd18ae1400d9b6",
         "5996cddab893a4652a15592fb58ab8db",
         "2018-07-10 12:30:45",
         "810.0",
         "70.75",
         "9ed5e522dd9dd85b4af4a077526d8117",
         "delivered",
         "2018-07-04 12:08:27",
         "2018-07-05 16:35:48",
         "2018-07-05 12:15:00",
         "2018-07-09 14:04:07",
         "2018-07-25 00:00:00",
         "Wednesday"
        ],
        [
         "8",
         "0005a1a1728c9d785b8e2b08b904576c",
         "1",
         "310ae3c140ff94b03219ad0adc3c778f",
         "a416b6a846a11724393025641d4edd5e",
         "2018-03-26 18:31:29",
         "145.95",
         "11.65",
         "16150771dfd4776261284213b89c304e",
         "delivered",
         "2018-03-19 18:40:33",
         "2018-03-20 18:35:21",
         "2018-03-28 00:37:42",
         "2018-03-29 18:17:31",
         "2018-03-29 00:00:00",
         "Monday"
        ],
        [
         "9",
         "0005f50442cb953dcd1d21e1fb923495",
         "1",
         "4535b0e1091c278dfd193e5a1d63b39f",
         "ba143b05f0110f0dc71ad71b4466ce92",
         "2018-07-06 14:10:56",
         "53.99",
         "11.4",
         "351d3cb2cee3c7fd0af6616c82df21d3",
         "delivered",
         "2018-07-02 13:59:39",
         "2018-07-02 14:10:56",
         "2018-07-03 14:25:00",
         "2018-07-04 17:28:31",
         "2018-07-23 00:00:00",
         "Monday"
        ],
        [
         "10",
         "00061f2a7bc09da83e415a52dc8a4af1",
         "1",
         "d63c1011f49d98b976c352955b1c4bea",
         "cc419e0650a3c5ba77189a1882b7556a",
         "2018-03-29 22:28:09",
         "59.99",
         "8.88",
         "c6fc061d86fab1e2b2eac259bac71a49",
         "delivered",
         "2018-03-24 22:16:10",
         "2018-03-24 22:28:09",
         "2018-03-27 05:26:55",
         "2018-03-29 00:04:19",
         "2018-04-09 00:00:00",
         "Saturday"
        ],
        [
         "11",
         "00063b381e2406b52ad429470734ebd5",
         "1",
         "f177554ea93259a5b282f24e33f65ab6",
         "8602a61d680a10a82cceeeda0d99ea3d",
         "2018-07-31 17:30:39",
         "45.0",
         "12.98",
         "6a899e55865de6549a58d2c6845e5604",
         "delivered",
         "2018-07-27 17:21:27",
         "2018-07-27 18:00:06",
         "2018-07-30 14:52:00",
         "2018-08-07 13:56:52",
         "2018-08-07 00:00:00",
         "Friday"
        ],
        [
         "12",
         "0006ec9db01a64e59a68b2c340bf65a7",
         "1",
         "99a4788cb24856965c36a24e339b6058",
         "4a3ca9315b744ce9f8e9374361493884",
         "2018-07-26 17:24:20",
         "74.0",
         "23.32",
         "5d178120c29c61748ea95bac23cb8f25",
         "delivered",
         "2018-07-24 17:04:17",
         "2018-07-24 17:24:20",
         "2018-07-25 11:02:00",
         "2018-07-31 01:04:15",
         "2018-08-22 00:00:00",
         "Tuesday"
        ],
        [
         "13",
         "0008288aa423d2a3f00fcb17cd7d8719",
         "1",
         "368c6c730842d78016ad823897a372db",
         "1f50f920176fa81dab994f9023523100",
         "2018-02-21 02:55:52",
         "49.9",
         "13.37",
         "2355af7c75e7c98b43a87b2a7f210dc5",
         "delivered",
         "2018-02-13 22:10:21",
         "2018-02-15 03:55:52",
         "2018-02-20 18:23:28",
         "2018-02-26 13:55:22",
         "2018-03-06 00:00:00",
         "Tuesday"
        ],
        [
         "14",
         "0008288aa423d2a3f00fcb17cd7d8719",
         "2",
         "368c6c730842d78016ad823897a372db",
         "1f50f920176fa81dab994f9023523100",
         "2018-02-21 02:55:52",
         "49.9",
         "13.37",
         "2355af7c75e7c98b43a87b2a7f210dc5",
         "delivered",
         "2018-02-13 22:10:21",
         "2018-02-15 03:55:52",
         "2018-02-20 18:23:28",
         "2018-02-26 13:55:22",
         "2018-03-06 00:00:00",
         "Tuesday"
        ],
        [
         "15",
         "0009792311464db532ff765bf7b182ae",
         "1",
         "8cab8abac59158715e0d70a36c807415",
         "530ec6109d11eaaf87999465c6afee01",
         "2018-08-17 12:15:10",
         "99.9",
         "27.65",
         "2a30c97668e81df7c17a8b14447aeeba",
         "delivered",
         "2018-08-14 20:43:09",
         "2018-08-15 12:15:10",
         "2018-08-15 15:28:00",
         "2018-08-22 12:02:27",
         "2018-08-28 00:00:00",
         "Tuesday"
        ],
        [
         "16",
         "0009c9a17f916a706d71784483a5d643",
         "1",
         "3f27ac8e699df3d300ec4a5d8c5cf0b2",
         "fcb5ace8bcc92f75707dc0f01a27d269",
         "2018-05-02 09:31:53",
         "639.0",
         "11.34",
         "8a250edc40ebc5c3940ebc940f16a7eb",
         "delivered",
         "2018-04-25 09:10:41",
         "2018-04-25 09:33:19",
         "2018-04-27 15:14:00",
         "2018-04-30 17:54:25",
         "2018-05-09 00:00:00",
         "Wednesday"
        ],
        [
         "17",
         "000aed2e25dbad2f9ddb70584c5a2ded",
         "1",
         "4fa33915031a8cde03dd0d3e8fb27f01",
         "fe2032dab1a61af8794248c8196565c9",
         "2018-05-16 20:57:03",
         "144.0",
         "8.77",
         "fff5169e583fd07fac9fec88962f189d",
         "delivered",
         "2018-05-11 20:33:38",
         "2018-05-11 20:57:03",
         "2018-05-16 14:26:00",
         "2018-05-18 16:46:31",
         "2018-05-22 00:00:00",
         "Friday"
        ],
        [
         "18",
         "000c3e6612759851cc3cbb4b83257986",
         "1",
         "b50c950aba0dcead2c48032a690ce817",
         "218d46b86c1881d022bce9c68a7d4b15",
         "2017-08-21 03:33:13",
         "99.0",
         "13.71",
         "3773bcf1a6fbd29233ea1c1b573c4f22",
         "delivered",
         "2017-08-12 10:08:57",
         "2017-08-15 03:35:32",
         "2017-08-15 15:32:51",
         "2017-08-19 15:22:17",
         "2017-09-01 00:00:00",
         "Saturday"
        ],
        [
         "19",
         "000e562887b1f2006d75e0be9558292e",
         "1",
         "5ed9eaf534f6936b51d0b6c5e4d5c2e9",
         "8cbac7e12637ed9cffa18c7875207478",
         "2018-02-28 12:08:37",
         "25.0",
         "16.11",
         "2b01d668726fb0b751c55918c0437b7b",
         "delivered",
         "2018-02-22 11:54:42",
         "2018-02-22 12:08:37",
         "2018-02-26 14:18:32",
         "2018-03-12 18:46:34",
         "2018-03-19 00:00:00",
         "Thursday"
        ],
        [
         "20",
         "000e63d38ae8c00bbcb5a30573b99628",
         "1",
         "553e0e7590d3116a072507a3635d2877",
         "1c129092bf23f28a5930387c980c0dfc",
         "2018-03-29 20:07:49",
         "47.9",
         "8.88",
         "98884e672c5ba85f4394f2044e1a3eab",
         "delivered",
         "2018-03-23 19:48:26",
         "2018-03-23 20:07:49",
         "2018-03-26 21:38:48",
         "2018-03-27 14:51:47",
         "2018-04-05 00:00:00",
         "Friday"
        ],
        [
         "21",
         "000e906b789b55f64edcb1f84030f90d",
         "1",
         "57d79905de06d8897872c551bfd09358",
         "ea8482cd71df3c1969d7b9473ff13abc",
         "2017-11-27 19:09:02",
         "21.99",
         "11.85",
         "6a3b2fc9f270df258605e22bef19fd88",
         "delivered",
         "2017-11-21 18:54:23",
         "2017-11-21 19:09:02",
         "2017-11-22 20:46:54",
         "2017-12-09 17:27:23",
         "2017-12-07 00:00:00",
         "Tuesday"
        ],
        [
         "22",
         "000f25f4d72195062c040b12dce9a18a",
         "1",
         "1c05e0964302b6cf68ca0d15f326c6ba",
         "7c67e1448b00f6e969d365cea6b010ab",
         "2018-03-21 11:10:11",
         "119.99",
         "44.4",
         "86ade8ebc14f18dd6c3ea75bd0eb7534",
         "delivered",
         "2018-03-07 10:33:13",
         "2018-03-07 11:10:11",
         "2018-03-16 15:58:31",
         "2018-03-22 16:51:52",
         "2018-04-11 00:00:00",
         "Wednesday"
        ],
        [
         "23",
         "001021efaa8636c29475e7734483457d",
         "1",
         "5d7c23067ed3fc8c6e699b9373d5890b",
         "6560211a19b47992c3666cc44a7e94c0",
         "2018-03-05 09:35:41",
         "49.0",
         "15.1",
         "2dfbf74859104caf100df3720a1d833d",
         "delivered",
         "2018-02-27 09:27:14",
         "2018-02-27 09:35:41",
         "2018-02-27 21:43:46",
         "2018-03-08 20:06:33",
         "2018-03-23 00:00:00",
         "Tuesday"
        ],
        [
         "24",
         "0010b2e5201cc5f1ae7e9c6cc8f5bd00",
         "1",
         "5a419dbf24a8c9718fe522b81c69f61a",
         "3504c0cb71d7fa48d967e0e4c94d59d9",
         "2017-09-15 18:04:37",
         "48.9",
         "16.6",
         "57ef317d4818cb42680fc9dfd13867ce",
         "delivered",
         "2017-09-11 17:39:33",
         "2017-09-11 18:04:37",
         "2017-09-12 17:02:57",
         "2017-09-23 13:21:21",
         "2017-09-27 00:00:00",
         "Monday"
        ],
        [
         "25",
         "00119ff934e539cf26f92b9ef0cdfed8",
         "1",
         "21b1c2f67a9aafb5af0eb06c13b9dbda",
         "c864036feaab8c1659f65ea4faebe1da",
         "2017-08-11 00:35:12",
         "219.9",
         "16.98",
         "7dd2e283f47deac853cf70f3b63c8d86",
         "delivered",
         "2017-08-06 00:42:49",
         "2017-08-07 00:35:12",
         "2017-08-07 21:12:34",
         "2017-08-16 17:29:59",
         "2017-08-31 00:00:00",
         "Sunday"
        ],
        [
         "26",
         "0011d82c4b53e22e84023405fb467e57",
         "1",
         "c389f712c4b4510bc997cee93e8b1a28",
         "bfd27a966d91cfaafdb25d076585f0da",
         "2018-01-29 21:51:25",
         "289.0",
         "26.33",
         "2013d892495e1a101d742d533d2d1119",
         "delivered",
         "2018-01-16 21:43:23",
         "2018-01-16 21:51:25",
         "2018-01-23 22:08:06",
         "2018-01-26 22:14:02",
         "2018-02-15 00:00:00",
         "Tuesday"
        ],
        [
         "27",
         "00125cb692d04887809806618a2a145f",
         "1",
         "1c0c0093a48f13ba70d0c6b0a9157cb7",
         "41b39e28db005d9731d9d485a83b4c38",
         "2017-03-29 13:05:42",
         "109.9",
         "25.51",
         "8afb90a97ee661103014329b1bcea1a2",
         "delivered",
         "2017-03-23 12:21:17",
         "2017-03-23 13:05:42",
         "2017-03-27 08:58:04",
         "2017-04-07 15:32:47",
         "2017-04-20 00:00:00",
         "Thursday"
        ],
        [
         "28",
         "00130c0eee84a3d909e75bc08c5c3ca1",
         "1",
         "89321f94e35fc6d7903d36f74e351d40",
         "16090f2ca825584b5a147ab24aa30c86",
         "2018-06-14 05:16:24",
         "27.9",
         "7.94",
         "47d656c08a282ec5ab4c1f18303a3a30",
         "delivered",
         "2018-06-11 21:17:00",
         "2018-06-12 05:16:24",
         "2018-06-12 14:22:00",
         "2018-06-13 15:28:25",
         "2018-06-20 00:00:00",
         "Monday"
        ],
        [
         "29",
         "0013503b13da1eac686219390b7d641b",
         "1",
         "38afdf723b95d455b418a0f57d623c6b",
         "1554a68530182680ad5c8b042c3ab563",
         "2017-12-13 03:16:36",
         "119.9",
         "17.32",
         "f7277fce45fad3165379c15cacf5ddbe",
         "delivered",
         "2017-12-05 23:40:59",
         "2017-12-07 03:16:36",
         "2017-12-07 22:59:30",
         "2017-12-20 22:46:28",
         "2017-12-28 00:00:00",
         "Tuesday"
        ],
        [
         "30",
         "00137e170939bba5a3134e2386413108",
         "1",
         "672e757f331900b9deea127a2a7b79fd",
         "e59aa562b9f8076dd550fcddf0e73491",
         "2017-11-30 06:30:55",
         "397.0",
         "24.65",
         "7b63cba66b8e6d002e94d0990c1e2868",
         "delivered",
         "2017-11-24 16:50:38",
         "2017-11-25 06:30:55",
         "2017-11-28 19:43:52",
         "2017-12-11 19:12:55",
         "2017-12-18 00:00:00",
         "Friday"
        ],
        [
         "31",
         "001427c0ec99cf8af737bd88e92fd444",
         "1",
         "28b4eced95a52d9c437a4caf9d311b95",
         "77530e9772f57a62c906e1c21538ab82",
         "2018-04-12 19:08:28",
         "59.9",
         "23.35",
         "eab9c552374be06ed15923016dc9e588",
         "delivered",
         "2018-04-07 18:51:22",
         "2018-04-07 19:08:28",
         "2018-04-09 23:29:32",
         "2018-04-25 23:38:41",
         "2018-05-10 00:00:00",
         "Saturday"
        ],
        [
         "32",
         "00143d0f86d6fbd9f9b38ab440ac16f5",
         "1",
         "e95ee6822b66ac6058e2e4aff656071a",
         "a17f621c590ea0fab3d5d883e1630ec6",
         "2017-10-20 16:07:52",
         "21.33",
         "15.1",
         "2e45292979b9b2700ea09560eeb0f803",
         "delivered",
         "2017-10-16 15:29:43",
         "2017-10-16 16:07:52",
         "2017-10-16 23:04:43",
         "2017-10-27 18:43:56",
         "2017-11-06 00:00:00",
         "Monday"
        ],
        [
         "33",
         "00143d0f86d6fbd9f9b38ab440ac16f5",
         "2",
         "e95ee6822b66ac6058e2e4aff656071a",
         "a17f621c590ea0fab3d5d883e1630ec6",
         "2017-10-20 16:07:52",
         "21.33",
         "15.1",
         "2e45292979b9b2700ea09560eeb0f803",
         "delivered",
         "2017-10-16 15:29:43",
         "2017-10-16 16:07:52",
         "2017-10-16 23:04:43",
         "2017-10-27 18:43:56",
         "2017-11-06 00:00:00",
         "Monday"
        ],
        [
         "34",
         "00143d0f86d6fbd9f9b38ab440ac16f5",
         "3",
         "e95ee6822b66ac6058e2e4aff656071a",
         "a17f621c590ea0fab3d5d883e1630ec6",
         "2017-10-20 16:07:52",
         "21.33",
         "15.1",
         "2e45292979b9b2700ea09560eeb0f803",
         "delivered",
         "2017-10-16 15:29:43",
         "2017-10-16 16:07:52",
         "2017-10-16 23:04:43",
         "2017-10-27 18:43:56",
         "2017-11-06 00:00:00",
         "Monday"
        ],
        [
         "35",
         "0014ae671de39511f7575066200733b7",
         "1",
         "23365beed316535b4105bd800c46670e",
         "92eb0f42c21942b6552362b9b114707d",
         "2017-05-29 03:15:24",
         "16.5",
         "14.1",
         "41065d9dcea52218c3943d2eed072b97",
         "delivered",
         "2017-05-22 13:49:03",
         "2017-05-23 03:15:24",
         "2017-05-29 09:04:02",
         "2017-06-07 13:52:52",
         "2017-06-13 00:00:00",
         "Monday"
        ],
        [
         "36",
         "0015ebb40fb17286bea51d4607c4733c",
         "1",
         "50fd2b788dc166edd20512370dac54df",
         "8b321bb669392f5163d04c59e235e066",
         "2018-01-18 09:11:24",
         "21.9",
         "15.1",
         "da43a556bf5c36a1104c473cff77de6c",
         "delivered",
         "2018-01-14 09:01:36",
         "2018-01-14 09:11:24",
         "2018-01-17 22:56:36",
         "2018-02-01 20:29:51",
         "2018-02-15 00:00:00",
         "Sunday"
        ],
        [
         "37",
         "00169e31ef4b29deaae414f9a5e95929",
         "1",
         "b10eba910a974df70b8a12d0665cdb9e",
         "a3e9a2c700480d9bb01fba070ba80a0e",
         "2018-01-23 03:35:47",
         "39.0",
         "16.11",
         "efb3830adb68fb8a89c948774388ec28",
         "delivered",
         "2018-01-16 09:26:39",
         "2018-01-17 03:35:47",
         "2018-01-17 16:46:04",
         "2018-01-23 20:19:04",
         "2018-02-07 00:00:00",
         "Tuesday"
        ],
        [
         "38",
         "0016dfedd97fc2950e388d2971d718c7",
         "1",
         "4089861a1bd4685da70bddd6b4f974f1",
         "a35124e2d763d7ca3fbe3b97d143200f",
         "2017-05-05 10:05:12",
         "49.75",
         "20.8",
         "2c8b917c5d7dd720ebe36a5ed3b501ec",
         "delivered",
         "2017-04-28 19:54:40",
         "2017-04-29 10:05:12",
         "2017-05-16 08:40:49",
         "2017-05-22 18:32:21",
         "2017-06-01 00:00:00",
         "Friday"
        ],
        [
         "39",
         "0017afd5076e074a48f1f1a4c7bac9c5",
         "1",
         "fe59a1e006df3ac42bf0ceb876d70969",
         "25c5c91f63607446a97b143d2d535d31",
         "2017-04-24 22:25:19",
         "809.1",
         "44.29",
         "8085a9af46f619bc25966f151a362b0d",
         "delivered",
         "2017-04-06 22:16:10",
         "2017-04-06 22:25:19",
         "2017-04-17 13:54:37",
         "2017-05-23 08:32:07",
         "2017-05-19 00:00:00",
         "Thursday"
        ],
        [
         "40",
         "001862358bf858722e1e2ae000cfed8b",
         "1",
         "c6dd917a0be2a704582055949915ab32",
         "7a67c85e85bb2ce8582c35f2203ad736",
         "2018-02-13 19:10:37",
         "99.99",
         "13.72",
         "2cf869dd40c98f29686f636d83545cce",
         "delivered",
         "2018-02-06 19:11:57",
         "2018-02-07 19:10:37",
         "2018-02-08 17:44:13",
         "2018-02-15 22:57:01",
         "2018-03-02 00:00:00",
         "Tuesday"
        ],
        [
         "41",
         "0019c29108428acffd089c36103c9440",
         "1",
         "28b4eced95a52d9c437a4caf9d311b95",
         "77530e9772f57a62c906e1c21538ab82",
         "2018-03-12 06:50:26",
         "59.9",
         "19.95",
         "5f6bbac628ae418db4e0f92932f899c1",
         "delivered",
         "2018-03-06 06:40:28",
         "2018-03-06 06:50:26",
         "2018-03-07 01:20:05",
         "2018-03-16 22:34:53",
         "2018-04-11 00:00:00",
         "Tuesday"
        ],
        [
         "42",
         "001ab0a7578dd66cd4b0a71f5b6e1e41",
         "1",
         "0b0172eb0fd18479d29c3bc122c058c2",
         "5656537e588803a555b8eb41f07a944b",
         "2018-01-04 02:33:42",
         "24.89",
         "17.63",
         "8bb3bef4e75a95524235cdc11a7331af",
         "delivered",
         "2017-12-27 00:38:47",
         "2017-12-28 02:33:42",
         "2017-12-28 18:09:35",
         "2018-01-17 20:43:29",
         "2018-01-29 00:00:00",
         "Wednesday"
        ],
        [
         "43",
         "001ab0a7578dd66cd4b0a71f5b6e1e41",
         "2",
         "0b0172eb0fd18479d29c3bc122c058c2",
         "5656537e588803a555b8eb41f07a944b",
         "2018-01-04 02:33:42",
         "24.89",
         "17.63",
         "8bb3bef4e75a95524235cdc11a7331af",
         "delivered",
         "2017-12-27 00:38:47",
         "2017-12-28 02:33:42",
         "2017-12-28 18:09:35",
         "2018-01-17 20:43:29",
         "2018-01-29 00:00:00",
         "Wednesday"
        ],
        [
         "44",
         "001ab0a7578dd66cd4b0a71f5b6e1e41",
         "3",
         "0b0172eb0fd18479d29c3bc122c058c2",
         "5656537e588803a555b8eb41f07a944b",
         "2018-01-04 02:33:42",
         "24.89",
         "17.63",
         "8bb3bef4e75a95524235cdc11a7331af",
         "delivered",
         "2017-12-27 00:38:47",
         "2017-12-28 02:33:42",
         "2017-12-28 18:09:35",
         "2018-01-17 20:43:29",
         "2018-01-29 00:00:00",
         "Wednesday"
        ],
        [
         "45",
         "001ac194d4a326a6fa99b581e9a3d963",
         "1",
         "dbaee28f4ee64465838a229582d77520",
         "ffc470761de7d0232558ba5e786e57b7",
         "2018-07-10 02:51:10",
         "54.0",
         "8.54",
         "f4f17ada91ef010cbde3892ae54e625f",
         "delivered",
         "2018-07-04 11:39:11",
         "2018-07-06 02:51:10",
         "2018-07-06 08:58:00",
         "2018-07-12 17:48:49",
         "2018-07-17 00:00:00",
         "Wednesday"
        ],
        [
         "46",
         "001b76dd48a5b1eee3e87778daa40df8",
         "1",
         "dbb67791e405873b259e4656bf971246",
         "9c0e69c7bf2619675bbadf47b43f655a",
         "2018-04-02 17:50:17",
         "81.99",
         "13.01",
         "a62843b08086d1629415a203a7fd419d",
         "delivered",
         "2018-03-26 17:42:53",
         "2018-03-26 17:50:17",
         "2018-03-29 23:32:44",
         "2018-04-06 18:36:23",
         "2018-04-27 00:00:00",
         "Monday"
        ],
        [
         "47",
         "001c85b5f68d2be0cb0797afc9e8ce9a",
         "1",
         "84f456958365164420cfc80fbe4c7fab",
         "4a3ca9315b744ce9f8e9374361493884",
         "2017-11-29 22:38:47",
         "99.0",
         "13.71",
         "48ed31e735f1c420ed6ca3637b7c744d",
         "delivered",
         "2017-11-24 19:19:18",
         "2017-11-24 22:38:47",
         "2017-11-27 12:42:15",
         "2017-12-22 18:37:40",
         "2017-12-14 00:00:00",
         "Friday"
        ],
        [
         "48",
         "001d8f0e34a38c37f7dba2a37d4eba8b",
         "1",
         "e67307ff0f15ade43fcb6e670be7a74c",
         "f4aba7c0bca51484c30ab7bdc34bcdd1",
         "2017-05-18 17:35:11",
         "18.99",
         "7.78",
         "d987da9fb4086ab7c2c0f83963cd6722",
         "delivered",
         "2017-05-14 17:19:44",
         "2017-05-14 17:35:11",
         "2017-05-24 15:45:01",
         "2017-05-26 13:14:50",
         "2017-05-24 00:00:00",
         "Sunday"
        ],
        [
         "49",
         "001d8f0e34a38c37f7dba2a37d4eba8b",
         "2",
         "e67307ff0f15ade43fcb6e670be7a74c",
         "f4aba7c0bca51484c30ab7bdc34bcdd1",
         "2017-05-18 17:35:11",
         "18.99",
         "7.78",
         "d987da9fb4086ab7c2c0f83963cd6722",
         "delivered",
         "2017-05-14 17:19:44",
         "2017-05-14 17:35:11",
         "2017-05-24 15:45:01",
         "2017-05-26 13:14:50",
         "2017-05-24 00:00:00",
         "Sunday"
        ]
       ],
       "shape": {
        "columns": 15,
        "rows": 112650
       }
      },
      "text/html": [
       "<div>\n",
       "<style scoped>\n",
       "    .dataframe tbody tr th:only-of-type {\n",
       "        vertical-align: middle;\n",
       "    }\n",
       "\n",
       "    .dataframe tbody tr th {\n",
       "        vertical-align: top;\n",
       "    }\n",
       "\n",
       "    .dataframe thead th {\n",
       "        text-align: right;\n",
       "    }\n",
       "</style>\n",
       "<table border=\"1\" class=\"dataframe\">\n",
       "  <thead>\n",
       "    <tr style=\"text-align: right;\">\n",
       "      <th></th>\n",
       "      <th>order_id</th>\n",
       "      <th>order_item_id</th>\n",
       "      <th>product_id</th>\n",
       "      <th>seller_id</th>\n",
       "      <th>shipping_limit_date</th>\n",
       "      <th>price</th>\n",
       "      <th>freight_value</th>\n",
       "      <th>customer_id</th>\n",
       "      <th>order_status</th>\n",
       "      <th>order_purchase_timestamp</th>\n",
       "      <th>order_approved_at</th>\n",
       "      <th>order_delivered_carrier_date</th>\n",
       "      <th>order_delivered_customer_date</th>\n",
       "      <th>order_estimated_delivery_date</th>\n",
       "      <th>Day</th>\n",
       "    </tr>\n",
       "  </thead>\n",
       "  <tbody>\n",
       "    <tr>\n",
       "      <th>0</th>\n",
       "      <td>00010242fe8c5a6d1ba2dd792cb16214</td>\n",
       "      <td>1</td>\n",
       "      <td>4244733e06e7ecb4970a6e2683c13e61</td>\n",
       "      <td>48436dade18ac8b2bce089ec2a041202</td>\n",
       "      <td>2017-09-19 09:45:35</td>\n",
       "      <td>58.90</td>\n",
       "      <td>13.29</td>\n",
       "      <td>3ce436f183e68e07877b285a838db11a</td>\n",
       "      <td>delivered</td>\n",
       "      <td>2017-09-13 08:59:02</td>\n",
       "      <td>2017-09-13 09:45:35</td>\n",
       "      <td>2017-09-19 18:34:16</td>\n",
       "      <td>2017-09-20 23:43:48</td>\n",
       "      <td>2017-09-29</td>\n",
       "      <td>Wednesday</td>\n",
       "    </tr>\n",
       "    <tr>\n",
       "      <th>1</th>\n",
       "      <td>00018f77f2f0320c557190d7a144bdd3</td>\n",
       "      <td>1</td>\n",
       "      <td>e5f2d52b802189ee658865ca93d83a8f</td>\n",
       "      <td>dd7ddc04e1b6c2c614352b383efe2d36</td>\n",
       "      <td>2017-05-03 11:05:13</td>\n",
       "      <td>239.90</td>\n",
       "      <td>19.93</td>\n",
       "      <td>f6dd3ec061db4e3987629fe6b26e5cce</td>\n",
       "      <td>delivered</td>\n",
       "      <td>2017-04-26 10:53:06</td>\n",
       "      <td>2017-04-26 11:05:13</td>\n",
       "      <td>2017-05-04 14:35:00</td>\n",
       "      <td>2017-05-12 16:04:24</td>\n",
       "      <td>2017-05-15</td>\n",
       "      <td>Wednesday</td>\n",
       "    </tr>\n",
       "    <tr>\n",
       "      <th>2</th>\n",
       "      <td>000229ec398224ef6ca0657da4fc703e</td>\n",
       "      <td>1</td>\n",
       "      <td>c777355d18b72b67abbeef9df44fd0fd</td>\n",
       "      <td>5b51032eddd242adc84c38acab88f23d</td>\n",
       "      <td>2018-01-18 14:48:30</td>\n",
       "      <td>199.00</td>\n",
       "      <td>17.87</td>\n",
       "      <td>6489ae5e4333f3693df5ad4372dab6d3</td>\n",
       "      <td>delivered</td>\n",
       "      <td>2018-01-14 14:33:31</td>\n",
       "      <td>2018-01-14 14:48:30</td>\n",
       "      <td>2018-01-16 12:36:48</td>\n",
       "      <td>2018-01-22 13:19:16</td>\n",
       "      <td>2018-02-05</td>\n",
       "      <td>Sunday</td>\n",
       "    </tr>\n",
       "    <tr>\n",
       "      <th>3</th>\n",
       "      <td>00024acbcdf0a6daa1e931b038114c75</td>\n",
       "      <td>1</td>\n",
       "      <td>7634da152a4610f1595efa32f14722fc</td>\n",
       "      <td>9d7a1d34a5052409006425275ba1c2b4</td>\n",
       "      <td>2018-08-15 10:10:18</td>\n",
       "      <td>12.99</td>\n",
       "      <td>12.79</td>\n",
       "      <td>d4eb9395c8c0431ee92fce09860c5a06</td>\n",
       "      <td>delivered</td>\n",
       "      <td>2018-08-08 10:00:35</td>\n",
       "      <td>2018-08-08 10:10:18</td>\n",
       "      <td>2018-08-10 13:28:00</td>\n",
       "      <td>2018-08-14 13:32:39</td>\n",
       "      <td>2018-08-20</td>\n",
       "      <td>Wednesday</td>\n",
       "    </tr>\n",
       "    <tr>\n",
       "      <th>4</th>\n",
       "      <td>00042b26cf59d7ce69dfabb4e55b4fd9</td>\n",
       "      <td>1</td>\n",
       "      <td>ac6c3623068f30de03045865e4e10089</td>\n",
       "      <td>df560393f3a51e74553ab94004ba5c87</td>\n",
       "      <td>2017-02-13 13:57:51</td>\n",
       "      <td>199.90</td>\n",
       "      <td>18.14</td>\n",
       "      <td>58dbd0b2d70206bf40e62cd34e84d795</td>\n",
       "      <td>delivered</td>\n",
       "      <td>2017-02-04 13:57:51</td>\n",
       "      <td>2017-02-04 14:10:13</td>\n",
       "      <td>2017-02-16 09:46:09</td>\n",
       "      <td>2017-03-01 16:42:31</td>\n",
       "      <td>2017-03-17</td>\n",
       "      <td>Saturday</td>\n",
       "    </tr>\n",
       "    <tr>\n",
       "      <th>...</th>\n",
       "      <td>...</td>\n",
       "      <td>...</td>\n",
       "      <td>...</td>\n",
       "      <td>...</td>\n",
       "      <td>...</td>\n",
       "      <td>...</td>\n",
       "      <td>...</td>\n",
       "      <td>...</td>\n",
       "      <td>...</td>\n",
       "      <td>...</td>\n",
       "      <td>...</td>\n",
       "      <td>...</td>\n",
       "      <td>...</td>\n",
       "      <td>...</td>\n",
       "      <td>...</td>\n",
       "    </tr>\n",
       "    <tr>\n",
       "      <th>112645</th>\n",
       "      <td>fffc94f6ce00a00581880bf54a75a037</td>\n",
       "      <td>1</td>\n",
       "      <td>4aa6014eceb682077f9dc4bffebc05b0</td>\n",
       "      <td>b8bc237ba3788b23da09c0f1f3a3288c</td>\n",
       "      <td>2018-05-02 04:11:01</td>\n",
       "      <td>299.99</td>\n",
       "      <td>43.41</td>\n",
       "      <td>b51593916b4b8e0d6f66f2ae24f2673d</td>\n",
       "      <td>delivered</td>\n",
       "      <td>2018-04-23 13:57:06</td>\n",
       "      <td>2018-04-25 04:11:01</td>\n",
       "      <td>2018-04-25 12:09:00</td>\n",
       "      <td>2018-05-10 22:56:40</td>\n",
       "      <td>2018-05-18</td>\n",
       "      <td>Monday</td>\n",
       "    </tr>\n",
       "    <tr>\n",
       "      <th>112646</th>\n",
       "      <td>fffcd46ef2263f404302a634eb57f7eb</td>\n",
       "      <td>1</td>\n",
       "      <td>32e07fd915822b0765e448c4dd74c828</td>\n",
       "      <td>f3c38ab652836d21de61fb8314b69182</td>\n",
       "      <td>2018-07-20 04:31:48</td>\n",
       "      <td>350.00</td>\n",
       "      <td>36.53</td>\n",
       "      <td>84c5d4fbaf120aae381fad077416eaa0</td>\n",
       "      <td>delivered</td>\n",
       "      <td>2018-07-14 10:26:46</td>\n",
       "      <td>2018-07-17 04:31:48</td>\n",
       "      <td>2018-07-17 08:05:00</td>\n",
       "      <td>2018-07-23 20:31:55</td>\n",
       "      <td>2018-08-01</td>\n",
       "      <td>Saturday</td>\n",
       "    </tr>\n",
       "    <tr>\n",
       "      <th>112647</th>\n",
       "      <td>fffce4705a9662cd70adb13d4a31832d</td>\n",
       "      <td>1</td>\n",
       "      <td>72a30483855e2eafc67aee5dc2560482</td>\n",
       "      <td>c3cfdc648177fdbbbb35635a37472c53</td>\n",
       "      <td>2017-10-30 17:14:25</td>\n",
       "      <td>99.90</td>\n",
       "      <td>16.95</td>\n",
       "      <td>29309aa813182aaddc9b259e31b870e6</td>\n",
       "      <td>delivered</td>\n",
       "      <td>2017-10-23 17:07:56</td>\n",
       "      <td>2017-10-24 17:14:25</td>\n",
       "      <td>2017-10-26 15:13:14</td>\n",
       "      <td>2017-10-28 12:22:22</td>\n",
       "      <td>2017-11-10</td>\n",
       "      <td>Monday</td>\n",
       "    </tr>\n",
       "    <tr>\n",
       "      <th>112648</th>\n",
       "      <td>fffe18544ffabc95dfada21779c9644f</td>\n",
       "      <td>1</td>\n",
       "      <td>9c422a519119dcad7575db5af1ba540e</td>\n",
       "      <td>2b3e4a2a3ea8e01938cabda2a3e5cc79</td>\n",
       "      <td>2017-08-21 00:04:32</td>\n",
       "      <td>55.99</td>\n",
       "      <td>8.72</td>\n",
       "      <td>b5e6afd5a41800fdf401e0272ca74655</td>\n",
       "      <td>delivered</td>\n",
       "      <td>2017-08-14 23:02:59</td>\n",
       "      <td>2017-08-15 00:04:32</td>\n",
       "      <td>2017-08-15 19:02:53</td>\n",
       "      <td>2017-08-16 21:59:40</td>\n",
       "      <td>2017-08-25</td>\n",
       "      <td>Monday</td>\n",
       "    </tr>\n",
       "    <tr>\n",
       "      <th>112649</th>\n",
       "      <td>fffe41c64501cc87c801fd61db3f6244</td>\n",
       "      <td>1</td>\n",
       "      <td>350688d9dc1e75ff97be326363655e01</td>\n",
       "      <td>f7ccf836d21b2fb1de37564105216cc1</td>\n",
       "      <td>2018-06-12 17:10:13</td>\n",
       "      <td>43.00</td>\n",
       "      <td>12.79</td>\n",
       "      <td>96d649da0cc4ff33bb408b199d4c7dcf</td>\n",
       "      <td>delivered</td>\n",
       "      <td>2018-06-09 17:00:18</td>\n",
       "      <td>2018-06-09 17:10:13</td>\n",
       "      <td>2018-06-11 14:11:00</td>\n",
       "      <td>2018-06-14 17:56:26</td>\n",
       "      <td>2018-06-28</td>\n",
       "      <td>Saturday</td>\n",
       "    </tr>\n",
       "  </tbody>\n",
       "</table>\n",
       "<p>112650 rows × 15 columns</p>\n",
       "</div>"
      ],
      "text/plain": [
       "                                order_id  order_item_id  \\\n",
       "0       00010242fe8c5a6d1ba2dd792cb16214              1   \n",
       "1       00018f77f2f0320c557190d7a144bdd3              1   \n",
       "2       000229ec398224ef6ca0657da4fc703e              1   \n",
       "3       00024acbcdf0a6daa1e931b038114c75              1   \n",
       "4       00042b26cf59d7ce69dfabb4e55b4fd9              1   \n",
       "...                                  ...            ...   \n",
       "112645  fffc94f6ce00a00581880bf54a75a037              1   \n",
       "112646  fffcd46ef2263f404302a634eb57f7eb              1   \n",
       "112647  fffce4705a9662cd70adb13d4a31832d              1   \n",
       "112648  fffe18544ffabc95dfada21779c9644f              1   \n",
       "112649  fffe41c64501cc87c801fd61db3f6244              1   \n",
       "\n",
       "                              product_id                         seller_id  \\\n",
       "0       4244733e06e7ecb4970a6e2683c13e61  48436dade18ac8b2bce089ec2a041202   \n",
       "1       e5f2d52b802189ee658865ca93d83a8f  dd7ddc04e1b6c2c614352b383efe2d36   \n",
       "2       c777355d18b72b67abbeef9df44fd0fd  5b51032eddd242adc84c38acab88f23d   \n",
       "3       7634da152a4610f1595efa32f14722fc  9d7a1d34a5052409006425275ba1c2b4   \n",
       "4       ac6c3623068f30de03045865e4e10089  df560393f3a51e74553ab94004ba5c87   \n",
       "...                                  ...                               ...   \n",
       "112645  4aa6014eceb682077f9dc4bffebc05b0  b8bc237ba3788b23da09c0f1f3a3288c   \n",
       "112646  32e07fd915822b0765e448c4dd74c828  f3c38ab652836d21de61fb8314b69182   \n",
       "112647  72a30483855e2eafc67aee5dc2560482  c3cfdc648177fdbbbb35635a37472c53   \n",
       "112648  9c422a519119dcad7575db5af1ba540e  2b3e4a2a3ea8e01938cabda2a3e5cc79   \n",
       "112649  350688d9dc1e75ff97be326363655e01  f7ccf836d21b2fb1de37564105216cc1   \n",
       "\n",
       "       shipping_limit_date   price  freight_value  \\\n",
       "0      2017-09-19 09:45:35   58.90          13.29   \n",
       "1      2017-05-03 11:05:13  239.90          19.93   \n",
       "2      2018-01-18 14:48:30  199.00          17.87   \n",
       "3      2018-08-15 10:10:18   12.99          12.79   \n",
       "4      2017-02-13 13:57:51  199.90          18.14   \n",
       "...                    ...     ...            ...   \n",
       "112645 2018-05-02 04:11:01  299.99          43.41   \n",
       "112646 2018-07-20 04:31:48  350.00          36.53   \n",
       "112647 2017-10-30 17:14:25   99.90          16.95   \n",
       "112648 2017-08-21 00:04:32   55.99           8.72   \n",
       "112649 2018-06-12 17:10:13   43.00          12.79   \n",
       "\n",
       "                             customer_id order_status  \\\n",
       "0       3ce436f183e68e07877b285a838db11a    delivered   \n",
       "1       f6dd3ec061db4e3987629fe6b26e5cce    delivered   \n",
       "2       6489ae5e4333f3693df5ad4372dab6d3    delivered   \n",
       "3       d4eb9395c8c0431ee92fce09860c5a06    delivered   \n",
       "4       58dbd0b2d70206bf40e62cd34e84d795    delivered   \n",
       "...                                  ...          ...   \n",
       "112645  b51593916b4b8e0d6f66f2ae24f2673d    delivered   \n",
       "112646  84c5d4fbaf120aae381fad077416eaa0    delivered   \n",
       "112647  29309aa813182aaddc9b259e31b870e6    delivered   \n",
       "112648  b5e6afd5a41800fdf401e0272ca74655    delivered   \n",
       "112649  96d649da0cc4ff33bb408b199d4c7dcf    delivered   \n",
       "\n",
       "       order_purchase_timestamp   order_approved_at  \\\n",
       "0           2017-09-13 08:59:02 2017-09-13 09:45:35   \n",
       "1           2017-04-26 10:53:06 2017-04-26 11:05:13   \n",
       "2           2018-01-14 14:33:31 2018-01-14 14:48:30   \n",
       "3           2018-08-08 10:00:35 2018-08-08 10:10:18   \n",
       "4           2017-02-04 13:57:51 2017-02-04 14:10:13   \n",
       "...                         ...                 ...   \n",
       "112645      2018-04-23 13:57:06 2018-04-25 04:11:01   \n",
       "112646      2018-07-14 10:26:46 2018-07-17 04:31:48   \n",
       "112647      2017-10-23 17:07:56 2017-10-24 17:14:25   \n",
       "112648      2017-08-14 23:02:59 2017-08-15 00:04:32   \n",
       "112649      2018-06-09 17:00:18 2018-06-09 17:10:13   \n",
       "\n",
       "       order_delivered_carrier_date order_delivered_customer_date  \\\n",
       "0               2017-09-19 18:34:16           2017-09-20 23:43:48   \n",
       "1               2017-05-04 14:35:00           2017-05-12 16:04:24   \n",
       "2               2018-01-16 12:36:48           2018-01-22 13:19:16   \n",
       "3               2018-08-10 13:28:00           2018-08-14 13:32:39   \n",
       "4               2017-02-16 09:46:09           2017-03-01 16:42:31   \n",
       "...                             ...                           ...   \n",
       "112645          2018-04-25 12:09:00           2018-05-10 22:56:40   \n",
       "112646          2018-07-17 08:05:00           2018-07-23 20:31:55   \n",
       "112647          2017-10-26 15:13:14           2017-10-28 12:22:22   \n",
       "112648          2017-08-15 19:02:53           2017-08-16 21:59:40   \n",
       "112649          2018-06-11 14:11:00           2018-06-14 17:56:26   \n",
       "\n",
       "       order_estimated_delivery_date        Day  \n",
       "0                         2017-09-29  Wednesday  \n",
       "1                         2017-05-15  Wednesday  \n",
       "2                         2018-02-05     Sunday  \n",
       "3                         2018-08-20  Wednesday  \n",
       "4                         2017-03-17   Saturday  \n",
       "...                              ...        ...  \n",
       "112645                    2018-05-18     Monday  \n",
       "112646                    2018-08-01   Saturday  \n",
       "112647                    2017-11-10     Monday  \n",
       "112648                    2017-08-25     Monday  \n",
       "112649                    2018-06-28   Saturday  \n",
       "\n",
       "[112650 rows x 15 columns]"
      ]
     },
     "execution_count": 26,
     "metadata": {},
     "output_type": "execute_result"
    }
   ],
   "source": [
    "purchase['order_purchase_timestamp'] = pd.to_datetime(purchase['order_purchase_timestamp'])\n",
    "purchase['Day'] = purchase['order_purchase_timestamp'].dt.day_name()\n",
    "purchase"
   ]
  },
  {
   "cell_type": "code",
   "execution_count": null,
   "metadata": {},
   "outputs": [
    {
     "data": {
      "application/vnd.microsoft.datawrangler.viewer.v0+json": {
       "columns": [
        {
         "name": "index",
         "rawType": "int64",
         "type": "integer"
        },
        {
         "name": "product_id",
         "rawType": "object",
         "type": "string"
        },
        {
         "name": "Day",
         "rawType": "object",
         "type": "string"
        }
       ],
       "conversionMethod": "pd.DataFrame",
       "ref": "50e5ee56-911b-42af-9acd-02bf82bb3ae0",
       "rows": [
        [
         "0",
         "00066f42aeeb9f3007548bb9d3f33c38",
         "Sunday"
        ],
        [
         "1",
         "00088930e925c41fd95ebfe695fd2655",
         "Tuesday"
        ],
        [
         "2",
         "0009406fd7479715e4bef61dd91f2462",
         "Thursday"
        ],
        [
         "3",
         "000b8f95fcb9e0096488278317764d19",
         "Friday"
        ],
        [
         "4",
         "000d9be29b5207b54e86aa1b1ac54872",
         "Tuesday"
        ],
        [
         "5",
         "0011c512eb256aa0dbbb544d8dffcf6e",
         "Thursday"
        ],
        [
         "6",
         "00126f27c813603687e6ce486d909d01",
         "Sunday"
        ],
        [
         "7",
         "001795ec6f1b187d37335e1c4704762e",
         "Saturday"
        ],
        [
         "8",
         "001b237c0e9bb435f2e54071129237e9",
         "Thursday"
        ],
        [
         "9",
         "001b72dfd63e9833e8c02742adf472e3",
         "Wednesday"
        ],
        [
         "10",
         "001c5d71ac6ad696d22315953758fa04",
         "Wednesday"
        ],
        [
         "11",
         "00210e41887c2a8ef9f791ebc780cc36",
         "Thursday"
        ],
        [
         "12",
         "002159fe700ed3521f46cfcf6e941c76",
         "Saturday"
        ],
        [
         "13",
         "0021a87d4997a48b6cef1665602be0f5",
         "Thursday"
        ],
        [
         "14",
         "00250175f79f584c14ab5cecd80553cd",
         "Saturday"
        ],
        [
         "15",
         "002552c0663708129c0019cc97552d7d",
         "Thursday"
        ],
        [
         "16",
         "002959d7a0b0990fe2d69988affcbc80",
         "Saturday"
        ],
        [
         "17",
         "002af88741ba70c7b5cf4e4a0ad7ef85",
         "Friday"
        ],
        [
         "18",
         "002c6dab60557c48cfd6c2222ef7fd76",
         "Thursday"
        ],
        [
         "19",
         "002d4ea7c04739c130bb74d7e7cd1694",
         "Tuesday"
        ],
        [
         "20",
         "002ec297b1b00fb9dde7ee6ac24b6771",
         "Saturday"
        ],
        [
         "21",
         "0030026a6ddb3b2d1d4bc225b4b4c4da",
         "Wednesday"
        ],
        [
         "22",
         "0030e635639c898b323826589761cf23",
         "Friday"
        ],
        [
         "23",
         "003128f981470c3e5a2e7445e4a771cd",
         "Saturday"
        ],
        [
         "24",
         "0036bb031e69d915cd384d1b3838b5d3",
         "Wednesday"
        ],
        [
         "25",
         "003938452c98ff9ab28e9e7b4bfe97ab",
         "Saturday"
        ],
        [
         "26",
         "003962cb74a8b43cf1034fed541a76f0",
         "Thursday"
        ],
        [
         "27",
         "003a31970fea14fffe92ac856b8a9b97",
         "Friday"
        ],
        [
         "28",
         "003c0b8f6580c850bd2e32044d2ac307",
         "Wednesday"
        ],
        [
         "29",
         "003dbcabcf8e3231de657c7d9f9a5eba",
         "Tuesday"
        ],
        [
         "30",
         "004154251837f6ac124ad4374b3a8148",
         "Monday"
        ],
        [
         "31",
         "0042f1a9a7e0edd1400c6cd0fda065f8",
         "Tuesday"
        ],
        [
         "32",
         "0043c62d00db47eff6a6bc4cf6bfaeda",
         "Friday"
        ],
        [
         "33",
         "0043d1a25ef08fb6f41b8fa6f91742ab",
         "Saturday"
        ],
        [
         "34",
         "0044d70d4e53450c0fbb8255446a797b",
         "Friday"
        ],
        [
         "35",
         "004552d98c5d3653af8b4dbe8def0048",
         "Wednesday"
        ],
        [
         "36",
         "004636c889c7c3dad6631f136b7fa082",
         "Monday"
        ],
        [
         "37",
         "004ffcbfa5aac82212a95bc972ea8a85",
         "Thursday"
        ],
        [
         "38",
         "005030ef108f58b46b78116f754d8d38",
         "Friday"
        ],
        [
         "39",
         "005c6b24cc96dca3e2c01e824401030e",
         "Saturday"
        ],
        [
         "40",
         "0060b415594c5e1200324ef1a18493c4",
         "Tuesday"
        ],
        [
         "41",
         "00636f9286f69c9f1bdabe76e670fb50",
         "Sunday"
        ],
        [
         "42",
         "006508eabcc19ae52ed87323124ad0e9",
         "Wednesday"
        ],
        [
         "43",
         "006619bbed68b000c8ba3f8725d5409e",
         "Thursday"
        ],
        [
         "44",
         "0067f97995b0c3a86739734dc87ee6b6",
         "Monday"
        ],
        [
         "45",
         "006baa9a5b8f95895f15273a35bc2664",
         "Thursday"
        ],
        [
         "46",
         "006c67546bfe73c33b83f6bd1ad58c36",
         "Saturday"
        ],
        [
         "47",
         "00716e5593e8eea55dbe7a29b72a70bc",
         "Wednesday"
        ],
        [
         "48",
         "00738f5a17ec4450e88915357b085c1e",
         "Wednesday"
        ],
        [
         "49",
         "0075c14603d80515e20908c156ceb47b",
         "Monday"
        ]
       ],
       "shape": {
        "columns": 2,
        "rows": 32951
       }
      },
      "text/html": [
       "<div>\n",
       "<style scoped>\n",
       "    .dataframe tbody tr th:only-of-type {\n",
       "        vertical-align: middle;\n",
       "    }\n",
       "\n",
       "    .dataframe tbody tr th {\n",
       "        vertical-align: top;\n",
       "    }\n",
       "\n",
       "    .dataframe thead th {\n",
       "        text-align: right;\n",
       "    }\n",
       "</style>\n",
       "<table border=\"1\" class=\"dataframe\">\n",
       "  <thead>\n",
       "    <tr style=\"text-align: right;\">\n",
       "      <th></th>\n",
       "      <th>product_id</th>\n",
       "      <th>Day</th>\n",
       "    </tr>\n",
       "  </thead>\n",
       "  <tbody>\n",
       "    <tr>\n",
       "      <th>0</th>\n",
       "      <td>00066f42aeeb9f3007548bb9d3f33c38</td>\n",
       "      <td>Sunday</td>\n",
       "    </tr>\n",
       "    <tr>\n",
       "      <th>1</th>\n",
       "      <td>00088930e925c41fd95ebfe695fd2655</td>\n",
       "      <td>Tuesday</td>\n",
       "    </tr>\n",
       "    <tr>\n",
       "      <th>2</th>\n",
       "      <td>0009406fd7479715e4bef61dd91f2462</td>\n",
       "      <td>Thursday</td>\n",
       "    </tr>\n",
       "    <tr>\n",
       "      <th>3</th>\n",
       "      <td>000b8f95fcb9e0096488278317764d19</td>\n",
       "      <td>Friday</td>\n",
       "    </tr>\n",
       "    <tr>\n",
       "      <th>4</th>\n",
       "      <td>000d9be29b5207b54e86aa1b1ac54872</td>\n",
       "      <td>Tuesday</td>\n",
       "    </tr>\n",
       "    <tr>\n",
       "      <th>...</th>\n",
       "      <td>...</td>\n",
       "      <td>...</td>\n",
       "    </tr>\n",
       "    <tr>\n",
       "      <th>32946</th>\n",
       "      <td>fff6177642830a9a94a0f2cba5e476d1</td>\n",
       "      <td>Saturday</td>\n",
       "    </tr>\n",
       "    <tr>\n",
       "      <th>32947</th>\n",
       "      <td>fff81cc3158d2725c0655ab9ba0f712c</td>\n",
       "      <td>Monday</td>\n",
       "    </tr>\n",
       "    <tr>\n",
       "      <th>32948</th>\n",
       "      <td>fff9553ac224cec9d15d49f5a263411f</td>\n",
       "      <td>Friday</td>\n",
       "    </tr>\n",
       "    <tr>\n",
       "      <th>32949</th>\n",
       "      <td>fffdb2d0ec8d6a61f0a0a0db3f25b441</td>\n",
       "      <td>Tuesday</td>\n",
       "    </tr>\n",
       "    <tr>\n",
       "      <th>32950</th>\n",
       "      <td>fffe9eeff12fcbd74a2f2b007dde0c58</td>\n",
       "      <td>Wednesday</td>\n",
       "    </tr>\n",
       "  </tbody>\n",
       "</table>\n",
       "<p>32951 rows × 2 columns</p>\n",
       "</div>"
      ],
      "text/plain": [
       "                             product_id        Day\n",
       "0      00066f42aeeb9f3007548bb9d3f33c38     Sunday\n",
       "1      00088930e925c41fd95ebfe695fd2655    Tuesday\n",
       "2      0009406fd7479715e4bef61dd91f2462   Thursday\n",
       "3      000b8f95fcb9e0096488278317764d19     Friday\n",
       "4      000d9be29b5207b54e86aa1b1ac54872    Tuesday\n",
       "...                                 ...        ...\n",
       "32946  fff6177642830a9a94a0f2cba5e476d1   Saturday\n",
       "32947  fff81cc3158d2725c0655ab9ba0f712c     Monday\n",
       "32948  fff9553ac224cec9d15d49f5a263411f     Friday\n",
       "32949  fffdb2d0ec8d6a61f0a0a0db3f25b441    Tuesday\n",
       "32950  fffe9eeff12fcbd74a2f2b007dde0c58  Wednesday\n",
       "\n",
       "[32951 rows x 2 columns]"
      ]
     },
     "execution_count": 35,
     "metadata": {},
     "output_type": "execute_result"
    }
   ],
   "source": [
    "day_popular = purchase.groupby(['product_id', 'Day']) \\\n",
    "    .agg({'order_id': 'count'}) \\\n",
    "    .rename(columns={'order_id': 'count'}) \\\n",
    "    .reset_index()\n",
    "\n",
    "day_popular.pivot(index='product_id', columns='Day', values='count') \\\n",
    "    .idxmax(axis=1) \\\n",
    "    .to_frame() \\\n",
    "    .reset_index() \\\n",
    "    .rename(columns={0:'Day'})\n"
   ]
  },
  {
   "cell_type": "markdown",
   "metadata": {},
   "source": [
    "### Сколько у каждого из пользователей в среднем покупок в неделю (по месяцам)? Не стоит забывать, что внутри месяца может быть не целое количество недель. Например, в ноябре 2021 года 4,28 недели. И внутри метрики это нужно учесть."
   ]
  },
  {
   "cell_type": "markdown",
   "metadata": {},
   "source": [
    "Объединяем таблицы с нужными нам данными и добавляем новые столбцы с наименованием года и месяца"
   ]
  },
  {
   "cell_type": "code",
   "execution_count": 64,
   "metadata": {},
   "outputs": [
    {
     "data": {
      "application/vnd.microsoft.datawrangler.viewer.v0+json": {
       "columns": [
        {
         "name": "index",
         "rawType": "int64",
         "type": "integer"
        },
        {
         "name": "customer_id",
         "rawType": "object",
         "type": "string"
        },
        {
         "name": "customer_unique_id",
         "rawType": "object",
         "type": "string"
        },
        {
         "name": "order_id",
         "rawType": "object",
         "type": "string"
        },
        {
         "name": "order_status",
         "rawType": "object",
         "type": "string"
        },
        {
         "name": "order_purchase_timestamp",
         "rawType": "datetime64[ns]",
         "type": "datetime"
        },
        {
         "name": "order_approved_at",
         "rawType": "datetime64[ns]",
         "type": "datetime"
        },
        {
         "name": "order_delivered_carrier_date",
         "rawType": "datetime64[ns]",
         "type": "datetime"
        },
        {
         "name": "order_delivered_customer_date",
         "rawType": "datetime64[ns]",
         "type": "datetime"
        },
        {
         "name": "order_estimated_delivery_date",
         "rawType": "datetime64[ns]",
         "type": "datetime"
        },
        {
         "name": "year",
         "rawType": "int32",
         "type": "integer"
        },
        {
         "name": "month",
         "rawType": "int32",
         "type": "integer"
        }
       ],
       "conversionMethod": "pd.DataFrame",
       "ref": "44691252-7884-41d4-b280-be176450b71c",
       "rows": [
        [
         "0",
         "06b8999e2fba1a1fbc88172c00ba8bc7",
         "861eff4711a542e4b93843c6dd7febb0",
         "00e7ee1b050b8499577073aeb2a297a1",
         "delivered",
         "2017-05-16 15:05:35",
         "2017-05-16 15:22:12",
         "2017-05-23 10:47:57",
         "2017-05-25 10:35:35",
         "2017-06-05 00:00:00",
         "2017",
         "5"
        ],
        [
         "1",
         "18955e83d337fd6b2def6b18a428ac77",
         "290c77bc529b7ac935b93aa66c333dc3",
         "29150127e6685892b6eab3eec79f59c7",
         "delivered",
         "2018-01-12 20:48:24",
         "2018-01-12 20:58:32",
         "2018-01-15 17:14:59",
         "2018-01-29 12:41:19",
         "2018-02-06 00:00:00",
         "2018",
         "1"
        ],
        [
         "2",
         "4e7b3e00288586ebd08712fdd0374a03",
         "060e732b5b29e8181a18229c7b0b2b5e",
         "b2059ed67ce144a36e2aa97d2c9e9ad2",
         "delivered",
         "2018-05-19 16:07:45",
         "2018-05-20 16:19:10",
         "2018-06-11 14:31:00",
         "2018-06-14 17:58:51",
         "2018-06-13 00:00:00",
         "2018",
         "5"
        ],
        [
         "3",
         "b2b6027bc5c5109e529d4dc6358b12c3",
         "259dac757896d24d7702b9acbbff3f3c",
         "951670f92359f4fe4a63112aa7306eba",
         "delivered",
         "2018-03-13 16:06:38",
         "2018-03-13 17:29:19",
         "2018-03-27 23:22:42",
         "2018-03-28 16:04:25",
         "2018-04-10 00:00:00",
         "2018",
         "3"
        ],
        [
         "4",
         "4f2d8ab171c80ec8364f7c12e35b23ad",
         "345ecd01c38d18a9036ed96c73b8d066",
         "6b7d50bd145f6fc7f33cebabd7e49d0f",
         "delivered",
         "2018-07-29 09:51:30",
         "2018-07-29 10:10:09",
         "2018-07-30 15:16:00",
         "2018-08-09 20:55:48",
         "2018-08-15 00:00:00",
         "2018",
         "7"
        ],
        [
         "5",
         "879864dab9bc3047522c92c82e1212b8",
         "4c93744516667ad3b8f1fb645a3116a4",
         "5741ea1f91b5fbab2bd2dc653a5b5099",
         "delivered",
         "2017-09-14 18:14:31",
         "2017-09-14 18:25:11",
         "2017-09-18 21:27:40",
         "2017-09-28 17:32:43",
         "2017-10-04 00:00:00",
         "2017",
         "9"
        ],
        [
         "6",
         "fd826e7cf63160e536e0908c76c3f441",
         "addec96d2e059c80c30fe6871d30d177",
         "36e694cf4cbc2a4803200c35e84abdc4",
         "delivered",
         "2018-02-19 14:38:35",
         "2018-02-19 14:50:37",
         "2018-02-20 00:03:39",
         "2018-02-20 16:25:51",
         "2018-03-05 00:00:00",
         "2018",
         "2"
        ],
        [
         "7",
         "5e274e7a0c3809e14aba7ad5aae0d407",
         "57b2a98a409812fe9618067b6b8ebe4f",
         "1093c8304c7a003280dd34598194913d",
         "delivered",
         "2017-11-16 19:29:02",
         "2017-11-16 19:55:41",
         "2017-11-22 16:46:33",
         "2017-11-27 12:44:36",
         "2017-12-08 00:00:00",
         "2017",
         "11"
        ],
        [
         "8",
         "5adf08e34b2e993982a47070956c5c65",
         "1175e95fb47ddff9de6b2b06188f7e0d",
         "1ebeea841c590e86a14a0d7a48e7d062",
         "delivered",
         "2018-01-18 12:35:44",
         "2018-01-18 12:56:32",
         "2018-01-18 23:25:35",
         "2018-01-26 15:17:57",
         "2018-02-20 00:00:00",
         "2018",
         "1"
        ],
        [
         "9",
         "4b7139f34592b3a31687243a302fa75b",
         "9afe194fb833f79e300e37e580171f22",
         "7433cbcc783205509d66a5260da5b574",
         "delivered",
         "2018-01-08 11:22:34",
         "2018-01-08 11:35:27",
         "2018-01-11 01:00:40",
         "2018-01-13 14:51:55",
         "2018-02-05 00:00:00",
         "2018",
         "1"
        ],
        [
         "10",
         "9fb35e4ed6f0a14a4977cd9aea4042bb",
         "2a7745e1ed516b289ed9b29c7d0539a5",
         "8428e578bb1cf839ae26a6b7615502b9",
         "delivered",
         "2017-11-27 17:23:20",
         "2017-11-27 18:01:20",
         "2017-11-28 23:04:41",
         "2017-12-08 22:16:17",
         "2017-12-20 00:00:00",
         "2017",
         "11"
        ],
        [
         "11",
         "5aa9e4fdd4dfd20959cad2d772509598",
         "2a46fb94aef5cbeeb850418118cee090",
         "f86c5ed7048ac10eb88ec21c00f71892",
         "delivered",
         "2018-02-07 11:36:42",
         "2018-02-07 11:55:28",
         "2018-02-08 17:46:32",
         "2018-02-26 12:42:54",
         "2018-03-06 00:00:00",
         "2018",
         "2"
        ],
        [
         "12",
         "b2d1536598b73a9abd18e0d75d92f0a3",
         "918dc87cd72cd9f6ed4bd442ed785235",
         "83d8f70418eefd96f37b483dff430305",
         "delivered",
         "2017-09-09 09:54:57",
         "2017-09-09 10:10:17",
         "2017-09-12 12:42:43",
         "2017-09-20 20:23:34",
         "2017-10-02 00:00:00",
         "2017",
         "9"
        ],
        [
         "13",
         "eabebad39a88bb6f5b52376faec28612",
         "295c05e81917928d76245e842748184d",
         "852d2f4d37773bcbc21c8e09a05a4ea5",
         "delivered",
         "2018-03-07 15:57:14",
         "2018-03-07 16:15:30",
         "2018-03-12 23:02:49",
         "2018-03-15 00:46:30",
         "2018-03-19 00:00:00",
         "2018",
         "3"
        ],
        [
         "14",
         "1f1c7bf1c9b041b292af6c1c4470b753",
         "3151a81801c8386361b62277d7fa5ecf",
         "6c949e670b5d33dc8fb8ad25b6da4860",
         "delivered",
         "2018-04-01 18:59:31",
         "2018-04-02 17:55:19",
         "2018-04-03 19:33:13",
         "2018-04-13 15:11:21",
         "2018-04-24 00:00:00",
         "2018",
         "4"
        ],
        [
         "15",
         "206f3129c0e4d7d0b9550426023f0a08",
         "21f748a16f4e1688a9014eb3ee6fa325",
         "eac76692452422620996fe5e1a7f8bb0",
         "delivered",
         "2018-01-29 20:32:08",
         "2018-01-29 21:13:27",
         "2018-02-03 00:09:40",
         "2018-02-08 17:03:53",
         "2018-02-22 00:00:00",
         "2018",
         "1"
        ],
        [
         "16",
         "a7c125a0a07b75146167b7f04a7f8e98",
         "5c2991dbd08bbf3cf410713c4de5a0b5",
         "72bab69c50432c6f94d8b50a5f84b69a",
         "delivered",
         "2018-08-13 23:45:05",
         "2018-08-13 23:55:13",
         "2018-08-15 12:11:00",
         "2018-08-17 20:03:08",
         "2018-08-30 00:00:00",
         "2018",
         "8"
        ],
        [
         "17",
         "c5c61596a3b6bd0cee5766992c48a9a1",
         "b6e99561fe6f34a55b0b7da92f8ed775",
         "ec28553b12bef4b538e5d7454464a1c6",
         "delivered",
         "2018-06-18 13:34:21",
         "2018-06-18 13:55:47",
         "2018-06-19 15:07:00",
         "2018-06-21 20:15:28",
         "2018-07-03 00:00:00",
         "2018",
         "6"
        ],
        [
         "18",
         "9b8ce803689b3562defaad4613ef426f",
         "7f3a72e8f988c6e735ba118d54f47458",
         "17825f24877a9289214c301ae0c9424b",
         "delivered",
         "2017-05-11 13:48:47",
         "2017-05-13 11:55:16",
         "2017-05-15 15:30:02",
         "2017-06-07 12:02:14",
         "2017-05-30 00:00:00",
         "2017",
         "5"
        ],
        [
         "19",
         "49d0ea0986edde72da777f15456a0ee0",
         "3e6fd6b2f0d499456a6a6820a40f2d79",
         "ab797176e01c2fa3d13aa1fe3e63d9ee",
         "delivered",
         "2017-11-01 21:54:10",
         "2017-11-01 22:06:00",
         "2017-11-06 15:43:02",
         "2017-12-02 01:09:29",
         "2017-12-12 00:00:00",
         "2017",
         "11"
        ],
        [
         "20",
         "154c4ded6991bdfa3cd249d11abf4130",
         "e607ede0e63436308660236f5a52da5e",
         "830d8b3e6875ef6165ffc33219ab4fea",
         "delivered",
         "2017-08-13 10:03:36",
         "2017-08-13 10:24:04",
         "2017-08-14 18:43:45",
         "2017-08-19 12:37:49",
         "2017-09-20 00:00:00",
         "2017",
         "8"
        ],
        [
         "21",
         "690172ab319622688d3b4df42f676898",
         "a96d5cfa0d3181817e2b946f921ea021",
         "aaff8afa47c8426e414a6d908a97713c",
         "delivered",
         "2017-10-15 11:08:48",
         "2017-10-15 11:25:49",
         "2017-10-16 21:36:29",
         "2017-10-25 22:30:58",
         "2017-11-06 00:00:00",
         "2017",
         "10"
        ],
        [
         "22",
         "2938121a40a20953c43caa8c98787fcb",
         "482441ea6a06b1f72fe9784756c0ea75",
         "0198c71148c2e08c7c52b860f640fa4e",
         "delivered",
         "2018-05-08 06:34:07",
         "2018-05-09 04:31:29",
         "2018-05-10 18:12:00",
         "2018-05-18 18:49:30",
         "2018-05-29 00:00:00",
         "2018",
         "5"
        ],
        [
         "23",
         "237098a64674ae89babdc426746260fc",
         "4390ddbb6276a66ff1736a6710205dca",
         "eac4ffbe456464bdc3ce5f001b6439c5",
         "delivered",
         "2017-04-14 11:24:56",
         "2017-04-14 11:35:23",
         "2017-04-17 10:43:50",
         "2017-04-20 17:04:51",
         "2017-05-10 00:00:00",
         "2017",
         "4"
        ],
        [
         "24",
         "cb721d7b4f271fd87011c4c83462c076",
         "a5844ba4bfc8d0cc61d13027c7e63bcc",
         "6cdc131d3c28253cd03cd0fbc3d5f938",
         "delivered",
         "2018-05-16 13:04:22",
         "2018-05-16 13:19:29",
         "2018-05-17 15:06:00",
         "2018-05-24 15:16:41",
         "2018-06-05 00:00:00",
         "2018",
         "5"
        ],
        [
         "25",
         "f681356046d9fde60e70c73a18d65ea2",
         "5f102dd37243f152aec3607970aad100",
         "daf946e879dab6e7e6b3f968297c3fe3",
         "delivered",
         "2018-02-09 13:46:04",
         "2018-02-09 14:08:53",
         "2018-02-14 23:35:06",
         "2018-02-15 22:41:29",
         "2018-02-23 00:00:00",
         "2018",
         "2"
        ],
        [
         "26",
         "167bd30a409e3e4127df5a9408ebd394",
         "9c0096673baf55453a50073f12d1a37f",
         "d10eafa208521dc30796e6a26099b6a6",
         "delivered",
         "2018-07-14 10:53:11",
         "2018-07-14 11:05:18",
         "2018-07-17 17:32:00",
         "2018-07-25 16:28:33",
         "2018-08-08 00:00:00",
         "2018",
         "7"
        ],
        [
         "27",
         "6e359a57a91f84095cc64e1b351aef8c",
         "2e6a42a9b5cbb0da62988694f18ee295",
         "a8f5a2b22f55e0af45b300929d1fdc7d",
         "delivered",
         "2017-05-15 17:58:25",
         "2017-05-15 18:10:18",
         "2017-05-16 15:41:37",
         "2017-05-19 11:10:11",
         "2017-06-06 00:00:00",
         "2017",
         "5"
        ],
        [
         "28",
         "e0eea8f69a457b3f1fa246e44c9ebefd",
         "4d221875624017bc47b4d1ce7314a5b7",
         "3a6d41a4fe7a8e841b7c8e4b77d4e301",
         "delivered",
         "2017-11-24 11:29:52",
         "2017-11-24 13:33:05",
         "2017-11-27 21:12:51",
         "2017-12-06 22:37:09",
         "2017-12-18 00:00:00",
         "2017",
         "11"
        ],
        [
         "29",
         "e3109970a3fe8021d5ff82c577ce5606",
         "a8654e2af5da6bb72f52c22b164855e1",
         "0330631bdb2ec8c341f487ed9c22fc8b",
         "delivered",
         "2018-05-25 12:02:08",
         "2018-05-26 02:31:54",
         "2018-05-29 15:41:00",
         "2018-06-07 22:42:02",
         "2018-06-26 00:00:00",
         "2018",
         "5"
        ],
        [
         "30",
         "261cb4f92498ca05d5bd1a327a261d9c",
         "424aca6872c5bab80780a8dec03b7516",
         "2904d3ae0064e840ffb4798ba4a12ae3",
         "delivered",
         "2017-09-12 08:00:03",
         "2017-09-14 02:50:22",
         "2017-09-19 19:27:49",
         "2017-09-25 21:22:39",
         "2017-10-05 00:00:00",
         "2017",
         "9"
        ],
        [
         "31",
         "6f92779347724b67e44e3224f3b4cffd",
         "bf4862777db128507e9efcc789215e9b",
         "f3b96845efd71daecf6b331fb3a9f537",
         "delivered",
         "2017-11-26 20:59:24",
         "2017-11-27 09:16:13",
         "2017-11-30 16:38:43",
         "2017-12-09 11:56:34",
         "2017-12-18 00:00:00",
         "2017",
         "11"
        ],
        [
         "32",
         "2d5831cb2dff7cdefba62e950ae3dc7b",
         "e9dd12dca17352644a959d9dea133935",
         "19c0c76962278b152cc44fc63ffd5e48",
         "delivered",
         "2018-04-18 09:42:53",
         "2018-04-18 09:55:17",
         "2018-04-20 18:52:39",
         "2018-05-17 20:19:49",
         "2018-05-18 00:00:00",
         "2018",
         "4"
        ],
        [
         "33",
         "b2bed119388167a954382cca36c4777f",
         "e079b18794454de9d2be5c12b4392294",
         "77b062be7c5bd21712905feb8e1cfeed",
         "delivered",
         "2017-06-14 18:31:54",
         "2017-06-15 18:43:04",
         "2017-06-22 08:11:38",
         "2017-07-07 20:32:47",
         "2017-07-07 00:00:00",
         "2017",
         "6"
        ],
        [
         "34",
         "469634941c27cd844170935a3cf60b95",
         "ef07ba9aa5226f77264ffa5762b2280b",
         "a9119eb77d6200811953803a7b6539e1",
         "delivered",
         "2018-03-12 13:07:03",
         "2018-03-12 13:15:28",
         "2018-03-13 22:12:18",
         "2018-03-22 18:28:55",
         "2018-03-29 00:00:00",
         "2018",
         "3"
        ],
        [
         "35",
         "df0aa5b8586495e0ddf6b601122e43a1",
         "85d234692f7bee8d6fea586e237334b6",
         "72bd19ef4fa285334b95bda01a3718c7",
         "delivered",
         "2018-05-09 13:01:24",
         "2018-05-09 13:11:21",
         "2018-05-11 14:03:00",
         "2018-05-16 16:58:37",
         "2018-05-25 00:00:00",
         "2018",
         "5"
        ],
        [
         "36",
         "41c8f4b570869791379a925899a6af8a",
         "fe3634ccefbcdb0537b45fd589e32e8e",
         "4ca8a781d1f4b13e966bf35cdc333f56",
         "delivered",
         "2017-10-13 10:04:59",
         "2017-10-14 03:46:19",
         "2017-10-20 18:57:47",
         "2017-10-25 20:52:20",
         "2017-11-06 00:00:00",
         "2017",
         "10"
        ],
        [
         "37",
         "54f755c3fd2709231f9964a1430c5218",
         "40febde16f4718a5def537786473b0be",
         "d4668cd8ef48b78df597195703c95da2",
         "delivered",
         "2017-08-10 13:01:54",
         "2017-08-10 13:23:32",
         "2017-08-14 19:44:58",
         "2017-08-21 13:42:55",
         "2017-09-01 00:00:00",
         "2017",
         "8"
        ],
        [
         "38",
         "4c06b42fbf7b97ab10779cda5549cd1c",
         "07d190f123147d9e89d4b922543d7948",
         "997fd4b37386d10b57d4ac8cdec011a6",
         "delivered",
         "2018-07-08 09:59:19",
         "2018-07-08 10:30:15",
         "2018-07-25 15:12:00",
         "2018-08-08 19:42:53",
         "2018-08-16 00:00:00",
         "2018",
         "7"
        ],
        [
         "39",
         "b6368ca0f56d4632f44d58ca431487b2",
         "dd992305cba295d997f263dbdf4e8c2e",
         "47cb08d5bac6105ae32587814fca96ca",
         "delivered",
         "2018-02-11 14:07:45",
         "2018-02-11 14:48:15",
         "2018-02-14 18:38:51",
         "2018-02-27 20:46:42",
         "2018-03-08 00:00:00",
         "2018",
         "2"
        ],
        [
         "40",
         "4a0e66fd30684aa1409cd1b66fec77cc",
         "86085586aaa8c5f47ed0b400da64c59d",
         "42cebac003b40e6aa0b3e37b99d83c2f",
         "delivered",
         "2018-07-06 14:29:57",
         "2018-07-10 04:05:12",
         "2018-07-10 15:06:00",
         "2018-07-11 17:35:50",
         "2018-07-19 00:00:00",
         "2018",
         "7"
        ],
        [
         "41",
         "c168abb9077b7821adae01dc1f0886c5",
         "5ad58a4e6a1a656b6bed070cadbaa003",
         "1bae3477022e0394ab9af1d25a242fd0",
         "delivered",
         "2017-12-18 08:52:09",
         "2017-12-18 09:11:59",
         "2017-12-20 12:59:02",
         "2017-12-30 10:53:09",
         "2018-01-18 00:00:00",
         "2017",
         "12"
        ],
        [
         "42",
         "a3b0fda37bae14cf754877bed475e80c",
         "c9158d089637ab443c78984d20da7fc0",
         "2dd604f5ec1bd2f58c14e9908c7df826",
         "delivered",
         "2018-01-31 16:43:23",
         "2018-02-01 11:35:44",
         "2018-02-06 15:35:16",
         "2018-02-10 16:12:22",
         "2018-02-22 00:00:00",
         "2018",
         "1"
        ],
        [
         "43",
         "0ccd415657ae8a6cd1c71b00155a019e",
         "66cc90195ca44cc7ac6a1cd0e1e1e7b2",
         "a74869096437cef33d04006e8480e0db",
         "delivered",
         "2017-10-09 21:01:08",
         "2017-10-09 21:14:37",
         "2017-10-11 17:17:46",
         "2017-10-14 12:03:34",
         "2017-10-20 00:00:00",
         "2017",
         "10"
        ],
        [
         "44",
         "c532a74a3ebf1bacce2e2bcce3783317",
         "91ec50a00ae74d0a229d2efdf4344e1e",
         "04a92860751dfe7ae41f71e1228ffd18",
         "delivered",
         "2018-05-14 13:30:21",
         "2018-05-14 13:56:47",
         "2018-05-24 14:26:00",
         "2018-06-04 20:48:29",
         "2018-06-12 00:00:00",
         "2018",
         "5"
        ],
        [
         "45",
         "19cecb194f54e614b70d971306a9931b",
         "d251c190ca75786e9ab937982d60d1d4",
         "14282bc70be9bdda515182fb1ce62af4",
         "delivered",
         "2018-04-18 14:18:09",
         "2018-04-19 02:52:02",
         "2018-04-20 00:47:44",
         "2018-04-26 16:26:38",
         "2018-05-11 00:00:00",
         "2018",
         "4"
        ],
        [
         "46",
         "f34a6e874087ec1f0e3dab9fdf659c5d",
         "233896de79986082f1f479f1f85281cb",
         "6e98de3a85c84ead6689189b825d35b5",
         "canceled",
         "2018-03-15 10:07:02",
         "2018-03-15 10:29:33",
         null,
         null,
         "2018-04-09 00:00:00",
         "2018",
         "3"
        ],
        [
         "47",
         "c132855c926907970dcf6f2bf0b33a24",
         "a8ae36a2bb6c2bbc3b5d62ede131c9ef",
         "b5172d4a722c0ebb34c29bbbb7a3cb42",
         "invoiced",
         "2018-04-17 13:14:13",
         "2018-04-18 05:31:51",
         null,
         null,
         "2018-05-24 00:00:00",
         "2018",
         "4"
        ],
        [
         "48",
         "df85b96ba2ce3e49bde101b1614f52ac",
         "8d46223c91cbeb93e0930ca8bd8ffca2",
         "d13130a0433949ba242b2f0632fd49a2",
         "delivered",
         "2017-11-26 11:43:57",
         "2017-11-26 11:55:36",
         "2017-11-28 15:11:48",
         "2017-12-07 23:17:20",
         "2017-12-20 00:00:00",
         "2017",
         "11"
        ],
        [
         "49",
         "4d27341acd30a36bca39008ee9bb9050",
         "e021e698833bdeb89dfef3acb2e91f37",
         "38e2829123a2bd1cbe111564824d0abb",
         "delivered",
         "2017-01-26 11:14:58",
         "2017-01-26 11:25:21",
         "2017-01-27 12:19:14",
         "2017-02-09 12:15:20",
         "2017-02-22 00:00:00",
         "2017",
         "1"
        ]
       ],
       "shape": {
        "columns": 11,
        "rows": 99441
       }
      },
      "text/html": [
       "<div>\n",
       "<style scoped>\n",
       "    .dataframe tbody tr th:only-of-type {\n",
       "        vertical-align: middle;\n",
       "    }\n",
       "\n",
       "    .dataframe tbody tr th {\n",
       "        vertical-align: top;\n",
       "    }\n",
       "\n",
       "    .dataframe thead th {\n",
       "        text-align: right;\n",
       "    }\n",
       "</style>\n",
       "<table border=\"1\" class=\"dataframe\">\n",
       "  <thead>\n",
       "    <tr style=\"text-align: right;\">\n",
       "      <th></th>\n",
       "      <th>customer_id</th>\n",
       "      <th>customer_unique_id</th>\n",
       "      <th>order_id</th>\n",
       "      <th>order_status</th>\n",
       "      <th>order_purchase_timestamp</th>\n",
       "      <th>order_approved_at</th>\n",
       "      <th>order_delivered_carrier_date</th>\n",
       "      <th>order_delivered_customer_date</th>\n",
       "      <th>order_estimated_delivery_date</th>\n",
       "      <th>year</th>\n",
       "      <th>month</th>\n",
       "    </tr>\n",
       "  </thead>\n",
       "  <tbody>\n",
       "    <tr>\n",
       "      <th>0</th>\n",
       "      <td>06b8999e2fba1a1fbc88172c00ba8bc7</td>\n",
       "      <td>861eff4711a542e4b93843c6dd7febb0</td>\n",
       "      <td>00e7ee1b050b8499577073aeb2a297a1</td>\n",
       "      <td>delivered</td>\n",
       "      <td>2017-05-16 15:05:35</td>\n",
       "      <td>2017-05-16 15:22:12</td>\n",
       "      <td>2017-05-23 10:47:57</td>\n",
       "      <td>2017-05-25 10:35:35</td>\n",
       "      <td>2017-06-05</td>\n",
       "      <td>2017</td>\n",
       "      <td>5</td>\n",
       "    </tr>\n",
       "    <tr>\n",
       "      <th>1</th>\n",
       "      <td>18955e83d337fd6b2def6b18a428ac77</td>\n",
       "      <td>290c77bc529b7ac935b93aa66c333dc3</td>\n",
       "      <td>29150127e6685892b6eab3eec79f59c7</td>\n",
       "      <td>delivered</td>\n",
       "      <td>2018-01-12 20:48:24</td>\n",
       "      <td>2018-01-12 20:58:32</td>\n",
       "      <td>2018-01-15 17:14:59</td>\n",
       "      <td>2018-01-29 12:41:19</td>\n",
       "      <td>2018-02-06</td>\n",
       "      <td>2018</td>\n",
       "      <td>1</td>\n",
       "    </tr>\n",
       "    <tr>\n",
       "      <th>2</th>\n",
       "      <td>4e7b3e00288586ebd08712fdd0374a03</td>\n",
       "      <td>060e732b5b29e8181a18229c7b0b2b5e</td>\n",
       "      <td>b2059ed67ce144a36e2aa97d2c9e9ad2</td>\n",
       "      <td>delivered</td>\n",
       "      <td>2018-05-19 16:07:45</td>\n",
       "      <td>2018-05-20 16:19:10</td>\n",
       "      <td>2018-06-11 14:31:00</td>\n",
       "      <td>2018-06-14 17:58:51</td>\n",
       "      <td>2018-06-13</td>\n",
       "      <td>2018</td>\n",
       "      <td>5</td>\n",
       "    </tr>\n",
       "    <tr>\n",
       "      <th>3</th>\n",
       "      <td>b2b6027bc5c5109e529d4dc6358b12c3</td>\n",
       "      <td>259dac757896d24d7702b9acbbff3f3c</td>\n",
       "      <td>951670f92359f4fe4a63112aa7306eba</td>\n",
       "      <td>delivered</td>\n",
       "      <td>2018-03-13 16:06:38</td>\n",
       "      <td>2018-03-13 17:29:19</td>\n",
       "      <td>2018-03-27 23:22:42</td>\n",
       "      <td>2018-03-28 16:04:25</td>\n",
       "      <td>2018-04-10</td>\n",
       "      <td>2018</td>\n",
       "      <td>3</td>\n",
       "    </tr>\n",
       "    <tr>\n",
       "      <th>4</th>\n",
       "      <td>4f2d8ab171c80ec8364f7c12e35b23ad</td>\n",
       "      <td>345ecd01c38d18a9036ed96c73b8d066</td>\n",
       "      <td>6b7d50bd145f6fc7f33cebabd7e49d0f</td>\n",
       "      <td>delivered</td>\n",
       "      <td>2018-07-29 09:51:30</td>\n",
       "      <td>2018-07-29 10:10:09</td>\n",
       "      <td>2018-07-30 15:16:00</td>\n",
       "      <td>2018-08-09 20:55:48</td>\n",
       "      <td>2018-08-15</td>\n",
       "      <td>2018</td>\n",
       "      <td>7</td>\n",
       "    </tr>\n",
       "    <tr>\n",
       "      <th>...</th>\n",
       "      <td>...</td>\n",
       "      <td>...</td>\n",
       "      <td>...</td>\n",
       "      <td>...</td>\n",
       "      <td>...</td>\n",
       "      <td>...</td>\n",
       "      <td>...</td>\n",
       "      <td>...</td>\n",
       "      <td>...</td>\n",
       "      <td>...</td>\n",
       "      <td>...</td>\n",
       "    </tr>\n",
       "    <tr>\n",
       "      <th>99436</th>\n",
       "      <td>17ddf5dd5d51696bb3d7c6291687be6f</td>\n",
       "      <td>1a29b476fee25c95fbafc67c5ac95cf8</td>\n",
       "      <td>6760e20addcf0121e9d58f2f1ff14298</td>\n",
       "      <td>delivered</td>\n",
       "      <td>2018-04-07 15:48:17</td>\n",
       "      <td>2018-04-07 16:08:45</td>\n",
       "      <td>2018-04-11 02:08:36</td>\n",
       "      <td>2018-04-13 20:06:37</td>\n",
       "      <td>2018-04-25</td>\n",
       "      <td>2018</td>\n",
       "      <td>4</td>\n",
       "    </tr>\n",
       "    <tr>\n",
       "      <th>99437</th>\n",
       "      <td>e7b71a9017aa05c9a7fd292d714858e8</td>\n",
       "      <td>d52a67c98be1cf6a5c84435bd38d095d</td>\n",
       "      <td>9ec0c8947d973db4f4e8dcf1fbfa8f1b</td>\n",
       "      <td>delivered</td>\n",
       "      <td>2018-04-04 08:20:22</td>\n",
       "      <td>2018-04-04 08:35:12</td>\n",
       "      <td>2018-04-05 18:42:35</td>\n",
       "      <td>2018-04-11 18:54:45</td>\n",
       "      <td>2018-04-20</td>\n",
       "      <td>2018</td>\n",
       "      <td>4</td>\n",
       "    </tr>\n",
       "    <tr>\n",
       "      <th>99438</th>\n",
       "      <td>5e28dfe12db7fb50a4b2f691faecea5e</td>\n",
       "      <td>e9f50caf99f032f0bf3c55141f019d99</td>\n",
       "      <td>fed4434add09a6f332ea398efd656a5c</td>\n",
       "      <td>delivered</td>\n",
       "      <td>2018-04-08 20:11:50</td>\n",
       "      <td>2018-04-08 20:30:03</td>\n",
       "      <td>2018-04-09 17:52:17</td>\n",
       "      <td>2018-05-09 19:03:15</td>\n",
       "      <td>2018-05-02</td>\n",
       "      <td>2018</td>\n",
       "      <td>4</td>\n",
       "    </tr>\n",
       "    <tr>\n",
       "      <th>99439</th>\n",
       "      <td>56b18e2166679b8a959d72dd06da27f9</td>\n",
       "      <td>73c2643a0a458b49f58cea58833b192e</td>\n",
       "      <td>e31ec91cea1ecf97797787471f98a8c2</td>\n",
       "      <td>delivered</td>\n",
       "      <td>2017-11-03 21:08:33</td>\n",
       "      <td>2017-11-03 21:31:20</td>\n",
       "      <td>2017-11-06 18:24:41</td>\n",
       "      <td>2017-11-16 19:58:39</td>\n",
       "      <td>2017-12-05</td>\n",
       "      <td>2017</td>\n",
       "      <td>11</td>\n",
       "    </tr>\n",
       "    <tr>\n",
       "      <th>99440</th>\n",
       "      <td>274fa6071e5e17fe303b9748641082c8</td>\n",
       "      <td>84732c5050c01db9b23e19ba39899398</td>\n",
       "      <td>28db69209a75e59f20ccbb5c36a20b90</td>\n",
       "      <td>delivered</td>\n",
       "      <td>2017-12-19 14:27:23</td>\n",
       "      <td>2017-12-19 18:50:39</td>\n",
       "      <td>2017-12-21 19:17:21</td>\n",
       "      <td>2017-12-26 18:42:36</td>\n",
       "      <td>2018-01-08</td>\n",
       "      <td>2017</td>\n",
       "      <td>12</td>\n",
       "    </tr>\n",
       "  </tbody>\n",
       "</table>\n",
       "<p>99441 rows × 11 columns</p>\n",
       "</div>"
      ],
      "text/plain": [
       "                            customer_id                customer_unique_id  \\\n",
       "0      06b8999e2fba1a1fbc88172c00ba8bc7  861eff4711a542e4b93843c6dd7febb0   \n",
       "1      18955e83d337fd6b2def6b18a428ac77  290c77bc529b7ac935b93aa66c333dc3   \n",
       "2      4e7b3e00288586ebd08712fdd0374a03  060e732b5b29e8181a18229c7b0b2b5e   \n",
       "3      b2b6027bc5c5109e529d4dc6358b12c3  259dac757896d24d7702b9acbbff3f3c   \n",
       "4      4f2d8ab171c80ec8364f7c12e35b23ad  345ecd01c38d18a9036ed96c73b8d066   \n",
       "...                                 ...                               ...   \n",
       "99436  17ddf5dd5d51696bb3d7c6291687be6f  1a29b476fee25c95fbafc67c5ac95cf8   \n",
       "99437  e7b71a9017aa05c9a7fd292d714858e8  d52a67c98be1cf6a5c84435bd38d095d   \n",
       "99438  5e28dfe12db7fb50a4b2f691faecea5e  e9f50caf99f032f0bf3c55141f019d99   \n",
       "99439  56b18e2166679b8a959d72dd06da27f9  73c2643a0a458b49f58cea58833b192e   \n",
       "99440  274fa6071e5e17fe303b9748641082c8  84732c5050c01db9b23e19ba39899398   \n",
       "\n",
       "                               order_id order_status order_purchase_timestamp  \\\n",
       "0      00e7ee1b050b8499577073aeb2a297a1    delivered      2017-05-16 15:05:35   \n",
       "1      29150127e6685892b6eab3eec79f59c7    delivered      2018-01-12 20:48:24   \n",
       "2      b2059ed67ce144a36e2aa97d2c9e9ad2    delivered      2018-05-19 16:07:45   \n",
       "3      951670f92359f4fe4a63112aa7306eba    delivered      2018-03-13 16:06:38   \n",
       "4      6b7d50bd145f6fc7f33cebabd7e49d0f    delivered      2018-07-29 09:51:30   \n",
       "...                                 ...          ...                      ...   \n",
       "99436  6760e20addcf0121e9d58f2f1ff14298    delivered      2018-04-07 15:48:17   \n",
       "99437  9ec0c8947d973db4f4e8dcf1fbfa8f1b    delivered      2018-04-04 08:20:22   \n",
       "99438  fed4434add09a6f332ea398efd656a5c    delivered      2018-04-08 20:11:50   \n",
       "99439  e31ec91cea1ecf97797787471f98a8c2    delivered      2017-11-03 21:08:33   \n",
       "99440  28db69209a75e59f20ccbb5c36a20b90    delivered      2017-12-19 14:27:23   \n",
       "\n",
       "        order_approved_at order_delivered_carrier_date  \\\n",
       "0     2017-05-16 15:22:12          2017-05-23 10:47:57   \n",
       "1     2018-01-12 20:58:32          2018-01-15 17:14:59   \n",
       "2     2018-05-20 16:19:10          2018-06-11 14:31:00   \n",
       "3     2018-03-13 17:29:19          2018-03-27 23:22:42   \n",
       "4     2018-07-29 10:10:09          2018-07-30 15:16:00   \n",
       "...                   ...                          ...   \n",
       "99436 2018-04-07 16:08:45          2018-04-11 02:08:36   \n",
       "99437 2018-04-04 08:35:12          2018-04-05 18:42:35   \n",
       "99438 2018-04-08 20:30:03          2018-04-09 17:52:17   \n",
       "99439 2017-11-03 21:31:20          2017-11-06 18:24:41   \n",
       "99440 2017-12-19 18:50:39          2017-12-21 19:17:21   \n",
       "\n",
       "      order_delivered_customer_date order_estimated_delivery_date  year  month  \n",
       "0               2017-05-25 10:35:35                    2017-06-05  2017      5  \n",
       "1               2018-01-29 12:41:19                    2018-02-06  2018      1  \n",
       "2               2018-06-14 17:58:51                    2018-06-13  2018      5  \n",
       "3               2018-03-28 16:04:25                    2018-04-10  2018      3  \n",
       "4               2018-08-09 20:55:48                    2018-08-15  2018      7  \n",
       "...                             ...                           ...   ...    ...  \n",
       "99436           2018-04-13 20:06:37                    2018-04-25  2018      4  \n",
       "99437           2018-04-11 18:54:45                    2018-04-20  2018      4  \n",
       "99438           2018-05-09 19:03:15                    2018-05-02  2018      4  \n",
       "99439           2017-11-16 19:58:39                    2017-12-05  2017     11  \n",
       "99440           2017-12-26 18:42:36                    2018-01-08  2017     12  \n",
       "\n",
       "[99441 rows x 11 columns]"
      ]
     },
     "execution_count": 64,
     "metadata": {},
     "output_type": "execute_result"
    }
   ],
   "source": [
    "\n",
    "purchase = customers[['customer_id', 'customer_unique_id']].merge(orders, how='inner', on='customer_id')\n",
    "purchase['year'] = purchase['order_purchase_timestamp'].dt.year.astype(int)\n",
    "purchase['month'] = purchase['order_purchase_timestamp'].dt.month.astype(int)\n",
    "purchase"
   ]
  },
  {
   "cell_type": "code",
   "execution_count": null,
   "metadata": {},
   "outputs": [],
   "source": []
  },
  {
   "cell_type": "markdown",
   "metadata": {},
   "source": [
    "Проводим группировку для подсчета покупок клиентами в месяц"
   ]
  },
  {
   "cell_type": "code",
   "execution_count": 65,
   "metadata": {},
   "outputs": [
    {
     "data": {
      "application/vnd.microsoft.datawrangler.viewer.v0+json": {
       "columns": [
        {
         "name": "index",
         "rawType": "int64",
         "type": "integer"
        },
        {
         "name": "customer_unique_id",
         "rawType": "object",
         "type": "string"
        },
        {
         "name": "year",
         "rawType": "int32",
         "type": "integer"
        },
        {
         "name": "month",
         "rawType": "int32",
         "type": "integer"
        },
        {
         "name": "count",
         "rawType": "int64",
         "type": "integer"
        }
       ],
       "conversionMethod": "pd.DataFrame",
       "ref": "88dde443-94a7-4f1a-bed8-69682fdd6974",
       "rows": [
        [
         "242",
         "009b0127b727ab0ba422f6d9604487c7",
         "2016",
         "9",
         "1"
        ],
        [
         "27787",
         "4854e9b3feff728c13ee5fc7d1547e92",
         "2016",
         "9",
         "1"
        ],
        [
         "50307",
         "830d5b7aaa3b6f1e9ad63703bec97d23",
         "2016",
         "9",
         "1"
        ],
        [
         "70504",
         "b7d76e111c89f7ebf14761390f0f7d17",
         "2016",
         "9",
         "1"
        ],
        [
         "75",
         "0032c76b20340da25249092a268ce66c",
         "2016",
         "10",
         "1"
        ],
        [
         "377",
         "00f0b70fdcb8a6e1671b52a2472bd41f",
         "2016",
         "10",
         "1"
        ],
        [
         "751",
         "01f156677184504063bd19739f924af1",
         "2016",
         "10",
         "1"
        ],
        [
         "1185",
         "0313291a6f4f16df04dcf819d88c38ef",
         "2016",
         "10",
         "1"
        ],
        [
         "1678",
         "046ed33aa8bef51855af6010a11a835c",
         "2016",
         "10",
         "1"
        ],
        [
         "2378",
         "0636d30c77f0f9cfad81f1c9b58c791f",
         "2016",
         "10",
         "1"
        ],
        [
         "2433",
         "0659f2d6cabae94afd4d009c6d0e07dc",
         "2016",
         "10",
         "1"
        ],
        [
         "2577",
         "06bdfbbe1857c3c925ec81abfb1c9666",
         "2016",
         "10",
         "1"
        ],
        [
         "3018",
         "07d5b1f9bdd053347f0213187b343ac9",
         "2016",
         "10",
         "1"
        ],
        [
         "3163",
         "0829f7df6577d5a4b65439bea701405f",
         "2016",
         "10",
         "1"
        ],
        [
         "3440",
         "08da95f931937b2c20f5225f2e6c93b0",
         "2016",
         "10",
         "1"
        ],
        [
         "3559",
         "0922f37485310929b1b94e8f0c984ca5",
         "2016",
         "10",
         "1"
        ],
        [
         "3890",
         "0a02ba4243b1b0e048a3841d5758d113",
         "2016",
         "10",
         "1"
        ],
        [
         "4199",
         "0ac6c084c9623a0e2ace60297ad24d6c",
         "2016",
         "10",
         "1"
        ],
        [
         "4209",
         "0acb54b64345b37d81205175f3f3e779",
         "2016",
         "10",
         "1"
        ],
        [
         "4385",
         "0b3dc7efaafb0cf78a4796d42fa8d74c",
         "2016",
         "10",
         "1"
        ],
        [
         "5141",
         "0d527a050dc34913c5c4746cefae5995",
         "2016",
         "10",
         "1"
        ],
        [
         "5418",
         "0e1990d494dc3c1a2f5fca4b56c35a4c",
         "2016",
         "10",
         "1"
        ],
        [
         "5639",
         "0eb1ee9dba87f5b36b4613a65074337c",
         "2016",
         "10",
         "1"
        ],
        [
         "5694",
         "0ecf7f65b5ff3b9e61b637e59f495e0a",
         "2016",
         "10",
         "2"
        ],
        [
         "6539",
         "10e89fd8e5c745f81bec101207ba4d7d",
         "2016",
         "10",
         "1"
        ],
        [
         "6692",
         "1150664499f22ea0d558af89a2c053fc",
         "2016",
         "10",
         "1"
        ],
        [
         "6695",
         "1151be76113653dc4ed5d7e7fd17763a",
         "2016",
         "10",
         "1"
        ],
        [
         "6822",
         "11a40baf46bd96289d1f0936dae9a256",
         "2016",
         "10",
         "1"
        ],
        [
         "7045",
         "123ecbb4fb560cff85dd1072dd0a613d",
         "2016",
         "10",
         "1"
        ],
        [
         "7255",
         "12cc890391e57d7123e004856ff1f137",
         "2016",
         "10",
         "1"
        ],
        [
         "7809",
         "14359ea0c7a105749c0a56478825b015",
         "2016",
         "10",
         "1"
        ],
        [
         "8381",
         "15896826233a6eda72c64e1b99a0856a",
         "2016",
         "10",
         "1"
        ],
        [
         "8838",
         "16c362fd9bd8fd63d3e70f7f94b640a1",
         "2016",
         "10",
         "1"
        ],
        [
         "8957",
         "171d92af5bf025428dfc2fd869eb8a04",
         "2016",
         "10",
         "1"
        ],
        [
         "9458",
         "1881f0742867dc75d6e0bcc24f866710",
         "2016",
         "10",
         "1"
        ],
        [
         "9530",
         "18af4524eed79155034a9374880c5078",
         "2016",
         "10",
         "1"
        ],
        [
         "9821",
         "1979dc402581a74e2bd0c0853951311d",
         "2016",
         "10",
         "1"
        ],
        [
         "10316",
         "1ab766d3d553649d7d8c7e2bb60f5c9d",
         "2016",
         "10",
         "1"
        ],
        [
         "10951",
         "1c5aefec1a2943edd15e52f9e2900e41",
         "2016",
         "10",
         "1"
        ],
        [
         "11330",
         "1d4e969b43ef0e67167ec4d418830125",
         "2016",
         "10",
         "1"
        ],
        [
         "11375",
         "1d6bf991d51a595e57cf95d8bc861a15",
         "2016",
         "10",
         "1"
        ],
        [
         "11530",
         "1dc848c11c2985635c268ff3dea707eb",
         "2016",
         "10",
         "1"
        ],
        [
         "12192",
         "1f98e3467d2b48dfb44fc12b137d3447",
         "2016",
         "10",
         "1"
        ],
        [
         "12292",
         "1fe76010d06f4c73ed78f3a7d469d93e",
         "2016",
         "10",
         "1"
        ],
        [
         "12384",
         "202fad4a680401564558b2cda0c5a8de",
         "2016",
         "10",
         "1"
        ],
        [
         "12708",
         "2108073aab31d087b1043c32fd9fdc47",
         "2016",
         "10",
         "1"
        ],
        [
         "12856",
         "215c4eb12924f9cc3c6cbd9a83fd5f69",
         "2016",
         "10",
         "1"
        ],
        [
         "13132",
         "221234182f828fb9f2a4ba9c89874ede",
         "2016",
         "10",
         "1"
        ],
        [
         "13232",
         "225e63e9d240db566203b1ed918a809c",
         "2016",
         "10",
         "1"
        ],
        [
         "13431",
         "22e16e7154401d6eb4f7ba788b3edb7e",
         "2016",
         "10",
         "1"
        ]
       ],
       "shape": {
        "columns": 4,
        "rows": 98046
       }
      },
      "text/html": [
       "<div>\n",
       "<style scoped>\n",
       "    .dataframe tbody tr th:only-of-type {\n",
       "        vertical-align: middle;\n",
       "    }\n",
       "\n",
       "    .dataframe tbody tr th {\n",
       "        vertical-align: top;\n",
       "    }\n",
       "\n",
       "    .dataframe thead th {\n",
       "        text-align: right;\n",
       "    }\n",
       "</style>\n",
       "<table border=\"1\" class=\"dataframe\">\n",
       "  <thead>\n",
       "    <tr style=\"text-align: right;\">\n",
       "      <th></th>\n",
       "      <th>customer_unique_id</th>\n",
       "      <th>year</th>\n",
       "      <th>month</th>\n",
       "      <th>count</th>\n",
       "    </tr>\n",
       "  </thead>\n",
       "  <tbody>\n",
       "    <tr>\n",
       "      <th>242</th>\n",
       "      <td>009b0127b727ab0ba422f6d9604487c7</td>\n",
       "      <td>2016</td>\n",
       "      <td>9</td>\n",
       "      <td>1</td>\n",
       "    </tr>\n",
       "    <tr>\n",
       "      <th>27787</th>\n",
       "      <td>4854e9b3feff728c13ee5fc7d1547e92</td>\n",
       "      <td>2016</td>\n",
       "      <td>9</td>\n",
       "      <td>1</td>\n",
       "    </tr>\n",
       "    <tr>\n",
       "      <th>50307</th>\n",
       "      <td>830d5b7aaa3b6f1e9ad63703bec97d23</td>\n",
       "      <td>2016</td>\n",
       "      <td>9</td>\n",
       "      <td>1</td>\n",
       "    </tr>\n",
       "    <tr>\n",
       "      <th>70504</th>\n",
       "      <td>b7d76e111c89f7ebf14761390f0f7d17</td>\n",
       "      <td>2016</td>\n",
       "      <td>9</td>\n",
       "      <td>1</td>\n",
       "    </tr>\n",
       "    <tr>\n",
       "      <th>75</th>\n",
       "      <td>0032c76b20340da25249092a268ce66c</td>\n",
       "      <td>2016</td>\n",
       "      <td>10</td>\n",
       "      <td>1</td>\n",
       "    </tr>\n",
       "    <tr>\n",
       "      <th>...</th>\n",
       "      <td>...</td>\n",
       "      <td>...</td>\n",
       "      <td>...</td>\n",
       "      <td>...</td>\n",
       "    </tr>\n",
       "    <tr>\n",
       "      <th>97703</th>\n",
       "      <td>ff22e30958c13ffe219db7d711e8f564</td>\n",
       "      <td>2018</td>\n",
       "      <td>9</td>\n",
       "      <td>1</td>\n",
       "    </tr>\n",
       "    <tr>\n",
       "      <th>14656</th>\n",
       "      <td>262e1f1e26e92e86375f86840b4ffd63</td>\n",
       "      <td>2018</td>\n",
       "      <td>10</td>\n",
       "      <td>1</td>\n",
       "    </tr>\n",
       "    <tr>\n",
       "      <th>38121</th>\n",
       "      <td>634420a0ea42302205032ed44ac7fccc</td>\n",
       "      <td>2018</td>\n",
       "      <td>10</td>\n",
       "      <td>1</td>\n",
       "    </tr>\n",
       "    <tr>\n",
       "      <th>52004</th>\n",
       "      <td>87ab9fec999db8bd5774917de3cdf01c</td>\n",
       "      <td>2018</td>\n",
       "      <td>10</td>\n",
       "      <td>1</td>\n",
       "    </tr>\n",
       "    <tr>\n",
       "      <th>67306</th>\n",
       "      <td>af5454198a97379394cacf676e1e96cb</td>\n",
       "      <td>2018</td>\n",
       "      <td>10</td>\n",
       "      <td>1</td>\n",
       "    </tr>\n",
       "  </tbody>\n",
       "</table>\n",
       "<p>98046 rows × 4 columns</p>\n",
       "</div>"
      ],
      "text/plain": [
       "                     customer_unique_id  year  month  count\n",
       "242    009b0127b727ab0ba422f6d9604487c7  2016      9      1\n",
       "27787  4854e9b3feff728c13ee5fc7d1547e92  2016      9      1\n",
       "50307  830d5b7aaa3b6f1e9ad63703bec97d23  2016      9      1\n",
       "70504  b7d76e111c89f7ebf14761390f0f7d17  2016      9      1\n",
       "75     0032c76b20340da25249092a268ce66c  2016     10      1\n",
       "...                                 ...   ...    ...    ...\n",
       "97703  ff22e30958c13ffe219db7d711e8f564  2018      9      1\n",
       "14656  262e1f1e26e92e86375f86840b4ffd63  2018     10      1\n",
       "38121  634420a0ea42302205032ed44ac7fccc  2018     10      1\n",
       "52004  87ab9fec999db8bd5774917de3cdf01c  2018     10      1\n",
       "67306  af5454198a97379394cacf676e1e96cb  2018     10      1\n",
       "\n",
       "[98046 rows x 4 columns]"
      ]
     },
     "execution_count": 65,
     "metadata": {},
     "output_type": "execute_result"
    }
   ],
   "source": [
    "purchase_month = purchase.groupby(['customer_unique_id', 'year', 'month'], as_index=False) \\\n",
    "    .agg({'order_id': 'count'}) \\\n",
    "    .rename(columns={'order_id': 'count'}) \\\n",
    "    .sort_values(['year', 'month']) \n",
    "    \n",
    "purchase_month"
   ]
  },
  {
   "cell_type": "markdown",
   "metadata": {},
   "source": [
    "Функция для определения количества недель в месяце"
   ]
  },
  {
   "cell_type": "code",
   "execution_count": 59,
   "metadata": {},
   "outputs": [],
   "source": [
    "def weeks_in_month(year, month):\n",
    "    days_in_month = calendar.monthrange(year, month)[1]\n",
    "    return days_in_month / 7"
   ]
  },
  {
   "cell_type": "markdown",
   "metadata": {},
   "source": [
    "Рассчитываем среднее количество покупок в неделю"
   ]
  },
  {
   "cell_type": "code",
   "execution_count": null,
   "metadata": {},
   "outputs": [],
   "source": [
    "purchase_counts = purchase_month\n",
    "purchase_counts['weeks_in_month'] = purchase_counts.apply(lambda row: weeks_in_month(row['year'], row['month']), axis=1)\n",
    "purchase_counts['average_purchases_per_week'] = purchase_counts['count'] / purchase_counts['weeks_in_month']"
   ]
  },
  {
   "cell_type": "code",
   "execution_count": 72,
   "metadata": {},
   "outputs": [
    {
     "data": {
      "application/vnd.microsoft.datawrangler.viewer.v0+json": {
       "columns": [
        {
         "name": "index",
         "rawType": "int64",
         "type": "integer"
        },
        {
         "name": "customer_unique_id",
         "rawType": "object",
         "type": "string"
        },
        {
         "name": "year",
         "rawType": "int32",
         "type": "integer"
        },
        {
         "name": "month",
         "rawType": "int32",
         "type": "integer"
        },
        {
         "name": "count",
         "rawType": "int64",
         "type": "integer"
        },
        {
         "name": "weeks_in_month",
         "rawType": "float64",
         "type": "float"
        },
        {
         "name": "average_purchases_per_week",
         "rawType": "float64",
         "type": "float"
        }
       ],
       "conversionMethod": "pd.DataFrame",
       "ref": "4ae25f76-fba5-4be8-8975-0f3c2f0d02fb",
       "rows": [
        [
         "242",
         "009b0127b727ab0ba422f6d9604487c7",
         "2016",
         "9",
         "1",
         "4.29",
         "0.23"
        ],
        [
         "27787",
         "4854e9b3feff728c13ee5fc7d1547e92",
         "2016",
         "9",
         "1",
         "4.29",
         "0.23"
        ],
        [
         "50307",
         "830d5b7aaa3b6f1e9ad63703bec97d23",
         "2016",
         "9",
         "1",
         "4.29",
         "0.23"
        ],
        [
         "70504",
         "b7d76e111c89f7ebf14761390f0f7d17",
         "2016",
         "9",
         "1",
         "4.29",
         "0.23"
        ],
        [
         "75",
         "0032c76b20340da25249092a268ce66c",
         "2016",
         "10",
         "1",
         "4.43",
         "0.23"
        ],
        [
         "377",
         "00f0b70fdcb8a6e1671b52a2472bd41f",
         "2016",
         "10",
         "1",
         "4.43",
         "0.23"
        ],
        [
         "751",
         "01f156677184504063bd19739f924af1",
         "2016",
         "10",
         "1",
         "4.43",
         "0.23"
        ],
        [
         "1185",
         "0313291a6f4f16df04dcf819d88c38ef",
         "2016",
         "10",
         "1",
         "4.43",
         "0.23"
        ],
        [
         "1678",
         "046ed33aa8bef51855af6010a11a835c",
         "2016",
         "10",
         "1",
         "4.43",
         "0.23"
        ],
        [
         "2378",
         "0636d30c77f0f9cfad81f1c9b58c791f",
         "2016",
         "10",
         "1",
         "4.43",
         "0.23"
        ],
        [
         "2433",
         "0659f2d6cabae94afd4d009c6d0e07dc",
         "2016",
         "10",
         "1",
         "4.43",
         "0.23"
        ],
        [
         "2577",
         "06bdfbbe1857c3c925ec81abfb1c9666",
         "2016",
         "10",
         "1",
         "4.43",
         "0.23"
        ],
        [
         "3018",
         "07d5b1f9bdd053347f0213187b343ac9",
         "2016",
         "10",
         "1",
         "4.43",
         "0.23"
        ],
        [
         "3163",
         "0829f7df6577d5a4b65439bea701405f",
         "2016",
         "10",
         "1",
         "4.43",
         "0.23"
        ],
        [
         "3440",
         "08da95f931937b2c20f5225f2e6c93b0",
         "2016",
         "10",
         "1",
         "4.43",
         "0.23"
        ],
        [
         "3559",
         "0922f37485310929b1b94e8f0c984ca5",
         "2016",
         "10",
         "1",
         "4.43",
         "0.23"
        ],
        [
         "3890",
         "0a02ba4243b1b0e048a3841d5758d113",
         "2016",
         "10",
         "1",
         "4.43",
         "0.23"
        ],
        [
         "4199",
         "0ac6c084c9623a0e2ace60297ad24d6c",
         "2016",
         "10",
         "1",
         "4.43",
         "0.23"
        ],
        [
         "4209",
         "0acb54b64345b37d81205175f3f3e779",
         "2016",
         "10",
         "1",
         "4.43",
         "0.23"
        ],
        [
         "4385",
         "0b3dc7efaafb0cf78a4796d42fa8d74c",
         "2016",
         "10",
         "1",
         "4.43",
         "0.23"
        ],
        [
         "5141",
         "0d527a050dc34913c5c4746cefae5995",
         "2016",
         "10",
         "1",
         "4.43",
         "0.23"
        ],
        [
         "5418",
         "0e1990d494dc3c1a2f5fca4b56c35a4c",
         "2016",
         "10",
         "1",
         "4.43",
         "0.23"
        ],
        [
         "5639",
         "0eb1ee9dba87f5b36b4613a65074337c",
         "2016",
         "10",
         "1",
         "4.43",
         "0.23"
        ],
        [
         "5694",
         "0ecf7f65b5ff3b9e61b637e59f495e0a",
         "2016",
         "10",
         "2",
         "4.43",
         "0.45"
        ],
        [
         "6539",
         "10e89fd8e5c745f81bec101207ba4d7d",
         "2016",
         "10",
         "1",
         "4.43",
         "0.23"
        ],
        [
         "6692",
         "1150664499f22ea0d558af89a2c053fc",
         "2016",
         "10",
         "1",
         "4.43",
         "0.23"
        ],
        [
         "6695",
         "1151be76113653dc4ed5d7e7fd17763a",
         "2016",
         "10",
         "1",
         "4.43",
         "0.23"
        ],
        [
         "6822",
         "11a40baf46bd96289d1f0936dae9a256",
         "2016",
         "10",
         "1",
         "4.43",
         "0.23"
        ],
        [
         "7045",
         "123ecbb4fb560cff85dd1072dd0a613d",
         "2016",
         "10",
         "1",
         "4.43",
         "0.23"
        ],
        [
         "7255",
         "12cc890391e57d7123e004856ff1f137",
         "2016",
         "10",
         "1",
         "4.43",
         "0.23"
        ],
        [
         "7809",
         "14359ea0c7a105749c0a56478825b015",
         "2016",
         "10",
         "1",
         "4.43",
         "0.23"
        ],
        [
         "8381",
         "15896826233a6eda72c64e1b99a0856a",
         "2016",
         "10",
         "1",
         "4.43",
         "0.23"
        ],
        [
         "8838",
         "16c362fd9bd8fd63d3e70f7f94b640a1",
         "2016",
         "10",
         "1",
         "4.43",
         "0.23"
        ],
        [
         "8957",
         "171d92af5bf025428dfc2fd869eb8a04",
         "2016",
         "10",
         "1",
         "4.43",
         "0.23"
        ],
        [
         "9458",
         "1881f0742867dc75d6e0bcc24f866710",
         "2016",
         "10",
         "1",
         "4.43",
         "0.23"
        ],
        [
         "9530",
         "18af4524eed79155034a9374880c5078",
         "2016",
         "10",
         "1",
         "4.43",
         "0.23"
        ],
        [
         "9821",
         "1979dc402581a74e2bd0c0853951311d",
         "2016",
         "10",
         "1",
         "4.43",
         "0.23"
        ],
        [
         "10316",
         "1ab766d3d553649d7d8c7e2bb60f5c9d",
         "2016",
         "10",
         "1",
         "4.43",
         "0.23"
        ],
        [
         "10951",
         "1c5aefec1a2943edd15e52f9e2900e41",
         "2016",
         "10",
         "1",
         "4.43",
         "0.23"
        ],
        [
         "11330",
         "1d4e969b43ef0e67167ec4d418830125",
         "2016",
         "10",
         "1",
         "4.43",
         "0.23"
        ],
        [
         "11375",
         "1d6bf991d51a595e57cf95d8bc861a15",
         "2016",
         "10",
         "1",
         "4.43",
         "0.23"
        ],
        [
         "11530",
         "1dc848c11c2985635c268ff3dea707eb",
         "2016",
         "10",
         "1",
         "4.43",
         "0.23"
        ],
        [
         "12192",
         "1f98e3467d2b48dfb44fc12b137d3447",
         "2016",
         "10",
         "1",
         "4.43",
         "0.23"
        ],
        [
         "12292",
         "1fe76010d06f4c73ed78f3a7d469d93e",
         "2016",
         "10",
         "1",
         "4.43",
         "0.23"
        ],
        [
         "12384",
         "202fad4a680401564558b2cda0c5a8de",
         "2016",
         "10",
         "1",
         "4.43",
         "0.23"
        ],
        [
         "12708",
         "2108073aab31d087b1043c32fd9fdc47",
         "2016",
         "10",
         "1",
         "4.43",
         "0.23"
        ],
        [
         "12856",
         "215c4eb12924f9cc3c6cbd9a83fd5f69",
         "2016",
         "10",
         "1",
         "4.43",
         "0.23"
        ],
        [
         "13132",
         "221234182f828fb9f2a4ba9c89874ede",
         "2016",
         "10",
         "1",
         "4.43",
         "0.23"
        ],
        [
         "13232",
         "225e63e9d240db566203b1ed918a809c",
         "2016",
         "10",
         "1",
         "4.43",
         "0.23"
        ],
        [
         "13431",
         "22e16e7154401d6eb4f7ba788b3edb7e",
         "2016",
         "10",
         "1",
         "4.43",
         "0.23"
        ]
       ],
       "shape": {
        "columns": 6,
        "rows": 98046
       }
      },
      "text/html": [
       "<div>\n",
       "<style scoped>\n",
       "    .dataframe tbody tr th:only-of-type {\n",
       "        vertical-align: middle;\n",
       "    }\n",
       "\n",
       "    .dataframe tbody tr th {\n",
       "        vertical-align: top;\n",
       "    }\n",
       "\n",
       "    .dataframe thead th {\n",
       "        text-align: right;\n",
       "    }\n",
       "</style>\n",
       "<table border=\"1\" class=\"dataframe\">\n",
       "  <thead>\n",
       "    <tr style=\"text-align: right;\">\n",
       "      <th></th>\n",
       "      <th>customer_unique_id</th>\n",
       "      <th>year</th>\n",
       "      <th>month</th>\n",
       "      <th>count</th>\n",
       "      <th>weeks_in_month</th>\n",
       "      <th>average_purchases_per_week</th>\n",
       "    </tr>\n",
       "  </thead>\n",
       "  <tbody>\n",
       "    <tr>\n",
       "      <th>242</th>\n",
       "      <td>009b0127b727ab0ba422f6d9604487c7</td>\n",
       "      <td>2016</td>\n",
       "      <td>9</td>\n",
       "      <td>1</td>\n",
       "      <td>4.29</td>\n",
       "      <td>0.23</td>\n",
       "    </tr>\n",
       "    <tr>\n",
       "      <th>27787</th>\n",
       "      <td>4854e9b3feff728c13ee5fc7d1547e92</td>\n",
       "      <td>2016</td>\n",
       "      <td>9</td>\n",
       "      <td>1</td>\n",
       "      <td>4.29</td>\n",
       "      <td>0.23</td>\n",
       "    </tr>\n",
       "    <tr>\n",
       "      <th>50307</th>\n",
       "      <td>830d5b7aaa3b6f1e9ad63703bec97d23</td>\n",
       "      <td>2016</td>\n",
       "      <td>9</td>\n",
       "      <td>1</td>\n",
       "      <td>4.29</td>\n",
       "      <td>0.23</td>\n",
       "    </tr>\n",
       "    <tr>\n",
       "      <th>70504</th>\n",
       "      <td>b7d76e111c89f7ebf14761390f0f7d17</td>\n",
       "      <td>2016</td>\n",
       "      <td>9</td>\n",
       "      <td>1</td>\n",
       "      <td>4.29</td>\n",
       "      <td>0.23</td>\n",
       "    </tr>\n",
       "    <tr>\n",
       "      <th>75</th>\n",
       "      <td>0032c76b20340da25249092a268ce66c</td>\n",
       "      <td>2016</td>\n",
       "      <td>10</td>\n",
       "      <td>1</td>\n",
       "      <td>4.43</td>\n",
       "      <td>0.23</td>\n",
       "    </tr>\n",
       "    <tr>\n",
       "      <th>...</th>\n",
       "      <td>...</td>\n",
       "      <td>...</td>\n",
       "      <td>...</td>\n",
       "      <td>...</td>\n",
       "      <td>...</td>\n",
       "      <td>...</td>\n",
       "    </tr>\n",
       "    <tr>\n",
       "      <th>97703</th>\n",
       "      <td>ff22e30958c13ffe219db7d711e8f564</td>\n",
       "      <td>2018</td>\n",
       "      <td>9</td>\n",
       "      <td>1</td>\n",
       "      <td>4.29</td>\n",
       "      <td>0.23</td>\n",
       "    </tr>\n",
       "    <tr>\n",
       "      <th>14656</th>\n",
       "      <td>262e1f1e26e92e86375f86840b4ffd63</td>\n",
       "      <td>2018</td>\n",
       "      <td>10</td>\n",
       "      <td>1</td>\n",
       "      <td>4.43</td>\n",
       "      <td>0.23</td>\n",
       "    </tr>\n",
       "    <tr>\n",
       "      <th>38121</th>\n",
       "      <td>634420a0ea42302205032ed44ac7fccc</td>\n",
       "      <td>2018</td>\n",
       "      <td>10</td>\n",
       "      <td>1</td>\n",
       "      <td>4.43</td>\n",
       "      <td>0.23</td>\n",
       "    </tr>\n",
       "    <tr>\n",
       "      <th>52004</th>\n",
       "      <td>87ab9fec999db8bd5774917de3cdf01c</td>\n",
       "      <td>2018</td>\n",
       "      <td>10</td>\n",
       "      <td>1</td>\n",
       "      <td>4.43</td>\n",
       "      <td>0.23</td>\n",
       "    </tr>\n",
       "    <tr>\n",
       "      <th>67306</th>\n",
       "      <td>af5454198a97379394cacf676e1e96cb</td>\n",
       "      <td>2018</td>\n",
       "      <td>10</td>\n",
       "      <td>1</td>\n",
       "      <td>4.43</td>\n",
       "      <td>0.23</td>\n",
       "    </tr>\n",
       "  </tbody>\n",
       "</table>\n",
       "<p>98046 rows × 6 columns</p>\n",
       "</div>"
      ],
      "text/plain": [
       "                     customer_unique_id  year  month  count  weeks_in_month  \\\n",
       "242    009b0127b727ab0ba422f6d9604487c7  2016      9      1            4.29   \n",
       "27787  4854e9b3feff728c13ee5fc7d1547e92  2016      9      1            4.29   \n",
       "50307  830d5b7aaa3b6f1e9ad63703bec97d23  2016      9      1            4.29   \n",
       "70504  b7d76e111c89f7ebf14761390f0f7d17  2016      9      1            4.29   \n",
       "75     0032c76b20340da25249092a268ce66c  2016     10      1            4.43   \n",
       "...                                 ...   ...    ...    ...             ...   \n",
       "97703  ff22e30958c13ffe219db7d711e8f564  2018      9      1            4.29   \n",
       "14656  262e1f1e26e92e86375f86840b4ffd63  2018     10      1            4.43   \n",
       "38121  634420a0ea42302205032ed44ac7fccc  2018     10      1            4.43   \n",
       "52004  87ab9fec999db8bd5774917de3cdf01c  2018     10      1            4.43   \n",
       "67306  af5454198a97379394cacf676e1e96cb  2018     10      1            4.43   \n",
       "\n",
       "       average_purchases_per_week  \n",
       "242                          0.23  \n",
       "27787                        0.23  \n",
       "50307                        0.23  \n",
       "70504                        0.23  \n",
       "75                           0.23  \n",
       "...                           ...  \n",
       "97703                        0.23  \n",
       "14656                        0.23  \n",
       "38121                        0.23  \n",
       "52004                        0.23  \n",
       "67306                        0.23  \n",
       "\n",
       "[98046 rows x 6 columns]"
      ]
     },
     "execution_count": 72,
     "metadata": {},
     "output_type": "execute_result"
    }
   ],
   "source": [
    "purchase_counts.round(2)"
   ]
  },
  {
   "cell_type": "markdown",
   "metadata": {},
   "source": [
    "### Используя pandas, проведи когортный анализ пользователей. В период с января по декабрь выяви когорту с самым высоким retention на 3й месяц. "
   ]
  }
 ],
 "metadata": {
  "kernelspec": {
   "display_name": "base",
   "language": "python",
   "name": "python3"
  },
  "language_info": {
   "codemirror_mode": {
    "name": "ipython",
    "version": 3
   },
   "file_extension": ".py",
   "mimetype": "text/x-python",
   "name": "python",
   "nbconvert_exporter": "python",
   "pygments_lexer": "ipython3",
   "version": "3.12.4"
  }
 },
 "nbformat": 4,
 "nbformat_minor": 2
}
